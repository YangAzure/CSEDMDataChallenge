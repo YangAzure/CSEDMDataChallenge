{
 "cells": [
  {
   "cell_type": "code",
   "execution_count": 1,
   "metadata": {},
   "outputs": [],
   "source": [
    "import pandas as pd\n",
    "import numpy as np\n",
    "from ProgSnap2 import ProgSnap2Dataset\n",
    "from ProgSnap2 import PS2\n",
    "import matplotlib.pyplot as plt\n",
    "import numpy as np\n",
    "import os\n",
    "from os import path"
   ]
  },
  {
   "cell_type": "code",
   "execution_count": 22,
   "metadata": {},
   "outputs": [],
   "source": [
    "early_assignments = np.array([439, 487, 492])\n",
    "late_assignments = np.array([494, 502])"
   ]
  },
  {
   "cell_type": "code",
   "execution_count": 37,
   "metadata": {},
   "outputs": [],
   "source": [
    "def verify_users(path, is_train, users):\n",
    "    subdir = 'Train' if is_train else 'Test'\n",
    "    path = os.path.join(path, subdir)\n",
    "    ps2 = ProgSnap2Dataset(os.path.join(path, 'Data'))\n",
    "    early = pd.read_csv(os.path.join(path, 'early.csv'))\n",
    "    late = pd.read_csv(os.path.join(path, 'late.csv'))\n",
    "    main_table = ps2.get_main_table()\n",
    "    student_table = ps2.load_link_table('Subject')\n",
    "    code_states = ps2.get_code_states_table()\n",
    "    \n",
    "    # Verify the early table\n",
    "    assert early[PS2.SubjectID].isin(users).all()\n",
    "    assert early[PS2.AssignmentID].isin(early_assignments).all()\n",
    "    assert 'Label' in early.columns\n",
    "    assert early['Label'].mean() != 0\n",
    "    \n",
    "    # Verify the late table\n",
    "    assert late[PS2.SubjectID].isin(users).all()\n",
    "    assert late[PS2.AssignmentID].isin(late_assignments).all()\n",
    "    assert ('Label' in late.columns) == is_train\n",
    "    if (is_train):\n",
    "        assert early['Label'].mean() != 0\n",
    "        \n",
    "    # Verify the main table\n",
    "    assert main_table[PS2.SubjectID].isin(users).all()\n",
    "    main_table_assignments = early_assignments\n",
    "    if (is_train):\n",
    "        main_table_assignments = np.append(main_table_assignments, late_assignments)\n",
    "    assert main_table[PS2.AssignmentID].isin(main_table_assignments).all()\n",
    "    \n",
    "    # Verify student table\n",
    "    assert student_table[PS2.SubjectID].isin(users).all()\n",
    "    assert ('X-Grade' in student_table.columns) == is_train\n",
    "    \n",
    "    # Verify the code states table\n",
    "    assert set(code_states[PS2.CodeStateID]) == set(main_table[PS2.CodeStateID])\n",
    "    \n",
    "    "
   ]
  },
  {
   "cell_type": "code",
   "execution_count": 43,
   "metadata": {},
   "outputs": [
    {
     "name": "stdout",
     "output_type": "stream",
     "text": [
      "Train % for S19 is: 0.7477203647416414\n",
      "Count for S19 is: 329\n",
      "Verifying: data/Release/S19\n",
      "Verifying: data/Release/S19\n",
      "Train % for F19 is: 0.7489795918367347\n",
      "Count for F19 is: 490\n",
      "Verifying: data/Release/F19\n",
      "Verifying: data/Release/F19\n"
     ]
    }
   ],
   "source": [
    "PATH = \"data/Release/\"\n",
    "\n",
    "last_semester_users = None\n",
    "\n",
    "for semester in ['S19', 'F19']:\n",
    "    split = pd.read_csv(os.path.join(PATH, semester, 'split.csv'))\n",
    "    print(f'Train % for {semester} is: {split[\"IsTrain\"].mean()}')\n",
    "    print(f'Count for {semester} is: {len(split.index)}')\n",
    "    for is_train in [True, False]:\n",
    "        path = os.path.join(PATH, semester)\n",
    "        print('Verifying: ' + path)\n",
    "        users = split[split['IsTrain'] == is_train][PS2.SubjectID]\n",
    "        verify_users(path, is_train, users)\n",
    "    \n",
    "    semester_users = split[PS2.SubjectID]\n",
    "    if last_semester_users is not None:\n",
    "        assert len(set(last_semester_users).intersection(semester_users)) == 0\n",
    "    last_semester_users = semester_users"
   ]
  }
 ],
 "metadata": {
  "kernelspec": {
   "display_name": "Python 3",
   "language": "python",
   "name": "python3"
  },
  "language_info": {
   "codemirror_mode": {
    "name": "ipython",
    "version": 3
   },
   "file_extension": ".py",
   "mimetype": "text/x-python",
   "name": "python",
   "nbconvert_exporter": "python",
   "pygments_lexer": "ipython3",
   "version": "3.7.6"
  }
 },
 "nbformat": 4,
 "nbformat_minor": 4
}
