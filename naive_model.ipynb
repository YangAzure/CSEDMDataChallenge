{
 "cells": [
  {
   "cell_type": "code",
   "execution_count": 1,
   "metadata": {},
   "outputs": [],
   "source": [
    "import pandas as pd\n",
    "import numpy as np\n",
    "from ProgSnap2 import ProgSnap2Dataset\n",
    "from ProgSnap2 import PS2\n",
    "import matplotlib.pyplot as plt\n",
    "from sklearn.preprocessing import OneHotEncoder\n",
    "import numpy as np\n",
    "import os\n",
    "from os import path"
   ]
  },
  {
   "cell_type": "code",
   "execution_count": 2,
   "metadata": {},
   "outputs": [],
   "source": [
    "semester = 'S19'\n",
    "BASE_PATH = os.path.join('data', 'Release', semester)\n",
    "TRAIN_PATH = os.path.join(BASE_PATH, 'Train')"
   ]
  },
  {
   "cell_type": "code",
   "execution_count": 3,
   "metadata": {},
   "outputs": [],
   "source": [
    "train_ps2 = ProgSnap2Dataset(os.path.join(TRAIN_PATH, 'Data')) "
   ]
  },
  {
   "cell_type": "code",
   "execution_count": 4,
   "metadata": {
    "scrolled": true
   },
   "outputs": [
    {
     "data": {
      "text/html": [
       "<div>\n",
       "<style scoped>\n",
       "    .dataframe tbody tr th:only-of-type {\n",
       "        vertical-align: middle;\n",
       "    }\n",
       "\n",
       "    .dataframe tbody tr th {\n",
       "        vertical-align: top;\n",
       "    }\n",
       "\n",
       "    .dataframe thead th {\n",
       "        text-align: right;\n",
       "    }\n",
       "</style>\n",
       "<table border=\"1\" class=\"dataframe\">\n",
       "  <thead>\n",
       "    <tr style=\"text-align: right;\">\n",
       "      <th></th>\n",
       "      <th>SubjectID</th>\n",
       "      <th>AssignmentID</th>\n",
       "      <th>ProblemID</th>\n",
       "      <th>Attempts</th>\n",
       "      <th>CorrectEventually</th>\n",
       "      <th>Label</th>\n",
       "    </tr>\n",
       "  </thead>\n",
       "  <tbody>\n",
       "    <tr>\n",
       "      <th>0</th>\n",
       "      <td>04c32d4d95425f73b3a1d6502aed4d48</td>\n",
       "      <td>439.0</td>\n",
       "      <td>1</td>\n",
       "      <td>1</td>\n",
       "      <td>True</td>\n",
       "      <td>True</td>\n",
       "    </tr>\n",
       "    <tr>\n",
       "      <th>1</th>\n",
       "      <td>04c32d4d95425f73b3a1d6502aed4d48</td>\n",
       "      <td>439.0</td>\n",
       "      <td>3</td>\n",
       "      <td>2</td>\n",
       "      <td>True</td>\n",
       "      <td>True</td>\n",
       "    </tr>\n",
       "    <tr>\n",
       "      <th>2</th>\n",
       "      <td>04c32d4d95425f73b3a1d6502aed4d48</td>\n",
       "      <td>439.0</td>\n",
       "      <td>5</td>\n",
       "      <td>3</td>\n",
       "      <td>True</td>\n",
       "      <td>True</td>\n",
       "    </tr>\n",
       "    <tr>\n",
       "      <th>3</th>\n",
       "      <td>04c32d4d95425f73b3a1d6502aed4d48</td>\n",
       "      <td>439.0</td>\n",
       "      <td>12</td>\n",
       "      <td>1</td>\n",
       "      <td>True</td>\n",
       "      <td>True</td>\n",
       "    </tr>\n",
       "    <tr>\n",
       "      <th>4</th>\n",
       "      <td>04c32d4d95425f73b3a1d6502aed4d48</td>\n",
       "      <td>439.0</td>\n",
       "      <td>13</td>\n",
       "      <td>2</td>\n",
       "      <td>True</td>\n",
       "      <td>True</td>\n",
       "    </tr>\n",
       "  </tbody>\n",
       "</table>\n",
       "</div>"
      ],
      "text/plain": [
       "                          SubjectID  AssignmentID  ProblemID  Attempts  \\\n",
       "0  04c32d4d95425f73b3a1d6502aed4d48         439.0          1         1   \n",
       "1  04c32d4d95425f73b3a1d6502aed4d48         439.0          3         2   \n",
       "2  04c32d4d95425f73b3a1d6502aed4d48         439.0          5         3   \n",
       "3  04c32d4d95425f73b3a1d6502aed4d48         439.0         12         1   \n",
       "4  04c32d4d95425f73b3a1d6502aed4d48         439.0         13         2   \n",
       "\n",
       "   CorrectEventually  Label  \n",
       "0               True   True  \n",
       "1               True   True  \n",
       "2               True   True  \n",
       "3               True   True  \n",
       "4               True   True  "
      ]
     },
     "execution_count": 4,
     "metadata": {},
     "output_type": "execute_result"
    }
   ],
   "source": [
    "# The early dataset will help us to feature extraction,\n",
    "# but we're not actually predicting anything here\n",
    "# Note: we could still use this for model training if desired.\n",
    "early_train = pd.read_csv(os.path.join(TRAIN_PATH, 'early.csv'))\n",
    "early_train.head()"
   ]
  },
  {
   "cell_type": "code",
   "execution_count": 5,
   "metadata": {},
   "outputs": [
    {
     "data": {
      "text/html": [
       "<div>\n",
       "<style scoped>\n",
       "    .dataframe tbody tr th:only-of-type {\n",
       "        vertical-align: middle;\n",
       "    }\n",
       "\n",
       "    .dataframe tbody tr th {\n",
       "        vertical-align: top;\n",
       "    }\n",
       "\n",
       "    .dataframe thead th {\n",
       "        text-align: right;\n",
       "    }\n",
       "</style>\n",
       "<table border=\"1\" class=\"dataframe\">\n",
       "  <thead>\n",
       "    <tr style=\"text-align: right;\">\n",
       "      <th></th>\n",
       "      <th>SubjectID</th>\n",
       "      <th>AssignmentID</th>\n",
       "      <th>ProblemID</th>\n",
       "      <th>Label</th>\n",
       "    </tr>\n",
       "  </thead>\n",
       "  <tbody>\n",
       "    <tr>\n",
       "      <th>0</th>\n",
       "      <td>04c32d4d95425f73b3a1d6502aed4d48</td>\n",
       "      <td>494.0</td>\n",
       "      <td>41</td>\n",
       "      <td>False</td>\n",
       "    </tr>\n",
       "    <tr>\n",
       "      <th>1</th>\n",
       "      <td>04c32d4d95425f73b3a1d6502aed4d48</td>\n",
       "      <td>494.0</td>\n",
       "      <td>43</td>\n",
       "      <td>True</td>\n",
       "    </tr>\n",
       "    <tr>\n",
       "      <th>2</th>\n",
       "      <td>04c32d4d95425f73b3a1d6502aed4d48</td>\n",
       "      <td>494.0</td>\n",
       "      <td>44</td>\n",
       "      <td>True</td>\n",
       "    </tr>\n",
       "    <tr>\n",
       "      <th>3</th>\n",
       "      <td>04c32d4d95425f73b3a1d6502aed4d48</td>\n",
       "      <td>494.0</td>\n",
       "      <td>46</td>\n",
       "      <td>True</td>\n",
       "    </tr>\n",
       "    <tr>\n",
       "      <th>4</th>\n",
       "      <td>04c32d4d95425f73b3a1d6502aed4d48</td>\n",
       "      <td>494.0</td>\n",
       "      <td>49</td>\n",
       "      <td>True</td>\n",
       "    </tr>\n",
       "  </tbody>\n",
       "</table>\n",
       "</div>"
      ],
      "text/plain": [
       "                          SubjectID  AssignmentID  ProblemID  Label\n",
       "0  04c32d4d95425f73b3a1d6502aed4d48         494.0         41  False\n",
       "1  04c32d4d95425f73b3a1d6502aed4d48         494.0         43   True\n",
       "2  04c32d4d95425f73b3a1d6502aed4d48         494.0         44   True\n",
       "3  04c32d4d95425f73b3a1d6502aed4d48         494.0         46   True\n",
       "4  04c32d4d95425f73b3a1d6502aed4d48         494.0         49   True"
      ]
     },
     "execution_count": 5,
     "metadata": {},
     "output_type": "execute_result"
    }
   ],
   "source": [
    "# The late dataset contains the problems that we're actually predicting for.\n",
    "# The training portion of it includes labels.\n",
    "late_train = pd.read_csv(os.path.join(TRAIN_PATH, 'late.csv'))\n",
    "late_train.head()"
   ]
  },
  {
   "cell_type": "code",
   "execution_count": 6,
   "metadata": {},
   "outputs": [],
   "source": [
    "X_train_base = late_train.copy().drop('Label', axis=1)\n",
    "y_train = late_train['Label'].values"
   ]
  },
  {
   "cell_type": "code",
   "execution_count": 7,
   "metadata": {},
   "outputs": [],
   "source": [
    "problem_encoder = OneHotEncoder().fit(X_train_base[PS2.ProblemID].values.reshape(-1, 1))"
   ]
  },
  {
   "cell_type": "code",
   "execution_count": 8,
   "metadata": {},
   "outputs": [
    {
     "data": {
      "text/plain": [
       "array([[1., 0., 0., ..., 0., 0., 0.],\n",
       "       [0., 1., 0., ..., 0., 0., 0.],\n",
       "       [0., 0., 1., ..., 0., 0., 0.],\n",
       "       ...,\n",
       "       [0., 0., 0., ..., 0., 0., 0.],\n",
       "       [0., 0., 0., ..., 0., 1., 0.],\n",
       "       [0., 0., 0., ..., 0., 0., 1.]])"
      ]
     },
     "execution_count": 8,
     "metadata": {},
     "output_type": "execute_result"
    }
   ],
   "source": [
    "problem_encoder.transform(X_train_base[PS2.ProblemID].values.reshape(-1, 1)).toarray()"
   ]
  },
  {
   "cell_type": "markdown",
   "metadata": {},
   "source": [
    "# Task 1\n",
    "\n",
    "In this task, we do per-problem prediction, extracting features from performance on the 30 early problems for a given student to predict performance on each of 20 later problems. Our model should, in effect, learn the releationship between the knowledge practiced in these problems (though our naive example here won't get that far)."
   ]
  },
  {
   "cell_type": "code",
   "execution_count": 9,
   "metadata": {},
   "outputs": [],
   "source": [
    "def extract_instance_features(instance, early_df):\n",
    "    instance = instance.copy()\n",
    "    subject_id = instance[PS2.SubjectID]\n",
    "    early_problems = early_df[early_df[PS2.SubjectID] == subject_id]\n",
    "    # Extract very naive features about the student\n",
    "    # (without respect to the problem bring predicted)\n",
    "    # Number of early problems attempted\n",
    "    instance['ProblemsAttempted'] = early_problems.shape[0]\n",
    "    # Percentage of early problems gotten correct eventually\n",
    "    instance['PercCorrectEventually'] = np.mean(early_problems['CorrectEventually'])\n",
    "    # Median attempts made on early problems\n",
    "    instance['MedAttempts'] = np.median(early_problems['Attempts'])\n",
    "    # Max attempts made on early problems\n",
    "    instance['MaxAttempts'] = np.max(early_problems['Attempts'])\n",
    "    # Percentage of problems gotten correct on the first try\n",
    "    instance['PercCorrectFirstTry'] = np.mean(early_problems['Attempts'] == 1)\n",
    "    instance = instance.drop('SubjectID')\n",
    "    return instance"
   ]
  },
  {
   "cell_type": "code",
   "execution_count": 10,
   "metadata": {
    "scrolled": true
   },
   "outputs": [
    {
     "data": {
      "text/plain": [
       "AssignmentID                  494\n",
       "ProblemID                      41\n",
       "ProblemsAttempted              30\n",
       "PercCorrectEventually           1\n",
       "MedAttempts                   6.5\n",
       "MaxAttempts                    45\n",
       "PercCorrectFirstTry      0.166667\n",
       "Name: 0, dtype: object"
      ]
     },
     "execution_count": 10,
     "metadata": {},
     "output_type": "execute_result"
    }
   ],
   "source": [
    "extract_instance_features(X_train_base.iloc[0], early_train)"
   ]
  },
  {
   "cell_type": "code",
   "execution_count": 11,
   "metadata": {},
   "outputs": [],
   "source": [
    "def extract_features(X, early_df, scaler, is_train):\n",
    "    # First extract performance features for each row\n",
    "    features = X.apply(lambda instance: extract_instance_features(instance, early_df), axis=1)\n",
    "    # Then one-hot encode the problem_id and append it\n",
    "    problem_ids = problem_encoder.transform(features[PS2.ProblemID].values.reshape(-1, 1)).toarray()\n",
    "    # Then get rid of nominal features\n",
    "    features.drop([PS2.AssignmentID, PS2.ProblemID], axis=1, inplace=True)\n",
    "    # Then scale the continuous features, fitting the scaler if this is training\n",
    "    if is_train:\n",
    "        scaler.fit(features)\n",
    "    features = scaler.transform(features)\n",
    "    \n",
    "    # Return continuous and one-hot features together\n",
    "    return np.concatenate([features, problem_ids], axis=1)"
   ]
  },
  {
   "cell_type": "code",
   "execution_count": 12,
   "metadata": {
    "scrolled": false
   },
   "outputs": [],
   "source": [
    "from sklearn.preprocessing import StandardScaler\n",
    "scaler = StandardScaler()\n",
    "X_train = extract_features(X_train_base, early_train, scaler, True)"
   ]
  },
  {
   "cell_type": "code",
   "execution_count": 13,
   "metadata": {
    "scrolled": true
   },
   "outputs": [
    {
     "name": "stdout",
     "output_type": "stream",
     "text": [
      "(4201, 25)\n"
     ]
    },
    {
     "data": {
      "text/plain": [
       "array([[ 0.51751812,  0.58371895,  1.76922077,  1.70602676, -0.89569333,\n",
       "         1.        ,  0.        ,  0.        ,  0.        ,  0.        ,\n",
       "         0.        ,  0.        ,  0.        ,  0.        ,  0.        ,\n",
       "         0.        ,  0.        ,  0.        ,  0.        ,  0.        ,\n",
       "         0.        ,  0.        ,  0.        ,  0.        ,  0.        ],\n",
       "       [ 0.51751812,  0.58371895,  1.76922077,  1.70602676, -0.89569333,\n",
       "         0.        ,  1.        ,  0.        ,  0.        ,  0.        ,\n",
       "         0.        ,  0.        ,  0.        ,  0.        ,  0.        ,\n",
       "         0.        ,  0.        ,  0.        ,  0.        ,  0.        ,\n",
       "         0.        ,  0.        ,  0.        ,  0.        ,  0.        ]])"
      ]
     },
     "execution_count": 13,
     "metadata": {},
     "output_type": "execute_result"
    }
   ],
   "source": [
    "print(X_train.shape)\n",
    "X_train[:2,]"
   ]
  },
  {
   "cell_type": "markdown",
   "metadata": {},
   "source": [
    "## Evaluate the Training Performance of the Model"
   ]
  },
  {
   "cell_type": "code",
   "execution_count": 14,
   "metadata": {
    "scrolled": true
   },
   "outputs": [],
   "source": [
    "from sklearn.linear_model import LogisticRegressionCV\n",
    "\n",
    "model = LogisticRegressionCV()\n",
    "model.fit(X_train, y_train)\n",
    "train_predictions = model.predict(X_train)"
   ]
  },
  {
   "cell_type": "code",
   "execution_count": 15,
   "metadata": {
    "scrolled": true
   },
   "outputs": [
    {
     "name": "stdout",
     "output_type": "stream",
     "text": [
      "              precision    recall  f1-score   support\n",
      "\n",
      "       False       0.59      0.27      0.37      1084\n",
      "        True       0.79      0.93      0.85      3117\n",
      "\n",
      "    accuracy                           0.76      4201\n",
      "   macro avg       0.69      0.60      0.61      4201\n",
      "weighted avg       0.73      0.76      0.73      4201\n",
      "\n",
      "AUC: 0.6011804980898702\n",
      "Macro F1: 0.6108309893517259\n"
     ]
    }
   ],
   "source": [
    "from sklearn.metrics import classification_report\n",
    "from sklearn.metrics import roc_auc_score\n",
    "from sklearn.metrics import f1_score\n",
    "\n",
    "print(classification_report(y_train, train_predictions))\n",
    "print('AUC: ' + str(roc_auc_score(y_train, train_predictions)))\n",
    "print('Macro F1: ' + str(f1_score(y_train, train_predictions, average='macro')))"
   ]
  },
  {
   "cell_type": "code",
   "execution_count": 16,
   "metadata": {
    "scrolled": false
   },
   "outputs": [
    {
     "data": {
      "text/plain": [
       "<sklearn.metrics._plot.roc_curve.RocCurveDisplay at 0x1f36ca917c8>"
      ]
     },
     "execution_count": 16,
     "metadata": {},
     "output_type": "execute_result"
    },
    {
     "data": {
      "image/png": "[encoded data removed]",
      "text/plain": [
       "<Figure size 432x288 with 1 Axes>"
      ]
     },
     "metadata": {
      "needs_background": "light"
     },
     "output_type": "display_data"
    }
   ],
   "source": [
    "from sklearn.metrics import plot_roc_curve\n",
    "\n",
    "plot_roc_curve(model, X_train, y_train)"
   ]
  },
  {
   "cell_type": "markdown",
   "metadata": {},
   "source": [
    "## Evaluate the CV Performance of the Model"
   ]
  },
  {
   "cell_type": "code",
   "execution_count": 17,
   "metadata": {
    "scrolled": false
   },
   "outputs": [
    {
     "name": "stdout",
     "output_type": "stream",
     "text": [
      "Accuracy: 0.7545814953059609\n",
      "AUC: 0.7567641472064508\n",
      "Macro F1: 0.5925332201513649\n"
     ]
    }
   ],
   "source": [
    "from sklearn.model_selection import cross_validate\n",
    "\n",
    "model = LogisticRegressionCV()\n",
    "cv_results = cross_validate(model, X_train, y_train, cv=10, scoring=['accuracy', 'f1_macro', 'roc_auc'])\n",
    "print(f'Accuracy: {np.mean(cv_results[\"test_accuracy\"])}')\n",
    "print(f'AUC: {np.mean(cv_results[\"test_roc_auc\"])}')\n",
    "print(f'Macro F1: {np.mean(cv_results[\"test_f1_macro\"])}')"
   ]
  },
  {
   "cell_type": "markdown",
   "metadata": {},
   "source": [
    "## Predict on the test data (S19)"
   ]
  },
  {
   "cell_type": "code",
   "execution_count": 18,
   "metadata": {
    "scrolled": true
   },
   "outputs": [],
   "source": [
    "S19_TEST_PATH = os.path.join('data', 'Release', 'S19', 'Test')\n",
    "\n",
    "early_test = pd.read_csv(os.path.join(S19_TEST_PATH, 'early.csv'))\n",
    "late_test = pd.read_csv(os.path.join(S19_TEST_PATH, 'late.csv'))\n",
    "X_test = extract_features(late_test, early_test, scaler, False)"
   ]
  },
  {
   "cell_type": "code",
   "execution_count": 19,
   "metadata": {
    "scrolled": true
   },
   "outputs": [
    {
     "data": {
      "text/plain": [
       "(1511, 25)"
      ]
     },
     "execution_count": 19,
     "metadata": {},
     "output_type": "execute_result"
    }
   ],
   "source": [
    "X_test.shape"
   ]
  },
  {
   "cell_type": "markdown",
   "metadata": {},
   "source": [
    "When writing output to be judged, make _sure_ to **output probabilities** for the positive class, so that we can calculate AUC when judging!"
   ]
  },
  {
   "cell_type": "code",
   "execution_count": 20,
   "metadata": {},
   "outputs": [],
   "source": [
    "model = LogisticRegressionCV()\n",
    "model.fit(X_train, y_train)\n",
    "# Note the use of predict_proba (the [:,1] gets the positive probabilities)\n",
    "predictions = model.predict_proba(X_test)[:,1]"
   ]
  },
  {
   "cell_type": "code",
   "execution_count": 21,
   "metadata": {},
   "outputs": [
    {
     "data": {
      "text/plain": [
       "array([0.71870299, 0.63676216, 0.80529838, ..., 0.7270374 , 0.70659839,\n",
       "       0.69141046])"
      ]
     },
     "execution_count": 21,
     "metadata": {},
     "output_type": "execute_result"
    }
   ],
   "source": [
    "predictions"
   ]
  },
  {
   "cell_type": "code",
   "execution_count": 22,
   "metadata": {
    "scrolled": true
   },
   "outputs": [
    {
     "data": {
      "text/html": [
       "<div>\n",
       "<style scoped>\n",
       "    .dataframe tbody tr th:only-of-type {\n",
       "        vertical-align: middle;\n",
       "    }\n",
       "\n",
       "    .dataframe tbody tr th {\n",
       "        vertical-align: top;\n",
       "    }\n",
       "\n",
       "    .dataframe thead th {\n",
       "        text-align: right;\n",
       "    }\n",
       "</style>\n",
       "<table border=\"1\" class=\"dataframe\">\n",
       "  <thead>\n",
       "    <tr style=\"text-align: right;\">\n",
       "      <th></th>\n",
       "      <th>SubjectID</th>\n",
       "      <th>AssignmentID</th>\n",
       "      <th>ProblemID</th>\n",
       "      <th>Label</th>\n",
       "    </tr>\n",
       "  </thead>\n",
       "  <tbody>\n",
       "    <tr>\n",
       "      <th>0</th>\n",
       "      <td>036ad3e516c5bf3a4b3be35b137bcbb8</td>\n",
       "      <td>494.0</td>\n",
       "      <td>41</td>\n",
       "      <td>0.718703</td>\n",
       "    </tr>\n",
       "    <tr>\n",
       "      <th>1</th>\n",
       "      <td>036ad3e516c5bf3a4b3be35b137bcbb8</td>\n",
       "      <td>494.0</td>\n",
       "      <td>43</td>\n",
       "      <td>0.636762</td>\n",
       "    </tr>\n",
       "    <tr>\n",
       "      <th>2</th>\n",
       "      <td>036ad3e516c5bf3a4b3be35b137bcbb8</td>\n",
       "      <td>494.0</td>\n",
       "      <td>44</td>\n",
       "      <td>0.805298</td>\n",
       "    </tr>\n",
       "    <tr>\n",
       "      <th>3</th>\n",
       "      <td>036ad3e516c5bf3a4b3be35b137bcbb8</td>\n",
       "      <td>494.0</td>\n",
       "      <td>46</td>\n",
       "      <td>0.618494</td>\n",
       "    </tr>\n",
       "    <tr>\n",
       "      <th>4</th>\n",
       "      <td>036ad3e516c5bf3a4b3be35b137bcbb8</td>\n",
       "      <td>494.0</td>\n",
       "      <td>49</td>\n",
       "      <td>0.663353</td>\n",
       "    </tr>\n",
       "    <tr>\n",
       "      <th>...</th>\n",
       "      <td>...</td>\n",
       "      <td>...</td>\n",
       "      <td>...</td>\n",
       "      <td>...</td>\n",
       "    </tr>\n",
       "    <tr>\n",
       "      <th>1506</th>\n",
       "      <td>fc5f86251458722c799d1830fa0c2c1f</td>\n",
       "      <td>494.0</td>\n",
       "      <td>67</td>\n",
       "      <td>0.756331</td>\n",
       "    </tr>\n",
       "    <tr>\n",
       "      <th>1507</th>\n",
       "      <td>fc5f86251458722c799d1830fa0c2c1f</td>\n",
       "      <td>494.0</td>\n",
       "      <td>104</td>\n",
       "      <td>0.765930</td>\n",
       "    </tr>\n",
       "    <tr>\n",
       "      <th>1508</th>\n",
       "      <td>fc5f86251458722c799d1830fa0c2c1f</td>\n",
       "      <td>494.0</td>\n",
       "      <td>106</td>\n",
       "      <td>0.727037</td>\n",
       "    </tr>\n",
       "    <tr>\n",
       "      <th>1509</th>\n",
       "      <td>fc5f86251458722c799d1830fa0c2c1f</td>\n",
       "      <td>494.0</td>\n",
       "      <td>107</td>\n",
       "      <td>0.706598</td>\n",
       "    </tr>\n",
       "    <tr>\n",
       "      <th>1510</th>\n",
       "      <td>fc5f86251458722c799d1830fa0c2c1f</td>\n",
       "      <td>494.0</td>\n",
       "      <td>108</td>\n",
       "      <td>0.691410</td>\n",
       "    </tr>\n",
       "  </tbody>\n",
       "</table>\n",
       "<p>1511 rows × 4 columns</p>\n",
       "</div>"
      ],
      "text/plain": [
       "                             SubjectID  AssignmentID  ProblemID     Label\n",
       "0     036ad3e516c5bf3a4b3be35b137bcbb8         494.0         41  0.718703\n",
       "1     036ad3e516c5bf3a4b3be35b137bcbb8         494.0         43  0.636762\n",
       "2     036ad3e516c5bf3a4b3be35b137bcbb8         494.0         44  0.805298\n",
       "3     036ad3e516c5bf3a4b3be35b137bcbb8         494.0         46  0.618494\n",
       "4     036ad3e516c5bf3a4b3be35b137bcbb8         494.0         49  0.663353\n",
       "...                                ...           ...        ...       ...\n",
       "1506  fc5f86251458722c799d1830fa0c2c1f         494.0         67  0.756331\n",
       "1507  fc5f86251458722c799d1830fa0c2c1f         494.0        104  0.765930\n",
       "1508  fc5f86251458722c799d1830fa0c2c1f         494.0        106  0.727037\n",
       "1509  fc5f86251458722c799d1830fa0c2c1f         494.0        107  0.706598\n",
       "1510  fc5f86251458722c799d1830fa0c2c1f         494.0        108  0.691410\n",
       "\n",
       "[1511 rows x 4 columns]"
      ]
     },
     "execution_count": 22,
     "metadata": {},
     "output_type": "execute_result"
    }
   ],
   "source": [
    "predictions_df = late_test.copy()\n",
    "predictions_df['Label'] = predictions\n",
    "predictions_df"
   ]
  },
  {
   "cell_type": "code",
   "execution_count": 23,
   "metadata": {},
   "outputs": [],
   "source": [
    "# We don't have the test labels - you have to submit to evaluate it"
   ]
  },
  {
   "cell_type": "code",
   "execution_count": 24,
   "metadata": {},
   "outputs": [],
   "source": [
    "# We use res/predictions.csv, since that's where the scoring rogram expects it\n",
    "# but you can change this directory\n",
    "if semester == 'S19':\n",
    "    path = os.path.join('data', 'Prediction', 'Practice', 'basic_LR_task1', 'res')\n",
    "    os.makedirs(path, exist_ok=True)\n",
    "    predictions_df.to_csv(os.path.join(path, 'predictions.csv'), index=False)"
   ]
  },
  {
   "cell_type": "markdown",
   "metadata": {},
   "source": [
    "## Predict on the test data F19\n",
    "\n",
    "Here we see if our model will still be useful on the F19. If we trained on S19, this is cross-semester prediction. Again, we don't have labels for this test dataset, so we'll have to submit to see how well we did.\n",
    "\n",
    "Later in the year, there will be _training_ data released for F19, which will be tested on a different track (not cross-semester). If we trained on F19, this is within-semester prediction."
   ]
  },
  {
   "cell_type": "code",
   "execution_count": 25,
   "metadata": {},
   "outputs": [],
   "source": [
    "F19_TEST_PATH = os.path.join('data', 'Release', 'F19', 'Test')"
   ]
  },
  {
   "cell_type": "code",
   "execution_count": 26,
   "metadata": {
    "scrolled": true
   },
   "outputs": [],
   "source": [
    "early_test = pd.read_csv(os.path.join(F19_TEST_PATH, 'early.csv'))\n",
    "late_test = pd.read_csv(os.path.join(F19_TEST_PATH, 'late.csv'))\n",
    "X_test = extract_features(late_test, early_test, scaler, False)"
   ]
  },
  {
   "cell_type": "code",
   "execution_count": 27,
   "metadata": {},
   "outputs": [
    {
     "data": {
      "text/plain": [
       "(2365, 25)"
      ]
     },
     "execution_count": 27,
     "metadata": {},
     "output_type": "execute_result"
    }
   ],
   "source": [
    "X_test.shape"
   ]
  },
  {
   "cell_type": "code",
   "execution_count": 28,
   "metadata": {},
   "outputs": [],
   "source": [
    "model = LogisticRegressionCV()\n",
    "model.fit(X_train, y_train)\n",
    "predictions = model.predict_proba(X_test)[:,1]"
   ]
  },
  {
   "cell_type": "code",
   "execution_count": 29,
   "metadata": {},
   "outputs": [
    {
     "data": {
      "text/plain": [
       "array([0.81344772, 0.74948573, 0.87591233, ..., 0.40992631, 0.37947527,\n",
       "       0.35654374])"
      ]
     },
     "execution_count": 29,
     "metadata": {},
     "output_type": "execute_result"
    }
   ],
   "source": [
    "predictions"
   ]
  },
  {
   "cell_type": "code",
   "execution_count": 30,
   "metadata": {
    "scrolled": true
   },
   "outputs": [
    {
     "data": {
      "text/html": [
       "<div>\n",
       "<style scoped>\n",
       "    .dataframe tbody tr th:only-of-type {\n",
       "        vertical-align: middle;\n",
       "    }\n",
       "\n",
       "    .dataframe tbody tr th {\n",
       "        vertical-align: top;\n",
       "    }\n",
       "\n",
       "    .dataframe thead th {\n",
       "        text-align: right;\n",
       "    }\n",
       "</style>\n",
       "<table border=\"1\" class=\"dataframe\">\n",
       "  <thead>\n",
       "    <tr style=\"text-align: right;\">\n",
       "      <th></th>\n",
       "      <th>SubjectID</th>\n",
       "      <th>AssignmentID</th>\n",
       "      <th>ProblemID</th>\n",
       "      <th>Label</th>\n",
       "    </tr>\n",
       "  </thead>\n",
       "  <tbody>\n",
       "    <tr>\n",
       "      <th>0</th>\n",
       "      <td>00358c94503a8d9e6869efc6e5cdb0e1c8e9eb39b1fd46...</td>\n",
       "      <td>494</td>\n",
       "      <td>41</td>\n",
       "      <td>0.813448</td>\n",
       "    </tr>\n",
       "    <tr>\n",
       "      <th>1</th>\n",
       "      <td>00358c94503a8d9e6869efc6e5cdb0e1c8e9eb39b1fd46...</td>\n",
       "      <td>494</td>\n",
       "      <td>43</td>\n",
       "      <td>0.749486</td>\n",
       "    </tr>\n",
       "    <tr>\n",
       "      <th>2</th>\n",
       "      <td>00358c94503a8d9e6869efc6e5cdb0e1c8e9eb39b1fd46...</td>\n",
       "      <td>494</td>\n",
       "      <td>44</td>\n",
       "      <td>0.875912</td>\n",
       "    </tr>\n",
       "    <tr>\n",
       "      <th>3</th>\n",
       "      <td>00358c94503a8d9e6869efc6e5cdb0e1c8e9eb39b1fd46...</td>\n",
       "      <td>494</td>\n",
       "      <td>46</td>\n",
       "      <td>0.734523</td>\n",
       "    </tr>\n",
       "    <tr>\n",
       "      <th>4</th>\n",
       "      <td>00358c94503a8d9e6869efc6e5cdb0e1c8e9eb39b1fd46...</td>\n",
       "      <td>494</td>\n",
       "      <td>49</td>\n",
       "      <td>0.770795</td>\n",
       "    </tr>\n",
       "    <tr>\n",
       "      <th>...</th>\n",
       "      <td>...</td>\n",
       "      <td>...</td>\n",
       "      <td>...</td>\n",
       "      <td>...</td>\n",
       "    </tr>\n",
       "    <tr>\n",
       "      <th>2360</th>\n",
       "      <td>fa7805c1d46ef49851de43750a665a993eef750b560159...</td>\n",
       "      <td>502</td>\n",
       "      <td>64</td>\n",
       "      <td>0.432782</td>\n",
       "    </tr>\n",
       "    <tr>\n",
       "      <th>2361</th>\n",
       "      <td>fa7805c1d46ef49851de43750a665a993eef750b560159...</td>\n",
       "      <td>502</td>\n",
       "      <td>70</td>\n",
       "      <td>0.256144</td>\n",
       "    </tr>\n",
       "    <tr>\n",
       "      <th>2362</th>\n",
       "      <td>fa7805c1d46ef49851de43750a665a993eef750b560159...</td>\n",
       "      <td>502</td>\n",
       "      <td>71</td>\n",
       "      <td>0.409926</td>\n",
       "    </tr>\n",
       "    <tr>\n",
       "      <th>2363</th>\n",
       "      <td>fa7805c1d46ef49851de43750a665a993eef750b560159...</td>\n",
       "      <td>502</td>\n",
       "      <td>112</td>\n",
       "      <td>0.379475</td>\n",
       "    </tr>\n",
       "    <tr>\n",
       "      <th>2364</th>\n",
       "      <td>fa7805c1d46ef49851de43750a665a993eef750b560159...</td>\n",
       "      <td>502</td>\n",
       "      <td>118</td>\n",
       "      <td>0.356544</td>\n",
       "    </tr>\n",
       "  </tbody>\n",
       "</table>\n",
       "<p>2365 rows × 4 columns</p>\n",
       "</div>"
      ],
      "text/plain": [
       "                                              SubjectID  AssignmentID  \\\n",
       "0     00358c94503a8d9e6869efc6e5cdb0e1c8e9eb39b1fd46...           494   \n",
       "1     00358c94503a8d9e6869efc6e5cdb0e1c8e9eb39b1fd46...           494   \n",
       "2     00358c94503a8d9e6869efc6e5cdb0e1c8e9eb39b1fd46...           494   \n",
       "3     00358c94503a8d9e6869efc6e5cdb0e1c8e9eb39b1fd46...           494   \n",
       "4     00358c94503a8d9e6869efc6e5cdb0e1c8e9eb39b1fd46...           494   \n",
       "...                                                 ...           ...   \n",
       "2360  fa7805c1d46ef49851de43750a665a993eef750b560159...           502   \n",
       "2361  fa7805c1d46ef49851de43750a665a993eef750b560159...           502   \n",
       "2362  fa7805c1d46ef49851de43750a665a993eef750b560159...           502   \n",
       "2363  fa7805c1d46ef49851de43750a665a993eef750b560159...           502   \n",
       "2364  fa7805c1d46ef49851de43750a665a993eef750b560159...           502   \n",
       "\n",
       "      ProblemID     Label  \n",
       "0            41  0.813448  \n",
       "1            43  0.749486  \n",
       "2            44  0.875912  \n",
       "3            46  0.734523  \n",
       "4            49  0.770795  \n",
       "...         ...       ...  \n",
       "2360         64  0.432782  \n",
       "2361         70  0.256144  \n",
       "2362         71  0.409926  \n",
       "2363        112  0.379475  \n",
       "2364        118  0.356544  \n",
       "\n",
       "[2365 rows x 4 columns]"
      ]
     },
     "execution_count": 30,
     "metadata": {},
     "output_type": "execute_result"
    }
   ],
   "source": [
    "predictions_df = late_test.copy()\n",
    "predictions_df['Label'] = predictions\n",
    "predictions_df"
   ]
  },
  {
   "cell_type": "code",
   "execution_count": 31,
   "metadata": {},
   "outputs": [],
   "source": [
    "# We don't have the test labels - you have to submit to evaluate it"
   ]
  },
  {
   "cell_type": "code",
   "execution_count": 32,
   "metadata": {},
   "outputs": [],
   "source": [
    "path = os.path.join('data', 'Prediction', 'Phase1' if semester == 'S19' else 'Phase2', 'basic_LR_task1', 'res')\n",
    "os.makedirs(path, exist_ok=True)\n",
    "predictions_df.to_csv(os.path.join(path, 'predictions.csv'), index=False)"
   ]
  },
  {
   "cell_type": "markdown",
   "metadata": {},
   "source": [
    "# Task 2\n",
    "\n",
    "In this task, we are predicting final performance, extracting features from performance on the 30 early problems for a given student to predict the final exam grade."
   ]
  },
  {
   "cell_type": "code",
   "execution_count": 33,
   "metadata": {
    "scrolled": true
   },
   "outputs": [
    {
     "data": {
      "text/html": [
       "<div>\n",
       "<style scoped>\n",
       "    .dataframe tbody tr th:only-of-type {\n",
       "        vertical-align: middle;\n",
       "    }\n",
       "\n",
       "    .dataframe tbody tr th {\n",
       "        vertical-align: top;\n",
       "    }\n",
       "\n",
       "    .dataframe thead th {\n",
       "        text-align: right;\n",
       "    }\n",
       "</style>\n",
       "<table border=\"1\" class=\"dataframe\">\n",
       "  <thead>\n",
       "    <tr style=\"text-align: right;\">\n",
       "      <th></th>\n",
       "      <th>SubjectID</th>\n",
       "      <th>X-Grade</th>\n",
       "    </tr>\n",
       "  </thead>\n",
       "  <tbody>\n",
       "    <tr>\n",
       "      <th>0</th>\n",
       "      <td>65be44ae7088566069cc3bef454174a7</td>\n",
       "      <td>0.3600</td>\n",
       "    </tr>\n",
       "    <tr>\n",
       "      <th>1</th>\n",
       "      <td>f4db8537e9d75da46c4efc36a2d70956</td>\n",
       "      <td>0.4310</td>\n",
       "    </tr>\n",
       "    <tr>\n",
       "      <th>2</th>\n",
       "      <td>e3edca0f6e68bfb76eaf26a8eb6dd94b</td>\n",
       "      <td>0.8400</td>\n",
       "    </tr>\n",
       "    <tr>\n",
       "      <th>3</th>\n",
       "      <td>d843407a1a701630bb297c1148229eff</td>\n",
       "      <td>0.4900</td>\n",
       "    </tr>\n",
       "    <tr>\n",
       "      <th>4</th>\n",
       "      <td>d0a17b281c3e4eaef6718d891e38cb42</td>\n",
       "      <td>0.3400</td>\n",
       "    </tr>\n",
       "    <tr>\n",
       "      <th>...</th>\n",
       "      <td>...</td>\n",
       "      <td>...</td>\n",
       "    </tr>\n",
       "    <tr>\n",
       "      <th>242</th>\n",
       "      <td>4a914e5c38172ae9b61780ffbd0b2f90</td>\n",
       "      <td>0.8244</td>\n",
       "    </tr>\n",
       "    <tr>\n",
       "      <th>243</th>\n",
       "      <td>ffb72475a81de0e95b910ffad039f5c2</td>\n",
       "      <td>0.6817</td>\n",
       "    </tr>\n",
       "    <tr>\n",
       "      <th>244</th>\n",
       "      <td>40195594f1244e7ec627b1c6a5a35585</td>\n",
       "      <td>0.7029</td>\n",
       "    </tr>\n",
       "    <tr>\n",
       "      <th>245</th>\n",
       "      <td>e2d083a5fd066b082d93042169313e21</td>\n",
       "      <td>0.6800</td>\n",
       "    </tr>\n",
       "    <tr>\n",
       "      <th>246</th>\n",
       "      <td>c8720c9e82b818798e7b391fd62adf33</td>\n",
       "      <td>0.9200</td>\n",
       "    </tr>\n",
       "  </tbody>\n",
       "</table>\n",
       "<p>247 rows × 2 columns</p>\n",
       "</div>"
      ],
      "text/plain": [
       "                            SubjectID  X-Grade\n",
       "0    65be44ae7088566069cc3bef454174a7   0.3600\n",
       "1    f4db8537e9d75da46c4efc36a2d70956   0.4310\n",
       "2    e3edca0f6e68bfb76eaf26a8eb6dd94b   0.8400\n",
       "3    d843407a1a701630bb297c1148229eff   0.4900\n",
       "4    d0a17b281c3e4eaef6718d891e38cb42   0.3400\n",
       "..                                ...      ...\n",
       "242  4a914e5c38172ae9b61780ffbd0b2f90   0.8244\n",
       "243  ffb72475a81de0e95b910ffad039f5c2   0.6817\n",
       "244  40195594f1244e7ec627b1c6a5a35585   0.7029\n",
       "245  e2d083a5fd066b082d93042169313e21   0.6800\n",
       "246  c8720c9e82b818798e7b391fd62adf33   0.9200\n",
       "\n",
       "[247 rows x 2 columns]"
      ]
     },
     "execution_count": 33,
     "metadata": {},
     "output_type": "execute_result"
    }
   ],
   "source": [
    "train_base = train_ps2.load_link_table('Subject')\n",
    "train_base"
   ]
  },
  {
   "cell_type": "code",
   "execution_count": 34,
   "metadata": {},
   "outputs": [],
   "source": [
    "y_train = train_base['X-Grade']"
   ]
  },
  {
   "cell_type": "code",
   "execution_count": 35,
   "metadata": {},
   "outputs": [
    {
     "data": {
      "text/plain": [
       "0      0.3600\n",
       "1      0.4310\n",
       "2      0.8400\n",
       "3      0.4900\n",
       "4      0.3400\n",
       "        ...  \n",
       "242    0.8244\n",
       "243    0.6817\n",
       "244    0.7029\n",
       "245    0.6800\n",
       "246    0.9200\n",
       "Name: X-Grade, Length: 247, dtype: float64"
      ]
     },
     "execution_count": 35,
     "metadata": {},
     "output_type": "execute_result"
    }
   ],
   "source": [
    "y_train"
   ]
  },
  {
   "cell_type": "code",
   "execution_count": 36,
   "metadata": {},
   "outputs": [],
   "source": [
    "# The base of our X dataset is just a set of SubjectIDs\n",
    "X_train_base = train_base.drop('X-Grade', axis=1)"
   ]
  },
  {
   "cell_type": "code",
   "execution_count": 37,
   "metadata": {
    "scrolled": false
   },
   "outputs": [],
   "source": [
    "from sklearn.preprocessing import StandardScaler\n",
    "X_train_unscaled = X_train_base.apply(lambda row: extract_instance_features(row, early_train), axis=1)"
   ]
  },
  {
   "cell_type": "code",
   "execution_count": 38,
   "metadata": {
    "scrolled": false
   },
   "outputs": [
    {
     "data": {
      "text/html": [
       "<div>\n",
       "<style scoped>\n",
       "    .dataframe tbody tr th:only-of-type {\n",
       "        vertical-align: middle;\n",
       "    }\n",
       "\n",
       "    .dataframe tbody tr th {\n",
       "        vertical-align: top;\n",
       "    }\n",
       "\n",
       "    .dataframe thead th {\n",
       "        text-align: right;\n",
       "    }\n",
       "</style>\n",
       "<table border=\"1\" class=\"dataframe\">\n",
       "  <thead>\n",
       "    <tr style=\"text-align: right;\">\n",
       "      <th></th>\n",
       "      <th>ProblemsAttempted</th>\n",
       "      <th>PercCorrectEventually</th>\n",
       "      <th>MedAttempts</th>\n",
       "      <th>MaxAttempts</th>\n",
       "      <th>PercCorrectFirstTry</th>\n",
       "    </tr>\n",
       "  </thead>\n",
       "  <tbody>\n",
       "    <tr>\n",
       "      <th>0</th>\n",
       "      <td>30</td>\n",
       "      <td>0.966667</td>\n",
       "      <td>1.0</td>\n",
       "      <td>6</td>\n",
       "      <td>0.633333</td>\n",
       "    </tr>\n",
       "    <tr>\n",
       "      <th>1</th>\n",
       "      <td>30</td>\n",
       "      <td>1.000000</td>\n",
       "      <td>1.0</td>\n",
       "      <td>5</td>\n",
       "      <td>0.666667</td>\n",
       "    </tr>\n",
       "    <tr>\n",
       "      <th>2</th>\n",
       "      <td>30</td>\n",
       "      <td>0.933333</td>\n",
       "      <td>4.0</td>\n",
       "      <td>28</td>\n",
       "      <td>0.133333</td>\n",
       "    </tr>\n",
       "    <tr>\n",
       "      <th>3</th>\n",
       "      <td>30</td>\n",
       "      <td>1.000000</td>\n",
       "      <td>1.0</td>\n",
       "      <td>21</td>\n",
       "      <td>0.533333</td>\n",
       "    </tr>\n",
       "    <tr>\n",
       "      <th>4</th>\n",
       "      <td>30</td>\n",
       "      <td>0.966667</td>\n",
       "      <td>1.0</td>\n",
       "      <td>3</td>\n",
       "      <td>0.933333</td>\n",
       "    </tr>\n",
       "    <tr>\n",
       "      <th>...</th>\n",
       "      <td>...</td>\n",
       "      <td>...</td>\n",
       "      <td>...</td>\n",
       "      <td>...</td>\n",
       "      <td>...</td>\n",
       "    </tr>\n",
       "    <tr>\n",
       "      <th>242</th>\n",
       "      <td>19</td>\n",
       "      <td>0.736842</td>\n",
       "      <td>6.0</td>\n",
       "      <td>20</td>\n",
       "      <td>0.157895</td>\n",
       "    </tr>\n",
       "    <tr>\n",
       "      <th>243</th>\n",
       "      <td>20</td>\n",
       "      <td>1.000000</td>\n",
       "      <td>2.0</td>\n",
       "      <td>28</td>\n",
       "      <td>0.400000</td>\n",
       "    </tr>\n",
       "    <tr>\n",
       "      <th>244</th>\n",
       "      <td>13</td>\n",
       "      <td>1.000000</td>\n",
       "      <td>6.0</td>\n",
       "      <td>39</td>\n",
       "      <td>0.076923</td>\n",
       "    </tr>\n",
       "    <tr>\n",
       "      <th>245</th>\n",
       "      <td>30</td>\n",
       "      <td>1.000000</td>\n",
       "      <td>6.0</td>\n",
       "      <td>31</td>\n",
       "      <td>0.066667</td>\n",
       "    </tr>\n",
       "    <tr>\n",
       "      <th>246</th>\n",
       "      <td>30</td>\n",
       "      <td>1.000000</td>\n",
       "      <td>3.0</td>\n",
       "      <td>20</td>\n",
       "      <td>0.266667</td>\n",
       "    </tr>\n",
       "  </tbody>\n",
       "</table>\n",
       "<p>247 rows × 5 columns</p>\n",
       "</div>"
      ],
      "text/plain": [
       "     ProblemsAttempted  PercCorrectEventually  MedAttempts  MaxAttempts  \\\n",
       "0                   30               0.966667          1.0            6   \n",
       "1                   30               1.000000          1.0            5   \n",
       "2                   30               0.933333          4.0           28   \n",
       "3                   30               1.000000          1.0           21   \n",
       "4                   30               0.966667          1.0            3   \n",
       "..                 ...                    ...          ...          ...   \n",
       "242                 19               0.736842          6.0           20   \n",
       "243                 20               1.000000          2.0           28   \n",
       "244                 13               1.000000          6.0           39   \n",
       "245                 30               1.000000          6.0           31   \n",
       "246                 30               1.000000          3.0           20   \n",
       "\n",
       "     PercCorrectFirstTry  \n",
       "0               0.633333  \n",
       "1               0.666667  \n",
       "2               0.133333  \n",
       "3               0.533333  \n",
       "4               0.933333  \n",
       "..                   ...  \n",
       "242             0.157895  \n",
       "243             0.400000  \n",
       "244             0.076923  \n",
       "245             0.066667  \n",
       "246             0.266667  \n",
       "\n",
       "[247 rows x 5 columns]"
      ]
     },
     "execution_count": 38,
     "metadata": {},
     "output_type": "execute_result"
    }
   ],
   "source": [
    "X_train_unscaled"
   ]
  },
  {
   "cell_type": "code",
   "execution_count": 39,
   "metadata": {
    "scrolled": false
   },
   "outputs": [
    {
     "data": {
      "text/plain": [
       "array([[ 0.55795655,  0.34311158, -0.97787777, -0.97465463,  1.04557542],\n",
       "       [ 0.55795655,  0.59939123, -0.97787777, -1.0455021 ,  1.18390911],\n",
       "       [ 0.55795655,  0.08683193,  0.50393701,  0.58398965, -1.0294299 ],\n",
       "       ...,\n",
       "       [-2.6166499 ,  0.59939123,  1.49181353,  1.36331179, -1.26353306],\n",
       "       [ 0.55795655,  0.59939123,  1.49181353,  0.79653205, -1.30609727],\n",
       "       [ 0.55795655,  0.59939123,  0.00999875,  0.01720991, -0.47609514]])"
      ]
     },
     "execution_count": 39,
     "metadata": {},
     "output_type": "execute_result"
    }
   ],
   "source": [
    "scaler = StandardScaler()\n",
    "X_train = scaler.fit_transform(X_train_unscaled)\n",
    "X_train"
   ]
  },
  {
   "cell_type": "code",
   "execution_count": 40,
   "metadata": {},
   "outputs": [
    {
     "data": {
      "text/html": [
       "<div>\n",
       "<style scoped>\n",
       "    .dataframe tbody tr th:only-of-type {\n",
       "        vertical-align: middle;\n",
       "    }\n",
       "\n",
       "    .dataframe tbody tr th {\n",
       "        vertical-align: top;\n",
       "    }\n",
       "\n",
       "    .dataframe thead th {\n",
       "        text-align: right;\n",
       "    }\n",
       "</style>\n",
       "<table border=\"1\" class=\"dataframe\">\n",
       "  <thead>\n",
       "    <tr style=\"text-align: right;\">\n",
       "      <th></th>\n",
       "      <th>ProblemsAttempted</th>\n",
       "      <th>PercCorrectEventually</th>\n",
       "      <th>MedAttempts</th>\n",
       "      <th>MaxAttempts</th>\n",
       "      <th>PercCorrectFirstTry</th>\n",
       "      <th>X-Grade</th>\n",
       "    </tr>\n",
       "  </thead>\n",
       "  <tbody>\n",
       "    <tr>\n",
       "      <th>ProblemsAttempted</th>\n",
       "      <td>1.000000</td>\n",
       "      <td>0.285712</td>\n",
       "      <td>-0.198272</td>\n",
       "      <td>0.129180</td>\n",
       "      <td>0.136103</td>\n",
       "      <td>-0.056926</td>\n",
       "    </tr>\n",
       "    <tr>\n",
       "      <th>PercCorrectEventually</th>\n",
       "      <td>0.285712</td>\n",
       "      <td>1.000000</td>\n",
       "      <td>-0.344663</td>\n",
       "      <td>-0.072011</td>\n",
       "      <td>0.337980</td>\n",
       "      <td>0.053295</td>\n",
       "    </tr>\n",
       "    <tr>\n",
       "      <th>MedAttempts</th>\n",
       "      <td>-0.198272</td>\n",
       "      <td>-0.344663</td>\n",
       "      <td>1.000000</td>\n",
       "      <td>0.670457</td>\n",
       "      <td>-0.781765</td>\n",
       "      <td>0.186821</td>\n",
       "    </tr>\n",
       "    <tr>\n",
       "      <th>MaxAttempts</th>\n",
       "      <td>0.129180</td>\n",
       "      <td>-0.072011</td>\n",
       "      <td>0.670457</td>\n",
       "      <td>1.000000</td>\n",
       "      <td>-0.575171</td>\n",
       "      <td>0.183417</td>\n",
       "    </tr>\n",
       "    <tr>\n",
       "      <th>PercCorrectFirstTry</th>\n",
       "      <td>0.136103</td>\n",
       "      <td>0.337980</td>\n",
       "      <td>-0.781765</td>\n",
       "      <td>-0.575171</td>\n",
       "      <td>1.000000</td>\n",
       "      <td>-0.320354</td>\n",
       "    </tr>\n",
       "    <tr>\n",
       "      <th>X-Grade</th>\n",
       "      <td>-0.056926</td>\n",
       "      <td>0.053295</td>\n",
       "      <td>0.186821</td>\n",
       "      <td>0.183417</td>\n",
       "      <td>-0.320354</td>\n",
       "      <td>1.000000</td>\n",
       "    </tr>\n",
       "  </tbody>\n",
       "</table>\n",
       "</div>"
      ],
      "text/plain": [
       "                       ProblemsAttempted  PercCorrectEventually  MedAttempts  \\\n",
       "ProblemsAttempted               1.000000               0.285712    -0.198272   \n",
       "PercCorrectEventually           0.285712               1.000000    -0.344663   \n",
       "MedAttempts                    -0.198272              -0.344663     1.000000   \n",
       "MaxAttempts                     0.129180              -0.072011     0.670457   \n",
       "PercCorrectFirstTry             0.136103               0.337980    -0.781765   \n",
       "X-Grade                        -0.056926               0.053295     0.186821   \n",
       "\n",
       "                       MaxAttempts  PercCorrectFirstTry   X-Grade  \n",
       "ProblemsAttempted         0.129180             0.136103 -0.056926  \n",
       "PercCorrectEventually    -0.072011             0.337980  0.053295  \n",
       "MedAttempts               0.670457            -0.781765  0.186821  \n",
       "MaxAttempts               1.000000            -0.575171  0.183417  \n",
       "PercCorrectFirstTry      -0.575171             1.000000 -0.320354  \n",
       "X-Grade                   0.183417            -0.320354  1.000000  "
      ]
     },
     "execution_count": 40,
     "metadata": {},
     "output_type": "execute_result"
    }
   ],
   "source": [
    "X_train_unscaled.join(train_base).drop(PS2.SubjectID, axis=1).corr()"
   ]
  },
  {
   "cell_type": "markdown",
   "metadata": {},
   "source": [
    "## Evaluate the Training Performance of the Model"
   ]
  },
  {
   "cell_type": "code",
   "execution_count": 41,
   "metadata": {
    "scrolled": true
   },
   "outputs": [],
   "source": [
    "from sklearn.linear_model import LassoCV\n",
    "from sklearn.linear_model import LinearRegression\n",
    "\n",
    "model = LassoCV()\n",
    "model.fit(X_train, y_train)\n",
    "train_predictions = model.predict(X_train)"
   ]
  },
  {
   "cell_type": "code",
   "execution_count": 42,
   "metadata": {},
   "outputs": [
    {
     "data": {
      "text/plain": [
       "<matplotlib.collections.PathCollection at 0x1f36c9751c8>"
      ]
     },
     "execution_count": 42,
     "metadata": {},
     "output_type": "execute_result"
    },
    {
     "data": {
      "image/png": "[encoded data removed]",
      "text/plain": [
       "<Figure size 432x288 with 1 Axes>"
      ]
     },
     "metadata": {
      "needs_background": "light"
     },
     "output_type": "display_data"
    }
   ],
   "source": [
    "plt.scatter(y_train, train_predictions)"
   ]
  },
  {
   "cell_type": "code",
   "execution_count": 43,
   "metadata": {
    "scrolled": true
   },
   "outputs": [
    {
     "name": "stdout",
     "output_type": "stream",
     "text": [
      "Training MSE: 0.02571797509796354\n",
      "Training R2: 0.13944806011243238\n"
     ]
    }
   ],
   "source": [
    "from sklearn.metrics import mean_squared_error\n",
    "from sklearn.metrics import r2_score\n",
    "\n",
    "print('Training MSE: ' + str(mean_squared_error(y_train, train_predictions)))\n",
    "print('Training R2: ' + str(r2_score(y_train, train_predictions)))"
   ]
  },
  {
   "cell_type": "markdown",
   "metadata": {},
   "source": [
    "## Evaluate the CV Performance of the Model\n",
    "\n",
    "The naive model performs quite poorly evaluated by CV on the training data (R2 of 0.083). Can you improve on it?"
   ]
  },
  {
   "cell_type": "code",
   "execution_count": 44,
   "metadata": {
    "scrolled": false
   },
   "outputs": [
    {
     "name": "stdout",
     "output_type": "stream",
     "text": [
      "MSE: 0.026892272002301293\n",
      "R2: 0.022383256543141494\n"
     ]
    }
   ],
   "source": [
    "from sklearn.model_selection import cross_validate\n",
    "\n",
    "model = LassoCV()\n",
    "cv_results = cross_validate(model, X_train, y_train, cv=10, scoring=['neg_mean_squared_error', 'r2'])\n",
    "print(f'MSE: {-np.mean(cv_results[\"test_neg_mean_squared_error\"])}')\n",
    "print(f'R2: {np.mean(cv_results[\"test_r2\"])}')"
   ]
  },
  {
   "cell_type": "markdown",
   "metadata": {},
   "source": [
    "## Predict on the S19 test data"
   ]
  },
  {
   "cell_type": "code",
   "execution_count": 45,
   "metadata": {
    "scrolled": false
   },
   "outputs": [
    {
     "data": {
      "text/html": [
       "<div>\n",
       "<style scoped>\n",
       "    .dataframe tbody tr th:only-of-type {\n",
       "        vertical-align: middle;\n",
       "    }\n",
       "\n",
       "    .dataframe tbody tr th {\n",
       "        vertical-align: top;\n",
       "    }\n",
       "\n",
       "    .dataframe thead th {\n",
       "        text-align: right;\n",
       "    }\n",
       "</style>\n",
       "<table border=\"1\" class=\"dataframe\">\n",
       "  <thead>\n",
       "    <tr style=\"text-align: right;\">\n",
       "      <th></th>\n",
       "      <th>ProblemsAttempted</th>\n",
       "      <th>PercCorrectEventually</th>\n",
       "      <th>MedAttempts</th>\n",
       "      <th>MaxAttempts</th>\n",
       "      <th>PercCorrectFirstTry</th>\n",
       "    </tr>\n",
       "  </thead>\n",
       "  <tbody>\n",
       "    <tr>\n",
       "      <th>0</th>\n",
       "      <td>19</td>\n",
       "      <td>0.421053</td>\n",
       "      <td>4.0</td>\n",
       "      <td>35</td>\n",
       "      <td>0.210526</td>\n",
       "    </tr>\n",
       "    <tr>\n",
       "      <th>1</th>\n",
       "      <td>19</td>\n",
       "      <td>0.789474</td>\n",
       "      <td>5.0</td>\n",
       "      <td>41</td>\n",
       "      <td>0.157895</td>\n",
       "    </tr>\n",
       "    <tr>\n",
       "      <th>2</th>\n",
       "      <td>24</td>\n",
       "      <td>0.916667</td>\n",
       "      <td>2.5</td>\n",
       "      <td>29</td>\n",
       "      <td>0.291667</td>\n",
       "    </tr>\n",
       "    <tr>\n",
       "      <th>3</th>\n",
       "      <td>17</td>\n",
       "      <td>0.764706</td>\n",
       "      <td>2.0</td>\n",
       "      <td>77</td>\n",
       "      <td>0.352941</td>\n",
       "    </tr>\n",
       "    <tr>\n",
       "      <th>4</th>\n",
       "      <td>30</td>\n",
       "      <td>1.000000</td>\n",
       "      <td>3.0</td>\n",
       "      <td>41</td>\n",
       "      <td>0.300000</td>\n",
       "    </tr>\n",
       "    <tr>\n",
       "      <th>...</th>\n",
       "      <td>...</td>\n",
       "      <td>...</td>\n",
       "      <td>...</td>\n",
       "      <td>...</td>\n",
       "      <td>...</td>\n",
       "    </tr>\n",
       "    <tr>\n",
       "      <th>78</th>\n",
       "      <td>30</td>\n",
       "      <td>0.966667</td>\n",
       "      <td>3.0</td>\n",
       "      <td>44</td>\n",
       "      <td>0.300000</td>\n",
       "    </tr>\n",
       "    <tr>\n",
       "      <th>79</th>\n",
       "      <td>30</td>\n",
       "      <td>1.000000</td>\n",
       "      <td>1.0</td>\n",
       "      <td>4</td>\n",
       "      <td>0.766667</td>\n",
       "    </tr>\n",
       "    <tr>\n",
       "      <th>80</th>\n",
       "      <td>20</td>\n",
       "      <td>1.000000</td>\n",
       "      <td>1.0</td>\n",
       "      <td>10</td>\n",
       "      <td>0.650000</td>\n",
       "    </tr>\n",
       "    <tr>\n",
       "      <th>81</th>\n",
       "      <td>20</td>\n",
       "      <td>1.000000</td>\n",
       "      <td>1.0</td>\n",
       "      <td>4</td>\n",
       "      <td>0.650000</td>\n",
       "    </tr>\n",
       "    <tr>\n",
       "      <th>82</th>\n",
       "      <td>30</td>\n",
       "      <td>1.000000</td>\n",
       "      <td>1.0</td>\n",
       "      <td>13</td>\n",
       "      <td>0.666667</td>\n",
       "    </tr>\n",
       "  </tbody>\n",
       "</table>\n",
       "<p>83 rows × 5 columns</p>\n",
       "</div>"
      ],
      "text/plain": [
       "    ProblemsAttempted  PercCorrectEventually  MedAttempts  MaxAttempts  \\\n",
       "0                  19               0.421053          4.0           35   \n",
       "1                  19               0.789474          5.0           41   \n",
       "2                  24               0.916667          2.5           29   \n",
       "3                  17               0.764706          2.0           77   \n",
       "4                  30               1.000000          3.0           41   \n",
       "..                ...                    ...          ...          ...   \n",
       "78                 30               0.966667          3.0           44   \n",
       "79                 30               1.000000          1.0            4   \n",
       "80                 20               1.000000          1.0           10   \n",
       "81                 20               1.000000          1.0            4   \n",
       "82                 30               1.000000          1.0           13   \n",
       "\n",
       "    PercCorrectFirstTry  \n",
       "0              0.210526  \n",
       "1              0.157895  \n",
       "2              0.291667  \n",
       "3              0.352941  \n",
       "4              0.300000  \n",
       "..                  ...  \n",
       "78             0.300000  \n",
       "79             0.766667  \n",
       "80             0.650000  \n",
       "81             0.650000  \n",
       "82             0.666667  \n",
       "\n",
       "[83 rows x 5 columns]"
      ]
     },
     "execution_count": 45,
     "metadata": {},
     "output_type": "execute_result"
    }
   ],
   "source": [
    "S19_TEST_PATH = os.path.join('data', 'Release', 'S19', 'Test')\n",
    "\n",
    "test_ps2 = ProgSnap2Dataset(os.path.join(S19_TEST_PATH, 'Data'))\n",
    "early_test = pd.read_csv(os.path.join(S19_TEST_PATH, 'early.csv'))\n",
    "late_test = pd.read_csv(os.path.join(S19_TEST_PATH, 'late.csv'))\n",
    "\n",
    "# The Subject.csv link table is just the SubjectIDs to be predicted\n",
    "X_test_base = test_ps2.load_link_table('Subject')\n",
    "X_test_unscaled = X_test_base.apply(lambda row: extract_instance_features(row, early_test), axis=1)\n",
    "X_test_unscaled"
   ]
  },
  {
   "cell_type": "code",
   "execution_count": 46,
   "metadata": {},
   "outputs": [],
   "source": [
    "X_test = scaler.transform(X_test_unscaled)"
   ]
  },
  {
   "cell_type": "code",
   "execution_count": 47,
   "metadata": {
    "scrolled": true
   },
   "outputs": [
    {
     "data": {
      "text/plain": [
       "(83, 5)"
      ]
     },
     "execution_count": 47,
     "metadata": {},
     "output_type": "execute_result"
    }
   ],
   "source": [
    "X_test.shape"
   ]
  },
  {
   "cell_type": "markdown",
   "metadata": {},
   "source": [
    "When writing output to be judged, make _sure_ to **output grades (0-100)**, so we can calculate MSE."
   ]
  },
  {
   "cell_type": "code",
   "execution_count": 48,
   "metadata": {},
   "outputs": [],
   "source": [
    "model = LassoCV()\n",
    "model.fit(X_train, y_train)\n",
    "predictions = model.predict(X_test)"
   ]
  },
  {
   "cell_type": "code",
   "execution_count": 49,
   "metadata": {},
   "outputs": [
    {
     "data": {
      "text/plain": [
       "array([0.62282044, 0.71242702, 0.70761124, 0.66970728, 0.7120682 ,\n",
       "       0.74081893, 0.74747859, 0.62918044, 0.73524273, 0.67902454,\n",
       "       0.57797031, 0.649886  , 0.571679  , 0.76164211, 0.59557958,\n",
       "       0.7120682 , 0.66944097, 0.6363973 , 0.67180768, 0.67764741,\n",
       "       0.65556445, 0.73524273, 0.56328689, 0.58847943, 0.6852889 ,\n",
       "       0.62188652, 0.60564008, 0.6879598 , 0.74511187, 0.72875193,\n",
       "       0.57889585, 0.71220096, 0.56919558, 0.76759116, 0.6363973 ,\n",
       "       0.70512995, 0.75177153, 0.69222716, 0.74775719, 0.71722342,\n",
       "       0.7122301 , 0.7242971 , 0.73617823, 0.72859004, 0.67874594,\n",
       "       0.6650126 , 0.64598087, 0.69819169, 0.598063  , 0.72283495,\n",
       "       0.71178961, 0.70485135, 0.60751116, 0.72196159, 0.74346424,\n",
       "       0.72082818, 0.68139126, 0.7242971 , 0.73589963, 0.60764658,\n",
       "       0.68333922, 0.67902454, 0.65737397, 0.6310112 , 0.70485135,\n",
       "       0.75998608, 0.58847943, 0.65556445, 0.75970748, 0.57404572,\n",
       "       0.68860811, 0.72916379, 0.76857196, 0.68071736, 0.72775424,\n",
       "       0.69056918, 0.56209542, 0.66944097, 0.70485135, 0.58847943,\n",
       "       0.63626188, 0.63626188, 0.61723015])"
      ]
     },
     "execution_count": 49,
     "metadata": {},
     "output_type": "execute_result"
    }
   ],
   "source": [
    "predictions"
   ]
  },
  {
   "cell_type": "code",
   "execution_count": 50,
   "metadata": {
    "scrolled": true
   },
   "outputs": [
    {
     "data": {
      "text/html": [
       "<div>\n",
       "<style scoped>\n",
       "    .dataframe tbody tr th:only-of-type {\n",
       "        vertical-align: middle;\n",
       "    }\n",
       "\n",
       "    .dataframe tbody tr th {\n",
       "        vertical-align: top;\n",
       "    }\n",
       "\n",
       "    .dataframe thead th {\n",
       "        text-align: right;\n",
       "    }\n",
       "</style>\n",
       "<table border=\"1\" class=\"dataframe\">\n",
       "  <thead>\n",
       "    <tr style=\"text-align: right;\">\n",
       "      <th></th>\n",
       "      <th>SubjectID</th>\n",
       "      <th>X-Grade</th>\n",
       "    </tr>\n",
       "  </thead>\n",
       "  <tbody>\n",
       "    <tr>\n",
       "      <th>0</th>\n",
       "      <td>0bdf2c1f053650715e1f0c725d754b96</td>\n",
       "      <td>0.622820</td>\n",
       "    </tr>\n",
       "    <tr>\n",
       "      <th>1</th>\n",
       "      <td>d7419ae04f248e5105ac3d0700389775</td>\n",
       "      <td>0.712427</td>\n",
       "    </tr>\n",
       "    <tr>\n",
       "      <th>2</th>\n",
       "      <td>81a0c4689fb7ce553a0d5c2fd19b6efd</td>\n",
       "      <td>0.707611</td>\n",
       "    </tr>\n",
       "    <tr>\n",
       "      <th>3</th>\n",
       "      <td>468cbac056133a996283cca7e2976336</td>\n",
       "      <td>0.669707</td>\n",
       "    </tr>\n",
       "    <tr>\n",
       "      <th>4</th>\n",
       "      <td>e4191d610537305de1d294adb121b513</td>\n",
       "      <td>0.712068</td>\n",
       "    </tr>\n",
       "    <tr>\n",
       "      <th>...</th>\n",
       "      <td>...</td>\n",
       "      <td>...</td>\n",
       "    </tr>\n",
       "    <tr>\n",
       "      <th>78</th>\n",
       "      <td>cb03474483e366b5c8dd9f4a2a7537c1</td>\n",
       "      <td>0.704851</td>\n",
       "    </tr>\n",
       "    <tr>\n",
       "      <th>79</th>\n",
       "      <td>cc70903297fe1e25537ae50aea186306</td>\n",
       "      <td>0.588479</td>\n",
       "    </tr>\n",
       "    <tr>\n",
       "      <th>80</th>\n",
       "      <td>29b2cd4a11745fefecc14912d2f95dd8</td>\n",
       "      <td>0.636262</td>\n",
       "    </tr>\n",
       "    <tr>\n",
       "      <th>81</th>\n",
       "      <td>700fe688ff2970d633ff04c9b7f7cdd4</td>\n",
       "      <td>0.636262</td>\n",
       "    </tr>\n",
       "    <tr>\n",
       "      <th>82</th>\n",
       "      <td>f0cd63afa3dd55eb9f7857db09d52ce3</td>\n",
       "      <td>0.617230</td>\n",
       "    </tr>\n",
       "  </tbody>\n",
       "</table>\n",
       "<p>83 rows × 2 columns</p>\n",
       "</div>"
      ],
      "text/plain": [
       "                           SubjectID   X-Grade\n",
       "0   0bdf2c1f053650715e1f0c725d754b96  0.622820\n",
       "1   d7419ae04f248e5105ac3d0700389775  0.712427\n",
       "2   81a0c4689fb7ce553a0d5c2fd19b6efd  0.707611\n",
       "3   468cbac056133a996283cca7e2976336  0.669707\n",
       "4   e4191d610537305de1d294adb121b513  0.712068\n",
       "..                               ...       ...\n",
       "78  cb03474483e366b5c8dd9f4a2a7537c1  0.704851\n",
       "79  cc70903297fe1e25537ae50aea186306  0.588479\n",
       "80  29b2cd4a11745fefecc14912d2f95dd8  0.636262\n",
       "81  700fe688ff2970d633ff04c9b7f7cdd4  0.636262\n",
       "82  f0cd63afa3dd55eb9f7857db09d52ce3  0.617230\n",
       "\n",
       "[83 rows x 2 columns]"
      ]
     },
     "execution_count": 50,
     "metadata": {},
     "output_type": "execute_result"
    }
   ],
   "source": [
    "predictions_df = X_test_base.copy()\n",
    "predictions_df['X-Grade'] = predictions\n",
    "predictions_df"
   ]
  },
  {
   "cell_type": "code",
   "execution_count": 51,
   "metadata": {},
   "outputs": [],
   "source": [
    "# We don't have the test labels - you have to submit to evaluate it"
   ]
  },
  {
   "cell_type": "code",
   "execution_count": 52,
   "metadata": {},
   "outputs": [],
   "source": [
    "# We use res/predictions.csv, since that's where the scoring rogram expects it\n",
    "# but you can change this directory\n",
    "if semester == 'S19':\n",
    "    path = os.path.join('data', 'Prediction', 'Practice', 'basic_LR_task2', 'res')\n",
    "    os.makedirs(path, exist_ok=True)\n",
    "    predictions_df.to_csv(os.path.join(path, 'predictions.csv'), index=False)"
   ]
  },
  {
   "cell_type": "markdown",
   "metadata": {},
   "source": [
    "## Predict on F19 test data"
   ]
  },
  {
   "cell_type": "code",
   "execution_count": 53,
   "metadata": {},
   "outputs": [],
   "source": [
    "F19_TEST_PATH = os.path.join('data', 'Release', 'F19', 'Test')"
   ]
  },
  {
   "cell_type": "code",
   "execution_count": 54,
   "metadata": {
    "scrolled": true
   },
   "outputs": [
    {
     "data": {
      "text/html": [
       "<div>\n",
       "<style scoped>\n",
       "    .dataframe tbody tr th:only-of-type {\n",
       "        vertical-align: middle;\n",
       "    }\n",
       "\n",
       "    .dataframe tbody tr th {\n",
       "        vertical-align: top;\n",
       "    }\n",
       "\n",
       "    .dataframe thead th {\n",
       "        text-align: right;\n",
       "    }\n",
       "</style>\n",
       "<table border=\"1\" class=\"dataframe\">\n",
       "  <thead>\n",
       "    <tr style=\"text-align: right;\">\n",
       "      <th></th>\n",
       "      <th>ProblemsAttempted</th>\n",
       "      <th>PercCorrectEventually</th>\n",
       "      <th>MedAttempts</th>\n",
       "      <th>MaxAttempts</th>\n",
       "      <th>PercCorrectFirstTry</th>\n",
       "    </tr>\n",
       "  </thead>\n",
       "  <tbody>\n",
       "    <tr>\n",
       "      <th>0</th>\n",
       "      <td>30</td>\n",
       "      <td>1.000000</td>\n",
       "      <td>1.5</td>\n",
       "      <td>22</td>\n",
       "      <td>0.500000</td>\n",
       "    </tr>\n",
       "    <tr>\n",
       "      <th>1</th>\n",
       "      <td>30</td>\n",
       "      <td>0.900000</td>\n",
       "      <td>1.0</td>\n",
       "      <td>13</td>\n",
       "      <td>0.533333</td>\n",
       "    </tr>\n",
       "    <tr>\n",
       "      <th>2</th>\n",
       "      <td>30</td>\n",
       "      <td>1.000000</td>\n",
       "      <td>2.0</td>\n",
       "      <td>29</td>\n",
       "      <td>0.400000</td>\n",
       "    </tr>\n",
       "    <tr>\n",
       "      <th>3</th>\n",
       "      <td>30</td>\n",
       "      <td>0.833333</td>\n",
       "      <td>5.0</td>\n",
       "      <td>41</td>\n",
       "      <td>0.133333</td>\n",
       "    </tr>\n",
       "    <tr>\n",
       "      <th>4</th>\n",
       "      <td>30</td>\n",
       "      <td>1.000000</td>\n",
       "      <td>2.0</td>\n",
       "      <td>9</td>\n",
       "      <td>0.366667</td>\n",
       "    </tr>\n",
       "    <tr>\n",
       "      <th>...</th>\n",
       "      <td>...</td>\n",
       "      <td>...</td>\n",
       "      <td>...</td>\n",
       "      <td>...</td>\n",
       "      <td>...</td>\n",
       "    </tr>\n",
       "    <tr>\n",
       "      <th>118</th>\n",
       "      <td>30</td>\n",
       "      <td>0.966667</td>\n",
       "      <td>1.0</td>\n",
       "      <td>9</td>\n",
       "      <td>0.833333</td>\n",
       "    </tr>\n",
       "    <tr>\n",
       "      <th>119</th>\n",
       "      <td>30</td>\n",
       "      <td>1.000000</td>\n",
       "      <td>3.0</td>\n",
       "      <td>27</td>\n",
       "      <td>0.300000</td>\n",
       "    </tr>\n",
       "    <tr>\n",
       "      <th>120</th>\n",
       "      <td>30</td>\n",
       "      <td>0.966667</td>\n",
       "      <td>1.0</td>\n",
       "      <td>27</td>\n",
       "      <td>0.600000</td>\n",
       "    </tr>\n",
       "    <tr>\n",
       "      <th>121</th>\n",
       "      <td>20</td>\n",
       "      <td>1.000000</td>\n",
       "      <td>1.0</td>\n",
       "      <td>2</td>\n",
       "      <td>0.950000</td>\n",
       "    </tr>\n",
       "    <tr>\n",
       "      <th>122</th>\n",
       "      <td>30</td>\n",
       "      <td>1.000000</td>\n",
       "      <td>3.0</td>\n",
       "      <td>12</td>\n",
       "      <td>0.200000</td>\n",
       "    </tr>\n",
       "  </tbody>\n",
       "</table>\n",
       "<p>123 rows × 5 columns</p>\n",
       "</div>"
      ],
      "text/plain": [
       "     ProblemsAttempted  PercCorrectEventually  MedAttempts  MaxAttempts  \\\n",
       "0                   30               1.000000          1.5           22   \n",
       "1                   30               0.900000          1.0           13   \n",
       "2                   30               1.000000          2.0           29   \n",
       "3                   30               0.833333          5.0           41   \n",
       "4                   30               1.000000          2.0            9   \n",
       "..                 ...                    ...          ...          ...   \n",
       "118                 30               0.966667          1.0            9   \n",
       "119                 30               1.000000          3.0           27   \n",
       "120                 30               0.966667          1.0           27   \n",
       "121                 20               1.000000          1.0            2   \n",
       "122                 30               1.000000          3.0           12   \n",
       "\n",
       "     PercCorrectFirstTry  \n",
       "0               0.500000  \n",
       "1               0.533333  \n",
       "2               0.400000  \n",
       "3               0.133333  \n",
       "4               0.366667  \n",
       "..                   ...  \n",
       "118             0.833333  \n",
       "119             0.300000  \n",
       "120             0.600000  \n",
       "121             0.950000  \n",
       "122             0.200000  \n",
       "\n",
       "[123 rows x 5 columns]"
      ]
     },
     "execution_count": 54,
     "metadata": {},
     "output_type": "execute_result"
    }
   ],
   "source": [
    "test_ps2 = ProgSnap2Dataset(os.path.join(F19_TEST_PATH, 'Data'))\n",
    "early_test = pd.read_csv(os.path.join(F19_TEST_PATH, 'early.csv'))\n",
    "late_test = pd.read_csv(os.path.join(F19_TEST_PATH, 'late.csv'))\n",
    "\n",
    "# The Subject.csv link table is just the SubjectIDs to be predicted\n",
    "X_test_base = test_ps2.load_link_table('Subject')\n",
    "X_test_unscaled = X_test_base.apply(lambda row: extract_instance_features(row, early_test), axis=1)\n",
    "X_test_unscaled"
   ]
  },
  {
   "cell_type": "code",
   "execution_count": 55,
   "metadata": {},
   "outputs": [],
   "source": [
    "X_test = scaler.transform(X_test_unscaled)"
   ]
  },
  {
   "cell_type": "code",
   "execution_count": 56,
   "metadata": {
    "scrolled": true
   },
   "outputs": [
    {
     "data": {
      "text/plain": [
       "(123, 5)"
      ]
     },
     "execution_count": 56,
     "metadata": {},
     "output_type": "execute_result"
    }
   ],
   "source": [
    "X_test.shape"
   ]
  },
  {
   "cell_type": "markdown",
   "metadata": {},
   "source": [
    "When writing output to be judged, make _sure_ to **output grades (0-100)**, so we can calculate MSE."
   ]
  },
  {
   "cell_type": "code",
   "execution_count": 57,
   "metadata": {},
   "outputs": [],
   "source": [
    "model = LassoCV()\n",
    "model.fit(X_train, y_train)\n",
    "predictions = model.predict(X_test)"
   ]
  },
  {
   "cell_type": "code",
   "execution_count": 58,
   "metadata": {},
   "outputs": [
    {
     "data": {
      "text/plain": [
       "array([0.66250271, 0.63391388, 0.68860811, 0.71332053, 0.69819169,\n",
       "       0.7120682 , 0.72109458, 0.598063  , 0.69290106, 0.67180768,\n",
       "       0.75195526, 0.70264653, 0.74221463, 0.74311649, 0.74511187,\n",
       "       0.72137318, 0.73569019, 0.73954264, 0.75469544, 0.56931228,\n",
       "       0.69944401, 0.64032234, 0.64598087, 0.73104949, 0.69097483,\n",
       "       0.65556445, 0.72165178, 0.73733782, 0.67848005, 0.66926139,\n",
       "       0.66250271, 0.66996856, 0.69554637, 0.70638227, 0.69819169,\n",
       "       0.67779345, 0.68721512, 0.73123535, 0.74511187, 0.52876796,\n",
       "       0.63361132, 0.73854495, 0.63894715, 0.74759712, 0.68860811,\n",
       "       0.5597287 , 0.74190936, 0.6966368 , 0.70600046, 0.58847943,\n",
       "       0.72638522, 0.69262246, 0.62838984, 0.6586755 , 0.60764658,\n",
       "       0.71916836, 0.71471352, 0.69334155, 0.7464809 , 0.72544366,\n",
       "       0.7464809 , 0.6220486 , 0.73012096, 0.697194  , 0.58847943,\n",
       "       0.73817361, 0.7242971 , 0.76235279, 0.67538153, 0.73982124,\n",
       "       0.71900646, 0.70649897, 0.70529184, 0.68067216, 0.73123535,\n",
       "       0.73789501, 0.598063  , 0.73817361, 0.6363973 , 0.6856842 ,\n",
       "       0.70662694, 0.75898839, 0.67986718, 0.73552829, 0.71443492,\n",
       "       0.68832952, 0.72109458, 0.75469544, 0.7242971 , 0.76063601,\n",
       "       0.53097798, 0.73304488, 0.69304285, 0.73095676, 0.71735884,\n",
       "       0.68536359, 0.62188652, 0.6650126 , 0.60764658, 0.71371583,\n",
       "       0.66944097, 0.71833256, 0.72896137, 0.5597287 , 0.74840712,\n",
       "       0.68489988, 0.7120682 , 0.72875193, 0.6519681 , 0.73721759,\n",
       "       0.71011802, 0.7232994 , 0.64892602, 0.73552829, 0.66354863,\n",
       "       0.68860811, 0.73524273, 0.73555187, 0.56209542, 0.7120682 ,\n",
       "       0.62918044, 0.55000971, 0.74081893])"
      ]
     },
     "execution_count": 58,
     "metadata": {},
     "output_type": "execute_result"
    }
   ],
   "source": [
    "predictions"
   ]
  },
  {
   "cell_type": "code",
   "execution_count": 59,
   "metadata": {
    "scrolled": true
   },
   "outputs": [
    {
     "data": {
      "text/html": [
       "<div>\n",
       "<style scoped>\n",
       "    .dataframe tbody tr th:only-of-type {\n",
       "        vertical-align: middle;\n",
       "    }\n",
       "\n",
       "    .dataframe tbody tr th {\n",
       "        vertical-align: top;\n",
       "    }\n",
       "\n",
       "    .dataframe thead th {\n",
       "        text-align: right;\n",
       "    }\n",
       "</style>\n",
       "<table border=\"1\" class=\"dataframe\">\n",
       "  <thead>\n",
       "    <tr style=\"text-align: right;\">\n",
       "      <th></th>\n",
       "      <th>SubjectID</th>\n",
       "      <th>X-Grade</th>\n",
       "    </tr>\n",
       "  </thead>\n",
       "  <tbody>\n",
       "    <tr>\n",
       "      <th>0</th>\n",
       "      <td>fa57bd66cb6354a6d8af1e7b47b28589e586bf1303a908...</td>\n",
       "      <td>66.250271</td>\n",
       "    </tr>\n",
       "    <tr>\n",
       "      <th>1</th>\n",
       "      <td>ec1a874203c55517f71dfe34ba86744fb41138693a6583...</td>\n",
       "      <td>63.391388</td>\n",
       "    </tr>\n",
       "    <tr>\n",
       "      <th>2</th>\n",
       "      <td>78b97b24e7b9929a2394388b957622713a424929419979...</td>\n",
       "      <td>68.860811</td>\n",
       "    </tr>\n",
       "    <tr>\n",
       "      <th>3</th>\n",
       "      <td>a424f1f01cfab62373257c0cb81da9502e4d88af9bb5f6...</td>\n",
       "      <td>71.332053</td>\n",
       "    </tr>\n",
       "    <tr>\n",
       "      <th>4</th>\n",
       "      <td>2845b5edd3c2b977894675d6c83996f92f5ac3cc4f0a61...</td>\n",
       "      <td>69.819169</td>\n",
       "    </tr>\n",
       "    <tr>\n",
       "      <th>...</th>\n",
       "      <td>...</td>\n",
       "      <td>...</td>\n",
       "    </tr>\n",
       "    <tr>\n",
       "      <th>118</th>\n",
       "      <td>783d2e787e0734118d21fb09957c03c8ccc292d3cd70fb...</td>\n",
       "      <td>56.209542</td>\n",
       "    </tr>\n",
       "    <tr>\n",
       "      <th>119</th>\n",
       "      <td>4d1ccd3b1393438168aeac88ee6d753d95c33c77fcc46a...</td>\n",
       "      <td>71.206820</td>\n",
       "    </tr>\n",
       "    <tr>\n",
       "      <th>120</th>\n",
       "      <td>79a7e9a5c619f2779d2e17ca557372d9f837457160fcce...</td>\n",
       "      <td>62.918044</td>\n",
       "    </tr>\n",
       "    <tr>\n",
       "      <th>121</th>\n",
       "      <td>c3b000875e19cdb87af3a1f4f1201b93b27c421f93754d...</td>\n",
       "      <td>55.000971</td>\n",
       "    </tr>\n",
       "    <tr>\n",
       "      <th>122</th>\n",
       "      <td>98d77a2b714b28f705c31ae807ec9dc0e2e5415b10f7bd...</td>\n",
       "      <td>74.081893</td>\n",
       "    </tr>\n",
       "  </tbody>\n",
       "</table>\n",
       "<p>123 rows × 2 columns</p>\n",
       "</div>"
      ],
      "text/plain": [
       "                                             SubjectID    X-Grade\n",
       "0    fa57bd66cb6354a6d8af1e7b47b28589e586bf1303a908...  66.250271\n",
       "1    ec1a874203c55517f71dfe34ba86744fb41138693a6583...  63.391388\n",
       "2    78b97b24e7b9929a2394388b957622713a424929419979...  68.860811\n",
       "3    a424f1f01cfab62373257c0cb81da9502e4d88af9bb5f6...  71.332053\n",
       "4    2845b5edd3c2b977894675d6c83996f92f5ac3cc4f0a61...  69.819169\n",
       "..                                                 ...        ...\n",
       "118  783d2e787e0734118d21fb09957c03c8ccc292d3cd70fb...  56.209542\n",
       "119  4d1ccd3b1393438168aeac88ee6d753d95c33c77fcc46a...  71.206820\n",
       "120  79a7e9a5c619f2779d2e17ca557372d9f837457160fcce...  62.918044\n",
       "121  c3b000875e19cdb87af3a1f4f1201b93b27c421f93754d...  55.000971\n",
       "122  98d77a2b714b28f705c31ae807ec9dc0e2e5415b10f7bd...  74.081893\n",
       "\n",
       "[123 rows x 2 columns]"
      ]
     },
     "execution_count": 59,
     "metadata": {},
     "output_type": "execute_result"
    }
   ],
   "source": [
    "predictions_df = X_test_base.copy()\n",
    "if semester == 'S19':\n",
    "    # Multiply by 100 because train/test are different\n",
    "    predictions_df['X-Grade'] = predictions * 100\n",
    "else:\n",
    "    predictions_df['X-Grade'] = predictions\n",
    "predictions_df"
   ]
  },
  {
   "cell_type": "code",
   "execution_count": 60,
   "metadata": {},
   "outputs": [],
   "source": [
    "# We don't have the test labels - you have to submit to evaluate it"
   ]
  },
  {
   "cell_type": "code",
   "execution_count": 61,
   "metadata": {},
   "outputs": [],
   "source": [
    "# We use res/predictions.csv, since that's where the scoring rogram expects it\n",
    "# but you can change this directory\n",
    "path = os.path.join('data', 'Prediction', 'Phase1' if semester == 'S19' else 'Phase2', 'basic_LR_task2', 'res')\n",
    "os.makedirs(path, exist_ok=True)\n",
    "predictions_df.to_csv(os.path.join(path, 'predictions.csv'), index=False)"
   ]
  }
 ],
 "metadata": {
  "kernelspec": {
   "display_name": "Python 3",
   "language": "python",
   "name": "python3"
  },
  "language_info": {
   "codemirror_mode": {
    "name": "ipython",
    "version": 3
   },
   "file_extension": ".py",
   "mimetype": "text/x-python",
   "name": "python",
   "nbconvert_exporter": "python",
   "pygments_lexer": "ipython3",
   "version": "3.7.6"
  }
 },
 "nbformat": 4,
 "nbformat_minor": 4
}
