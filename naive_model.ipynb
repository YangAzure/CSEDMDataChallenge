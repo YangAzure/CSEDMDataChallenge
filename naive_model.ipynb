{
 "cells": [
  {
   "cell_type": "code",
   "execution_count": 1,
   "metadata": {},
   "outputs": [],
   "source": [
    "import pandas as pd\n",
    "import numpy as np\n",
    "from ProgSnap2 import ProgSnap2Dataset\n",
    "from ProgSnap2 import PS2\n",
    "import matplotlib.pyplot as plt\n",
    "from sklearn.preprocessing import OneHotEncoder\n",
    "import numpy as np\n",
    "import os\n",
    "from os import path"
   ]
  },
  {
   "cell_type": "code",
   "execution_count": 2,
   "metadata": {},
   "outputs": [],
   "source": [
    "semester = 'S19'\n",
    "BASE_PATH = os.path.join('data', 'Release', semester)\n",
    "TRAIN_PATH = os.path.join(BASE_PATH, 'Train')\n",
    "TEST_PATH = os.path.join(BASE_PATH, 'Test')"
   ]
  },
  {
   "cell_type": "code",
   "execution_count": 3,
   "metadata": {},
   "outputs": [],
   "source": [
    "train_ps2 = ProgSnap2Dataset(os.path.join(TRAIN_PATH, 'Data')) "
   ]
  },
  {
   "cell_type": "code",
   "execution_count": 4,
   "metadata": {},
   "outputs": [
    {
     "data": {
      "text/html": [
       "<div>\n",
       "<style scoped>\n",
       "    .dataframe tbody tr th:only-of-type {\n",
       "        vertical-align: middle;\n",
       "    }\n",
       "\n",
       "    .dataframe tbody tr th {\n",
       "        vertical-align: top;\n",
       "    }\n",
       "\n",
       "    .dataframe thead th {\n",
       "        text-align: right;\n",
       "    }\n",
       "</style>\n",
       "<table border=\"1\" class=\"dataframe\">\n",
       "  <thead>\n",
       "    <tr style=\"text-align: right;\">\n",
       "      <th></th>\n",
       "      <th>SubjectID</th>\n",
       "      <th>AssignmentID</th>\n",
       "      <th>ProblemID</th>\n",
       "      <th>Attempts</th>\n",
       "      <th>CorrectEventually</th>\n",
       "      <th>Label</th>\n",
       "    </tr>\n",
       "  </thead>\n",
       "  <tbody>\n",
       "    <tr>\n",
       "      <th>0</th>\n",
       "      <td>036ad3e516c5bf3a4b3be35b137bcbb8</td>\n",
       "      <td>439.0</td>\n",
       "      <td>1</td>\n",
       "      <td>8</td>\n",
       "      <td>True</td>\n",
       "      <td>False</td>\n",
       "    </tr>\n",
       "    <tr>\n",
       "      <th>1</th>\n",
       "      <td>036ad3e516c5bf3a4b3be35b137bcbb8</td>\n",
       "      <td>439.0</td>\n",
       "      <td>3</td>\n",
       "      <td>6</td>\n",
       "      <td>True</td>\n",
       "      <td>False</td>\n",
       "    </tr>\n",
       "    <tr>\n",
       "      <th>2</th>\n",
       "      <td>036ad3e516c5bf3a4b3be35b137bcbb8</td>\n",
       "      <td>439.0</td>\n",
       "      <td>5</td>\n",
       "      <td>7</td>\n",
       "      <td>True</td>\n",
       "      <td>False</td>\n",
       "    </tr>\n",
       "    <tr>\n",
       "      <th>3</th>\n",
       "      <td>036ad3e516c5bf3a4b3be35b137bcbb8</td>\n",
       "      <td>439.0</td>\n",
       "      <td>12</td>\n",
       "      <td>2</td>\n",
       "      <td>True</td>\n",
       "      <td>True</td>\n",
       "    </tr>\n",
       "    <tr>\n",
       "      <th>4</th>\n",
       "      <td>036ad3e516c5bf3a4b3be35b137bcbb8</td>\n",
       "      <td>439.0</td>\n",
       "      <td>13</td>\n",
       "      <td>17</td>\n",
       "      <td>True</td>\n",
       "      <td>False</td>\n",
       "    </tr>\n",
       "  </tbody>\n",
       "</table>\n",
       "</div>"
      ],
      "text/plain": [
       "                          SubjectID  AssignmentID  ProblemID  Attempts  \\\n",
       "0  036ad3e516c5bf3a4b3be35b137bcbb8         439.0          1         8   \n",
       "1  036ad3e516c5bf3a4b3be35b137bcbb8         439.0          3         6   \n",
       "2  036ad3e516c5bf3a4b3be35b137bcbb8         439.0          5         7   \n",
       "3  036ad3e516c5bf3a4b3be35b137bcbb8         439.0         12         2   \n",
       "4  036ad3e516c5bf3a4b3be35b137bcbb8         439.0         13        17   \n",
       "\n",
       "   CorrectEventually  Label  \n",
       "0               True  False  \n",
       "1               True  False  \n",
       "2               True  False  \n",
       "3               True   True  \n",
       "4               True  False  "
      ]
     },
     "execution_count": 4,
     "metadata": {},
     "output_type": "execute_result"
    }
   ],
   "source": [
    "# The early dataset will help us to feature extraction,\n",
    "# but we're not actually predicting anything here\n",
    "# Note: we could still use this for model training if desired.\n",
    "early_train = pd.read_csv(os.path.join(TRAIN_PATH, 'early.csv'))\n",
    "early_train.head()"
   ]
  },
  {
   "cell_type": "code",
   "execution_count": 5,
   "metadata": {},
   "outputs": [
    {
     "data": {
      "text/html": [
       "<div>\n",
       "<style scoped>\n",
       "    .dataframe tbody tr th:only-of-type {\n",
       "        vertical-align: middle;\n",
       "    }\n",
       "\n",
       "    .dataframe tbody tr th {\n",
       "        vertical-align: top;\n",
       "    }\n",
       "\n",
       "    .dataframe thead th {\n",
       "        text-align: right;\n",
       "    }\n",
       "</style>\n",
       "<table border=\"1\" class=\"dataframe\">\n",
       "  <thead>\n",
       "    <tr style=\"text-align: right;\">\n",
       "      <th></th>\n",
       "      <th>SubjectID</th>\n",
       "      <th>AssignmentID</th>\n",
       "      <th>ProblemID</th>\n",
       "      <th>Label</th>\n",
       "    </tr>\n",
       "  </thead>\n",
       "  <tbody>\n",
       "    <tr>\n",
       "      <th>0</th>\n",
       "      <td>036ad3e516c5bf3a4b3be35b137bcbb8</td>\n",
       "      <td>494.0</td>\n",
       "      <td>41</td>\n",
       "      <td>True</td>\n",
       "    </tr>\n",
       "    <tr>\n",
       "      <th>1</th>\n",
       "      <td>036ad3e516c5bf3a4b3be35b137bcbb8</td>\n",
       "      <td>494.0</td>\n",
       "      <td>43</td>\n",
       "      <td>False</td>\n",
       "    </tr>\n",
       "    <tr>\n",
       "      <th>2</th>\n",
       "      <td>036ad3e516c5bf3a4b3be35b137bcbb8</td>\n",
       "      <td>494.0</td>\n",
       "      <td>44</td>\n",
       "      <td>False</td>\n",
       "    </tr>\n",
       "    <tr>\n",
       "      <th>3</th>\n",
       "      <td>036ad3e516c5bf3a4b3be35b137bcbb8</td>\n",
       "      <td>494.0</td>\n",
       "      <td>46</td>\n",
       "      <td>False</td>\n",
       "    </tr>\n",
       "    <tr>\n",
       "      <th>4</th>\n",
       "      <td>036ad3e516c5bf3a4b3be35b137bcbb8</td>\n",
       "      <td>494.0</td>\n",
       "      <td>49</td>\n",
       "      <td>False</td>\n",
       "    </tr>\n",
       "  </tbody>\n",
       "</table>\n",
       "</div>"
      ],
      "text/plain": [
       "                          SubjectID  AssignmentID  ProblemID  Label\n",
       "0  036ad3e516c5bf3a4b3be35b137bcbb8         494.0         41   True\n",
       "1  036ad3e516c5bf3a4b3be35b137bcbb8         494.0         43  False\n",
       "2  036ad3e516c5bf3a4b3be35b137bcbb8         494.0         44  False\n",
       "3  036ad3e516c5bf3a4b3be35b137bcbb8         494.0         46  False\n",
       "4  036ad3e516c5bf3a4b3be35b137bcbb8         494.0         49  False"
      ]
     },
     "execution_count": 5,
     "metadata": {},
     "output_type": "execute_result"
    }
   ],
   "source": [
    "# The late dataset contains the problems that we're actually predicting for.\n",
    "# The training portion of it includes labels.\n",
    "late_train = pd.read_csv(os.path.join(TRAIN_PATH, 'late.csv'))\n",
    "late_train.head()"
   ]
  },
  {
   "cell_type": "code",
   "execution_count": 6,
   "metadata": {},
   "outputs": [],
   "source": [
    "X_train_base = late_train.copy().drop('Label', axis=1)\n",
    "y_train = late_train['Label'].values"
   ]
  },
  {
   "cell_type": "code",
   "execution_count": 7,
   "metadata": {},
   "outputs": [],
   "source": [
    "problem_encoder = OneHotEncoder().fit(X_train_base[PS2.ProblemID].values.reshape(-1, 1))"
   ]
  },
  {
   "cell_type": "code",
   "execution_count": 8,
   "metadata": {},
   "outputs": [
    {
     "data": {
      "text/plain": [
       "array([[1., 0., 0., ..., 0., 0., 0.],\n",
       "       [0., 1., 0., ..., 0., 0., 0.],\n",
       "       [0., 0., 1., ..., 0., 0., 0.],\n",
       "       ...,\n",
       "       [0., 0., 0., ..., 0., 0., 0.],\n",
       "       [0., 0., 0., ..., 0., 1., 0.],\n",
       "       [0., 0., 0., ..., 0., 0., 1.]])"
      ]
     },
     "execution_count": 8,
     "metadata": {},
     "output_type": "execute_result"
    }
   ],
   "source": [
    "problem_encoder.transform(X_train_base[PS2.ProblemID].values.reshape(-1, 1)).toarray()"
   ]
  },
  {
   "cell_type": "code",
   "execution_count": 9,
   "metadata": {},
   "outputs": [],
   "source": [
    "def extract_instance_features(instance, early_df):\n",
    "    instance = instance.copy()\n",
    "    subject_id = instance[PS2.SubjectID]\n",
    "    early_problems = early_df[early_df[PS2.SubjectID] == subject_id]\n",
    "    # Extract very naive features about the student\n",
    "    # (without respect to the problem bring predicted)\n",
    "    # Number of early problems attempted\n",
    "    instance['ProblemsAttempted'] = early_problems.shape[0]\n",
    "    # Percentage of early problems gotten correct eventually\n",
    "    instance['PercCorrectEventually'] = np.mean(early_problems['CorrectEventually'])\n",
    "    # Median attempts made on early problems\n",
    "    instance['MedAttempts'] = np.median(early_problems['Attempts'])\n",
    "    # Max attempts made on early problems\n",
    "    instance['MaxAttempts'] = np.max(early_problems['Attempts'])\n",
    "    # Percentage of problems gotten correct on the first try\n",
    "    instance['PercCorrectFirstTry'] = np.mean(early_problems['Attempts'] == 1)\n",
    "    instance = instance.drop('SubjectID')\n",
    "    return instance"
   ]
  },
  {
   "cell_type": "code",
   "execution_count": 10,
   "metadata": {
    "scrolled": true
   },
   "outputs": [
    {
     "data": {
      "text/plain": [
       "AssignmentID                  494\n",
       "ProblemID                      41\n",
       "ProblemsAttempted              30\n",
       "PercCorrectEventually           1\n",
       "MedAttempts                   7.5\n",
       "MaxAttempts                    30\n",
       "PercCorrectFirstTry      0.133333\n",
       "Name: 0, dtype: object"
      ]
     },
     "execution_count": 10,
     "metadata": {},
     "output_type": "execute_result"
    }
   ],
   "source": [
    "extract_instance_features(X_train_base.iloc[0], early_train)"
   ]
  },
  {
   "cell_type": "code",
   "execution_count": 11,
   "metadata": {},
   "outputs": [],
   "source": [
    "def extract_features(X, early_df, scaler, is_train):\n",
    "    # First extract performance features for each row\n",
    "    features = X.apply(lambda instance: extract_instance_features(instance, early_df), axis=1)\n",
    "    # Then one-hot encode the problem_id and append it\n",
    "    problem_ids = problem_encoder.transform(features[PS2.ProblemID].values.reshape(-1, 1)).toarray()\n",
    "    # Then get rid of nominal features\n",
    "    features.drop([PS2.AssignmentID, PS2.ProblemID], axis=1, inplace=True)\n",
    "    # Then scale the continuous features, fitting the scaler if this is training\n",
    "    if is_train:\n",
    "        scaler.fit(features)\n",
    "    features = scaler.transform(features)\n",
    "    \n",
    "    # Return continuous and one-hot features together\n",
    "    return np.concatenate([features, problem_ids], axis=1)"
   ]
  },
  {
   "cell_type": "code",
   "execution_count": 12,
   "metadata": {
    "scrolled": false
   },
   "outputs": [],
   "source": [
    "from sklearn.preprocessing import StandardScaler\n",
    "scaler = StandardScaler()\n",
    "X_train = extract_features(X_train_base, early_train, scaler, True)"
   ]
  },
  {
   "cell_type": "code",
   "execution_count": 13,
   "metadata": {
    "scrolled": true
   },
   "outputs": [
    {
     "name": "stdout",
     "output_type": "stream",
     "text": [
      "(4309, 25)\n"
     ]
    },
    {
     "data": {
      "text/plain": [
       "array([[ 0.52055099,  0.55498427,  2.37242355,  0.62909162, -1.09699439,\n",
       "         1.        ,  0.        ,  0.        ,  0.        ,  0.        ,\n",
       "         0.        ,  0.        ,  0.        ,  0.        ,  0.        ,\n",
       "         0.        ,  0.        ,  0.        ,  0.        ,  0.        ,\n",
       "         0.        ,  0.        ,  0.        ,  0.        ,  0.        ],\n",
       "       [ 0.52055099,  0.55498427,  2.37242355,  0.62909162, -1.09699439,\n",
       "         0.        ,  1.        ,  0.        ,  0.        ,  0.        ,\n",
       "         0.        ,  0.        ,  0.        ,  0.        ,  0.        ,\n",
       "         0.        ,  0.        ,  0.        ,  0.        ,  0.        ,\n",
       "         0.        ,  0.        ,  0.        ,  0.        ,  0.        ]])"
      ]
     },
     "execution_count": 13,
     "metadata": {},
     "output_type": "execute_result"
    }
   ],
   "source": [
    "print(X_train.shape)\n",
    "X_train[:2,]"
   ]
  },
  {
   "cell_type": "markdown",
   "metadata": {},
   "source": [
    "## Evaluate the Training Performance of the Model"
   ]
  },
  {
   "cell_type": "code",
   "execution_count": 14,
   "metadata": {
    "scrolled": true
   },
   "outputs": [],
   "source": [
    "from sklearn.linear_model import LogisticRegressionCV\n",
    "\n",
    "model = LogisticRegressionCV()\n",
    "model.fit(X_train, y_train)\n",
    "train_predictions = model.predict(X_train)"
   ]
  },
  {
   "cell_type": "code",
   "execution_count": 15,
   "metadata": {
    "scrolled": true
   },
   "outputs": [
    {
     "name": "stdout",
     "output_type": "stream",
     "text": [
      "              precision    recall  f1-score   support\n",
      "\n",
      "       False       0.17      0.60      0.27       306\n",
      "        True       0.96      0.78      0.86      4003\n",
      "\n",
      "    accuracy                           0.76      4309\n",
      "   macro avg       0.57      0.69      0.56      4309\n",
      "weighted avg       0.91      0.76      0.82      4309\n",
      "\n",
      "AUC: 0.687603170171391\n",
      "Macro F1: 0.5623869292657603\n"
     ]
    }
   ],
   "source": [
    "from sklearn.metrics import classification_report\n",
    "from sklearn.metrics import roc_auc_score\n",
    "from sklearn.metrics import f1_score\n",
    "\n",
    "print(classification_report(train_predictions, y_train))\n",
    "print('AUC: ' + str(roc_auc_score(train_predictions, y_train)))\n",
    "print('Macro F1: ' + str(f1_score(train_predictions, y_train, average='macro')))"
   ]
  },
  {
   "cell_type": "code",
   "execution_count": 16,
   "metadata": {
    "scrolled": false
   },
   "outputs": [
    {
     "data": {
      "text/plain": [
       "<sklearn.metrics._plot.roc_curve.RocCurveDisplay at 0x1410646bc48>"
      ]
     },
     "execution_count": 16,
     "metadata": {},
     "output_type": "execute_result"
    },
    {
     "data": {
      "image/png": "[encoded data removed]",
      "text/plain": [
       "<Figure size 432x288 with 1 Axes>"
      ]
     },
     "metadata": {
      "needs_background": "light"
     },
     "output_type": "display_data"
    }
   ],
   "source": [
    "from sklearn.metrics import plot_roc_curve\n",
    "\n",
    "plot_roc_curve(model, X_train, y_train)"
   ]
  },
  {
   "cell_type": "markdown",
   "metadata": {},
   "source": [
    "## Evaluate the CV Performance of the Model"
   ]
  },
  {
   "cell_type": "code",
   "execution_count": 17,
   "metadata": {
    "scrolled": false
   },
   "outputs": [
    {
     "name": "stdout",
     "output_type": "stream",
     "text": [
      "Accuracy: 0.7628263098257163\n",
      "AUC: 0.749291930067467\n",
      "Macro F1: 0.5701181525317887\n"
     ]
    }
   ],
   "source": [
    "from sklearn.model_selection import cross_validate\n",
    "\n",
    "model = LogisticRegressionCV()\n",
    "cv_results = cross_validate(model, X_train, y_train, cv=10, scoring=['accuracy', 'f1_macro', 'roc_auc'])\n",
    "print(f'Accuracy: {np.mean(cv_results[\"test_accuracy\"])}')\n",
    "print(f'AUC: {np.mean(cv_results[\"test_roc_auc\"])}')\n",
    "print(f'Macro F1: {np.mean(cv_results[\"test_f1_macro\"])}')"
   ]
  },
  {
   "cell_type": "markdown",
   "metadata": {},
   "source": [
    "## Predict on the test data (S19)"
   ]
  },
  {
   "cell_type": "code",
   "execution_count": 33,
   "metadata": {
    "scrolled": true
   },
   "outputs": [],
   "source": [
    "early_test = pd.read_csv(os.path.join(TEST_PATH, 'early.csv'))\n",
    "late_test = pd.read_csv(os.path.join(TEST_PATH, 'late.csv'))\n",
    "X_test = extract_features(late_test, early_test, scaler, False)"
   ]
  },
  {
   "cell_type": "code",
   "execution_count": 34,
   "metadata": {},
   "outputs": [
    {
     "data": {
      "text/plain": [
       "(1454, 25)"
      ]
     },
     "execution_count": 34,
     "metadata": {},
     "output_type": "execute_result"
    }
   ],
   "source": [
    "X_test.shape"
   ]
  },
  {
   "cell_type": "code",
   "execution_count": 35,
   "metadata": {},
   "outputs": [],
   "source": [
    "model = LogisticRegressionCV()\n",
    "model.fit(X_train, y_train)\n",
    "predictions = model.predict(X_test)"
   ]
  },
  {
   "cell_type": "code",
   "execution_count": 36,
   "metadata": {},
   "outputs": [
    {
     "data": {
      "text/plain": [
       "array([ True,  True,  True, ...,  True,  True,  True])"
      ]
     },
     "execution_count": 36,
     "metadata": {},
     "output_type": "execute_result"
    }
   ],
   "source": [
    "predictions"
   ]
  },
  {
   "cell_type": "code",
   "execution_count": 37,
   "metadata": {
    "scrolled": true
   },
   "outputs": [
    {
     "data": {
      "text/html": [
       "<div>\n",
       "<style scoped>\n",
       "    .dataframe tbody tr th:only-of-type {\n",
       "        vertical-align: middle;\n",
       "    }\n",
       "\n",
       "    .dataframe tbody tr th {\n",
       "        vertical-align: top;\n",
       "    }\n",
       "\n",
       "    .dataframe thead th {\n",
       "        text-align: right;\n",
       "    }\n",
       "</style>\n",
       "<table border=\"1\" class=\"dataframe\">\n",
       "  <thead>\n",
       "    <tr style=\"text-align: right;\">\n",
       "      <th></th>\n",
       "      <th>SubjectID</th>\n",
       "      <th>AssignmentID</th>\n",
       "      <th>ProblemID</th>\n",
       "      <th>Label</th>\n",
       "    </tr>\n",
       "  </thead>\n",
       "  <tbody>\n",
       "    <tr>\n",
       "      <th>0</th>\n",
       "      <td>036ad3e516c5bf3a4b3be35b137bcbb8</td>\n",
       "      <td>494.0</td>\n",
       "      <td>41</td>\n",
       "      <td>True</td>\n",
       "    </tr>\n",
       "    <tr>\n",
       "      <th>1</th>\n",
       "      <td>036ad3e516c5bf3a4b3be35b137bcbb8</td>\n",
       "      <td>494.0</td>\n",
       "      <td>43</td>\n",
       "      <td>True</td>\n",
       "    </tr>\n",
       "    <tr>\n",
       "      <th>2</th>\n",
       "      <td>036ad3e516c5bf3a4b3be35b137bcbb8</td>\n",
       "      <td>494.0</td>\n",
       "      <td>44</td>\n",
       "      <td>True</td>\n",
       "    </tr>\n",
       "    <tr>\n",
       "      <th>3</th>\n",
       "      <td>036ad3e516c5bf3a4b3be35b137bcbb8</td>\n",
       "      <td>494.0</td>\n",
       "      <td>46</td>\n",
       "      <td>True</td>\n",
       "    </tr>\n",
       "    <tr>\n",
       "      <th>4</th>\n",
       "      <td>036ad3e516c5bf3a4b3be35b137bcbb8</td>\n",
       "      <td>494.0</td>\n",
       "      <td>49</td>\n",
       "      <td>True</td>\n",
       "    </tr>\n",
       "    <tr>\n",
       "      <th>...</th>\n",
       "      <td>...</td>\n",
       "      <td>...</td>\n",
       "      <td>...</td>\n",
       "      <td>...</td>\n",
       "    </tr>\n",
       "    <tr>\n",
       "      <th>1449</th>\n",
       "      <td>ffb72475a81de0e95b910ffad039f5c2</td>\n",
       "      <td>502.0</td>\n",
       "      <td>64</td>\n",
       "      <td>True</td>\n",
       "    </tr>\n",
       "    <tr>\n",
       "      <th>1450</th>\n",
       "      <td>ffb72475a81de0e95b910ffad039f5c2</td>\n",
       "      <td>502.0</td>\n",
       "      <td>70</td>\n",
       "      <td>True</td>\n",
       "    </tr>\n",
       "    <tr>\n",
       "      <th>1451</th>\n",
       "      <td>ffb72475a81de0e95b910ffad039f5c2</td>\n",
       "      <td>502.0</td>\n",
       "      <td>71</td>\n",
       "      <td>True</td>\n",
       "    </tr>\n",
       "    <tr>\n",
       "      <th>1452</th>\n",
       "      <td>ffb72475a81de0e95b910ffad039f5c2</td>\n",
       "      <td>502.0</td>\n",
       "      <td>112</td>\n",
       "      <td>True</td>\n",
       "    </tr>\n",
       "    <tr>\n",
       "      <th>1453</th>\n",
       "      <td>ffb72475a81de0e95b910ffad039f5c2</td>\n",
       "      <td>502.0</td>\n",
       "      <td>118</td>\n",
       "      <td>True</td>\n",
       "    </tr>\n",
       "  </tbody>\n",
       "</table>\n",
       "<p>1454 rows × 4 columns</p>\n",
       "</div>"
      ],
      "text/plain": [
       "                             SubjectID  AssignmentID  ProblemID  Label\n",
       "0     036ad3e516c5bf3a4b3be35b137bcbb8         494.0         41   True\n",
       "1     036ad3e516c5bf3a4b3be35b137bcbb8         494.0         43   True\n",
       "2     036ad3e516c5bf3a4b3be35b137bcbb8         494.0         44   True\n",
       "3     036ad3e516c5bf3a4b3be35b137bcbb8         494.0         46   True\n",
       "4     036ad3e516c5bf3a4b3be35b137bcbb8         494.0         49   True\n",
       "...                                ...           ...        ...    ...\n",
       "1449  ffb72475a81de0e95b910ffad039f5c2         502.0         64   True\n",
       "1450  ffb72475a81de0e95b910ffad039f5c2         502.0         70   True\n",
       "1451  ffb72475a81de0e95b910ffad039f5c2         502.0         71   True\n",
       "1452  ffb72475a81de0e95b910ffad039f5c2         502.0        112   True\n",
       "1453  ffb72475a81de0e95b910ffad039f5c2         502.0        118   True\n",
       "\n",
       "[1454 rows x 4 columns]"
      ]
     },
     "execution_count": 37,
     "metadata": {},
     "output_type": "execute_result"
    }
   ],
   "source": [
    "predictions_df = late_test.copy()\n",
    "predictions_df['Label'] = predictions\n",
    "predictions_df"
   ]
  },
  {
   "cell_type": "code",
   "execution_count": 38,
   "metadata": {},
   "outputs": [],
   "source": [
    "# We don't have the test labels - you have to submit to evaluate it"
   ]
  },
  {
   "cell_type": "code",
   "execution_count": 40,
   "metadata": {},
   "outputs": [],
   "source": [
    "path = os.path.join('data', 'Prediction', semester)\n",
    "os.makedirs(path, exist_ok=True)\n",
    "predictions_df.to_csv(os.path.join(path, 'basic_LR.csv'), index=False)"
   ]
  },
  {
   "cell_type": "markdown",
   "metadata": {},
   "source": [
    "## Predict on the test data for the _next_ semester (F19)\n",
    "\n",
    "Here we see if our model will still be useful next semester. Again, we don't have labels for this test dataset, so we'll have to submit to see how well we did.\n",
    "\n",
    "Later in the year, there will be _training_ data released for F19, which will be tested on a different track (not cross-semester)."
   ]
  },
  {
   "cell_type": "code",
   "execution_count": 41,
   "metadata": {},
   "outputs": [],
   "source": [
    "F19_TEST_PATH = os.path.join('data', 'Release', 'F19', 'Test')"
   ]
  },
  {
   "cell_type": "code",
   "execution_count": 42,
   "metadata": {
    "scrolled": true
   },
   "outputs": [],
   "source": [
    "early_test = pd.read_csv(os.path.join(F19_TEST_PATH, 'early.csv'))\n",
    "late_test = pd.read_csv(os.path.join(F19_TEST_PATH, 'late.csv'))\n",
    "X_test = extract_features(late_test, early_test, scaler, False)"
   ]
  },
  {
   "cell_type": "code",
   "execution_count": 43,
   "metadata": {},
   "outputs": [
    {
     "data": {
      "text/plain": [
       "(2377, 25)"
      ]
     },
     "execution_count": 43,
     "metadata": {},
     "output_type": "execute_result"
    }
   ],
   "source": [
    "X_test.shape"
   ]
  },
  {
   "cell_type": "code",
   "execution_count": 44,
   "metadata": {},
   "outputs": [],
   "source": [
    "model = LogisticRegressionCV()\n",
    "model.fit(X_train, y_train)\n",
    "predictions = model.predict(X_test)"
   ]
  },
  {
   "cell_type": "code",
   "execution_count": 45,
   "metadata": {},
   "outputs": [
    {
     "data": {
      "text/plain": [
       "array([ True,  True,  True, ...,  True,  True,  True])"
      ]
     },
     "execution_count": 45,
     "metadata": {},
     "output_type": "execute_result"
    }
   ],
   "source": [
    "predictions"
   ]
  },
  {
   "cell_type": "code",
   "execution_count": 46,
   "metadata": {
    "scrolled": true
   },
   "outputs": [
    {
     "data": {
      "text/html": [
       "<div>\n",
       "<style scoped>\n",
       "    .dataframe tbody tr th:only-of-type {\n",
       "        vertical-align: middle;\n",
       "    }\n",
       "\n",
       "    .dataframe tbody tr th {\n",
       "        vertical-align: top;\n",
       "    }\n",
       "\n",
       "    .dataframe thead th {\n",
       "        text-align: right;\n",
       "    }\n",
       "</style>\n",
       "<table border=\"1\" class=\"dataframe\">\n",
       "  <thead>\n",
       "    <tr style=\"text-align: right;\">\n",
       "      <th></th>\n",
       "      <th>SubjectID</th>\n",
       "      <th>AssignmentID</th>\n",
       "      <th>ProblemID</th>\n",
       "      <th>Label</th>\n",
       "    </tr>\n",
       "  </thead>\n",
       "  <tbody>\n",
       "    <tr>\n",
       "      <th>0</th>\n",
       "      <td>01e96e066eff2e82627dac0493737be2de9bd2f50d6d49...</td>\n",
       "      <td>494</td>\n",
       "      <td>41</td>\n",
       "      <td>True</td>\n",
       "    </tr>\n",
       "    <tr>\n",
       "      <th>1</th>\n",
       "      <td>01e96e066eff2e82627dac0493737be2de9bd2f50d6d49...</td>\n",
       "      <td>494</td>\n",
       "      <td>43</td>\n",
       "      <td>True</td>\n",
       "    </tr>\n",
       "    <tr>\n",
       "      <th>2</th>\n",
       "      <td>01e96e066eff2e82627dac0493737be2de9bd2f50d6d49...</td>\n",
       "      <td>494</td>\n",
       "      <td>44</td>\n",
       "      <td>True</td>\n",
       "    </tr>\n",
       "    <tr>\n",
       "      <th>3</th>\n",
       "      <td>01e96e066eff2e82627dac0493737be2de9bd2f50d6d49...</td>\n",
       "      <td>494</td>\n",
       "      <td>46</td>\n",
       "      <td>True</td>\n",
       "    </tr>\n",
       "    <tr>\n",
       "      <th>4</th>\n",
       "      <td>01e96e066eff2e82627dac0493737be2de9bd2f50d6d49...</td>\n",
       "      <td>494</td>\n",
       "      <td>49</td>\n",
       "      <td>True</td>\n",
       "    </tr>\n",
       "    <tr>\n",
       "      <th>...</th>\n",
       "      <td>...</td>\n",
       "      <td>...</td>\n",
       "      <td>...</td>\n",
       "      <td>...</td>\n",
       "    </tr>\n",
       "    <tr>\n",
       "      <th>2372</th>\n",
       "      <td>ff4cfd98fc176f36fa99b2bc839990d2fd13de4e59b5c4...</td>\n",
       "      <td>502</td>\n",
       "      <td>64</td>\n",
       "      <td>True</td>\n",
       "    </tr>\n",
       "    <tr>\n",
       "      <th>2373</th>\n",
       "      <td>ff4cfd98fc176f36fa99b2bc839990d2fd13de4e59b5c4...</td>\n",
       "      <td>502</td>\n",
       "      <td>70</td>\n",
       "      <td>True</td>\n",
       "    </tr>\n",
       "    <tr>\n",
       "      <th>2374</th>\n",
       "      <td>ff4cfd98fc176f36fa99b2bc839990d2fd13de4e59b5c4...</td>\n",
       "      <td>502</td>\n",
       "      <td>71</td>\n",
       "      <td>True</td>\n",
       "    </tr>\n",
       "    <tr>\n",
       "      <th>2375</th>\n",
       "      <td>ff4cfd98fc176f36fa99b2bc839990d2fd13de4e59b5c4...</td>\n",
       "      <td>502</td>\n",
       "      <td>112</td>\n",
       "      <td>True</td>\n",
       "    </tr>\n",
       "    <tr>\n",
       "      <th>2376</th>\n",
       "      <td>ff4cfd98fc176f36fa99b2bc839990d2fd13de4e59b5c4...</td>\n",
       "      <td>502</td>\n",
       "      <td>118</td>\n",
       "      <td>True</td>\n",
       "    </tr>\n",
       "  </tbody>\n",
       "</table>\n",
       "<p>2377 rows × 4 columns</p>\n",
       "</div>"
      ],
      "text/plain": [
       "                                              SubjectID  AssignmentID  \\\n",
       "0     01e96e066eff2e82627dac0493737be2de9bd2f50d6d49...           494   \n",
       "1     01e96e066eff2e82627dac0493737be2de9bd2f50d6d49...           494   \n",
       "2     01e96e066eff2e82627dac0493737be2de9bd2f50d6d49...           494   \n",
       "3     01e96e066eff2e82627dac0493737be2de9bd2f50d6d49...           494   \n",
       "4     01e96e066eff2e82627dac0493737be2de9bd2f50d6d49...           494   \n",
       "...                                                 ...           ...   \n",
       "2372  ff4cfd98fc176f36fa99b2bc839990d2fd13de4e59b5c4...           502   \n",
       "2373  ff4cfd98fc176f36fa99b2bc839990d2fd13de4e59b5c4...           502   \n",
       "2374  ff4cfd98fc176f36fa99b2bc839990d2fd13de4e59b5c4...           502   \n",
       "2375  ff4cfd98fc176f36fa99b2bc839990d2fd13de4e59b5c4...           502   \n",
       "2376  ff4cfd98fc176f36fa99b2bc839990d2fd13de4e59b5c4...           502   \n",
       "\n",
       "      ProblemID  Label  \n",
       "0            41   True  \n",
       "1            43   True  \n",
       "2            44   True  \n",
       "3            46   True  \n",
       "4            49   True  \n",
       "...         ...    ...  \n",
       "2372         64   True  \n",
       "2373         70   True  \n",
       "2374         71   True  \n",
       "2375        112   True  \n",
       "2376        118   True  \n",
       "\n",
       "[2377 rows x 4 columns]"
      ]
     },
     "execution_count": 46,
     "metadata": {},
     "output_type": "execute_result"
    }
   ],
   "source": [
    "predictions_df = late_test.copy()\n",
    "predictions_df['Label'] = predictions\n",
    "predictions_df"
   ]
  },
  {
   "cell_type": "code",
   "execution_count": 47,
   "metadata": {},
   "outputs": [],
   "source": [
    "# We don't have the test labels - you have to submit to evaluate it"
   ]
  },
  {
   "cell_type": "code",
   "execution_count": 48,
   "metadata": {},
   "outputs": [],
   "source": [
    "path = os.path.join('data', 'Prediction', 'F19')\n",
    "os.makedirs(path, exist_ok=True)\n",
    "predictions_df.to_csv(os.path.join(path, 'basic_LR.csv'), index=False)"
   ]
  }
 ],
 "metadata": {
  "kernelspec": {
   "display_name": "Python 3",
   "language": "python",
   "name": "python3"
  },
  "language_info": {
   "codemirror_mode": {
    "name": "ipython",
    "version": 3
   },
   "file_extension": ".py",
   "mimetype": "text/x-python",
   "name": "python",
   "nbconvert_exporter": "python",
   "pygments_lexer": "ipython3",
   "version": "3.7.6"
  }
 },
 "nbformat": 4,
 "nbformat_minor": 4
}
