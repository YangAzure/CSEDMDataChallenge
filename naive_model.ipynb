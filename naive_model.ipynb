{
 "cells": [
  {
   "cell_type": "code",
   "execution_count": 1,
   "metadata": {},
   "outputs": [],
   "source": [
    "import pandas as pd\n",
    "import numpy as np\n",
    "from ProgSnap2 import ProgSnap2Dataset\n",
    "from ProgSnap2 import PS2\n",
    "import matplotlib.pyplot as plt\n",
    "from sklearn.preprocessing import OneHotEncoder\n",
    "import numpy as np\n",
    "import os\n",
    "from os import path"
   ]
  },
  {
   "cell_type": "code",
   "execution_count": 2,
   "metadata": {},
   "outputs": [],
   "source": [
    "semester = 'S19'\n",
    "BASE_PATH = os.path.join('data', 'Release', semester)\n",
    "TRAIN_PATH = os.path.join(BASE_PATH, 'Train')\n",
    "TEST_PATH = os.path.join(BASE_PATH, 'Test')"
   ]
  },
  {
   "cell_type": "code",
   "execution_count": 3,
   "metadata": {},
   "outputs": [],
   "source": [
    "train_ps2 = ProgSnap2Dataset(os.path.join(TRAIN_PATH, 'Data')) "
   ]
  },
  {
   "cell_type": "code",
   "execution_count": 4,
   "metadata": {},
   "outputs": [
    {
     "data": {
      "text/html": [
       "<div>\n",
       "<style scoped>\n",
       "    .dataframe tbody tr th:only-of-type {\n",
       "        vertical-align: middle;\n",
       "    }\n",
       "\n",
       "    .dataframe tbody tr th {\n",
       "        vertical-align: top;\n",
       "    }\n",
       "\n",
       "    .dataframe thead th {\n",
       "        text-align: right;\n",
       "    }\n",
       "</style>\n",
       "<table border=\"1\" class=\"dataframe\">\n",
       "  <thead>\n",
       "    <tr style=\"text-align: right;\">\n",
       "      <th></th>\n",
       "      <th>SubjectID</th>\n",
       "      <th>AssignmentID</th>\n",
       "      <th>ProblemID</th>\n",
       "      <th>Attempts</th>\n",
       "      <th>CorrectEventually</th>\n",
       "      <th>Label</th>\n",
       "    </tr>\n",
       "  </thead>\n",
       "  <tbody>\n",
       "    <tr>\n",
       "      <th>0</th>\n",
       "      <td>04c32d4d95425f73b3a1d6502aed4d48</td>\n",
       "      <td>439.0</td>\n",
       "      <td>1</td>\n",
       "      <td>1</td>\n",
       "      <td>True</td>\n",
       "      <td>True</td>\n",
       "    </tr>\n",
       "    <tr>\n",
       "      <th>1</th>\n",
       "      <td>04c32d4d95425f73b3a1d6502aed4d48</td>\n",
       "      <td>439.0</td>\n",
       "      <td>3</td>\n",
       "      <td>2</td>\n",
       "      <td>True</td>\n",
       "      <td>True</td>\n",
       "    </tr>\n",
       "    <tr>\n",
       "      <th>2</th>\n",
       "      <td>04c32d4d95425f73b3a1d6502aed4d48</td>\n",
       "      <td>439.0</td>\n",
       "      <td>5</td>\n",
       "      <td>3</td>\n",
       "      <td>True</td>\n",
       "      <td>True</td>\n",
       "    </tr>\n",
       "    <tr>\n",
       "      <th>3</th>\n",
       "      <td>04c32d4d95425f73b3a1d6502aed4d48</td>\n",
       "      <td>439.0</td>\n",
       "      <td>12</td>\n",
       "      <td>1</td>\n",
       "      <td>True</td>\n",
       "      <td>True</td>\n",
       "    </tr>\n",
       "    <tr>\n",
       "      <th>4</th>\n",
       "      <td>04c32d4d95425f73b3a1d6502aed4d48</td>\n",
       "      <td>439.0</td>\n",
       "      <td>13</td>\n",
       "      <td>2</td>\n",
       "      <td>True</td>\n",
       "      <td>True</td>\n",
       "    </tr>\n",
       "  </tbody>\n",
       "</table>\n",
       "</div>"
      ],
      "text/plain": [
       "                          SubjectID  AssignmentID  ProblemID  Attempts  \\\n",
       "0  04c32d4d95425f73b3a1d6502aed4d48         439.0          1         1   \n",
       "1  04c32d4d95425f73b3a1d6502aed4d48         439.0          3         2   \n",
       "2  04c32d4d95425f73b3a1d6502aed4d48         439.0          5         3   \n",
       "3  04c32d4d95425f73b3a1d6502aed4d48         439.0         12         1   \n",
       "4  04c32d4d95425f73b3a1d6502aed4d48         439.0         13         2   \n",
       "\n",
       "   CorrectEventually  Label  \n",
       "0               True   True  \n",
       "1               True   True  \n",
       "2               True   True  \n",
       "3               True   True  \n",
       "4               True   True  "
      ]
     },
     "execution_count": 4,
     "metadata": {},
     "output_type": "execute_result"
    }
   ],
   "source": [
    "# The early dataset will help us to feature extraction,\n",
    "# but we're not actually predicting anything here\n",
    "# Note: we could still use this for model training if desired.\n",
    "early_train = pd.read_csv(os.path.join(TRAIN_PATH, 'early.csv'))\n",
    "early_train.head()"
   ]
  },
  {
   "cell_type": "code",
   "execution_count": 5,
   "metadata": {},
   "outputs": [
    {
     "data": {
      "text/html": [
       "<div>\n",
       "<style scoped>\n",
       "    .dataframe tbody tr th:only-of-type {\n",
       "        vertical-align: middle;\n",
       "    }\n",
       "\n",
       "    .dataframe tbody tr th {\n",
       "        vertical-align: top;\n",
       "    }\n",
       "\n",
       "    .dataframe thead th {\n",
       "        text-align: right;\n",
       "    }\n",
       "</style>\n",
       "<table border=\"1\" class=\"dataframe\">\n",
       "  <thead>\n",
       "    <tr style=\"text-align: right;\">\n",
       "      <th></th>\n",
       "      <th>SubjectID</th>\n",
       "      <th>AssignmentID</th>\n",
       "      <th>ProblemID</th>\n",
       "      <th>Label</th>\n",
       "    </tr>\n",
       "  </thead>\n",
       "  <tbody>\n",
       "    <tr>\n",
       "      <th>0</th>\n",
       "      <td>04c32d4d95425f73b3a1d6502aed4d48</td>\n",
       "      <td>494.0</td>\n",
       "      <td>41</td>\n",
       "      <td>False</td>\n",
       "    </tr>\n",
       "    <tr>\n",
       "      <th>1</th>\n",
       "      <td>04c32d4d95425f73b3a1d6502aed4d48</td>\n",
       "      <td>494.0</td>\n",
       "      <td>43</td>\n",
       "      <td>True</td>\n",
       "    </tr>\n",
       "    <tr>\n",
       "      <th>2</th>\n",
       "      <td>04c32d4d95425f73b3a1d6502aed4d48</td>\n",
       "      <td>494.0</td>\n",
       "      <td>44</td>\n",
       "      <td>True</td>\n",
       "    </tr>\n",
       "    <tr>\n",
       "      <th>3</th>\n",
       "      <td>04c32d4d95425f73b3a1d6502aed4d48</td>\n",
       "      <td>494.0</td>\n",
       "      <td>46</td>\n",
       "      <td>True</td>\n",
       "    </tr>\n",
       "    <tr>\n",
       "      <th>4</th>\n",
       "      <td>04c32d4d95425f73b3a1d6502aed4d48</td>\n",
       "      <td>494.0</td>\n",
       "      <td>49</td>\n",
       "      <td>True</td>\n",
       "    </tr>\n",
       "  </tbody>\n",
       "</table>\n",
       "</div>"
      ],
      "text/plain": [
       "                          SubjectID  AssignmentID  ProblemID  Label\n",
       "0  04c32d4d95425f73b3a1d6502aed4d48         494.0         41  False\n",
       "1  04c32d4d95425f73b3a1d6502aed4d48         494.0         43   True\n",
       "2  04c32d4d95425f73b3a1d6502aed4d48         494.0         44   True\n",
       "3  04c32d4d95425f73b3a1d6502aed4d48         494.0         46   True\n",
       "4  04c32d4d95425f73b3a1d6502aed4d48         494.0         49   True"
      ]
     },
     "execution_count": 5,
     "metadata": {},
     "output_type": "execute_result"
    }
   ],
   "source": [
    "# The late dataset contains the problems that we're actually predicting for.\n",
    "# The training portion of it includes labels.\n",
    "late_train = pd.read_csv(os.path.join(TRAIN_PATH, 'late.csv'))\n",
    "late_train.head()"
   ]
  },
  {
   "cell_type": "code",
   "execution_count": 6,
   "metadata": {},
   "outputs": [],
   "source": [
    "X_train_base = late_train.copy().drop('Label', axis=1)\n",
    "y_train = late_train['Label'].values"
   ]
  },
  {
   "cell_type": "code",
   "execution_count": 7,
   "metadata": {},
   "outputs": [],
   "source": [
    "problem_encoder = OneHotEncoder().fit(X_train_base[PS2.ProblemID].values.reshape(-1, 1))"
   ]
  },
  {
   "cell_type": "code",
   "execution_count": 8,
   "metadata": {},
   "outputs": [
    {
     "data": {
      "text/plain": [
       "array([[1., 0., 0., ..., 0., 0., 0.],\n",
       "       [0., 1., 0., ..., 0., 0., 0.],\n",
       "       [0., 0., 1., ..., 0., 0., 0.],\n",
       "       ...,\n",
       "       [0., 0., 0., ..., 0., 0., 0.],\n",
       "       [0., 0., 0., ..., 0., 1., 0.],\n",
       "       [0., 0., 0., ..., 0., 0., 1.]])"
      ]
     },
     "execution_count": 8,
     "metadata": {},
     "output_type": "execute_result"
    }
   ],
   "source": [
    "problem_encoder.transform(X_train_base[PS2.ProblemID].values.reshape(-1, 1)).toarray()"
   ]
  },
  {
   "cell_type": "markdown",
   "metadata": {},
   "source": [
    "# Task 1\n",
    "\n",
    "In this task, we do per-problem prediction, extracting features from performance on the 30 early problems for a given student to predict performance on each of 20 later problems. Our model should, in effect, learn the releationship between the knowledge practiced in these problems (though our naive example here won't get that far)."
   ]
  },
  {
   "cell_type": "code",
   "execution_count": 9,
   "metadata": {},
   "outputs": [],
   "source": [
    "def extract_instance_features(instance, early_df):\n",
    "    instance = instance.copy()\n",
    "    subject_id = instance[PS2.SubjectID]\n",
    "    early_problems = early_df[early_df[PS2.SubjectID] == subject_id]\n",
    "    # Extract very naive features about the student\n",
    "    # (without respect to the problem bring predicted)\n",
    "    # Number of early problems attempted\n",
    "    instance['ProblemsAttempted'] = early_problems.shape[0]\n",
    "    # Percentage of early problems gotten correct eventually\n",
    "    instance['PercCorrectEventually'] = np.mean(early_problems['CorrectEventually'])\n",
    "    # Median attempts made on early problems\n",
    "    instance['MedAttempts'] = np.median(early_problems['Attempts'])\n",
    "    # Max attempts made on early problems\n",
    "    instance['MaxAttempts'] = np.max(early_problems['Attempts'])\n",
    "    # Percentage of problems gotten correct on the first try\n",
    "    instance['PercCorrectFirstTry'] = np.mean(early_problems['Attempts'] == 1)\n",
    "    instance = instance.drop('SubjectID')\n",
    "    return instance"
   ]
  },
  {
   "cell_type": "code",
   "execution_count": 10,
   "metadata": {
    "scrolled": true
   },
   "outputs": [
    {
     "data": {
      "text/plain": [
       "AssignmentID                  494\n",
       "ProblemID                      41\n",
       "ProblemsAttempted              30\n",
       "PercCorrectEventually           1\n",
       "MedAttempts                   6.5\n",
       "MaxAttempts                    45\n",
       "PercCorrectFirstTry      0.166667\n",
       "Name: 0, dtype: object"
      ]
     },
     "execution_count": 10,
     "metadata": {},
     "output_type": "execute_result"
    }
   ],
   "source": [
    "extract_instance_features(X_train_base.iloc[0], early_train)"
   ]
  },
  {
   "cell_type": "code",
   "execution_count": 11,
   "metadata": {},
   "outputs": [],
   "source": [
    "def extract_features(X, early_df, scaler, is_train):\n",
    "    # First extract performance features for each row\n",
    "    features = X.apply(lambda instance: extract_instance_features(instance, early_df), axis=1)\n",
    "    # Then one-hot encode the problem_id and append it\n",
    "    problem_ids = problem_encoder.transform(features[PS2.ProblemID].values.reshape(-1, 1)).toarray()\n",
    "    # Then get rid of nominal features\n",
    "    features.drop([PS2.AssignmentID, PS2.ProblemID], axis=1, inplace=True)\n",
    "    # Then scale the continuous features, fitting the scaler if this is training\n",
    "    if is_train:\n",
    "        scaler.fit(features)\n",
    "    features = scaler.transform(features)\n",
    "    \n",
    "    # Return continuous and one-hot features together\n",
    "    return np.concatenate([features, problem_ids], axis=1)"
   ]
  },
  {
   "cell_type": "code",
   "execution_count": 12,
   "metadata": {
    "scrolled": false
   },
   "outputs": [],
   "source": [
    "from sklearn.preprocessing import StandardScaler\n",
    "scaler = StandardScaler()\n",
    "X_train = extract_features(X_train_base, early_train, scaler, True)"
   ]
  },
  {
   "cell_type": "code",
   "execution_count": 13,
   "metadata": {
    "scrolled": true
   },
   "outputs": [
    {
     "name": "stdout",
     "output_type": "stream",
     "text": [
      "(4201, 25)\n"
     ]
    },
    {
     "data": {
      "text/plain": [
       "array([[ 0.51751812,  0.58371895,  1.76922077,  1.70602676, -0.89569333,\n",
       "         1.        ,  0.        ,  0.        ,  0.        ,  0.        ,\n",
       "         0.        ,  0.        ,  0.        ,  0.        ,  0.        ,\n",
       "         0.        ,  0.        ,  0.        ,  0.        ,  0.        ,\n",
       "         0.        ,  0.        ,  0.        ,  0.        ,  0.        ],\n",
       "       [ 0.51751812,  0.58371895,  1.76922077,  1.70602676, -0.89569333,\n",
       "         0.        ,  1.        ,  0.        ,  0.        ,  0.        ,\n",
       "         0.        ,  0.        ,  0.        ,  0.        ,  0.        ,\n",
       "         0.        ,  0.        ,  0.        ,  0.        ,  0.        ,\n",
       "         0.        ,  0.        ,  0.        ,  0.        ,  0.        ]])"
      ]
     },
     "execution_count": 13,
     "metadata": {},
     "output_type": "execute_result"
    }
   ],
   "source": [
    "print(X_train.shape)\n",
    "X_train[:2,]"
   ]
  },
  {
   "cell_type": "markdown",
   "metadata": {},
   "source": [
    "## Evaluate the Training Performance of the Model"
   ]
  },
  {
   "cell_type": "code",
   "execution_count": 14,
   "metadata": {
    "scrolled": true
   },
   "outputs": [],
   "source": [
    "from sklearn.linear_model import LogisticRegressionCV\n",
    "\n",
    "model = LogisticRegressionCV()\n",
    "model.fit(X_train, y_train)\n",
    "train_predictions = model.predict(X_train)"
   ]
  },
  {
   "cell_type": "code",
   "execution_count": 15,
   "metadata": {
    "scrolled": true
   },
   "outputs": [
    {
     "name": "stdout",
     "output_type": "stream",
     "text": [
      "              precision    recall  f1-score   support\n",
      "\n",
      "       False       0.59      0.27      0.37      1084\n",
      "        True       0.79      0.93      0.85      3117\n",
      "\n",
      "    accuracy                           0.76      4201\n",
      "   macro avg       0.69      0.60      0.61      4201\n",
      "weighted avg       0.73      0.76      0.73      4201\n",
      "\n",
      "AUC: 0.6011804980898702\n",
      "Macro F1: 0.6108309893517259\n"
     ]
    }
   ],
   "source": [
    "from sklearn.metrics import classification_report\n",
    "from sklearn.metrics import roc_auc_score\n",
    "from sklearn.metrics import f1_score\n",
    "\n",
    "print(classification_report(y_train, train_predictions))\n",
    "print('AUC: ' + str(roc_auc_score(y_train, train_predictions)))\n",
    "print('Macro F1: ' + str(f1_score(y_train, train_predictions, average='macro')))"
   ]
  },
  {
   "cell_type": "code",
   "execution_count": 16,
   "metadata": {
    "scrolled": false
   },
   "outputs": [
    {
     "data": {
      "text/plain": [
       "<sklearn.metrics._plot.roc_curve.RocCurveDisplay at 0x208ab7772c8>"
      ]
     },
     "execution_count": 16,
     "metadata": {},
     "output_type": "execute_result"
    },
    {
     "data": {
      "image/png": "[encoded data removed]",
      "text/plain": [
       "<Figure size 432x288 with 1 Axes>"
      ]
     },
     "metadata": {
      "needs_background": "light"
     },
     "output_type": "display_data"
    }
   ],
   "source": [
    "from sklearn.metrics import plot_roc_curve\n",
    "\n",
    "plot_roc_curve(model, X_train, y_train)"
   ]
  },
  {
   "cell_type": "markdown",
   "metadata": {},
   "source": [
    "## Evaluate the CV Performance of the Model"
   ]
  },
  {
   "cell_type": "code",
   "execution_count": 17,
   "metadata": {
    "scrolled": false
   },
   "outputs": [
    {
     "name": "stdout",
     "output_type": "stream",
     "text": [
      "Accuracy: 0.7545814953059609\n",
      "AUC: 0.7567641472064508\n",
      "Macro F1: 0.5925332201513649\n"
     ]
    }
   ],
   "source": [
    "from sklearn.model_selection import cross_validate\n",
    "\n",
    "model = LogisticRegressionCV()\n",
    "cv_results = cross_validate(model, X_train, y_train, cv=10, scoring=['accuracy', 'f1_macro', 'roc_auc'])\n",
    "print(f'Accuracy: {np.mean(cv_results[\"test_accuracy\"])}')\n",
    "print(f'AUC: {np.mean(cv_results[\"test_roc_auc\"])}')\n",
    "print(f'Macro F1: {np.mean(cv_results[\"test_f1_macro\"])}')"
   ]
  },
  {
   "cell_type": "markdown",
   "metadata": {},
   "source": [
    "## Predict on the test data (S19)"
   ]
  },
  {
   "cell_type": "code",
   "execution_count": 18,
   "metadata": {
    "scrolled": true
   },
   "outputs": [],
   "source": [
    "early_test = pd.read_csv(os.path.join(TEST_PATH, 'early.csv'))\n",
    "late_test = pd.read_csv(os.path.join(TEST_PATH, 'late.csv'))\n",
    "X_test = extract_features(late_test, early_test, scaler, False)"
   ]
  },
  {
   "cell_type": "code",
   "execution_count": 19,
   "metadata": {
    "scrolled": true
   },
   "outputs": [
    {
     "data": {
      "text/plain": [
       "(1511, 25)"
      ]
     },
     "execution_count": 19,
     "metadata": {},
     "output_type": "execute_result"
    }
   ],
   "source": [
    "X_test.shape"
   ]
  },
  {
   "cell_type": "markdown",
   "metadata": {},
   "source": [
    "When writing output to be judged, make _sure_ to **output probabilities** for the positive class, so that we can calculate AUC when judging!"
   ]
  },
  {
   "cell_type": "code",
   "execution_count": 20,
   "metadata": {},
   "outputs": [],
   "source": [
    "model = LogisticRegressionCV()\n",
    "model.fit(X_train, y_train)\n",
    "# Note the use of predict_proba (the [:,1] gets the positive probabilities)\n",
    "predictions = model.predict_proba(X_test)[:,1]"
   ]
  },
  {
   "cell_type": "code",
   "execution_count": 21,
   "metadata": {},
   "outputs": [
    {
     "data": {
      "text/plain": [
       "array([0.71870299, 0.63676216, 0.80529838, ..., 0.7270374 , 0.70659839,\n",
       "       0.69141046])"
      ]
     },
     "execution_count": 21,
     "metadata": {},
     "output_type": "execute_result"
    }
   ],
   "source": [
    "predictions"
   ]
  },
  {
   "cell_type": "code",
   "execution_count": 22,
   "metadata": {
    "scrolled": true
   },
   "outputs": [
    {
     "data": {
      "text/html": [
       "<div>\n",
       "<style scoped>\n",
       "    .dataframe tbody tr th:only-of-type {\n",
       "        vertical-align: middle;\n",
       "    }\n",
       "\n",
       "    .dataframe tbody tr th {\n",
       "        vertical-align: top;\n",
       "    }\n",
       "\n",
       "    .dataframe thead th {\n",
       "        text-align: right;\n",
       "    }\n",
       "</style>\n",
       "<table border=\"1\" class=\"dataframe\">\n",
       "  <thead>\n",
       "    <tr style=\"text-align: right;\">\n",
       "      <th></th>\n",
       "      <th>SubjectID</th>\n",
       "      <th>AssignmentID</th>\n",
       "      <th>ProblemID</th>\n",
       "      <th>Label</th>\n",
       "    </tr>\n",
       "  </thead>\n",
       "  <tbody>\n",
       "    <tr>\n",
       "      <th>0</th>\n",
       "      <td>036ad3e516c5bf3a4b3be35b137bcbb8</td>\n",
       "      <td>494.0</td>\n",
       "      <td>41</td>\n",
       "      <td>0.718703</td>\n",
       "    </tr>\n",
       "    <tr>\n",
       "      <th>1</th>\n",
       "      <td>036ad3e516c5bf3a4b3be35b137bcbb8</td>\n",
       "      <td>494.0</td>\n",
       "      <td>43</td>\n",
       "      <td>0.636762</td>\n",
       "    </tr>\n",
       "    <tr>\n",
       "      <th>2</th>\n",
       "      <td>036ad3e516c5bf3a4b3be35b137bcbb8</td>\n",
       "      <td>494.0</td>\n",
       "      <td>44</td>\n",
       "      <td>0.805298</td>\n",
       "    </tr>\n",
       "    <tr>\n",
       "      <th>3</th>\n",
       "      <td>036ad3e516c5bf3a4b3be35b137bcbb8</td>\n",
       "      <td>494.0</td>\n",
       "      <td>46</td>\n",
       "      <td>0.618494</td>\n",
       "    </tr>\n",
       "    <tr>\n",
       "      <th>4</th>\n",
       "      <td>036ad3e516c5bf3a4b3be35b137bcbb8</td>\n",
       "      <td>494.0</td>\n",
       "      <td>49</td>\n",
       "      <td>0.663353</td>\n",
       "    </tr>\n",
       "    <tr>\n",
       "      <th>...</th>\n",
       "      <td>...</td>\n",
       "      <td>...</td>\n",
       "      <td>...</td>\n",
       "      <td>...</td>\n",
       "    </tr>\n",
       "    <tr>\n",
       "      <th>1506</th>\n",
       "      <td>fc5f86251458722c799d1830fa0c2c1f</td>\n",
       "      <td>494.0</td>\n",
       "      <td>67</td>\n",
       "      <td>0.756331</td>\n",
       "    </tr>\n",
       "    <tr>\n",
       "      <th>1507</th>\n",
       "      <td>fc5f86251458722c799d1830fa0c2c1f</td>\n",
       "      <td>494.0</td>\n",
       "      <td>104</td>\n",
       "      <td>0.765930</td>\n",
       "    </tr>\n",
       "    <tr>\n",
       "      <th>1508</th>\n",
       "      <td>fc5f86251458722c799d1830fa0c2c1f</td>\n",
       "      <td>494.0</td>\n",
       "      <td>106</td>\n",
       "      <td>0.727037</td>\n",
       "    </tr>\n",
       "    <tr>\n",
       "      <th>1509</th>\n",
       "      <td>fc5f86251458722c799d1830fa0c2c1f</td>\n",
       "      <td>494.0</td>\n",
       "      <td>107</td>\n",
       "      <td>0.706598</td>\n",
       "    </tr>\n",
       "    <tr>\n",
       "      <th>1510</th>\n",
       "      <td>fc5f86251458722c799d1830fa0c2c1f</td>\n",
       "      <td>494.0</td>\n",
       "      <td>108</td>\n",
       "      <td>0.691410</td>\n",
       "    </tr>\n",
       "  </tbody>\n",
       "</table>\n",
       "<p>1511 rows × 4 columns</p>\n",
       "</div>"
      ],
      "text/plain": [
       "                             SubjectID  AssignmentID  ProblemID     Label\n",
       "0     036ad3e516c5bf3a4b3be35b137bcbb8         494.0         41  0.718703\n",
       "1     036ad3e516c5bf3a4b3be35b137bcbb8         494.0         43  0.636762\n",
       "2     036ad3e516c5bf3a4b3be35b137bcbb8         494.0         44  0.805298\n",
       "3     036ad3e516c5bf3a4b3be35b137bcbb8         494.0         46  0.618494\n",
       "4     036ad3e516c5bf3a4b3be35b137bcbb8         494.0         49  0.663353\n",
       "...                                ...           ...        ...       ...\n",
       "1506  fc5f86251458722c799d1830fa0c2c1f         494.0         67  0.756331\n",
       "1507  fc5f86251458722c799d1830fa0c2c1f         494.0        104  0.765930\n",
       "1508  fc5f86251458722c799d1830fa0c2c1f         494.0        106  0.727037\n",
       "1509  fc5f86251458722c799d1830fa0c2c1f         494.0        107  0.706598\n",
       "1510  fc5f86251458722c799d1830fa0c2c1f         494.0        108  0.691410\n",
       "\n",
       "[1511 rows x 4 columns]"
      ]
     },
     "execution_count": 22,
     "metadata": {},
     "output_type": "execute_result"
    }
   ],
   "source": [
    "predictions_df = late_test.copy()\n",
    "predictions_df['Label'] = predictions\n",
    "predictions_df"
   ]
  },
  {
   "cell_type": "code",
   "execution_count": 23,
   "metadata": {},
   "outputs": [],
   "source": [
    "# We don't have the test labels - you have to submit to evaluate it"
   ]
  },
  {
   "cell_type": "code",
   "execution_count": 24,
   "metadata": {},
   "outputs": [],
   "source": [
    "# We use res/predictions.csv, since that's where the scoring rogram expects it\n",
    "# but you can change this directory\n",
    "path = os.path.join('data', 'Prediction', semester, 'basic_LR_task1', 'res')\n",
    "os.makedirs(path, exist_ok=True)\n",
    "predictions_df.to_csv(os.path.join(path, 'predictions.csv'), index=False)"
   ]
  },
  {
   "cell_type": "markdown",
   "metadata": {},
   "source": [
    "## Predict on the test data for the _next_ semester (F19)\n",
    "\n",
    "Here we see if our model will still be useful next semester. Again, we don't have labels for this test dataset, so we'll have to submit to see how well we did.\n",
    "\n",
    "Later in the year, there will be _training_ data released for F19, which will be tested on a different track (not cross-semester)."
   ]
  },
  {
   "cell_type": "code",
   "execution_count": 25,
   "metadata": {},
   "outputs": [],
   "source": [
    "F19_TEST_PATH = os.path.join('data', 'Release', 'F19', 'Test')"
   ]
  },
  {
   "cell_type": "code",
   "execution_count": 26,
   "metadata": {
    "scrolled": true
   },
   "outputs": [],
   "source": [
    "early_test = pd.read_csv(os.path.join(F19_TEST_PATH, 'early.csv'))\n",
    "late_test = pd.read_csv(os.path.join(F19_TEST_PATH, 'late.csv'))\n",
    "X_test = extract_features(late_test, early_test, scaler, False)"
   ]
  },
  {
   "cell_type": "code",
   "execution_count": 27,
   "metadata": {},
   "outputs": [
    {
     "data": {
      "text/plain": [
       "(2365, 25)"
      ]
     },
     "execution_count": 27,
     "metadata": {},
     "output_type": "execute_result"
    }
   ],
   "source": [
    "X_test.shape"
   ]
  },
  {
   "cell_type": "code",
   "execution_count": 28,
   "metadata": {},
   "outputs": [],
   "source": [
    "model = LogisticRegressionCV()\n",
    "model.fit(X_train, y_train)\n",
    "predictions = model.predict_proba(X_test)[:,1]"
   ]
  },
  {
   "cell_type": "code",
   "execution_count": 29,
   "metadata": {},
   "outputs": [
    {
     "data": {
      "text/plain": [
       "array([0.81344772, 0.74948573, 0.87591233, ..., 0.40992631, 0.37947527,\n",
       "       0.35654374])"
      ]
     },
     "execution_count": 29,
     "metadata": {},
     "output_type": "execute_result"
    }
   ],
   "source": [
    "predictions"
   ]
  },
  {
   "cell_type": "code",
   "execution_count": 30,
   "metadata": {
    "scrolled": true
   },
   "outputs": [
    {
     "data": {
      "text/html": [
       "<div>\n",
       "<style scoped>\n",
       "    .dataframe tbody tr th:only-of-type {\n",
       "        vertical-align: middle;\n",
       "    }\n",
       "\n",
       "    .dataframe tbody tr th {\n",
       "        vertical-align: top;\n",
       "    }\n",
       "\n",
       "    .dataframe thead th {\n",
       "        text-align: right;\n",
       "    }\n",
       "</style>\n",
       "<table border=\"1\" class=\"dataframe\">\n",
       "  <thead>\n",
       "    <tr style=\"text-align: right;\">\n",
       "      <th></th>\n",
       "      <th>SubjectID</th>\n",
       "      <th>AssignmentID</th>\n",
       "      <th>ProblemID</th>\n",
       "      <th>Label</th>\n",
       "    </tr>\n",
       "  </thead>\n",
       "  <tbody>\n",
       "    <tr>\n",
       "      <th>0</th>\n",
       "      <td>00358c94503a8d9e6869efc6e5cdb0e1c8e9eb39b1fd46...</td>\n",
       "      <td>494</td>\n",
       "      <td>41</td>\n",
       "      <td>0.813448</td>\n",
       "    </tr>\n",
       "    <tr>\n",
       "      <th>1</th>\n",
       "      <td>00358c94503a8d9e6869efc6e5cdb0e1c8e9eb39b1fd46...</td>\n",
       "      <td>494</td>\n",
       "      <td>43</td>\n",
       "      <td>0.749486</td>\n",
       "    </tr>\n",
       "    <tr>\n",
       "      <th>2</th>\n",
       "      <td>00358c94503a8d9e6869efc6e5cdb0e1c8e9eb39b1fd46...</td>\n",
       "      <td>494</td>\n",
       "      <td>44</td>\n",
       "      <td>0.875912</td>\n",
       "    </tr>\n",
       "    <tr>\n",
       "      <th>3</th>\n",
       "      <td>00358c94503a8d9e6869efc6e5cdb0e1c8e9eb39b1fd46...</td>\n",
       "      <td>494</td>\n",
       "      <td>46</td>\n",
       "      <td>0.734523</td>\n",
       "    </tr>\n",
       "    <tr>\n",
       "      <th>4</th>\n",
       "      <td>00358c94503a8d9e6869efc6e5cdb0e1c8e9eb39b1fd46...</td>\n",
       "      <td>494</td>\n",
       "      <td>49</td>\n",
       "      <td>0.770795</td>\n",
       "    </tr>\n",
       "    <tr>\n",
       "      <th>...</th>\n",
       "      <td>...</td>\n",
       "      <td>...</td>\n",
       "      <td>...</td>\n",
       "      <td>...</td>\n",
       "    </tr>\n",
       "    <tr>\n",
       "      <th>2360</th>\n",
       "      <td>fa7805c1d46ef49851de43750a665a993eef750b560159...</td>\n",
       "      <td>502</td>\n",
       "      <td>64</td>\n",
       "      <td>0.432782</td>\n",
       "    </tr>\n",
       "    <tr>\n",
       "      <th>2361</th>\n",
       "      <td>fa7805c1d46ef49851de43750a665a993eef750b560159...</td>\n",
       "      <td>502</td>\n",
       "      <td>70</td>\n",
       "      <td>0.256144</td>\n",
       "    </tr>\n",
       "    <tr>\n",
       "      <th>2362</th>\n",
       "      <td>fa7805c1d46ef49851de43750a665a993eef750b560159...</td>\n",
       "      <td>502</td>\n",
       "      <td>71</td>\n",
       "      <td>0.409926</td>\n",
       "    </tr>\n",
       "    <tr>\n",
       "      <th>2363</th>\n",
       "      <td>fa7805c1d46ef49851de43750a665a993eef750b560159...</td>\n",
       "      <td>502</td>\n",
       "      <td>112</td>\n",
       "      <td>0.379475</td>\n",
       "    </tr>\n",
       "    <tr>\n",
       "      <th>2364</th>\n",
       "      <td>fa7805c1d46ef49851de43750a665a993eef750b560159...</td>\n",
       "      <td>502</td>\n",
       "      <td>118</td>\n",
       "      <td>0.356544</td>\n",
       "    </tr>\n",
       "  </tbody>\n",
       "</table>\n",
       "<p>2365 rows × 4 columns</p>\n",
       "</div>"
      ],
      "text/plain": [
       "                                              SubjectID  AssignmentID  \\\n",
       "0     00358c94503a8d9e6869efc6e5cdb0e1c8e9eb39b1fd46...           494   \n",
       "1     00358c94503a8d9e6869efc6e5cdb0e1c8e9eb39b1fd46...           494   \n",
       "2     00358c94503a8d9e6869efc6e5cdb0e1c8e9eb39b1fd46...           494   \n",
       "3     00358c94503a8d9e6869efc6e5cdb0e1c8e9eb39b1fd46...           494   \n",
       "4     00358c94503a8d9e6869efc6e5cdb0e1c8e9eb39b1fd46...           494   \n",
       "...                                                 ...           ...   \n",
       "2360  fa7805c1d46ef49851de43750a665a993eef750b560159...           502   \n",
       "2361  fa7805c1d46ef49851de43750a665a993eef750b560159...           502   \n",
       "2362  fa7805c1d46ef49851de43750a665a993eef750b560159...           502   \n",
       "2363  fa7805c1d46ef49851de43750a665a993eef750b560159...           502   \n",
       "2364  fa7805c1d46ef49851de43750a665a993eef750b560159...           502   \n",
       "\n",
       "      ProblemID     Label  \n",
       "0            41  0.813448  \n",
       "1            43  0.749486  \n",
       "2            44  0.875912  \n",
       "3            46  0.734523  \n",
       "4            49  0.770795  \n",
       "...         ...       ...  \n",
       "2360         64  0.432782  \n",
       "2361         70  0.256144  \n",
       "2362         71  0.409926  \n",
       "2363        112  0.379475  \n",
       "2364        118  0.356544  \n",
       "\n",
       "[2365 rows x 4 columns]"
      ]
     },
     "execution_count": 30,
     "metadata": {},
     "output_type": "execute_result"
    }
   ],
   "source": [
    "predictions_df = late_test.copy()\n",
    "predictions_df['Label'] = predictions\n",
    "predictions_df"
   ]
  },
  {
   "cell_type": "code",
   "execution_count": 31,
   "metadata": {},
   "outputs": [],
   "source": [
    "# We don't have the test labels - you have to submit to evaluate it"
   ]
  },
  {
   "cell_type": "code",
   "execution_count": 32,
   "metadata": {},
   "outputs": [],
   "source": [
    "path = os.path.join('data', 'Prediction', 'F19', 'basic_LR_task1', 'res')\n",
    "os.makedirs(path, exist_ok=True)\n",
    "predictions_df.to_csv(os.path.join(path, 'predictions.csv'), index=False)"
   ]
  },
  {
   "cell_type": "markdown",
   "metadata": {},
   "source": [
    "# Task 2\n",
    "\n",
    "In this task, we are predicting final performance, extracting features from performance on the 30 early problems for a given student to predict the final exam grade."
   ]
  },
  {
   "cell_type": "code",
   "execution_count": 33,
   "metadata": {
    "scrolled": true
   },
   "outputs": [
    {
     "data": {
      "text/html": [
       "<div>\n",
       "<style scoped>\n",
       "    .dataframe tbody tr th:only-of-type {\n",
       "        vertical-align: middle;\n",
       "    }\n",
       "\n",
       "    .dataframe tbody tr th {\n",
       "        vertical-align: top;\n",
       "    }\n",
       "\n",
       "    .dataframe thead th {\n",
       "        text-align: right;\n",
       "    }\n",
       "</style>\n",
       "<table border=\"1\" class=\"dataframe\">\n",
       "  <thead>\n",
       "    <tr style=\"text-align: right;\">\n",
       "      <th></th>\n",
       "      <th>SubjectID</th>\n",
       "      <th>X-Grade</th>\n",
       "    </tr>\n",
       "  </thead>\n",
       "  <tbody>\n",
       "    <tr>\n",
       "      <th>0</th>\n",
       "      <td>65be44ae7088566069cc3bef454174a7</td>\n",
       "      <td>0.3600</td>\n",
       "    </tr>\n",
       "    <tr>\n",
       "      <th>1</th>\n",
       "      <td>f4db8537e9d75da46c4efc36a2d70956</td>\n",
       "      <td>0.4310</td>\n",
       "    </tr>\n",
       "    <tr>\n",
       "      <th>2</th>\n",
       "      <td>e3edca0f6e68bfb76eaf26a8eb6dd94b</td>\n",
       "      <td>0.8400</td>\n",
       "    </tr>\n",
       "    <tr>\n",
       "      <th>3</th>\n",
       "      <td>d843407a1a701630bb297c1148229eff</td>\n",
       "      <td>0.4900</td>\n",
       "    </tr>\n",
       "    <tr>\n",
       "      <th>4</th>\n",
       "      <td>d0a17b281c3e4eaef6718d891e38cb42</td>\n",
       "      <td>0.3400</td>\n",
       "    </tr>\n",
       "    <tr>\n",
       "      <th>...</th>\n",
       "      <td>...</td>\n",
       "      <td>...</td>\n",
       "    </tr>\n",
       "    <tr>\n",
       "      <th>242</th>\n",
       "      <td>4a914e5c38172ae9b61780ffbd0b2f90</td>\n",
       "      <td>0.8244</td>\n",
       "    </tr>\n",
       "    <tr>\n",
       "      <th>243</th>\n",
       "      <td>ffb72475a81de0e95b910ffad039f5c2</td>\n",
       "      <td>0.6817</td>\n",
       "    </tr>\n",
       "    <tr>\n",
       "      <th>244</th>\n",
       "      <td>40195594f1244e7ec627b1c6a5a35585</td>\n",
       "      <td>0.7029</td>\n",
       "    </tr>\n",
       "    <tr>\n",
       "      <th>245</th>\n",
       "      <td>e2d083a5fd066b082d93042169313e21</td>\n",
       "      <td>0.6800</td>\n",
       "    </tr>\n",
       "    <tr>\n",
       "      <th>246</th>\n",
       "      <td>c8720c9e82b818798e7b391fd62adf33</td>\n",
       "      <td>0.9200</td>\n",
       "    </tr>\n",
       "  </tbody>\n",
       "</table>\n",
       "<p>247 rows × 2 columns</p>\n",
       "</div>"
      ],
      "text/plain": [
       "                            SubjectID  X-Grade\n",
       "0    65be44ae7088566069cc3bef454174a7   0.3600\n",
       "1    f4db8537e9d75da46c4efc36a2d70956   0.4310\n",
       "2    e3edca0f6e68bfb76eaf26a8eb6dd94b   0.8400\n",
       "3    d843407a1a701630bb297c1148229eff   0.4900\n",
       "4    d0a17b281c3e4eaef6718d891e38cb42   0.3400\n",
       "..                                ...      ...\n",
       "242  4a914e5c38172ae9b61780ffbd0b2f90   0.8244\n",
       "243  ffb72475a81de0e95b910ffad039f5c2   0.6817\n",
       "244  40195594f1244e7ec627b1c6a5a35585   0.7029\n",
       "245  e2d083a5fd066b082d93042169313e21   0.6800\n",
       "246  c8720c9e82b818798e7b391fd62adf33   0.9200\n",
       "\n",
       "[247 rows x 2 columns]"
      ]
     },
     "execution_count": 33,
     "metadata": {},
     "output_type": "execute_result"
    }
   ],
   "source": [
    "train_base = train_ps2.load_link_table('Subject')\n",
    "train_base"
   ]
  },
  {
   "cell_type": "code",
   "execution_count": 34,
   "metadata": {},
   "outputs": [
    {
     "data": {
      "text/html": [
       "<div>\n",
       "<style scoped>\n",
       "    .dataframe tbody tr th:only-of-type {\n",
       "        vertical-align: middle;\n",
       "    }\n",
       "\n",
       "    .dataframe tbody tr th {\n",
       "        vertical-align: top;\n",
       "    }\n",
       "\n",
       "    .dataframe thead th {\n",
       "        text-align: right;\n",
       "    }\n",
       "</style>\n",
       "<table border=\"1\" class=\"dataframe\">\n",
       "  <thead>\n",
       "    <tr style=\"text-align: right;\">\n",
       "      <th></th>\n",
       "      <th>SubjectID</th>\n",
       "      <th>X-Grade</th>\n",
       "    </tr>\n",
       "  </thead>\n",
       "  <tbody>\n",
       "    <tr>\n",
       "      <th>0</th>\n",
       "      <td>04c32d4d95425f73b3a1d6502aed4d48</td>\n",
       "      <td>0.55</td>\n",
       "    </tr>\n",
       "    <tr>\n",
       "      <th>1</th>\n",
       "      <td>0503bf609757acf2e75aa8cbc0d8323b</td>\n",
       "      <td>0.45</td>\n",
       "    </tr>\n",
       "    <tr>\n",
       "      <th>2</th>\n",
       "      <td>06d801cb636235b298c40029ad9921e7</td>\n",
       "      <td>0.90</td>\n",
       "    </tr>\n",
       "    <tr>\n",
       "      <th>3</th>\n",
       "      <td>07ae4cca3f90a49347ccb5c1a82ff46f</td>\n",
       "      <td>0.95</td>\n",
       "    </tr>\n",
       "    <tr>\n",
       "      <th>4</th>\n",
       "      <td>07d34e2419c61216a85a2156b2cf8ae4</td>\n",
       "      <td>0.75</td>\n",
       "    </tr>\n",
       "    <tr>\n",
       "      <th>...</th>\n",
       "      <td>...</td>\n",
       "      <td>...</td>\n",
       "    </tr>\n",
       "    <tr>\n",
       "      <th>241</th>\n",
       "      <td>f827b5406c7aa5b4fe10062ae06a137b</td>\n",
       "      <td>0.80</td>\n",
       "    </tr>\n",
       "    <tr>\n",
       "      <th>242</th>\n",
       "      <td>f892447540d0e840049183faa3109b1b</td>\n",
       "      <td>0.90</td>\n",
       "    </tr>\n",
       "    <tr>\n",
       "      <th>243</th>\n",
       "      <td>fda6baab618b39821b678bd52ff26428</td>\n",
       "      <td>0.15</td>\n",
       "    </tr>\n",
       "    <tr>\n",
       "      <th>244</th>\n",
       "      <td>feae21bb32b7b4aa690fab151b60b598</td>\n",
       "      <td>1.00</td>\n",
       "    </tr>\n",
       "    <tr>\n",
       "      <th>245</th>\n",
       "      <td>ffb72475a81de0e95b910ffad039f5c2</td>\n",
       "      <td>0.70</td>\n",
       "    </tr>\n",
       "  </tbody>\n",
       "</table>\n",
       "<p>246 rows × 2 columns</p>\n",
       "</div>"
      ],
      "text/plain": [
       "                            SubjectID  X-Grade\n",
       "0    04c32d4d95425f73b3a1d6502aed4d48     0.55\n",
       "1    0503bf609757acf2e75aa8cbc0d8323b     0.45\n",
       "2    06d801cb636235b298c40029ad9921e7     0.90\n",
       "3    07ae4cca3f90a49347ccb5c1a82ff46f     0.95\n",
       "4    07d34e2419c61216a85a2156b2cf8ae4     0.75\n",
       "..                                ...      ...\n",
       "241  f827b5406c7aa5b4fe10062ae06a137b     0.80\n",
       "242  f892447540d0e840049183faa3109b1b     0.90\n",
       "243  fda6baab618b39821b678bd52ff26428     0.15\n",
       "244  feae21bb32b7b4aa690fab151b60b598     1.00\n",
       "245  ffb72475a81de0e95b910ffad039f5c2     0.70\n",
       "\n",
       "[246 rows x 2 columns]"
      ]
     },
     "execution_count": 34,
     "metadata": {},
     "output_type": "execute_result"
    }
   ],
   "source": [
    "train_base = late_train.groupby('SubjectID')['Label'].sum().to_frame('X-Grade').reset_index()\n",
    "train_base['X-Grade'] = train_base['X-Grade'] / 20\n",
    "train_base"
   ]
  },
  {
   "cell_type": "code",
   "execution_count": 35,
   "metadata": {},
   "outputs": [],
   "source": [
    "y_train = train_base['X-Grade']"
   ]
  },
  {
   "cell_type": "code",
   "execution_count": 36,
   "metadata": {},
   "outputs": [],
   "source": [
    "# The base of our X dataset is just a set of SubjectIDs\n",
    "X_train_base = train_base.drop('X-Grade', axis=1)"
   ]
  },
  {
   "cell_type": "code",
   "execution_count": 37,
   "metadata": {
    "scrolled": false
   },
   "outputs": [],
   "source": [
    "from sklearn.preprocessing import StandardScaler\n",
    "X_train_unscaled = X_train_base.apply(lambda row: extract_instance_features(row, early_train), axis=1)"
   ]
  },
  {
   "cell_type": "code",
   "execution_count": 38,
   "metadata": {
    "scrolled": false
   },
   "outputs": [
    {
     "data": {
      "text/html": [
       "<div>\n",
       "<style scoped>\n",
       "    .dataframe tbody tr th:only-of-type {\n",
       "        vertical-align: middle;\n",
       "    }\n",
       "\n",
       "    .dataframe tbody tr th {\n",
       "        vertical-align: top;\n",
       "    }\n",
       "\n",
       "    .dataframe thead th {\n",
       "        text-align: right;\n",
       "    }\n",
       "</style>\n",
       "<table border=\"1\" class=\"dataframe\">\n",
       "  <thead>\n",
       "    <tr style=\"text-align: right;\">\n",
       "      <th></th>\n",
       "      <th>ProblemsAttempted</th>\n",
       "      <th>PercCorrectEventually</th>\n",
       "      <th>MedAttempts</th>\n",
       "      <th>MaxAttempts</th>\n",
       "      <th>PercCorrectFirstTry</th>\n",
       "    </tr>\n",
       "  </thead>\n",
       "  <tbody>\n",
       "    <tr>\n",
       "      <th>0</th>\n",
       "      <td>30</td>\n",
       "      <td>1.000000</td>\n",
       "      <td>6.5</td>\n",
       "      <td>45</td>\n",
       "      <td>0.166667</td>\n",
       "    </tr>\n",
       "    <tr>\n",
       "      <th>1</th>\n",
       "      <td>21</td>\n",
       "      <td>1.000000</td>\n",
       "      <td>2.0</td>\n",
       "      <td>11</td>\n",
       "      <td>0.476190</td>\n",
       "    </tr>\n",
       "    <tr>\n",
       "      <th>2</th>\n",
       "      <td>20</td>\n",
       "      <td>1.000000</td>\n",
       "      <td>2.0</td>\n",
       "      <td>31</td>\n",
       "      <td>0.350000</td>\n",
       "    </tr>\n",
       "    <tr>\n",
       "      <th>3</th>\n",
       "      <td>30</td>\n",
       "      <td>0.966667</td>\n",
       "      <td>1.0</td>\n",
       "      <td>21</td>\n",
       "      <td>0.733333</td>\n",
       "    </tr>\n",
       "    <tr>\n",
       "      <th>4</th>\n",
       "      <td>30</td>\n",
       "      <td>1.000000</td>\n",
       "      <td>1.0</td>\n",
       "      <td>12</td>\n",
       "      <td>0.600000</td>\n",
       "    </tr>\n",
       "    <tr>\n",
       "      <th>...</th>\n",
       "      <td>...</td>\n",
       "      <td>...</td>\n",
       "      <td>...</td>\n",
       "      <td>...</td>\n",
       "      <td>...</td>\n",
       "    </tr>\n",
       "    <tr>\n",
       "      <th>241</th>\n",
       "      <td>30</td>\n",
       "      <td>1.000000</td>\n",
       "      <td>1.0</td>\n",
       "      <td>7</td>\n",
       "      <td>0.533333</td>\n",
       "    </tr>\n",
       "    <tr>\n",
       "      <th>242</th>\n",
       "      <td>30</td>\n",
       "      <td>0.966667</td>\n",
       "      <td>1.0</td>\n",
       "      <td>14</td>\n",
       "      <td>0.666667</td>\n",
       "    </tr>\n",
       "    <tr>\n",
       "      <th>243</th>\n",
       "      <td>29</td>\n",
       "      <td>0.655172</td>\n",
       "      <td>4.0</td>\n",
       "      <td>22</td>\n",
       "      <td>0.172414</td>\n",
       "    </tr>\n",
       "    <tr>\n",
       "      <th>244</th>\n",
       "      <td>30</td>\n",
       "      <td>0.966667</td>\n",
       "      <td>1.0</td>\n",
       "      <td>9</td>\n",
       "      <td>0.933333</td>\n",
       "    </tr>\n",
       "    <tr>\n",
       "      <th>245</th>\n",
       "      <td>20</td>\n",
       "      <td>1.000000</td>\n",
       "      <td>2.0</td>\n",
       "      <td>28</td>\n",
       "      <td>0.400000</td>\n",
       "    </tr>\n",
       "  </tbody>\n",
       "</table>\n",
       "<p>246 rows × 5 columns</p>\n",
       "</div>"
      ],
      "text/plain": [
       "     ProblemsAttempted  PercCorrectEventually  MedAttempts  MaxAttempts  \\\n",
       "0                   30               1.000000          6.5           45   \n",
       "1                   21               1.000000          2.0           11   \n",
       "2                   20               1.000000          2.0           31   \n",
       "3                   30               0.966667          1.0           21   \n",
       "4                   30               1.000000          1.0           12   \n",
       "..                 ...                    ...          ...          ...   \n",
       "241                 30               1.000000          1.0            7   \n",
       "242                 30               0.966667          1.0           14   \n",
       "243                 29               0.655172          4.0           22   \n",
       "244                 30               0.966667          1.0            9   \n",
       "245                 20               1.000000          2.0           28   \n",
       "\n",
       "     PercCorrectFirstTry  \n",
       "0               0.166667  \n",
       "1               0.476190  \n",
       "2               0.350000  \n",
       "3               0.733333  \n",
       "4               0.600000  \n",
       "..                   ...  \n",
       "241             0.533333  \n",
       "242             0.666667  \n",
       "243             0.172414  \n",
       "244             0.933333  \n",
       "245             0.400000  \n",
       "\n",
       "[246 rows x 5 columns]"
      ]
     },
     "execution_count": 38,
     "metadata": {},
     "output_type": "execute_result"
    }
   ],
   "source": [
    "X_train_unscaled"
   ]
  },
  {
   "cell_type": "code",
   "execution_count": 39,
   "metadata": {
    "scrolled": false
   },
   "outputs": [
    {
     "data": {
      "text/plain": [
       "array([[ 0.55944356,  0.60104733,  1.73417818,  1.78407068, -0.88773091],\n",
       "       [-1.11888712,  0.60104733, -0.48645253, -0.62386335,  0.39482508],\n",
       "       [-1.30536831,  0.60104733, -0.48645253,  0.79256843, -0.12806313],\n",
       "       ...,\n",
       "       [ 0.37296237, -2.04668342,  0.50049446,  0.15517413, -0.86391688],\n",
       "       [ 0.55944356,  0.34510002, -0.97992602, -0.76550653,  2.28906163],\n",
       "       [-1.30536831,  0.60104733, -0.48645253,  0.58010367,  0.07911899]])"
      ]
     },
     "execution_count": 39,
     "metadata": {},
     "output_type": "execute_result"
    }
   ],
   "source": [
    "scaler = StandardScaler()\n",
    "X_train = scaler.fit_transform(X_train_unscaled)\n",
    "X_train"
   ]
  },
  {
   "cell_type": "code",
   "execution_count": 40,
   "metadata": {},
   "outputs": [
    {
     "data": {
      "text/html": [
       "<div>\n",
       "<style scoped>\n",
       "    .dataframe tbody tr th:only-of-type {\n",
       "        vertical-align: middle;\n",
       "    }\n",
       "\n",
       "    .dataframe tbody tr th {\n",
       "        vertical-align: top;\n",
       "    }\n",
       "\n",
       "    .dataframe thead th {\n",
       "        text-align: right;\n",
       "    }\n",
       "</style>\n",
       "<table border=\"1\" class=\"dataframe\">\n",
       "  <thead>\n",
       "    <tr style=\"text-align: right;\">\n",
       "      <th></th>\n",
       "      <th>ProblemsAttempted</th>\n",
       "      <th>PercCorrectEventually</th>\n",
       "      <th>MedAttempts</th>\n",
       "      <th>MaxAttempts</th>\n",
       "      <th>PercCorrectFirstTry</th>\n",
       "      <th>X-Grade</th>\n",
       "    </tr>\n",
       "  </thead>\n",
       "  <tbody>\n",
       "    <tr>\n",
       "      <th>ProblemsAttempted</th>\n",
       "      <td>1.000000</td>\n",
       "      <td>0.284741</td>\n",
       "      <td>-0.196953</td>\n",
       "      <td>0.131532</td>\n",
       "      <td>0.135139</td>\n",
       "      <td>0.318915</td>\n",
       "    </tr>\n",
       "    <tr>\n",
       "      <th>PercCorrectEventually</th>\n",
       "      <td>0.284741</td>\n",
       "      <td>1.000000</td>\n",
       "      <td>-0.343506</td>\n",
       "      <td>-0.069976</td>\n",
       "      <td>0.337193</td>\n",
       "      <td>0.432099</td>\n",
       "    </tr>\n",
       "    <tr>\n",
       "      <th>MedAttempts</th>\n",
       "      <td>-0.196953</td>\n",
       "      <td>-0.343506</td>\n",
       "      <td>1.000000</td>\n",
       "      <td>0.669611</td>\n",
       "      <td>-0.781536</td>\n",
       "      <td>-0.458429</td>\n",
       "    </tr>\n",
       "    <tr>\n",
       "      <th>MaxAttempts</th>\n",
       "      <td>0.131532</td>\n",
       "      <td>-0.069976</td>\n",
       "      <td>0.669611</td>\n",
       "      <td>1.000000</td>\n",
       "      <td>-0.574600</td>\n",
       "      <td>-0.259660</td>\n",
       "    </tr>\n",
       "    <tr>\n",
       "      <th>PercCorrectFirstTry</th>\n",
       "      <td>0.135139</td>\n",
       "      <td>0.337193</td>\n",
       "      <td>-0.781536</td>\n",
       "      <td>-0.574600</td>\n",
       "      <td>1.000000</td>\n",
       "      <td>0.451771</td>\n",
       "    </tr>\n",
       "    <tr>\n",
       "      <th>X-Grade</th>\n",
       "      <td>0.318915</td>\n",
       "      <td>0.432099</td>\n",
       "      <td>-0.458429</td>\n",
       "      <td>-0.259660</td>\n",
       "      <td>0.451771</td>\n",
       "      <td>1.000000</td>\n",
       "    </tr>\n",
       "  </tbody>\n",
       "</table>\n",
       "</div>"
      ],
      "text/plain": [
       "                       ProblemsAttempted  PercCorrectEventually  MedAttempts  \\\n",
       "ProblemsAttempted               1.000000               0.284741    -0.196953   \n",
       "PercCorrectEventually           0.284741               1.000000    -0.343506   \n",
       "MedAttempts                    -0.196953              -0.343506     1.000000   \n",
       "MaxAttempts                     0.131532              -0.069976     0.669611   \n",
       "PercCorrectFirstTry             0.135139               0.337193    -0.781536   \n",
       "X-Grade                         0.318915               0.432099    -0.458429   \n",
       "\n",
       "                       MaxAttempts  PercCorrectFirstTry   X-Grade  \n",
       "ProblemsAttempted         0.131532             0.135139  0.318915  \n",
       "PercCorrectEventually    -0.069976             0.337193  0.432099  \n",
       "MedAttempts               0.669611            -0.781536 -0.458429  \n",
       "MaxAttempts               1.000000            -0.574600 -0.259660  \n",
       "PercCorrectFirstTry      -0.574600             1.000000  0.451771  \n",
       "X-Grade                  -0.259660             0.451771  1.000000  "
      ]
     },
     "execution_count": 40,
     "metadata": {},
     "output_type": "execute_result"
    }
   ],
   "source": [
    "X_train_unscaled.join(train_base).drop(PS2.SubjectID, axis=1).corr()"
   ]
  },
  {
   "cell_type": "markdown",
   "metadata": {},
   "source": [
    "## Evaluate the Training Performance of the Model"
   ]
  },
  {
   "cell_type": "code",
   "execution_count": 41,
   "metadata": {
    "scrolled": true
   },
   "outputs": [],
   "source": [
    "from sklearn.linear_model import LassoCV\n",
    "from sklearn.linear_model import LinearRegression\n",
    "\n",
    "model = LassoCV()\n",
    "model.fit(X_train, y_train)\n",
    "train_predictions = model.predict(X_train)"
   ]
  },
  {
   "cell_type": "code",
   "execution_count": 42,
   "metadata": {},
   "outputs": [
    {
     "data": {
      "text/plain": [
       "<matplotlib.collections.PathCollection at 0x208ab5f8088>"
      ]
     },
     "execution_count": 42,
     "metadata": {},
     "output_type": "execute_result"
    },
    {
     "data": {
      "image/png": "[encoded data removed]",
      "text/plain": [
       "<Figure size 432x288 with 1 Axes>"
      ]
     },
     "metadata": {
      "needs_background": "light"
     },
     "output_type": "display_data"
    }
   ],
   "source": [
    "plt.scatter(y_train, train_predictions)"
   ]
  },
  {
   "cell_type": "code",
   "execution_count": 43,
   "metadata": {
    "scrolled": true
   },
   "outputs": [
    {
     "name": "stdout",
     "output_type": "stream",
     "text": [
      "Training MSE: 0.048443143030792175\n",
      "Training R2: 0.3419949456061411\n"
     ]
    }
   ],
   "source": [
    "from sklearn.metrics import mean_squared_error\n",
    "from sklearn.metrics import r2_score\n",
    "\n",
    "print('Training MSE: ' + str(mean_squared_error(y_train, train_predictions)))\n",
    "print('Training R2: ' + str(r2_score(y_train, train_predictions)))"
   ]
  },
  {
   "cell_type": "markdown",
   "metadata": {},
   "source": [
    "## Evaluate the CV Performance of the Model\n",
    "\n",
    "The naive model performs quite poorly evaluated by CV on the training data (R2 of 0.083). Can you improve on it?"
   ]
  },
  {
   "cell_type": "code",
   "execution_count": 44,
   "metadata": {
    "scrolled": false
   },
   "outputs": [
    {
     "name": "stdout",
     "output_type": "stream",
     "text": [
      "MSE: 0.050437248898341905\n",
      "R2: 0.2792971411405756\n"
     ]
    }
   ],
   "source": [
    "from sklearn.model_selection import cross_validate\n",
    "\n",
    "model = LassoCV()\n",
    "cv_results = cross_validate(model, X_train, y_train, cv=10, scoring=['neg_mean_squared_error', 'r2'])\n",
    "print(f'MSE: {-np.mean(cv_results[\"test_neg_mean_squared_error\"])}')\n",
    "print(f'R2: {np.mean(cv_results[\"test_r2\"])}')"
   ]
  },
  {
   "cell_type": "markdown",
   "metadata": {},
   "source": [
    "## Predict on the test data (S19)"
   ]
  },
  {
   "cell_type": "code",
   "execution_count": 47,
   "metadata": {
    "scrolled": false
   },
   "outputs": [
    {
     "data": {
      "text/html": [
       "<div>\n",
       "<style scoped>\n",
       "    .dataframe tbody tr th:only-of-type {\n",
       "        vertical-align: middle;\n",
       "    }\n",
       "\n",
       "    .dataframe tbody tr th {\n",
       "        vertical-align: top;\n",
       "    }\n",
       "\n",
       "    .dataframe thead th {\n",
       "        text-align: right;\n",
       "    }\n",
       "</style>\n",
       "<table border=\"1\" class=\"dataframe\">\n",
       "  <thead>\n",
       "    <tr style=\"text-align: right;\">\n",
       "      <th></th>\n",
       "      <th>ProblemsAttempted</th>\n",
       "      <th>PercCorrectEventually</th>\n",
       "      <th>MedAttempts</th>\n",
       "      <th>MaxAttempts</th>\n",
       "      <th>PercCorrectFirstTry</th>\n",
       "    </tr>\n",
       "  </thead>\n",
       "  <tbody>\n",
       "    <tr>\n",
       "      <th>0</th>\n",
       "      <td>19</td>\n",
       "      <td>0.421053</td>\n",
       "      <td>4.0</td>\n",
       "      <td>35</td>\n",
       "      <td>0.210526</td>\n",
       "    </tr>\n",
       "    <tr>\n",
       "      <th>1</th>\n",
       "      <td>19</td>\n",
       "      <td>0.789474</td>\n",
       "      <td>5.0</td>\n",
       "      <td>41</td>\n",
       "      <td>0.157895</td>\n",
       "    </tr>\n",
       "    <tr>\n",
       "      <th>2</th>\n",
       "      <td>24</td>\n",
       "      <td>0.916667</td>\n",
       "      <td>2.5</td>\n",
       "      <td>29</td>\n",
       "      <td>0.291667</td>\n",
       "    </tr>\n",
       "    <tr>\n",
       "      <th>3</th>\n",
       "      <td>17</td>\n",
       "      <td>0.764706</td>\n",
       "      <td>2.0</td>\n",
       "      <td>77</td>\n",
       "      <td>0.352941</td>\n",
       "    </tr>\n",
       "    <tr>\n",
       "      <th>4</th>\n",
       "      <td>30</td>\n",
       "      <td>1.000000</td>\n",
       "      <td>3.0</td>\n",
       "      <td>41</td>\n",
       "      <td>0.300000</td>\n",
       "    </tr>\n",
       "    <tr>\n",
       "      <th>...</th>\n",
       "      <td>...</td>\n",
       "      <td>...</td>\n",
       "      <td>...</td>\n",
       "      <td>...</td>\n",
       "      <td>...</td>\n",
       "    </tr>\n",
       "    <tr>\n",
       "      <th>78</th>\n",
       "      <td>30</td>\n",
       "      <td>0.966667</td>\n",
       "      <td>3.0</td>\n",
       "      <td>44</td>\n",
       "      <td>0.300000</td>\n",
       "    </tr>\n",
       "    <tr>\n",
       "      <th>79</th>\n",
       "      <td>30</td>\n",
       "      <td>1.000000</td>\n",
       "      <td>1.0</td>\n",
       "      <td>4</td>\n",
       "      <td>0.766667</td>\n",
       "    </tr>\n",
       "    <tr>\n",
       "      <th>80</th>\n",
       "      <td>20</td>\n",
       "      <td>1.000000</td>\n",
       "      <td>1.0</td>\n",
       "      <td>10</td>\n",
       "      <td>0.650000</td>\n",
       "    </tr>\n",
       "    <tr>\n",
       "      <th>81</th>\n",
       "      <td>20</td>\n",
       "      <td>1.000000</td>\n",
       "      <td>1.0</td>\n",
       "      <td>4</td>\n",
       "      <td>0.650000</td>\n",
       "    </tr>\n",
       "    <tr>\n",
       "      <th>82</th>\n",
       "      <td>30</td>\n",
       "      <td>1.000000</td>\n",
       "      <td>1.0</td>\n",
       "      <td>13</td>\n",
       "      <td>0.666667</td>\n",
       "    </tr>\n",
       "  </tbody>\n",
       "</table>\n",
       "<p>83 rows × 5 columns</p>\n",
       "</div>"
      ],
      "text/plain": [
       "    ProblemsAttempted  PercCorrectEventually  MedAttempts  MaxAttempts  \\\n",
       "0                  19               0.421053          4.0           35   \n",
       "1                  19               0.789474          5.0           41   \n",
       "2                  24               0.916667          2.5           29   \n",
       "3                  17               0.764706          2.0           77   \n",
       "4                  30               1.000000          3.0           41   \n",
       "..                ...                    ...          ...          ...   \n",
       "78                 30               0.966667          3.0           44   \n",
       "79                 30               1.000000          1.0            4   \n",
       "80                 20               1.000000          1.0           10   \n",
       "81                 20               1.000000          1.0            4   \n",
       "82                 30               1.000000          1.0           13   \n",
       "\n",
       "    PercCorrectFirstTry  \n",
       "0              0.210526  \n",
       "1              0.157895  \n",
       "2              0.291667  \n",
       "3              0.352941  \n",
       "4              0.300000  \n",
       "..                  ...  \n",
       "78             0.300000  \n",
       "79             0.766667  \n",
       "80             0.650000  \n",
       "81             0.650000  \n",
       "82             0.666667  \n",
       "\n",
       "[83 rows x 5 columns]"
      ]
     },
     "execution_count": 47,
     "metadata": {},
     "output_type": "execute_result"
    }
   ],
   "source": [
    "test_ps2 = ProgSnap2Dataset(os.path.join(TEST_PATH, 'Data'))\n",
    "early_test = pd.read_csv(os.path.join(TEST_PATH, 'early.csv'))\n",
    "late_test = pd.read_csv(os.path.join(TEST_PATH, 'late.csv'))\n",
    "\n",
    "# The Subject.csv link table is just the SubjectIDs to be predicted\n",
    "X_test_base = test_ps2.load_link_table('Subject')\n",
    "X_test_unscaled = X_test_base.apply(lambda row: extract_instance_features(row, early_test), axis=1)\n",
    "X_test_unscaled"
   ]
  },
  {
   "cell_type": "code",
   "execution_count": 48,
   "metadata": {},
   "outputs": [],
   "source": [
    "X_test = scaler.transform(X_test_unscaled)"
   ]
  },
  {
   "cell_type": "code",
   "execution_count": 49,
   "metadata": {
    "scrolled": true
   },
   "outputs": [
    {
     "data": {
      "text/plain": [
       "(83, 5)"
      ]
     },
     "execution_count": 49,
     "metadata": {},
     "output_type": "execute_result"
    }
   ],
   "source": [
    "X_test.shape"
   ]
  },
  {
   "cell_type": "markdown",
   "metadata": {},
   "source": [
    "When writing output to be judged, make _sure_ to **output probabilities** for the positive class, so that we can calculate AUC when judging!"
   ]
  },
  {
   "cell_type": "code",
   "execution_count": 50,
   "metadata": {},
   "outputs": [],
   "source": [
    "model = LassoCV()\n",
    "model.fit(X_train, y_train)\n",
    "predictions = model.predict(X_test)"
   ]
  },
  {
   "cell_type": "code",
   "execution_count": 51,
   "metadata": {},
   "outputs": [
    {
     "data": {
      "text/plain": [
       "array([ 2.25210773e-01,  3.81428547e-01,  5.82786728e-01,  4.10956312e-01,\n",
       "        6.64174706e-01,  6.15620613e-01,  5.91372031e-01,  7.81499333e-01,\n",
       "        6.14208739e-01,  7.42456756e-01, -1.00441829e-01,  7.06688698e-01,\n",
       "        8.25546781e-01,  4.65928547e-01,  7.64090294e-01,  6.76188458e-01,\n",
       "        7.49631140e-01,  7.81860473e-01,  7.24074988e-01,  6.16245391e-01,\n",
       "        7.78524312e-01,  6.08201863e-01, -3.48426295e-01,  8.38756458e-01,\n",
       "        5.50283756e-01,  7.27688089e-01,  7.74100420e-04,  5.60165847e-01,\n",
       "        6.32946519e-01,  5.90343327e-01,  8.22904483e-01,  5.10591476e-01,\n",
       "        7.30022913e-01,  4.29984394e-01,  8.00882247e-01,  6.80623584e-01,\n",
       "        5.89676162e-01,  5.31832586e-01,  6.39217575e-01,  6.25798903e-01,\n",
       "        6.27982633e-01,  6.81292007e-01,  5.55844944e-01,  6.54567488e-01,\n",
       "        6.81596314e-01,  6.91398778e-01,  7.90704426e-01,  7.24103405e-01,\n",
       "        8.27577490e-01,  3.62362656e-01,  6.16329162e-01,  6.62812420e-01,\n",
       "        7.36447372e-01,  4.88533105e-01,  6.74952408e-01,  5.31046301e-01,\n",
       "        7.16900604e-01,  6.93305759e-01,  5.23016590e-01,  8.21404252e-01,\n",
       "        6.44695523e-01,  7.46461340e-01,  6.89313744e-01,  2.64003986e-01,\n",
       "        6.72823880e-01,  6.47324562e-01,  8.35753020e-01,  7.72517436e-01,\n",
       "        6.24507668e-01,  8.01992922e-01,  7.31277788e-01,  6.15663823e-01,\n",
       "        5.85866357e-01,  5.52189088e-01,  5.52077842e-01,  6.03517598e-01,\n",
       "        8.33722311e-01,  7.13589883e-01,  6.43790646e-01,  8.38756458e-01,\n",
       "        7.11920783e-01,  7.17927659e-01,  8.08222993e-01])"
      ]
     },
     "execution_count": 51,
     "metadata": {},
     "output_type": "execute_result"
    }
   ],
   "source": [
    "predictions"
   ]
  },
  {
   "cell_type": "code",
   "execution_count": 55,
   "metadata": {
    "scrolled": true
   },
   "outputs": [
    {
     "data": {
      "text/html": [
       "<div>\n",
       "<style scoped>\n",
       "    .dataframe tbody tr th:only-of-type {\n",
       "        vertical-align: middle;\n",
       "    }\n",
       "\n",
       "    .dataframe tbody tr th {\n",
       "        vertical-align: top;\n",
       "    }\n",
       "\n",
       "    .dataframe thead th {\n",
       "        text-align: right;\n",
       "    }\n",
       "</style>\n",
       "<table border=\"1\" class=\"dataframe\">\n",
       "  <thead>\n",
       "    <tr style=\"text-align: right;\">\n",
       "      <th></th>\n",
       "      <th>SubjectID</th>\n",
       "      <th>X-Grade</th>\n",
       "    </tr>\n",
       "  </thead>\n",
       "  <tbody>\n",
       "    <tr>\n",
       "      <th>0</th>\n",
       "      <td>0bdf2c1f053650715e1f0c725d754b96</td>\n",
       "      <td>0.225211</td>\n",
       "    </tr>\n",
       "    <tr>\n",
       "      <th>1</th>\n",
       "      <td>d7419ae04f248e5105ac3d0700389775</td>\n",
       "      <td>0.381429</td>\n",
       "    </tr>\n",
       "    <tr>\n",
       "      <th>2</th>\n",
       "      <td>81a0c4689fb7ce553a0d5c2fd19b6efd</td>\n",
       "      <td>0.582787</td>\n",
       "    </tr>\n",
       "    <tr>\n",
       "      <th>3</th>\n",
       "      <td>468cbac056133a996283cca7e2976336</td>\n",
       "      <td>0.410956</td>\n",
       "    </tr>\n",
       "    <tr>\n",
       "      <th>4</th>\n",
       "      <td>e4191d610537305de1d294adb121b513</td>\n",
       "      <td>0.664175</td>\n",
       "    </tr>\n",
       "    <tr>\n",
       "      <th>...</th>\n",
       "      <td>...</td>\n",
       "      <td>...</td>\n",
       "    </tr>\n",
       "    <tr>\n",
       "      <th>78</th>\n",
       "      <td>cb03474483e366b5c8dd9f4a2a7537c1</td>\n",
       "      <td>0.643791</td>\n",
       "    </tr>\n",
       "    <tr>\n",
       "      <th>79</th>\n",
       "      <td>cc70903297fe1e25537ae50aea186306</td>\n",
       "      <td>0.838756</td>\n",
       "    </tr>\n",
       "    <tr>\n",
       "      <th>80</th>\n",
       "      <td>29b2cd4a11745fefecc14912d2f95dd8</td>\n",
       "      <td>0.711921</td>\n",
       "    </tr>\n",
       "    <tr>\n",
       "      <th>81</th>\n",
       "      <td>700fe688ff2970d633ff04c9b7f7cdd4</td>\n",
       "      <td>0.717928</td>\n",
       "    </tr>\n",
       "    <tr>\n",
       "      <th>82</th>\n",
       "      <td>f0cd63afa3dd55eb9f7857db09d52ce3</td>\n",
       "      <td>0.808223</td>\n",
       "    </tr>\n",
       "  </tbody>\n",
       "</table>\n",
       "<p>83 rows × 2 columns</p>\n",
       "</div>"
      ],
      "text/plain": [
       "                           SubjectID   X-Grade\n",
       "0   0bdf2c1f053650715e1f0c725d754b96  0.225211\n",
       "1   d7419ae04f248e5105ac3d0700389775  0.381429\n",
       "2   81a0c4689fb7ce553a0d5c2fd19b6efd  0.582787\n",
       "3   468cbac056133a996283cca7e2976336  0.410956\n",
       "4   e4191d610537305de1d294adb121b513  0.664175\n",
       "..                               ...       ...\n",
       "78  cb03474483e366b5c8dd9f4a2a7537c1  0.643791\n",
       "79  cc70903297fe1e25537ae50aea186306  0.838756\n",
       "80  29b2cd4a11745fefecc14912d2f95dd8  0.711921\n",
       "81  700fe688ff2970d633ff04c9b7f7cdd4  0.717928\n",
       "82  f0cd63afa3dd55eb9f7857db09d52ce3  0.808223\n",
       "\n",
       "[83 rows x 2 columns]"
      ]
     },
     "execution_count": 55,
     "metadata": {},
     "output_type": "execute_result"
    }
   ],
   "source": [
    "predictions_df = X_test_base.copy()\n",
    "predictions_df['X-Grade'] = predictions\n",
    "predictions_df"
   ]
  },
  {
   "cell_type": "code",
   "execution_count": 53,
   "metadata": {},
   "outputs": [],
   "source": [
    "# We don't have the test labels - you have to submit to evaluate it"
   ]
  },
  {
   "cell_type": "code",
   "execution_count": 56,
   "metadata": {},
   "outputs": [],
   "source": [
    "# We use res/predictions.csv, since that's where the scoring rogram expects it\n",
    "# but you can change this directory\n",
    "path = os.path.join('data', 'Prediction', semester, 'basic_LR_task2', 'res')\n",
    "os.makedirs(path, exist_ok=True)\n",
    "predictions_df.to_csv(os.path.join(path, 'predictions.csv'), index=False)"
   ]
  }
 ],
 "metadata": {
  "kernelspec": {
   "display_name": "Python 3",
   "language": "python",
   "name": "python3"
  },
  "language_info": {
   "codemirror_mode": {
    "name": "ipython",
    "version": 3
   },
   "file_extension": ".py",
   "mimetype": "text/x-python",
   "name": "python",
   "nbconvert_exporter": "python",
   "pygments_lexer": "ipython3",
   "version": "3.7.6"
  }
 },
 "nbformat": 4,
 "nbformat_minor": 4
}
