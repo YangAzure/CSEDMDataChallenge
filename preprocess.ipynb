{
 "cells": [
  {
   "cell_type": "code",
   "execution_count": 1,
   "metadata": {},
   "outputs": [],
   "source": [
    "import pandas as pd\n",
    "import numpy as np\n",
    "from ProgSnap2 import ProgSnap2Dataset\n",
    "from ProgSnap2 import PS2\n",
    "import matplotlib.pyplot as plt\n",
    "from sklearn.model_selection import train_test_split\n",
    "import numpy as np\n",
    "import os\n",
    "from os import path"
   ]
  },
  {
   "cell_type": "markdown",
   "metadata": {},
   "source": [
    "## Loading and Cleaning Data\n",
    "We load our data using the ProgSnap2Dataset class. This comes with both a main event table and a LinkTable giving students final exam data."
   ]
  },
  {
   "cell_type": "code",
   "execution_count": 2,
   "metadata": {},
   "outputs": [],
   "source": [
    "semester = 'S19'\n",
    "PATH = \"data/CodeWorkout/\" + semester"
   ]
  },
  {
   "cell_type": "code",
   "execution_count": 3,
   "metadata": {},
   "outputs": [],
   "source": [
    "data = ProgSnap2Dataset(PATH)"
   ]
  },
  {
   "cell_type": "code",
   "execution_count": 4,
   "metadata": {},
   "outputs": [],
   "source": [
    "# Drop the attempt column, since it's calculated incorrectly\n",
    "data.drop_main_table_column('Attempt')"
   ]
  },
  {
   "cell_type": "code",
   "execution_count": 5,
   "metadata": {},
   "outputs": [],
   "source": [
    "main_table = data.get_main_table()\n",
    "student_table = data.load_link_table('Subject')"
   ]
  },
  {
   "cell_type": "code",
   "execution_count": 6,
   "metadata": {
    "scrolled": false
   },
   "outputs": [
    {
     "data": {
      "text/html": [
       "<div>\n",
       "<style scoped>\n",
       "    .dataframe tbody tr th:only-of-type {\n",
       "        vertical-align: middle;\n",
       "    }\n",
       "\n",
       "    .dataframe tbody tr th {\n",
       "        vertical-align: top;\n",
       "    }\n",
       "\n",
       "    .dataframe thead th {\n",
       "        text-align: right;\n",
       "    }\n",
       "</style>\n",
       "<table border=\"1\" class=\"dataframe\">\n",
       "  <thead>\n",
       "    <tr style=\"text-align: right;\">\n",
       "      <th></th>\n",
       "      <th>Order</th>\n",
       "      <th>SubjectID</th>\n",
       "      <th>ToolInstances</th>\n",
       "      <th>ServerTimestamp</th>\n",
       "      <th>ServerTimezone</th>\n",
       "      <th>CourseID</th>\n",
       "      <th>CourseSectionID</th>\n",
       "      <th>AssignmentID</th>\n",
       "      <th>ProblemID</th>\n",
       "      <th>CodeStateID</th>\n",
       "      <th>IsEventOrderingConsistent</th>\n",
       "      <th>EventType</th>\n",
       "      <th>Score</th>\n",
       "      <th>Compile.Result</th>\n",
       "      <th>CompileMessageType</th>\n",
       "      <th>CompileMessageData</th>\n",
       "      <th>EventID</th>\n",
       "      <th>ParentEventID</th>\n",
       "      <th>SourceLocation</th>\n",
       "    </tr>\n",
       "  </thead>\n",
       "  <tbody>\n",
       "    <tr>\n",
       "      <th>119630</th>\n",
       "      <td>119630</td>\n",
       "      <td>00c54f9462673d4c09d2a88121860841</td>\n",
       "      <td>Java 8; CodeWorkout</td>\n",
       "      <td>2019-02-24T05:13:03</td>\n",
       "      <td>UTC</td>\n",
       "      <td>CS 1</td>\n",
       "      <td>1</td>\n",
       "      <td>439.0</td>\n",
       "      <td>1</td>\n",
       "      <td>efdf3fae54cdc0a09fb81fcfa365c5f843e837b0</td>\n",
       "      <td>True</td>\n",
       "      <td>Run.Program</td>\n",
       "      <td>1.00</td>\n",
       "      <td>NaN</td>\n",
       "      <td>NaN</td>\n",
       "      <td>NaN</td>\n",
       "      <td>1-69176</td>\n",
       "      <td>NaN</td>\n",
       "      <td>NaN</td>\n",
       "    </tr>\n",
       "    <tr>\n",
       "      <th>119631</th>\n",
       "      <td>119631</td>\n",
       "      <td>00c54f9462673d4c09d2a88121860841</td>\n",
       "      <td>Java 8; CodeWorkout</td>\n",
       "      <td>2019-02-24T05:13:03</td>\n",
       "      <td>UTC</td>\n",
       "      <td>CS 1</td>\n",
       "      <td>1</td>\n",
       "      <td>439.0</td>\n",
       "      <td>1</td>\n",
       "      <td>efdf3fae54cdc0a09fb81fcfa365c5f843e837b0</td>\n",
       "      <td>True</td>\n",
       "      <td>Compile</td>\n",
       "      <td>NaN</td>\n",
       "      <td>Success</td>\n",
       "      <td>NaN</td>\n",
       "      <td>NaN</td>\n",
       "      <td>1-69177</td>\n",
       "      <td>1-69176</td>\n",
       "      <td>NaN</td>\n",
       "    </tr>\n",
       "    <tr>\n",
       "      <th>134330</th>\n",
       "      <td>134330</td>\n",
       "      <td>00c54f9462673d4c09d2a88121860841</td>\n",
       "      <td>Java 8; CodeWorkout</td>\n",
       "      <td>2019-02-24T05:13:33</td>\n",
       "      <td>0</td>\n",
       "      <td>CS 1</td>\n",
       "      <td>1</td>\n",
       "      <td>439.0</td>\n",
       "      <td>3</td>\n",
       "      <td>79b2bcc8f502e1f7d2d4e83d1894964684c89b85</td>\n",
       "      <td>True</td>\n",
       "      <td>Run.Program</td>\n",
       "      <td>1.00</td>\n",
       "      <td>NaN</td>\n",
       "      <td>NaN</td>\n",
       "      <td>NaN</td>\n",
       "      <td>3-68089</td>\n",
       "      <td>NaN</td>\n",
       "      <td>NaN</td>\n",
       "    </tr>\n",
       "    <tr>\n",
       "      <th>134331</th>\n",
       "      <td>134331</td>\n",
       "      <td>00c54f9462673d4c09d2a88121860841</td>\n",
       "      <td>Java 8; CodeWorkout</td>\n",
       "      <td>2019-02-24T05:13:33</td>\n",
       "      <td>0</td>\n",
       "      <td>CS 1</td>\n",
       "      <td>1</td>\n",
       "      <td>439.0</td>\n",
       "      <td>3</td>\n",
       "      <td>79b2bcc8f502e1f7d2d4e83d1894964684c89b85</td>\n",
       "      <td>True</td>\n",
       "      <td>Compile</td>\n",
       "      <td>NaN</td>\n",
       "      <td>Success</td>\n",
       "      <td>NaN</td>\n",
       "      <td>NaN</td>\n",
       "      <td>3-68090</td>\n",
       "      <td>3-68089</td>\n",
       "      <td>NaN</td>\n",
       "    </tr>\n",
       "    <tr>\n",
       "      <th>65666</th>\n",
       "      <td>65666</td>\n",
       "      <td>00c54f9462673d4c09d2a88121860841</td>\n",
       "      <td>Java 8; CodeWorkout</td>\n",
       "      <td>2019-02-24T05:09:54</td>\n",
       "      <td>UTC</td>\n",
       "      <td>CS 1</td>\n",
       "      <td>1</td>\n",
       "      <td>439.0</td>\n",
       "      <td>5</td>\n",
       "      <td>2697d299e7c5992f557ce38d8a04345112a11af8</td>\n",
       "      <td>True</td>\n",
       "      <td>Run.Program</td>\n",
       "      <td>0.75</td>\n",
       "      <td>NaN</td>\n",
       "      <td>NaN</td>\n",
       "      <td>NaN</td>\n",
       "      <td>5-35681</td>\n",
       "      <td>NaN</td>\n",
       "      <td>NaN</td>\n",
       "    </tr>\n",
       "  </tbody>\n",
       "</table>\n",
       "</div>"
      ],
      "text/plain": [
       "         Order                         SubjectID        ToolInstances  \\\n",
       "119630  119630  00c54f9462673d4c09d2a88121860841  Java 8; CodeWorkout   \n",
       "119631  119631  00c54f9462673d4c09d2a88121860841  Java 8; CodeWorkout   \n",
       "134330  134330  00c54f9462673d4c09d2a88121860841  Java 8; CodeWorkout   \n",
       "134331  134331  00c54f9462673d4c09d2a88121860841  Java 8; CodeWorkout   \n",
       "65666    65666  00c54f9462673d4c09d2a88121860841  Java 8; CodeWorkout   \n",
       "\n",
       "            ServerTimestamp ServerTimezone CourseID  CourseSectionID  \\\n",
       "119630  2019-02-24T05:13:03            UTC     CS 1                1   \n",
       "119631  2019-02-24T05:13:03            UTC     CS 1                1   \n",
       "134330  2019-02-24T05:13:33              0     CS 1                1   \n",
       "134331  2019-02-24T05:13:33              0     CS 1                1   \n",
       "65666   2019-02-24T05:09:54            UTC     CS 1                1   \n",
       "\n",
       "        AssignmentID  ProblemID                               CodeStateID  \\\n",
       "119630         439.0          1  efdf3fae54cdc0a09fb81fcfa365c5f843e837b0   \n",
       "119631         439.0          1  efdf3fae54cdc0a09fb81fcfa365c5f843e837b0   \n",
       "134330         439.0          3  79b2bcc8f502e1f7d2d4e83d1894964684c89b85   \n",
       "134331         439.0          3  79b2bcc8f502e1f7d2d4e83d1894964684c89b85   \n",
       "65666          439.0          5  2697d299e7c5992f557ce38d8a04345112a11af8   \n",
       "\n",
       "        IsEventOrderingConsistent    EventType  Score Compile.Result  \\\n",
       "119630                       True  Run.Program   1.00            NaN   \n",
       "119631                       True      Compile    NaN        Success   \n",
       "134330                       True  Run.Program   1.00            NaN   \n",
       "134331                       True      Compile    NaN        Success   \n",
       "65666                        True  Run.Program   0.75            NaN   \n",
       "\n",
       "       CompileMessageType CompileMessageData  EventID ParentEventID  \\\n",
       "119630                NaN                NaN  1-69176           NaN   \n",
       "119631                NaN                NaN  1-69177       1-69176   \n",
       "134330                NaN                NaN  3-68089           NaN   \n",
       "134331                NaN                NaN  3-68090       3-68089   \n",
       "65666                 NaN                NaN  5-35681           NaN   \n",
       "\n",
       "       SourceLocation  \n",
       "119630            NaN  \n",
       "119631            NaN  \n",
       "134330            NaN  \n",
       "134331            NaN  \n",
       "65666             NaN  "
      ]
     },
     "execution_count": 6,
     "metadata": {},
     "output_type": "execute_result"
    }
   ],
   "source": [
    "main_table.head()"
   ]
  },
  {
   "cell_type": "markdown",
   "metadata": {},
   "source": [
    "### Fall 2019 Preprocessing\n",
    "\n",
    "There were some differences between F19 and S19:\n",
    "* In F19 there was an additional assignment (between Assignment 4 and 5), which only ~70% of students completed, likely additional optional practice. We will not use this assignment for prediction, since it is abnormal and not in S19. Since it comes in between the two assignments we are using for prediction, we simply remove it.\n",
    "* In F19 the AssignmentIDs were renamed, so we will update their names\n",
    "* In F19 2 ProblemIDs were renamed (though the solutions were unchanged), so we will update their names"
   ]
  },
  {
   "cell_type": "code",
   "execution_count": 7,
   "metadata": {
    "scrolled": true
   },
   "outputs": [
    {
     "name": "stdout",
     "output_type": "stream",
     "text": [
      "5\n",
      "50\n"
     ]
    }
   ],
   "source": [
    "print(len(main_table[PS2.AssignmentID].unique()))\n",
    "print(len(main_table[PS2.ProblemID].unique()))"
   ]
  },
  {
   "cell_type": "code",
   "execution_count": 8,
   "metadata": {},
   "outputs": [],
   "source": [
    "# This assignment has no analogue, but we use 500 to put it between the other 2\n",
    "NEW_F19_ASSIGNMENT = 500"
   ]
  },
  {
   "cell_type": "code",
   "execution_count": 9,
   "metadata": {},
   "outputs": [],
   "source": [
    "if semester == 'F19':\n",
    "    assignment_map = {\n",
    "        597: 439,\n",
    "        600: 487,\n",
    "        609: 492,\n",
    "        615: 494,\n",
    "        622: NEW_F19_ASSIGNMENT,\n",
    "        631: 502,\n",
    "    }\n",
    "    print(np.mean(main_table[PS2.AssignmentID].isin(assignment_map)))\n",
    "    main_table[PS2.AssignmentID] = main_table[PS2.AssignmentID].map(assignment_map)\n",
    "    \n",
    "    # Two problems were renamed but are equivalent\n",
    "    problem_map = {problem_id: problem_id for problem_id in main_table[PS2.ProblemID].unique()}\n",
    "    problem_map[736] = 45\n",
    "    problem_map[737] = 48\n",
    "    print(np.mean(main_table[PS2.ProblemID].isin(problem_map)))\n",
    "    main_table[PS2.ProblemID] = main_table[PS2.ProblemID].map(problem_map, na_action='ignore')\n",
    "    \n",
    "    # Overwrite the main table so this is the one that's copied\n",
    "    data.set_main_table(main_table)"
   ]
  },
  {
   "cell_type": "code",
   "execution_count": 10,
   "metadata": {},
   "outputs": [
    {
     "name": "stdout",
     "output_type": "stream",
     "text": [
      "5\n",
      "50\n"
     ]
    }
   ],
   "source": [
    "print(len(main_table[PS2.AssignmentID].unique()))\n",
    "print(len(main_table[PS2.ProblemID].unique()))"
   ]
  },
  {
   "cell_type": "code",
   "execution_count": 11,
   "metadata": {},
   "outputs": [
    {
     "data": {
      "text/plain": [
       "119630      1\n",
       "119631      1\n",
       "134330      3\n",
       "134331      3\n",
       "65666       5\n",
       "         ... \n",
       "108283     71\n",
       "110202    112\n",
       "110203    112\n",
       "81273     118\n",
       "81274     118\n",
       "Name: ProblemID, Length: 201570, dtype: int64"
      ]
     },
     "execution_count": 11,
     "metadata": {},
     "output_type": "execute_result"
    }
   ],
   "source": [
    "main_table[PS2.ProblemID]"
   ]
  },
  {
   "cell_type": "markdown",
   "metadata": {},
   "source": [
    "### Filtering Students\n",
    "\n",
    "Here we remove studens who did not take the final exam, since we cannot use these for Task 2 (final exam score prediction). While this does somewhat bias the dataset for Task 1, it also ensures a consistent set of training/testing students for both tasks.\n",
    "\n",
    "We can also see that few students are actually removed this way (381 -> 348 for S19)."
   ]
  },
  {
   "cell_type": "code",
   "execution_count": 12,
   "metadata": {
    "scrolled": false
   },
   "outputs": [
    {
     "name": "stdout",
     "output_type": "stream",
     "text": [
      "381\n"
     ]
    },
    {
     "data": {
      "text/plain": [
       "348"
      ]
     },
     "execution_count": 12,
     "metadata": {},
     "output_type": "execute_result"
    }
   ],
   "source": [
    "# Get the SubjectIDs where the final grade is non-0\n",
    "# A 0 grade indicates the student did not take the final\n",
    "print(len(student_table.index))\n",
    "subject_ids = set(student_table[student_table['X-Grade'] != 0][PS2.SubjectID].unique())\n",
    "subject_ids = subject_ids.intersection(set(student_table['SubjectID'].unique()))\n",
    "len(subject_ids)"
   ]
  },
  {
   "cell_type": "markdown",
   "metadata": {},
   "source": [
    "### EDA\n",
    "\n",
    "We want to confirm that our selected students have a good and well-distributed number of attempts at all the problems in the dataset, and the most problems were well-attempted. The stats and figures below suggest that this is the case: most problems are attempted by ~300/350 students, and most students complete ~40/50 problems."
   ]
  },
  {
   "cell_type": "markdown",
   "metadata": {},
   "source": []
  },
  {
   "cell_type": "code",
   "execution_count": 13,
   "metadata": {},
   "outputs": [
    {
     "data": {
      "text/plain": [
       "count    346.000000\n",
       "mean      42.855491\n",
       "std       10.331712\n",
       "min        1.000000\n",
       "25%       40.000000\n",
       "50%       48.500000\n",
       "75%       50.000000\n",
       "max       50.000000\n",
       "dtype: float64"
      ]
     },
     "execution_count": 13,
     "metadata": {},
     "output_type": "execute_result"
    }
   ],
   "source": [
    "# First we check how many problems each student attempted\n",
    "main_table_filtered = main_table[main_table[PS2.SubjectID].isin(subject_ids)]\n",
    "problems_per_student = main_table_filtered.groupby(by=['SubjectID']).apply(lambda rows: len(rows[PS2.ProblemID].unique()))\n",
    "# 75% of problems were attempted by at least 40 studens, so that's good\n",
    "problems_per_student.describe()"
   ]
  },
  {
   "cell_type": "code",
   "execution_count": 14,
   "metadata": {
    "scrolled": true
   },
   "outputs": [
    {
     "data": {
      "text/plain": [
       "3"
      ]
     },
     "execution_count": 14,
     "metadata": {},
     "output_type": "execute_result"
    }
   ],
   "source": [
    "# Only 3 attempted fewer than 10 problems\n",
    "sum(problems_per_student < 10)"
   ]
  },
  {
   "cell_type": "code",
   "execution_count": 15,
   "metadata": {
    "scrolled": true
   },
   "outputs": [
    {
     "data": {
      "text/plain": [
       "count     50.000000\n",
       "mean     296.560000\n",
       "std       14.642906\n",
       "min      267.000000\n",
       "25%      285.000000\n",
       "50%      295.500000\n",
       "75%      309.750000\n",
       "max      324.000000\n",
       "dtype: float64"
      ]
     },
     "execution_count": 15,
     "metadata": {},
     "output_type": "execute_result"
    }
   ],
   "source": [
    "# Next we see how many students attempted each problem\n",
    "students_per_problem = main_table_filtered.groupby(by=['AssignmentID', 'ProblemID']).apply(lambda rows: len(rows[PS2.SubjectID].unique()))\n",
    "students_per_problem.describe()"
   ]
  },
  {
   "cell_type": "code",
   "execution_count": 16,
   "metadata": {
    "scrolled": true
   },
   "outputs": [
    {
     "data": {
      "text/plain": [
       "<BarContainer object of 50 artists>"
      ]
     },
     "execution_count": 16,
     "metadata": {},
     "output_type": "execute_result"
    },
    {
     "data": {
      "image/png": "[encoded data removed]",
      "text/plain": [
       "<Figure size 432x288 with 1 Axes>"
      ]
     },
     "metadata": {
      "needs_background": "light"
     },
     "output_type": "display_data"
    }
   ],
   "source": [
    "# Next we plot the number of attemptes on each problem (x) / assignment (color)\n",
    "from matplotlib.cm import viridis\n",
    "\n",
    "assignment_ids = list(students_per_problem.keys().map(lambda x: x[0]))\n",
    "assignment_ids = [sorted(assignment_ids).index(x) for x in assignment_ids]\n",
    "colors = [viridis((float(i)-min(assignment_ids))/(max(assignment_ids)-min(assignment_ids))) for i in assignment_ids]\n",
    "\n",
    "# There's a slight drop-off by assignment, but overall they're well-attempted\n",
    "plt.bar(range(0, len(students_per_problem)), students_per_problem, color=colors)"
   ]
  },
  {
   "cell_type": "markdown",
   "metadata": {},
   "source": [
    "## Creating the Class Label: Identifying Struggling Students\n",
    "\n",
    "In any student modeling task, our goal is to predict if a student will struggle on the next problem. For this dataset, it's not obvious how to define that struggle.\n",
    "\n",
    "We will define struggle as either:\n",
    "1. Never getting a problem correct or \n",
    "2. Taking more attempts at a problem than 75% of students before getting it correct.\n",
    "\n",
    "The code below justifies this decision by showing that most students get the problem correct _eventually_, and most student with more than the 75th percentil of attempts end up with many more attempts than their peers, indicating struggle."
   ]
  },
  {
   "cell_type": "markdown",
   "metadata": {},
   "source": [
    "### Aggregate data by problem\n",
    "\n",
    "We first get all scored submissions (`Run.Program` events) and aggregate them by SubjectID and ProblemID, counting the number of attempts until a correct submission."
   ]
  },
  {
   "cell_type": "code",
   "execution_count": 17,
   "metadata": {},
   "outputs": [],
   "source": [
    "runs = main_table_filtered[main_table_filtered[PS2.EventType] == 'Run.Program'].copy()\n",
    "runs['TimeInt'] = pd.to_datetime(runs[PS2.ServerTimestamp]).apply(lambda x: x.value)"
   ]
  },
  {
   "cell_type": "code",
   "execution_count": 18,
   "metadata": {
    "scrolled": true
   },
   "outputs": [
    {
     "data": {
      "text/plain": [
       "count    14828.000000\n",
       "mean         4.196318\n",
       "std          5.879822\n",
       "min          1.000000\n",
       "25%          1.000000\n",
       "50%          2.000000\n",
       "75%          5.000000\n",
       "max         93.000000\n",
       "dtype: float64"
      ]
     },
     "execution_count": 18,
     "metadata": {},
     "output_type": "execute_result"
    }
   ],
   "source": [
    "def get_attempts(rows):\n",
    "    scores = rows[PS2.Score]\n",
    "    # If they scored 1, we return the first time they did so\n",
    "    if (scores.max() == 1):\n",
    "        # Argmax returns the first index of the highest score\n",
    "        # Since the array is 0-indexed, we return +1\n",
    "        return rows[PS2.Score].argmax() + 1\n",
    "    return len(rows.index)\n",
    "    \n",
    "\n",
    "scores = runs.groupby([PS2.SubjectID, PS2.AssignmentID, PS2.ProblemID]).apply(get_attempts)\n",
    "scores.describe()"
   ]
  },
  {
   "cell_type": "code",
   "execution_count": 19,
   "metadata": {
    "scrolled": false
   },
   "outputs": [
    {
     "data": {
      "text/plain": [
       "count    14828.000000\n",
       "mean         4.345090\n",
       "std          6.076818\n",
       "min          1.000000\n",
       "25%          1.000000\n",
       "50%          2.000000\n",
       "75%          5.000000\n",
       "max         93.000000\n",
       "dtype: float64"
      ]
     },
     "execution_count": 19,
     "metadata": {},
     "output_type": "execute_result"
    }
   ],
   "source": [
    "# Confirm that this is different than just the count of runs\n",
    "runs.groupby([PS2.SubjectID, PS2.AssignmentID, PS2.ProblemID]).apply(lambda x: len(x.index)).describe()"
   ]
  },
  {
   "cell_type": "code",
   "execution_count": 20,
   "metadata": {
    "scrolled": false
   },
   "outputs": [
    {
     "name": "stdout",
     "output_type": "stream",
     "text": [
      "(14828, 4)\n"
     ]
    },
    {
     "data": {
      "text/html": [
       "<div>\n",
       "<style scoped>\n",
       "    .dataframe tbody tr th:only-of-type {\n",
       "        vertical-align: middle;\n",
       "    }\n",
       "\n",
       "    .dataframe tbody tr th {\n",
       "        vertical-align: top;\n",
       "    }\n",
       "\n",
       "    .dataframe thead th {\n",
       "        text-align: right;\n",
       "    }\n",
       "</style>\n",
       "<table border=\"1\" class=\"dataframe\">\n",
       "  <thead>\n",
       "    <tr style=\"text-align: right;\">\n",
       "      <th></th>\n",
       "      <th>SubjectID</th>\n",
       "      <th>AssignmentID</th>\n",
       "      <th>ProblemID</th>\n",
       "      <th>Attempts</th>\n",
       "    </tr>\n",
       "  </thead>\n",
       "  <tbody>\n",
       "    <tr>\n",
       "      <th>0</th>\n",
       "      <td>036ad3e516c5bf3a4b3be35b137bcbb8</td>\n",
       "      <td>439.0</td>\n",
       "      <td>1</td>\n",
       "      <td>8</td>\n",
       "    </tr>\n",
       "    <tr>\n",
       "      <th>1</th>\n",
       "      <td>036ad3e516c5bf3a4b3be35b137bcbb8</td>\n",
       "      <td>439.0</td>\n",
       "      <td>3</td>\n",
       "      <td>6</td>\n",
       "    </tr>\n",
       "    <tr>\n",
       "      <th>2</th>\n",
       "      <td>036ad3e516c5bf3a4b3be35b137bcbb8</td>\n",
       "      <td>439.0</td>\n",
       "      <td>5</td>\n",
       "      <td>7</td>\n",
       "    </tr>\n",
       "    <tr>\n",
       "      <th>3</th>\n",
       "      <td>036ad3e516c5bf3a4b3be35b137bcbb8</td>\n",
       "      <td>439.0</td>\n",
       "      <td>12</td>\n",
       "      <td>2</td>\n",
       "    </tr>\n",
       "    <tr>\n",
       "      <th>4</th>\n",
       "      <td>036ad3e516c5bf3a4b3be35b137bcbb8</td>\n",
       "      <td>439.0</td>\n",
       "      <td>13</td>\n",
       "      <td>17</td>\n",
       "    </tr>\n",
       "  </tbody>\n",
       "</table>\n",
       "</div>"
      ],
      "text/plain": [
       "                          SubjectID  AssignmentID  ProblemID  Attempts\n",
       "0  036ad3e516c5bf3a4b3be35b137bcbb8         439.0          1         8\n",
       "1  036ad3e516c5bf3a4b3be35b137bcbb8         439.0          3         6\n",
       "2  036ad3e516c5bf3a4b3be35b137bcbb8         439.0          5         7\n",
       "3  036ad3e516c5bf3a4b3be35b137bcbb8         439.0         12         2\n",
       "4  036ad3e516c5bf3a4b3be35b137bcbb8         439.0         13        17"
      ]
     },
     "execution_count": 20,
     "metadata": {},
     "output_type": "execute_result"
    }
   ],
   "source": [
    "student_attempts = scores.to_frame('Attempts').reset_index()\n",
    "print(student_attempts.shape)\n",
    "student_attempts.head()"
   ]
  },
  {
   "cell_type": "markdown",
   "metadata": {},
   "source": [
    "### Checking Eventual Success\n",
    "\n",
    "Most student get each problem correct eventually, suggesting that the number of attempts is a more meaningful indicator of succeess."
   ]
  },
  {
   "cell_type": "code",
   "execution_count": 21,
   "metadata": {},
   "outputs": [],
   "source": [
    "correct_eventually = runs.groupby([PS2.SubjectID, PS2.AssignmentID, PS2.ProblemID])[PS2.Score].apply(lambda x: max(x) == 1)"
   ]
  },
  {
   "cell_type": "code",
   "execution_count": 22,
   "metadata": {
    "scrolled": true
   },
   "outputs": [
    {
     "data": {
      "text/plain": [
       "0.9299973024008632"
      ]
     },
     "execution_count": 22,
     "metadata": {},
     "output_type": "execute_result"
    }
   ],
   "source": [
    "np.mean(correct_eventually)"
   ]
  },
  {
   "cell_type": "code",
   "execution_count": 23,
   "metadata": {
    "scrolled": false
   },
   "outputs": [
    {
     "data": {
      "text/html": [
       "<div>\n",
       "<style scoped>\n",
       "    .dataframe tbody tr th:only-of-type {\n",
       "        vertical-align: middle;\n",
       "    }\n",
       "\n",
       "    .dataframe tbody tr th {\n",
       "        vertical-align: top;\n",
       "    }\n",
       "\n",
       "    .dataframe thead th {\n",
       "        text-align: right;\n",
       "    }\n",
       "</style>\n",
       "<table border=\"1\" class=\"dataframe\">\n",
       "  <thead>\n",
       "    <tr style=\"text-align: right;\">\n",
       "      <th></th>\n",
       "      <th>SubjectID</th>\n",
       "      <th>AssignmentID</th>\n",
       "      <th>ProblemID</th>\n",
       "      <th>Attempts</th>\n",
       "      <th>CorrectEventually</th>\n",
       "    </tr>\n",
       "  </thead>\n",
       "  <tbody>\n",
       "    <tr>\n",
       "      <th>0</th>\n",
       "      <td>036ad3e516c5bf3a4b3be35b137bcbb8</td>\n",
       "      <td>439.0</td>\n",
       "      <td>1</td>\n",
       "      <td>8</td>\n",
       "      <td>True</td>\n",
       "    </tr>\n",
       "    <tr>\n",
       "      <th>1</th>\n",
       "      <td>036ad3e516c5bf3a4b3be35b137bcbb8</td>\n",
       "      <td>439.0</td>\n",
       "      <td>3</td>\n",
       "      <td>6</td>\n",
       "      <td>True</td>\n",
       "    </tr>\n",
       "    <tr>\n",
       "      <th>2</th>\n",
       "      <td>036ad3e516c5bf3a4b3be35b137bcbb8</td>\n",
       "      <td>439.0</td>\n",
       "      <td>5</td>\n",
       "      <td>7</td>\n",
       "      <td>True</td>\n",
       "    </tr>\n",
       "    <tr>\n",
       "      <th>3</th>\n",
       "      <td>036ad3e516c5bf3a4b3be35b137bcbb8</td>\n",
       "      <td>439.0</td>\n",
       "      <td>12</td>\n",
       "      <td>2</td>\n",
       "      <td>True</td>\n",
       "    </tr>\n",
       "    <tr>\n",
       "      <th>4</th>\n",
       "      <td>036ad3e516c5bf3a4b3be35b137bcbb8</td>\n",
       "      <td>439.0</td>\n",
       "      <td>13</td>\n",
       "      <td>17</td>\n",
       "      <td>True</td>\n",
       "    </tr>\n",
       "    <tr>\n",
       "      <th>...</th>\n",
       "      <td>...</td>\n",
       "      <td>...</td>\n",
       "      <td>...</td>\n",
       "      <td>...</td>\n",
       "      <td>...</td>\n",
       "    </tr>\n",
       "    <tr>\n",
       "      <th>14823</th>\n",
       "      <td>ffb72475a81de0e95b910ffad039f5c2</td>\n",
       "      <td>502.0</td>\n",
       "      <td>64</td>\n",
       "      <td>2</td>\n",
       "      <td>True</td>\n",
       "    </tr>\n",
       "    <tr>\n",
       "      <th>14824</th>\n",
       "      <td>ffb72475a81de0e95b910ffad039f5c2</td>\n",
       "      <td>502.0</td>\n",
       "      <td>70</td>\n",
       "      <td>2</td>\n",
       "      <td>True</td>\n",
       "    </tr>\n",
       "    <tr>\n",
       "      <th>14825</th>\n",
       "      <td>ffb72475a81de0e95b910ffad039f5c2</td>\n",
       "      <td>502.0</td>\n",
       "      <td>71</td>\n",
       "      <td>1</td>\n",
       "      <td>True</td>\n",
       "    </tr>\n",
       "    <tr>\n",
       "      <th>14826</th>\n",
       "      <td>ffb72475a81de0e95b910ffad039f5c2</td>\n",
       "      <td>502.0</td>\n",
       "      <td>112</td>\n",
       "      <td>1</td>\n",
       "      <td>True</td>\n",
       "    </tr>\n",
       "    <tr>\n",
       "      <th>14827</th>\n",
       "      <td>ffb72475a81de0e95b910ffad039f5c2</td>\n",
       "      <td>502.0</td>\n",
       "      <td>118</td>\n",
       "      <td>1</td>\n",
       "      <td>True</td>\n",
       "    </tr>\n",
       "  </tbody>\n",
       "</table>\n",
       "<p>14828 rows × 5 columns</p>\n",
       "</div>"
      ],
      "text/plain": [
       "                              SubjectID  AssignmentID  ProblemID  Attempts  \\\n",
       "0      036ad3e516c5bf3a4b3be35b137bcbb8         439.0          1         8   \n",
       "1      036ad3e516c5bf3a4b3be35b137bcbb8         439.0          3         6   \n",
       "2      036ad3e516c5bf3a4b3be35b137bcbb8         439.0          5         7   \n",
       "3      036ad3e516c5bf3a4b3be35b137bcbb8         439.0         12         2   \n",
       "4      036ad3e516c5bf3a4b3be35b137bcbb8         439.0         13        17   \n",
       "...                                 ...           ...        ...       ...   \n",
       "14823  ffb72475a81de0e95b910ffad039f5c2         502.0         64         2   \n",
       "14824  ffb72475a81de0e95b910ffad039f5c2         502.0         70         2   \n",
       "14825  ffb72475a81de0e95b910ffad039f5c2         502.0         71         1   \n",
       "14826  ffb72475a81de0e95b910ffad039f5c2         502.0        112         1   \n",
       "14827  ffb72475a81de0e95b910ffad039f5c2         502.0        118         1   \n",
       "\n",
       "       CorrectEventually  \n",
       "0                   True  \n",
       "1                   True  \n",
       "2                   True  \n",
       "3                   True  \n",
       "4                   True  \n",
       "...                  ...  \n",
       "14823               True  \n",
       "14824               True  \n",
       "14825               True  \n",
       "14826               True  \n",
       "14827               True  \n",
       "\n",
       "[14828 rows x 5 columns]"
      ]
     },
     "execution_count": 23,
     "metadata": {},
     "output_type": "execute_result"
    }
   ],
   "source": [
    "student_scores = student_attempts.merge(correct_eventually.to_frame('CorrectEventually'), on=[PS2.SubjectID, PS2.AssignmentID, PS2.ProblemID])\n",
    "student_scores"
   ]
  },
  {
   "cell_type": "code",
   "execution_count": 24,
   "metadata": {
    "scrolled": true
   },
   "outputs": [
    {
     "data": {
      "text/plain": [
       "True     13790\n",
       "False     1038\n",
       "Name: CorrectEventually, dtype: int64"
      ]
     },
     "execution_count": 24,
     "metadata": {},
     "output_type": "execute_result"
    }
   ],
   "source": [
    "student_scores.CorrectEventually.value_counts()"
   ]
  },
  {
   "cell_type": "markdown",
   "metadata": {},
   "source": [
    "### Choosing a cutoff for \"struggling\"\n",
    "We choose the 75th percentile of attempts as the cutoff for struggling, and visualize this to verify that it meaningfully separates the \"tail\" of more struggling students from the main body. The chart below shows this for all 50 problems, and suggests that this is a reasonable (though by no means objectively correct) cutoff."
   ]
  },
  {
   "cell_type": "code",
   "execution_count": 25,
   "metadata": {
    "scrolled": true
   },
   "outputs": [
    {
     "data": {
      "text/plain": [
       "ProblemID\n",
       "1      2.0\n",
       "3      4.0\n",
       "5      4.0\n",
       "12     2.0\n",
       "13    11.0\n",
       "dtype: float64"
      ]
     },
     "execution_count": 25,
     "metadata": {},
     "output_type": "execute_result"
    }
   ],
   "source": [
    "problem_attempt_75th = student_scores.groupby(PS2.ProblemID).apply(lambda x: x.Attempts.quantile(0.75))\n",
    "problem_attempt_75th.head()"
   ]
  },
  {
   "cell_type": "code",
   "execution_count": 26,
   "metadata": {
    "scrolled": true
   },
   "outputs": [
    {
     "data": {
      "image/png": "[encoded data removed]",
      "text/plain": [
       "<Figure size 1080x720 with 50 Axes>"
      ]
     },
     "metadata": {
      "needs_background": "light"
     },
     "output_type": "display_data"
    }
   ],
   "source": [
    "import matplotlib\n",
    "matplotlib.rcParams['figure.figsize'] = [15, 10]\n",
    "\n",
    "problem_ids = list(student_scores.ProblemID.unique())\n",
    "fig, axs = plt.subplots(5, 10)\n",
    "for i in range(5):\n",
    "    for j in range(10):\n",
    "        problem_id = problem_ids[i * 10 + j]\n",
    "        attempts = student_scores[student_scores[PS2.ProblemID] == problem_id].Attempts\n",
    "        p75 = problem_attempt_75th[problem_id] + 1\n",
    "        axs[i, j].hist(attempts)\n",
    "        axs[i, j].vlines(p75, 0, 50)"
   ]
  },
  {
   "cell_type": "code",
   "execution_count": 27,
   "metadata": {},
   "outputs": [
    {
     "data": {
      "text/plain": [
       "True     10931\n",
       "False     3897\n",
       "Name: Label, dtype: int64"
      ]
     },
     "execution_count": 27,
     "metadata": {},
     "output_type": "execute_result"
    }
   ],
   "source": [
    "cutoffs = student_scores['ProblemID'].apply(lambda x: problem_attempt_75th[x])\n",
    "student_scores['Label'] = np.logical_and(student_scores['Attempts'] <= cutoffs, student_scores['CorrectEventually'])\n",
    "student_scores['Label'].value_counts()"
   ]
  },
  {
   "cell_type": "code",
   "execution_count": 28,
   "metadata": {
    "scrolled": false
   },
   "outputs": [
    {
     "data": {
      "text/plain": [
       "(array([ 3.,  2.,  8., 13., 24., 38., 56., 46., 65., 91.]),\n",
       " array([0. , 0.1, 0.2, 0.3, 0.4, 0.5, 0.6, 0.7, 0.8, 0.9, 1. ]),\n",
       " <a list of 10 Patch objects>)"
      ]
     },
     "execution_count": 28,
     "metadata": {},
     "output_type": "execute_result"
    },
    {
     "data": {
      "image/png": "[encoded data removed]",
      "text/plain": [
       "<Figure size 576x288 with 1 Axes>"
      ]
     },
     "metadata": {
      "needs_background": "light"
     },
     "output_type": "display_data"
    }
   ],
   "source": [
    "matplotlib.rcParams['figure.figsize'] = [8, 4]\n",
    "\n",
    "# The percentage of struggling problems per student is well-distributed\n",
    "plt.hist(student_scores.groupby(PS2.SubjectID)['Label'].mean())"
   ]
  },
  {
   "cell_type": "markdown",
   "metadata": {},
   "source": [
    "## Identifying Late Assignments\n",
    "\n",
    "Below we confirm that the 5 assignments are well-spaced out, with a consistent ordering accross students.\n",
    "\n",
    "The latter 2 assignments are what is predicted in Task 1 of the data challenge.\n",
    "\n",
    "We divide the data by assignment, rather than by problem, since within a given assignment studens do problems in a variety of orders (see analysis at the end of this document)."
   ]
  },
  {
   "cell_type": "code",
   "execution_count": 29,
   "metadata": {},
   "outputs": [],
   "source": [
    "problem_times = runs.groupby([PS2.AssignmentID, PS2.ProblemID])['TimeInt'].median()\n",
    "start_time = min(problem_times)\n",
    "problem_times = (problem_times - start_time) / 10**9\n",
    "\n",
    "problem_successes = runs[runs[PS2.Score] == 1].groupby([PS2.AssignmentID, PS2.ProblemID])['TimeInt'].median()\n",
    "problem_successes = (problem_successes - start_time) / 10**9"
   ]
  },
  {
   "cell_type": "code",
   "execution_count": 30,
   "metadata": {},
   "outputs": [
    {
     "data": {
      "text/html": [
       "<div>\n",
       "<style scoped>\n",
       "    .dataframe tbody tr th:only-of-type {\n",
       "        vertical-align: middle;\n",
       "    }\n",
       "\n",
       "    .dataframe tbody tr th {\n",
       "        vertical-align: top;\n",
       "    }\n",
       "\n",
       "    .dataframe thead th {\n",
       "        text-align: right;\n",
       "    }\n",
       "</style>\n",
       "<table border=\"1\" class=\"dataframe\">\n",
       "  <thead>\n",
       "    <tr style=\"text-align: right;\">\n",
       "      <th></th>\n",
       "      <th>AssignmentID</th>\n",
       "      <th>ProblemID</th>\n",
       "      <th>MedTime</th>\n",
       "      <th>MedSuccess</th>\n",
       "    </tr>\n",
       "  </thead>\n",
       "  <tbody>\n",
       "    <tr>\n",
       "      <th>0</th>\n",
       "      <td>439.0</td>\n",
       "      <td>1</td>\n",
       "      <td>10500.0</td>\n",
       "      <td>8412.0</td>\n",
       "    </tr>\n",
       "    <tr>\n",
       "      <th>1</th>\n",
       "      <td>439.0</td>\n",
       "      <td>3</td>\n",
       "      <td>8683.0</td>\n",
       "      <td>10464.0</td>\n",
       "    </tr>\n",
       "    <tr>\n",
       "      <th>2</th>\n",
       "      <td>439.0</td>\n",
       "      <td>5</td>\n",
       "      <td>5753.0</td>\n",
       "      <td>6900.5</td>\n",
       "    </tr>\n",
       "    <tr>\n",
       "      <th>3</th>\n",
       "      <td>439.0</td>\n",
       "      <td>12</td>\n",
       "      <td>3844.5</td>\n",
       "      <td>7733.5</td>\n",
       "    </tr>\n",
       "    <tr>\n",
       "      <th>4</th>\n",
       "      <td>439.0</td>\n",
       "      <td>13</td>\n",
       "      <td>0.0</td>\n",
       "      <td>2022.5</td>\n",
       "    </tr>\n",
       "  </tbody>\n",
       "</table>\n",
       "</div>"
      ],
      "text/plain": [
       "   AssignmentID  ProblemID  MedTime  MedSuccess\n",
       "0         439.0          1  10500.0      8412.0\n",
       "1         439.0          3   8683.0     10464.0\n",
       "2         439.0          5   5753.0      6900.5\n",
       "3         439.0         12   3844.5      7733.5\n",
       "4         439.0         13      0.0      2022.5"
      ]
     },
     "execution_count": 30,
     "metadata": {},
     "output_type": "execute_result"
    }
   ],
   "source": [
    "problem_stats = problem_times.to_frame('MedTime').join(problem_successes.to_frame('MedSuccess')).reset_index()\n",
    "problem_stats.head()"
   ]
  },
  {
   "cell_type": "code",
   "execution_count": 31,
   "metadata": {
    "scrolled": false
   },
   "outputs": [
    {
     "data": {
      "text/plain": [
       "<matplotlib.collections.PathCollection at 0x2636900f788>"
      ]
     },
     "execution_count": 31,
     "metadata": {},
     "output_type": "execute_result"
    },
    {
     "data": {
      "image/png": "[encoded data removed]",
      "text/plain": [
       "<Figure size 576x288 with 1 Axes>"
      ]
     },
     "metadata": {
      "needs_background": "light"
     },
     "output_type": "display_data"
    }
   ],
   "source": [
    "y = range(0, len(problem_stats.index))\n",
    "problem_stats.sort_values('MedTime', inplace=True)\n",
    "plt.scatter(problem_stats['MedTime'], y, c='red')\n",
    "# plt.scatter(problem_stats['MedSuccess'], y, c='blue')"
   ]
  },
  {
   "cell_type": "code",
   "execution_count": 32,
   "metadata": {},
   "outputs": [
    {
     "data": {
      "text/plain": [
       "AssignmentID\n",
       "439.0    1.551040e+18\n",
       "487.0    1.551934e+18\n",
       "492.0    1.553453e+18\n",
       "494.0    1.555015e+18\n",
       "502.0    1.557066e+18\n",
       "dtype: float64"
      ]
     },
     "execution_count": 32,
     "metadata": {},
     "output_type": "execute_result"
    }
   ],
   "source": [
    "# Assignments are, thankfully, already in order\n",
    "assignment_stats = runs.groupby(PS2.AssignmentID).apply(lambda x: np.median(x['TimeInt']))\n",
    "assignment_stats"
   ]
  },
  {
   "cell_type": "code",
   "execution_count": 33,
   "metadata": {},
   "outputs": [
    {
     "data": {
      "text/plain": [
       "[439.0, 487.0, 492.0, 494.0, 502.0]"
      ]
     },
     "execution_count": 33,
     "metadata": {},
     "output_type": "execute_result"
    }
   ],
   "source": [
    "valid_assignments = list(assignment_stats.sort_values().index)\n",
    "if (semester == 'F19'):\n",
    "    valid_assignments.remove(NEW_F19_ASSIGNMENT)\n",
    "valid_assignments"
   ]
  },
  {
   "cell_type": "code",
   "execution_count": 34,
   "metadata": {
    "scrolled": false
   },
   "outputs": [
    {
     "data": {
      "text/plain": [
       "[494.0, 502.0]"
      ]
     },
     "execution_count": 34,
     "metadata": {},
     "output_type": "execute_result"
    }
   ],
   "source": [
    "late_assignments = valid_assignments[-2:]\n",
    "late_assignments"
   ]
  },
  {
   "cell_type": "code",
   "execution_count": 35,
   "metadata": {},
   "outputs": [
    {
     "data": {
      "text/plain": [
       "[439.0, 487.0, 492.0]"
      ]
     },
     "execution_count": 35,
     "metadata": {},
     "output_type": "execute_result"
    }
   ],
   "source": [
    "early_assignments = valid_assignments[:-2]\n",
    "early_assignments"
   ]
  },
  {
   "cell_type": "code",
   "execution_count": 36,
   "metadata": {
    "scrolled": true
   },
   "outputs": [
    {
     "data": {
      "text/html": [
       "<div>\n",
       "<style scoped>\n",
       "    .dataframe tbody tr th:only-of-type {\n",
       "        vertical-align: middle;\n",
       "    }\n",
       "\n",
       "    .dataframe tbody tr th {\n",
       "        vertical-align: top;\n",
       "    }\n",
       "\n",
       "    .dataframe thead th {\n",
       "        text-align: right;\n",
       "    }\n",
       "</style>\n",
       "<table border=\"1\" class=\"dataframe\">\n",
       "  <thead>\n",
       "    <tr style=\"text-align: right;\">\n",
       "      <th></th>\n",
       "      <th>SubjectID</th>\n",
       "      <th>AssignmentID</th>\n",
       "      <th>ProblemID</th>\n",
       "      <th>Attempts</th>\n",
       "      <th>CorrectEventually</th>\n",
       "      <th>Label</th>\n",
       "      <th>IsLateProblem</th>\n",
       "    </tr>\n",
       "  </thead>\n",
       "  <tbody>\n",
       "    <tr>\n",
       "      <th>0</th>\n",
       "      <td>036ad3e516c5bf3a4b3be35b137bcbb8</td>\n",
       "      <td>439.0</td>\n",
       "      <td>1</td>\n",
       "      <td>8</td>\n",
       "      <td>True</td>\n",
       "      <td>False</td>\n",
       "      <td>False</td>\n",
       "    </tr>\n",
       "    <tr>\n",
       "      <th>1</th>\n",
       "      <td>036ad3e516c5bf3a4b3be35b137bcbb8</td>\n",
       "      <td>439.0</td>\n",
       "      <td>3</td>\n",
       "      <td>6</td>\n",
       "      <td>True</td>\n",
       "      <td>False</td>\n",
       "      <td>False</td>\n",
       "    </tr>\n",
       "    <tr>\n",
       "      <th>2</th>\n",
       "      <td>036ad3e516c5bf3a4b3be35b137bcbb8</td>\n",
       "      <td>439.0</td>\n",
       "      <td>5</td>\n",
       "      <td>7</td>\n",
       "      <td>True</td>\n",
       "      <td>False</td>\n",
       "      <td>False</td>\n",
       "    </tr>\n",
       "    <tr>\n",
       "      <th>3</th>\n",
       "      <td>036ad3e516c5bf3a4b3be35b137bcbb8</td>\n",
       "      <td>439.0</td>\n",
       "      <td>12</td>\n",
       "      <td>2</td>\n",
       "      <td>True</td>\n",
       "      <td>True</td>\n",
       "      <td>False</td>\n",
       "    </tr>\n",
       "    <tr>\n",
       "      <th>4</th>\n",
       "      <td>036ad3e516c5bf3a4b3be35b137bcbb8</td>\n",
       "      <td>439.0</td>\n",
       "      <td>13</td>\n",
       "      <td>17</td>\n",
       "      <td>True</td>\n",
       "      <td>False</td>\n",
       "      <td>False</td>\n",
       "    </tr>\n",
       "    <tr>\n",
       "      <th>5</th>\n",
       "      <td>036ad3e516c5bf3a4b3be35b137bcbb8</td>\n",
       "      <td>439.0</td>\n",
       "      <td>232</td>\n",
       "      <td>9</td>\n",
       "      <td>True</td>\n",
       "      <td>False</td>\n",
       "      <td>False</td>\n",
       "    </tr>\n",
       "    <tr>\n",
       "      <th>6</th>\n",
       "      <td>036ad3e516c5bf3a4b3be35b137bcbb8</td>\n",
       "      <td>439.0</td>\n",
       "      <td>233</td>\n",
       "      <td>1</td>\n",
       "      <td>True</td>\n",
       "      <td>True</td>\n",
       "      <td>False</td>\n",
       "    </tr>\n",
       "    <tr>\n",
       "      <th>7</th>\n",
       "      <td>036ad3e516c5bf3a4b3be35b137bcbb8</td>\n",
       "      <td>439.0</td>\n",
       "      <td>234</td>\n",
       "      <td>3</td>\n",
       "      <td>True</td>\n",
       "      <td>True</td>\n",
       "      <td>False</td>\n",
       "    </tr>\n",
       "    <tr>\n",
       "      <th>8</th>\n",
       "      <td>036ad3e516c5bf3a4b3be35b137bcbb8</td>\n",
       "      <td>439.0</td>\n",
       "      <td>235</td>\n",
       "      <td>1</td>\n",
       "      <td>True</td>\n",
       "      <td>True</td>\n",
       "      <td>False</td>\n",
       "    </tr>\n",
       "    <tr>\n",
       "      <th>9</th>\n",
       "      <td>036ad3e516c5bf3a4b3be35b137bcbb8</td>\n",
       "      <td>439.0</td>\n",
       "      <td>236</td>\n",
       "      <td>3</td>\n",
       "      <td>True</td>\n",
       "      <td>True</td>\n",
       "      <td>False</td>\n",
       "    </tr>\n",
       "    <tr>\n",
       "      <th>10</th>\n",
       "      <td>036ad3e516c5bf3a4b3be35b137bcbb8</td>\n",
       "      <td>487.0</td>\n",
       "      <td>17</td>\n",
       "      <td>3</td>\n",
       "      <td>True</td>\n",
       "      <td>False</td>\n",
       "      <td>False</td>\n",
       "    </tr>\n",
       "    <tr>\n",
       "      <th>11</th>\n",
       "      <td>036ad3e516c5bf3a4b3be35b137bcbb8</td>\n",
       "      <td>487.0</td>\n",
       "      <td>20</td>\n",
       "      <td>25</td>\n",
       "      <td>True</td>\n",
       "      <td>False</td>\n",
       "      <td>False</td>\n",
       "    </tr>\n",
       "    <tr>\n",
       "      <th>12</th>\n",
       "      <td>036ad3e516c5bf3a4b3be35b137bcbb8</td>\n",
       "      <td>487.0</td>\n",
       "      <td>21</td>\n",
       "      <td>3</td>\n",
       "      <td>True</td>\n",
       "      <td>False</td>\n",
       "      <td>False</td>\n",
       "    </tr>\n",
       "    <tr>\n",
       "      <th>13</th>\n",
       "      <td>036ad3e516c5bf3a4b3be35b137bcbb8</td>\n",
       "      <td>487.0</td>\n",
       "      <td>22</td>\n",
       "      <td>8</td>\n",
       "      <td>True</td>\n",
       "      <td>False</td>\n",
       "      <td>False</td>\n",
       "    </tr>\n",
       "    <tr>\n",
       "      <th>14</th>\n",
       "      <td>036ad3e516c5bf3a4b3be35b137bcbb8</td>\n",
       "      <td>487.0</td>\n",
       "      <td>24</td>\n",
       "      <td>23</td>\n",
       "      <td>True</td>\n",
       "      <td>False</td>\n",
       "      <td>False</td>\n",
       "    </tr>\n",
       "    <tr>\n",
       "      <th>15</th>\n",
       "      <td>036ad3e516c5bf3a4b3be35b137bcbb8</td>\n",
       "      <td>487.0</td>\n",
       "      <td>25</td>\n",
       "      <td>4</td>\n",
       "      <td>True</td>\n",
       "      <td>True</td>\n",
       "      <td>False</td>\n",
       "    </tr>\n",
       "    <tr>\n",
       "      <th>16</th>\n",
       "      <td>036ad3e516c5bf3a4b3be35b137bcbb8</td>\n",
       "      <td>487.0</td>\n",
       "      <td>28</td>\n",
       "      <td>13</td>\n",
       "      <td>True</td>\n",
       "      <td>False</td>\n",
       "      <td>False</td>\n",
       "    </tr>\n",
       "    <tr>\n",
       "      <th>17</th>\n",
       "      <td>036ad3e516c5bf3a4b3be35b137bcbb8</td>\n",
       "      <td>487.0</td>\n",
       "      <td>100</td>\n",
       "      <td>22</td>\n",
       "      <td>True</td>\n",
       "      <td>False</td>\n",
       "      <td>False</td>\n",
       "    </tr>\n",
       "    <tr>\n",
       "      <th>18</th>\n",
       "      <td>036ad3e516c5bf3a4b3be35b137bcbb8</td>\n",
       "      <td>487.0</td>\n",
       "      <td>101</td>\n",
       "      <td>27</td>\n",
       "      <td>True</td>\n",
       "      <td>False</td>\n",
       "      <td>False</td>\n",
       "    </tr>\n",
       "    <tr>\n",
       "      <th>19</th>\n",
       "      <td>036ad3e516c5bf3a4b3be35b137bcbb8</td>\n",
       "      <td>487.0</td>\n",
       "      <td>102</td>\n",
       "      <td>28</td>\n",
       "      <td>True</td>\n",
       "      <td>False</td>\n",
       "      <td>False</td>\n",
       "    </tr>\n",
       "    <tr>\n",
       "      <th>20</th>\n",
       "      <td>036ad3e516c5bf3a4b3be35b137bcbb8</td>\n",
       "      <td>492.0</td>\n",
       "      <td>31</td>\n",
       "      <td>1</td>\n",
       "      <td>True</td>\n",
       "      <td>True</td>\n",
       "      <td>False</td>\n",
       "    </tr>\n",
       "    <tr>\n",
       "      <th>21</th>\n",
       "      <td>036ad3e516c5bf3a4b3be35b137bcbb8</td>\n",
       "      <td>492.0</td>\n",
       "      <td>32</td>\n",
       "      <td>2</td>\n",
       "      <td>True</td>\n",
       "      <td>True</td>\n",
       "      <td>False</td>\n",
       "    </tr>\n",
       "    <tr>\n",
       "      <th>22</th>\n",
       "      <td>036ad3e516c5bf3a4b3be35b137bcbb8</td>\n",
       "      <td>492.0</td>\n",
       "      <td>33</td>\n",
       "      <td>3</td>\n",
       "      <td>True</td>\n",
       "      <td>True</td>\n",
       "      <td>False</td>\n",
       "    </tr>\n",
       "    <tr>\n",
       "      <th>23</th>\n",
       "      <td>036ad3e516c5bf3a4b3be35b137bcbb8</td>\n",
       "      <td>492.0</td>\n",
       "      <td>34</td>\n",
       "      <td>1</td>\n",
       "      <td>True</td>\n",
       "      <td>True</td>\n",
       "      <td>False</td>\n",
       "    </tr>\n",
       "    <tr>\n",
       "      <th>24</th>\n",
       "      <td>036ad3e516c5bf3a4b3be35b137bcbb8</td>\n",
       "      <td>492.0</td>\n",
       "      <td>36</td>\n",
       "      <td>8</td>\n",
       "      <td>True</td>\n",
       "      <td>False</td>\n",
       "      <td>False</td>\n",
       "    </tr>\n",
       "    <tr>\n",
       "      <th>25</th>\n",
       "      <td>036ad3e516c5bf3a4b3be35b137bcbb8</td>\n",
       "      <td>492.0</td>\n",
       "      <td>37</td>\n",
       "      <td>20</td>\n",
       "      <td>True</td>\n",
       "      <td>False</td>\n",
       "      <td>False</td>\n",
       "    </tr>\n",
       "    <tr>\n",
       "      <th>26</th>\n",
       "      <td>036ad3e516c5bf3a4b3be35b137bcbb8</td>\n",
       "      <td>492.0</td>\n",
       "      <td>38</td>\n",
       "      <td>26</td>\n",
       "      <td>True</td>\n",
       "      <td>False</td>\n",
       "      <td>False</td>\n",
       "    </tr>\n",
       "    <tr>\n",
       "      <th>27</th>\n",
       "      <td>036ad3e516c5bf3a4b3be35b137bcbb8</td>\n",
       "      <td>492.0</td>\n",
       "      <td>39</td>\n",
       "      <td>6</td>\n",
       "      <td>True</td>\n",
       "      <td>False</td>\n",
       "      <td>False</td>\n",
       "    </tr>\n",
       "    <tr>\n",
       "      <th>28</th>\n",
       "      <td>036ad3e516c5bf3a4b3be35b137bcbb8</td>\n",
       "      <td>492.0</td>\n",
       "      <td>40</td>\n",
       "      <td>30</td>\n",
       "      <td>True</td>\n",
       "      <td>False</td>\n",
       "      <td>False</td>\n",
       "    </tr>\n",
       "    <tr>\n",
       "      <th>29</th>\n",
       "      <td>036ad3e516c5bf3a4b3be35b137bcbb8</td>\n",
       "      <td>492.0</td>\n",
       "      <td>128</td>\n",
       "      <td>14</td>\n",
       "      <td>True</td>\n",
       "      <td>False</td>\n",
       "      <td>False</td>\n",
       "    </tr>\n",
       "    <tr>\n",
       "      <th>30</th>\n",
       "      <td>036ad3e516c5bf3a4b3be35b137bcbb8</td>\n",
       "      <td>494.0</td>\n",
       "      <td>41</td>\n",
       "      <td>2</td>\n",
       "      <td>True</td>\n",
       "      <td>True</td>\n",
       "      <td>True</td>\n",
       "    </tr>\n",
       "    <tr>\n",
       "      <th>31</th>\n",
       "      <td>036ad3e516c5bf3a4b3be35b137bcbb8</td>\n",
       "      <td>494.0</td>\n",
       "      <td>43</td>\n",
       "      <td>10</td>\n",
       "      <td>True</td>\n",
       "      <td>False</td>\n",
       "      <td>True</td>\n",
       "    </tr>\n",
       "    <tr>\n",
       "      <th>32</th>\n",
       "      <td>036ad3e516c5bf3a4b3be35b137bcbb8</td>\n",
       "      <td>494.0</td>\n",
       "      <td>44</td>\n",
       "      <td>4</td>\n",
       "      <td>True</td>\n",
       "      <td>False</td>\n",
       "      <td>True</td>\n",
       "    </tr>\n",
       "    <tr>\n",
       "      <th>33</th>\n",
       "      <td>036ad3e516c5bf3a4b3be35b137bcbb8</td>\n",
       "      <td>494.0</td>\n",
       "      <td>46</td>\n",
       "      <td>7</td>\n",
       "      <td>True</td>\n",
       "      <td>False</td>\n",
       "      <td>True</td>\n",
       "    </tr>\n",
       "    <tr>\n",
       "      <th>34</th>\n",
       "      <td>036ad3e516c5bf3a4b3be35b137bcbb8</td>\n",
       "      <td>494.0</td>\n",
       "      <td>49</td>\n",
       "      <td>20</td>\n",
       "      <td>True</td>\n",
       "      <td>False</td>\n",
       "      <td>True</td>\n",
       "    </tr>\n",
       "    <tr>\n",
       "      <th>35</th>\n",
       "      <td>036ad3e516c5bf3a4b3be35b137bcbb8</td>\n",
       "      <td>494.0</td>\n",
       "      <td>67</td>\n",
       "      <td>3</td>\n",
       "      <td>True</td>\n",
       "      <td>True</td>\n",
       "      <td>True</td>\n",
       "    </tr>\n",
       "    <tr>\n",
       "      <th>36</th>\n",
       "      <td>036ad3e516c5bf3a4b3be35b137bcbb8</td>\n",
       "      <td>494.0</td>\n",
       "      <td>104</td>\n",
       "      <td>2</td>\n",
       "      <td>True</td>\n",
       "      <td>True</td>\n",
       "      <td>True</td>\n",
       "    </tr>\n",
       "    <tr>\n",
       "      <th>37</th>\n",
       "      <td>036ad3e516c5bf3a4b3be35b137bcbb8</td>\n",
       "      <td>494.0</td>\n",
       "      <td>106</td>\n",
       "      <td>9</td>\n",
       "      <td>True</td>\n",
       "      <td>False</td>\n",
       "      <td>True</td>\n",
       "    </tr>\n",
       "    <tr>\n",
       "      <th>38</th>\n",
       "      <td>036ad3e516c5bf3a4b3be35b137bcbb8</td>\n",
       "      <td>494.0</td>\n",
       "      <td>107</td>\n",
       "      <td>16</td>\n",
       "      <td>True</td>\n",
       "      <td>False</td>\n",
       "      <td>True</td>\n",
       "    </tr>\n",
       "    <tr>\n",
       "      <th>39</th>\n",
       "      <td>036ad3e516c5bf3a4b3be35b137bcbb8</td>\n",
       "      <td>494.0</td>\n",
       "      <td>108</td>\n",
       "      <td>2</td>\n",
       "      <td>True</td>\n",
       "      <td>True</td>\n",
       "      <td>True</td>\n",
       "    </tr>\n",
       "    <tr>\n",
       "      <th>40</th>\n",
       "      <td>036ad3e516c5bf3a4b3be35b137bcbb8</td>\n",
       "      <td>502.0</td>\n",
       "      <td>45</td>\n",
       "      <td>2</td>\n",
       "      <td>True</td>\n",
       "      <td>True</td>\n",
       "      <td>True</td>\n",
       "    </tr>\n",
       "    <tr>\n",
       "      <th>41</th>\n",
       "      <td>036ad3e516c5bf3a4b3be35b137bcbb8</td>\n",
       "      <td>502.0</td>\n",
       "      <td>48</td>\n",
       "      <td>3</td>\n",
       "      <td>True</td>\n",
       "      <td>True</td>\n",
       "      <td>True</td>\n",
       "    </tr>\n",
       "    <tr>\n",
       "      <th>42</th>\n",
       "      <td>036ad3e516c5bf3a4b3be35b137bcbb8</td>\n",
       "      <td>502.0</td>\n",
       "      <td>51</td>\n",
       "      <td>9</td>\n",
       "      <td>True</td>\n",
       "      <td>False</td>\n",
       "      <td>True</td>\n",
       "    </tr>\n",
       "    <tr>\n",
       "      <th>43</th>\n",
       "      <td>036ad3e516c5bf3a4b3be35b137bcbb8</td>\n",
       "      <td>502.0</td>\n",
       "      <td>56</td>\n",
       "      <td>1</td>\n",
       "      <td>True</td>\n",
       "      <td>True</td>\n",
       "      <td>True</td>\n",
       "    </tr>\n",
       "    <tr>\n",
       "      <th>44</th>\n",
       "      <td>036ad3e516c5bf3a4b3be35b137bcbb8</td>\n",
       "      <td>502.0</td>\n",
       "      <td>57</td>\n",
       "      <td>2</td>\n",
       "      <td>True</td>\n",
       "      <td>True</td>\n",
       "      <td>True</td>\n",
       "    </tr>\n",
       "    <tr>\n",
       "      <th>45</th>\n",
       "      <td>036ad3e516c5bf3a4b3be35b137bcbb8</td>\n",
       "      <td>502.0</td>\n",
       "      <td>64</td>\n",
       "      <td>10</td>\n",
       "      <td>True</td>\n",
       "      <td>False</td>\n",
       "      <td>True</td>\n",
       "    </tr>\n",
       "    <tr>\n",
       "      <th>46</th>\n",
       "      <td>036ad3e516c5bf3a4b3be35b137bcbb8</td>\n",
       "      <td>502.0</td>\n",
       "      <td>70</td>\n",
       "      <td>6</td>\n",
       "      <td>True</td>\n",
       "      <td>True</td>\n",
       "      <td>True</td>\n",
       "    </tr>\n",
       "    <tr>\n",
       "      <th>47</th>\n",
       "      <td>036ad3e516c5bf3a4b3be35b137bcbb8</td>\n",
       "      <td>502.0</td>\n",
       "      <td>71</td>\n",
       "      <td>3</td>\n",
       "      <td>True</td>\n",
       "      <td>True</td>\n",
       "      <td>True</td>\n",
       "    </tr>\n",
       "    <tr>\n",
       "      <th>48</th>\n",
       "      <td>036ad3e516c5bf3a4b3be35b137bcbb8</td>\n",
       "      <td>502.0</td>\n",
       "      <td>112</td>\n",
       "      <td>5</td>\n",
       "      <td>True</td>\n",
       "      <td>False</td>\n",
       "      <td>True</td>\n",
       "    </tr>\n",
       "    <tr>\n",
       "      <th>49</th>\n",
       "      <td>036ad3e516c5bf3a4b3be35b137bcbb8</td>\n",
       "      <td>502.0</td>\n",
       "      <td>118</td>\n",
       "      <td>6</td>\n",
       "      <td>True</td>\n",
       "      <td>False</td>\n",
       "      <td>True</td>\n",
       "    </tr>\n",
       "  </tbody>\n",
       "</table>\n",
       "</div>"
      ],
      "text/plain": [
       "                           SubjectID  AssignmentID  ProblemID  Attempts  \\\n",
       "0   036ad3e516c5bf3a4b3be35b137bcbb8         439.0          1         8   \n",
       "1   036ad3e516c5bf3a4b3be35b137bcbb8         439.0          3         6   \n",
       "2   036ad3e516c5bf3a4b3be35b137bcbb8         439.0          5         7   \n",
       "3   036ad3e516c5bf3a4b3be35b137bcbb8         439.0         12         2   \n",
       "4   036ad3e516c5bf3a4b3be35b137bcbb8         439.0         13        17   \n",
       "5   036ad3e516c5bf3a4b3be35b137bcbb8         439.0        232         9   \n",
       "6   036ad3e516c5bf3a4b3be35b137bcbb8         439.0        233         1   \n",
       "7   036ad3e516c5bf3a4b3be35b137bcbb8         439.0        234         3   \n",
       "8   036ad3e516c5bf3a4b3be35b137bcbb8         439.0        235         1   \n",
       "9   036ad3e516c5bf3a4b3be35b137bcbb8         439.0        236         3   \n",
       "10  036ad3e516c5bf3a4b3be35b137bcbb8         487.0         17         3   \n",
       "11  036ad3e516c5bf3a4b3be35b137bcbb8         487.0         20        25   \n",
       "12  036ad3e516c5bf3a4b3be35b137bcbb8         487.0         21         3   \n",
       "13  036ad3e516c5bf3a4b3be35b137bcbb8         487.0         22         8   \n",
       "14  036ad3e516c5bf3a4b3be35b137bcbb8         487.0         24        23   \n",
       "15  036ad3e516c5bf3a4b3be35b137bcbb8         487.0         25         4   \n",
       "16  036ad3e516c5bf3a4b3be35b137bcbb8         487.0         28        13   \n",
       "17  036ad3e516c5bf3a4b3be35b137bcbb8         487.0        100        22   \n",
       "18  036ad3e516c5bf3a4b3be35b137bcbb8         487.0        101        27   \n",
       "19  036ad3e516c5bf3a4b3be35b137bcbb8         487.0        102        28   \n",
       "20  036ad3e516c5bf3a4b3be35b137bcbb8         492.0         31         1   \n",
       "21  036ad3e516c5bf3a4b3be35b137bcbb8         492.0         32         2   \n",
       "22  036ad3e516c5bf3a4b3be35b137bcbb8         492.0         33         3   \n",
       "23  036ad3e516c5bf3a4b3be35b137bcbb8         492.0         34         1   \n",
       "24  036ad3e516c5bf3a4b3be35b137bcbb8         492.0         36         8   \n",
       "25  036ad3e516c5bf3a4b3be35b137bcbb8         492.0         37        20   \n",
       "26  036ad3e516c5bf3a4b3be35b137bcbb8         492.0         38        26   \n",
       "27  036ad3e516c5bf3a4b3be35b137bcbb8         492.0         39         6   \n",
       "28  036ad3e516c5bf3a4b3be35b137bcbb8         492.0         40        30   \n",
       "29  036ad3e516c5bf3a4b3be35b137bcbb8         492.0        128        14   \n",
       "30  036ad3e516c5bf3a4b3be35b137bcbb8         494.0         41         2   \n",
       "31  036ad3e516c5bf3a4b3be35b137bcbb8         494.0         43        10   \n",
       "32  036ad3e516c5bf3a4b3be35b137bcbb8         494.0         44         4   \n",
       "33  036ad3e516c5bf3a4b3be35b137bcbb8         494.0         46         7   \n",
       "34  036ad3e516c5bf3a4b3be35b137bcbb8         494.0         49        20   \n",
       "35  036ad3e516c5bf3a4b3be35b137bcbb8         494.0         67         3   \n",
       "36  036ad3e516c5bf3a4b3be35b137bcbb8         494.0        104         2   \n",
       "37  036ad3e516c5bf3a4b3be35b137bcbb8         494.0        106         9   \n",
       "38  036ad3e516c5bf3a4b3be35b137bcbb8         494.0        107        16   \n",
       "39  036ad3e516c5bf3a4b3be35b137bcbb8         494.0        108         2   \n",
       "40  036ad3e516c5bf3a4b3be35b137bcbb8         502.0         45         2   \n",
       "41  036ad3e516c5bf3a4b3be35b137bcbb8         502.0         48         3   \n",
       "42  036ad3e516c5bf3a4b3be35b137bcbb8         502.0         51         9   \n",
       "43  036ad3e516c5bf3a4b3be35b137bcbb8         502.0         56         1   \n",
       "44  036ad3e516c5bf3a4b3be35b137bcbb8         502.0         57         2   \n",
       "45  036ad3e516c5bf3a4b3be35b137bcbb8         502.0         64        10   \n",
       "46  036ad3e516c5bf3a4b3be35b137bcbb8         502.0         70         6   \n",
       "47  036ad3e516c5bf3a4b3be35b137bcbb8         502.0         71         3   \n",
       "48  036ad3e516c5bf3a4b3be35b137bcbb8         502.0        112         5   \n",
       "49  036ad3e516c5bf3a4b3be35b137bcbb8         502.0        118         6   \n",
       "\n",
       "    CorrectEventually  Label  IsLateProblem  \n",
       "0                True  False          False  \n",
       "1                True  False          False  \n",
       "2                True  False          False  \n",
       "3                True   True          False  \n",
       "4                True  False          False  \n",
       "5                True  False          False  \n",
       "6                True   True          False  \n",
       "7                True   True          False  \n",
       "8                True   True          False  \n",
       "9                True   True          False  \n",
       "10               True  False          False  \n",
       "11               True  False          False  \n",
       "12               True  False          False  \n",
       "13               True  False          False  \n",
       "14               True  False          False  \n",
       "15               True   True          False  \n",
       "16               True  False          False  \n",
       "17               True  False          False  \n",
       "18               True  False          False  \n",
       "19               True  False          False  \n",
       "20               True   True          False  \n",
       "21               True   True          False  \n",
       "22               True   True          False  \n",
       "23               True   True          False  \n",
       "24               True  False          False  \n",
       "25               True  False          False  \n",
       "26               True  False          False  \n",
       "27               True  False          False  \n",
       "28               True  False          False  \n",
       "29               True  False          False  \n",
       "30               True   True           True  \n",
       "31               True  False           True  \n",
       "32               True  False           True  \n",
       "33               True  False           True  \n",
       "34               True  False           True  \n",
       "35               True   True           True  \n",
       "36               True   True           True  \n",
       "37               True  False           True  \n",
       "38               True  False           True  \n",
       "39               True   True           True  \n",
       "40               True   True           True  \n",
       "41               True   True           True  \n",
       "42               True  False           True  \n",
       "43               True   True           True  \n",
       "44               True   True           True  \n",
       "45               True  False           True  \n",
       "46               True   True           True  \n",
       "47               True   True           True  \n",
       "48               True  False           True  \n",
       "49               True  False           True  "
      ]
     },
     "execution_count": 36,
     "metadata": {},
     "output_type": "execute_result"
    }
   ],
   "source": [
    "student_scores['IsLateProblem'] = student_scores[PS2.AssignmentID].isin(late_assignments)\n",
    "student_scores.sort_values([PS2.SubjectID, PS2.AssignmentID, 'IsLateProblem', PS2.ProblemID], inplace=True)\n",
    "# Remove attempts not in a valid assignment (for F19)\n",
    "student_scores = student_scores[student_scores[PS2.AssignmentID].isin(valid_assignments)]\n",
    "student_scores.head(50)"
   ]
  },
  {
   "cell_type": "markdown",
   "metadata": {},
   "source": [
    "## Train/Test Split\n",
    "\n",
    "Here we split out data into training/test datasets, as well as eary problems (used to extract features input into the model) and late problems (where struggle will be predicted)."
   ]
  },
  {
   "cell_type": "markdown",
   "metadata": {},
   "source": [
    "### Split by SubjectID"
   ]
  },
  {
   "cell_type": "code",
   "execution_count": 37,
   "metadata": {},
   "outputs": [
    {
     "data": {
      "text/plain": [
       "0.9508670520231214"
      ]
     },
     "execution_count": 37,
     "metadata": {},
     "output_type": "execute_result"
    }
   ],
   "source": [
    "# Valid subjects must have completed at least one early and one late problem\n",
    "ealry_late_subject_ids = student_scores.groupby(PS2.SubjectID)['IsLateProblem'].apply(lambda x: np.mean(x) > 0 and np.mean(x) < 1)\n",
    "# The vast majority of students have\n",
    "np.mean(ealry_late_subject_ids)"
   ]
  },
  {
   "cell_type": "code",
   "execution_count": 38,
   "metadata": {},
   "outputs": [],
   "source": [
    "# Instersect these subjectIDs with the ones who completed the final exam\n",
    "valid_subject_ids = subject_ids.intersection(set(ealry_late_subject_ids.index[ealry_late_subject_ids]))\n",
    "valid_subject_ids = list(valid_subject_ids)\n",
    "valid_subject_ids.sort()"
   ]
  },
  {
   "cell_type": "code",
   "execution_count": 39,
   "metadata": {
    "scrolled": true
   },
   "outputs": [
    {
     "name": "stdout",
     "output_type": "stream",
     "text": [
      "348\n",
      "329\n"
     ]
    }
   ],
   "source": [
    "print(len(subject_ids))\n",
    "print(len(valid_subject_ids))"
   ]
  },
  {
   "cell_type": "code",
   "execution_count": 40,
   "metadata": {},
   "outputs": [],
   "source": [
    "train_ids, test_ids = train_test_split(list(valid_subject_ids), test_size=0.25, random_state=1234)"
   ]
  },
  {
   "cell_type": "code",
   "execution_count": 41,
   "metadata": {},
   "outputs": [],
   "source": [
    "# Check the train/test split dataframe against the last saved run\n",
    "ids_df = pd.DataFrame({PS2.SubjectID: valid_subject_ids})\n",
    "ids_df['IsTrain'] = ids_df[PS2.SubjectID].isin(train_ids)\n",
    "ids_df\n",
    "\n",
    "path = os.path.join('data', 'Release', semester)\n",
    "os.makedirs(path, exist_ok=True)\n",
    "\n",
    "# If saving, uncomment the top line\n",
    "# ids_df.to_csv(os.path.join(path, 'split.csv'), index=False)\n",
    "cached_df = pd.read_csv(os.path.join(path, 'split.csv'))\n",
    "\n",
    "assert(ids_df.equals(cached_df))"
   ]
  },
  {
   "cell_type": "code",
   "execution_count": 42,
   "metadata": {},
   "outputs": [
    {
     "name": "stdout",
     "output_type": "stream",
     "text": [
      "246\n",
      "83\n"
     ]
    }
   ],
   "source": [
    "print(len(train_ids))\n",
    "print(len(test_ids))"
   ]
  },
  {
   "cell_type": "code",
   "execution_count": 43,
   "metadata": {},
   "outputs": [],
   "source": [
    "student_scores_train = student_scores[student_scores[PS2.SubjectID].isin(train_ids)]\n",
    "student_scores_test = student_scores[student_scores[PS2.SubjectID].isin(test_ids)]"
   ]
  },
  {
   "cell_type": "code",
   "execution_count": 44,
   "metadata": {
    "scrolled": true
   },
   "outputs": [
    {
     "name": "stdout",
     "output_type": "stream",
     "text": [
      "14828\n",
      "10843\n",
      "3738\n"
     ]
    }
   ],
   "source": [
    "print(student_scores.shape[0])\n",
    "print(student_scores_train.shape[0])\n",
    "print(student_scores_test.shape[0])"
   ]
  },
  {
   "cell_type": "markdown",
   "metadata": {},
   "source": [
    "### Task 1: Split Into early/late datasets\n",
    "In Task 1, we need an early set of problems to use to extract features for the model, and a late set of problems where we're actually predicting student outcomes."
   ]
  },
  {
   "cell_type": "code",
   "execution_count": 45,
   "metadata": {},
   "outputs": [],
   "source": [
    "early_train = student_scores_train[student_scores_train['IsLateProblem'] == False].drop(['IsLateProblem'], axis=1)\n",
    "early_test = student_scores_test[student_scores_test['IsLateProblem'] == False].drop(['IsLateProblem'], axis=1)\n",
    "late_train = student_scores_train[student_scores_train['IsLateProblem']].drop(['IsLateProblem', 'Attempts', 'CorrectEventually'], axis=1)\n",
    "late_test = student_scores_test[student_scores_test['IsLateProblem']].drop(['IsLateProblem', 'Attempts', 'CorrectEventually'], axis=1)"
   ]
  },
  {
   "cell_type": "code",
   "execution_count": 46,
   "metadata": {
    "scrolled": true
   },
   "outputs": [
    {
     "name": "stdout",
     "output_type": "stream",
     "text": [
      "(6642, 6)\n"
     ]
    },
    {
     "data": {
      "text/html": [
       "<div>\n",
       "<style scoped>\n",
       "    .dataframe tbody tr th:only-of-type {\n",
       "        vertical-align: middle;\n",
       "    }\n",
       "\n",
       "    .dataframe tbody tr th {\n",
       "        vertical-align: top;\n",
       "    }\n",
       "\n",
       "    .dataframe thead th {\n",
       "        text-align: right;\n",
       "    }\n",
       "</style>\n",
       "<table border=\"1\" class=\"dataframe\">\n",
       "  <thead>\n",
       "    <tr style=\"text-align: right;\">\n",
       "      <th></th>\n",
       "      <th>SubjectID</th>\n",
       "      <th>AssignmentID</th>\n",
       "      <th>ProblemID</th>\n",
       "      <th>Attempts</th>\n",
       "      <th>CorrectEventually</th>\n",
       "      <th>Label</th>\n",
       "    </tr>\n",
       "  </thead>\n",
       "  <tbody>\n",
       "    <tr>\n",
       "      <th>50</th>\n",
       "      <td>04c32d4d95425f73b3a1d6502aed4d48</td>\n",
       "      <td>439.0</td>\n",
       "      <td>1</td>\n",
       "      <td>1</td>\n",
       "      <td>True</td>\n",
       "      <td>True</td>\n",
       "    </tr>\n",
       "    <tr>\n",
       "      <th>51</th>\n",
       "      <td>04c32d4d95425f73b3a1d6502aed4d48</td>\n",
       "      <td>439.0</td>\n",
       "      <td>3</td>\n",
       "      <td>2</td>\n",
       "      <td>True</td>\n",
       "      <td>True</td>\n",
       "    </tr>\n",
       "    <tr>\n",
       "      <th>52</th>\n",
       "      <td>04c32d4d95425f73b3a1d6502aed4d48</td>\n",
       "      <td>439.0</td>\n",
       "      <td>5</td>\n",
       "      <td>3</td>\n",
       "      <td>True</td>\n",
       "      <td>True</td>\n",
       "    </tr>\n",
       "    <tr>\n",
       "      <th>53</th>\n",
       "      <td>04c32d4d95425f73b3a1d6502aed4d48</td>\n",
       "      <td>439.0</td>\n",
       "      <td>12</td>\n",
       "      <td>1</td>\n",
       "      <td>True</td>\n",
       "      <td>True</td>\n",
       "    </tr>\n",
       "    <tr>\n",
       "      <th>54</th>\n",
       "      <td>04c32d4d95425f73b3a1d6502aed4d48</td>\n",
       "      <td>439.0</td>\n",
       "      <td>13</td>\n",
       "      <td>2</td>\n",
       "      <td>True</td>\n",
       "      <td>True</td>\n",
       "    </tr>\n",
       "  </tbody>\n",
       "</table>\n",
       "</div>"
      ],
      "text/plain": [
       "                           SubjectID  AssignmentID  ProblemID  Attempts  \\\n",
       "50  04c32d4d95425f73b3a1d6502aed4d48         439.0          1         1   \n",
       "51  04c32d4d95425f73b3a1d6502aed4d48         439.0          3         2   \n",
       "52  04c32d4d95425f73b3a1d6502aed4d48         439.0          5         3   \n",
       "53  04c32d4d95425f73b3a1d6502aed4d48         439.0         12         1   \n",
       "54  04c32d4d95425f73b3a1d6502aed4d48         439.0         13         2   \n",
       "\n",
       "    CorrectEventually  Label  \n",
       "50               True   True  \n",
       "51               True   True  \n",
       "52               True   True  \n",
       "53               True   True  \n",
       "54               True   True  "
      ]
     },
     "execution_count": 46,
     "metadata": {},
     "output_type": "execute_result"
    }
   ],
   "source": [
    "print(early_train.shape)\n",
    "early_train.head()"
   ]
  },
  {
   "cell_type": "code",
   "execution_count": 47,
   "metadata": {
    "scrolled": true
   },
   "outputs": [
    {
     "name": "stdout",
     "output_type": "stream",
     "text": [
      "(2227, 6)\n"
     ]
    },
    {
     "data": {
      "text/html": [
       "<div>\n",
       "<style scoped>\n",
       "    .dataframe tbody tr th:only-of-type {\n",
       "        vertical-align: middle;\n",
       "    }\n",
       "\n",
       "    .dataframe tbody tr th {\n",
       "        vertical-align: top;\n",
       "    }\n",
       "\n",
       "    .dataframe thead th {\n",
       "        text-align: right;\n",
       "    }\n",
       "</style>\n",
       "<table border=\"1\" class=\"dataframe\">\n",
       "  <thead>\n",
       "    <tr style=\"text-align: right;\">\n",
       "      <th></th>\n",
       "      <th>SubjectID</th>\n",
       "      <th>AssignmentID</th>\n",
       "      <th>ProblemID</th>\n",
       "      <th>Attempts</th>\n",
       "      <th>CorrectEventually</th>\n",
       "      <th>Label</th>\n",
       "    </tr>\n",
       "  </thead>\n",
       "  <tbody>\n",
       "    <tr>\n",
       "      <th>0</th>\n",
       "      <td>036ad3e516c5bf3a4b3be35b137bcbb8</td>\n",
       "      <td>439.0</td>\n",
       "      <td>1</td>\n",
       "      <td>8</td>\n",
       "      <td>True</td>\n",
       "      <td>False</td>\n",
       "    </tr>\n",
       "    <tr>\n",
       "      <th>1</th>\n",
       "      <td>036ad3e516c5bf3a4b3be35b137bcbb8</td>\n",
       "      <td>439.0</td>\n",
       "      <td>3</td>\n",
       "      <td>6</td>\n",
       "      <td>True</td>\n",
       "      <td>False</td>\n",
       "    </tr>\n",
       "    <tr>\n",
       "      <th>2</th>\n",
       "      <td>036ad3e516c5bf3a4b3be35b137bcbb8</td>\n",
       "      <td>439.0</td>\n",
       "      <td>5</td>\n",
       "      <td>7</td>\n",
       "      <td>True</td>\n",
       "      <td>False</td>\n",
       "    </tr>\n",
       "    <tr>\n",
       "      <th>3</th>\n",
       "      <td>036ad3e516c5bf3a4b3be35b137bcbb8</td>\n",
       "      <td>439.0</td>\n",
       "      <td>12</td>\n",
       "      <td>2</td>\n",
       "      <td>True</td>\n",
       "      <td>True</td>\n",
       "    </tr>\n",
       "    <tr>\n",
       "      <th>4</th>\n",
       "      <td>036ad3e516c5bf3a4b3be35b137bcbb8</td>\n",
       "      <td>439.0</td>\n",
       "      <td>13</td>\n",
       "      <td>17</td>\n",
       "      <td>True</td>\n",
       "      <td>False</td>\n",
       "    </tr>\n",
       "  </tbody>\n",
       "</table>\n",
       "</div>"
      ],
      "text/plain": [
       "                          SubjectID  AssignmentID  ProblemID  Attempts  \\\n",
       "0  036ad3e516c5bf3a4b3be35b137bcbb8         439.0          1         8   \n",
       "1  036ad3e516c5bf3a4b3be35b137bcbb8         439.0          3         6   \n",
       "2  036ad3e516c5bf3a4b3be35b137bcbb8         439.0          5         7   \n",
       "3  036ad3e516c5bf3a4b3be35b137bcbb8         439.0         12         2   \n",
       "4  036ad3e516c5bf3a4b3be35b137bcbb8         439.0         13        17   \n",
       "\n",
       "   CorrectEventually  Label  \n",
       "0               True  False  \n",
       "1               True  False  \n",
       "2               True  False  \n",
       "3               True   True  \n",
       "4               True  False  "
      ]
     },
     "execution_count": 47,
     "metadata": {},
     "output_type": "execute_result"
    }
   ],
   "source": [
    "print(early_test.shape)\n",
    "early_test.head()"
   ]
  },
  {
   "cell_type": "code",
   "execution_count": 48,
   "metadata": {
    "scrolled": true
   },
   "outputs": [
    {
     "name": "stdout",
     "output_type": "stream",
     "text": [
      "(4201, 4)\n"
     ]
    },
    {
     "data": {
      "text/html": [
       "<div>\n",
       "<style scoped>\n",
       "    .dataframe tbody tr th:only-of-type {\n",
       "        vertical-align: middle;\n",
       "    }\n",
       "\n",
       "    .dataframe tbody tr th {\n",
       "        vertical-align: top;\n",
       "    }\n",
       "\n",
       "    .dataframe thead th {\n",
       "        text-align: right;\n",
       "    }\n",
       "</style>\n",
       "<table border=\"1\" class=\"dataframe\">\n",
       "  <thead>\n",
       "    <tr style=\"text-align: right;\">\n",
       "      <th></th>\n",
       "      <th>SubjectID</th>\n",
       "      <th>AssignmentID</th>\n",
       "      <th>ProblemID</th>\n",
       "      <th>Label</th>\n",
       "    </tr>\n",
       "  </thead>\n",
       "  <tbody>\n",
       "    <tr>\n",
       "      <th>80</th>\n",
       "      <td>04c32d4d95425f73b3a1d6502aed4d48</td>\n",
       "      <td>494.0</td>\n",
       "      <td>41</td>\n",
       "      <td>False</td>\n",
       "    </tr>\n",
       "    <tr>\n",
       "      <th>81</th>\n",
       "      <td>04c32d4d95425f73b3a1d6502aed4d48</td>\n",
       "      <td>494.0</td>\n",
       "      <td>43</td>\n",
       "      <td>True</td>\n",
       "    </tr>\n",
       "    <tr>\n",
       "      <th>82</th>\n",
       "      <td>04c32d4d95425f73b3a1d6502aed4d48</td>\n",
       "      <td>494.0</td>\n",
       "      <td>44</td>\n",
       "      <td>True</td>\n",
       "    </tr>\n",
       "    <tr>\n",
       "      <th>83</th>\n",
       "      <td>04c32d4d95425f73b3a1d6502aed4d48</td>\n",
       "      <td>494.0</td>\n",
       "      <td>46</td>\n",
       "      <td>True</td>\n",
       "    </tr>\n",
       "    <tr>\n",
       "      <th>84</th>\n",
       "      <td>04c32d4d95425f73b3a1d6502aed4d48</td>\n",
       "      <td>494.0</td>\n",
       "      <td>49</td>\n",
       "      <td>True</td>\n",
       "    </tr>\n",
       "  </tbody>\n",
       "</table>\n",
       "</div>"
      ],
      "text/plain": [
       "                           SubjectID  AssignmentID  ProblemID  Label\n",
       "80  04c32d4d95425f73b3a1d6502aed4d48         494.0         41  False\n",
       "81  04c32d4d95425f73b3a1d6502aed4d48         494.0         43   True\n",
       "82  04c32d4d95425f73b3a1d6502aed4d48         494.0         44   True\n",
       "83  04c32d4d95425f73b3a1d6502aed4d48         494.0         46   True\n",
       "84  04c32d4d95425f73b3a1d6502aed4d48         494.0         49   True"
      ]
     },
     "execution_count": 48,
     "metadata": {},
     "output_type": "execute_result"
    }
   ],
   "source": [
    "print(late_train.shape)\n",
    "late_train.head()"
   ]
  },
  {
   "cell_type": "code",
   "execution_count": 49,
   "metadata": {
    "scrolled": false
   },
   "outputs": [
    {
     "name": "stdout",
     "output_type": "stream",
     "text": [
      "(1511, 4)\n"
     ]
    },
    {
     "data": {
      "text/html": [
       "<div>\n",
       "<style scoped>\n",
       "    .dataframe tbody tr th:only-of-type {\n",
       "        vertical-align: middle;\n",
       "    }\n",
       "\n",
       "    .dataframe tbody tr th {\n",
       "        vertical-align: top;\n",
       "    }\n",
       "\n",
       "    .dataframe thead th {\n",
       "        text-align: right;\n",
       "    }\n",
       "</style>\n",
       "<table border=\"1\" class=\"dataframe\">\n",
       "  <thead>\n",
       "    <tr style=\"text-align: right;\">\n",
       "      <th></th>\n",
       "      <th>SubjectID</th>\n",
       "      <th>AssignmentID</th>\n",
       "      <th>ProblemID</th>\n",
       "      <th>Label</th>\n",
       "    </tr>\n",
       "  </thead>\n",
       "  <tbody>\n",
       "    <tr>\n",
       "      <th>30</th>\n",
       "      <td>036ad3e516c5bf3a4b3be35b137bcbb8</td>\n",
       "      <td>494.0</td>\n",
       "      <td>41</td>\n",
       "      <td>True</td>\n",
       "    </tr>\n",
       "    <tr>\n",
       "      <th>31</th>\n",
       "      <td>036ad3e516c5bf3a4b3be35b137bcbb8</td>\n",
       "      <td>494.0</td>\n",
       "      <td>43</td>\n",
       "      <td>False</td>\n",
       "    </tr>\n",
       "    <tr>\n",
       "      <th>32</th>\n",
       "      <td>036ad3e516c5bf3a4b3be35b137bcbb8</td>\n",
       "      <td>494.0</td>\n",
       "      <td>44</td>\n",
       "      <td>False</td>\n",
       "    </tr>\n",
       "    <tr>\n",
       "      <th>33</th>\n",
       "      <td>036ad3e516c5bf3a4b3be35b137bcbb8</td>\n",
       "      <td>494.0</td>\n",
       "      <td>46</td>\n",
       "      <td>False</td>\n",
       "    </tr>\n",
       "    <tr>\n",
       "      <th>34</th>\n",
       "      <td>036ad3e516c5bf3a4b3be35b137bcbb8</td>\n",
       "      <td>494.0</td>\n",
       "      <td>49</td>\n",
       "      <td>False</td>\n",
       "    </tr>\n",
       "  </tbody>\n",
       "</table>\n",
       "</div>"
      ],
      "text/plain": [
       "                           SubjectID  AssignmentID  ProblemID  Label\n",
       "30  036ad3e516c5bf3a4b3be35b137bcbb8         494.0         41   True\n",
       "31  036ad3e516c5bf3a4b3be35b137bcbb8         494.0         43  False\n",
       "32  036ad3e516c5bf3a4b3be35b137bcbb8         494.0         44  False\n",
       "33  036ad3e516c5bf3a4b3be35b137bcbb8         494.0         46  False\n",
       "34  036ad3e516c5bf3a4b3be35b137bcbb8         494.0         49  False"
      ]
     },
     "execution_count": 49,
     "metadata": {},
     "output_type": "execute_result"
    }
   ],
   "source": [
    "print(late_test.shape)\n",
    "late_test.head()"
   ]
  },
  {
   "cell_type": "code",
   "execution_count": 50,
   "metadata": {},
   "outputs": [],
   "source": [
    "base_path = os.path.join('data', 'Release', semester)\n",
    "os.makedirs(os.path.join(base_path, 'Train'), exist_ok=True)\n",
    "os.makedirs(os.path.join(base_path, 'Test'), exist_ok=True)"
   ]
  },
  {
   "cell_type": "code",
   "execution_count": 51,
   "metadata": {},
   "outputs": [],
   "source": [
    "early_train.to_csv(os.path.join(base_path, 'Train', 'early.csv'), index=False)\n",
    "late_train.to_csv(os.path.join(base_path, 'Train', 'late.csv'), index=False)\n",
    "early_test.to_csv(os.path.join(base_path, 'Test', 'early.csv'), index=False)\n",
    "late_test.drop('Label', axis=1).to_csv(os.path.join(base_path, 'Test', 'late.csv'), index=False)"
   ]
  },
  {
   "cell_type": "code",
   "execution_count": 52,
   "metadata": {},
   "outputs": [],
   "source": [
    "data.save_subset(os.path.join(base_path, 'Train', 'Data'), lambda df: df[df[PS2.SubjectID].isin(train_ids) & df[PS2.AssignmentID].isin(valid_assignments)])"
   ]
  },
  {
   "cell_type": "code",
   "execution_count": 53,
   "metadata": {},
   "outputs": [],
   "source": [
    "data.save_subset(os.path.join(base_path, 'Test', 'Data'), lambda df: df[df[PS2.SubjectID].isin(test_ids) & df[PS2.AssignmentID].isin(early_assignments)], False)"
   ]
  },
  {
   "cell_type": "markdown",
   "metadata": {},
   "source": [
    "### Task 2: Predicting Student Grades\n",
    "For Task 2, we are predicting students' Final Exam grades. We just add the appropriate LinkTable _without_ the actual grades, just leaving the SubjectIDs to predict for."
   ]
  },
  {
   "cell_type": "code",
   "execution_count": 54,
   "metadata": {},
   "outputs": [],
   "source": [
    "student_table_dir = os.path.join(base_path, 'Test', 'Data', 'LinkTables')\n",
    "os.makedirs(student_table_dir, exist_ok=True)\n",
    "student_table_test = student_table[student_table[PS2.SubjectID].isin(test_ids)]\n",
    "student_table_test.drop('X-Grade', axis=1).to_csv(os.path.join(student_table_dir, 'Subject.csv'), index=False)"
   ]
  },
  {
   "cell_type": "markdown",
   "metadata": {},
   "source": [
    "### Save the solution\n",
    "The solution is, of course, not released, but used to judge submissions."
   ]
  },
  {
   "cell_type": "code",
   "execution_count": 55,
   "metadata": {},
   "outputs": [],
   "source": [
    "sol_path = os.path.join('data', 'Solution', semester, 'task1', 'ref')\n",
    "os.makedirs(sol_path, exist_ok=True)\n",
    "late_test.to_csv(os.path.join(sol_path, 'truth.csv'), index=False)"
   ]
  },
  {
   "cell_type": "code",
   "execution_count": 56,
   "metadata": {},
   "outputs": [],
   "source": [
    "sol_path = os.path.join('data', 'Solution', semester, 'task2', 'ref')\n",
    "os.makedirs(sol_path, exist_ok=True)\n",
    "student_table_test.to_csv(os.path.join(sol_path, 'truth.csv'), index=False)"
   ]
  },
  {
   "cell_type": "markdown",
   "metadata": {},
   "source": [
    "## Unused code for identifying the late problems\n",
    "\n",
    "The code below was used to investigate whether we could predict the last 3 problems of every assignment using the first 7. However, students appear to do the assignment in a variety of orders, making this difficult. Additionally, this would leak future data (e.g. the first 7 problems on Assignment 2 could be used to predict the last 3 problems on Assignment 1)."
   ]
  },
  {
   "cell_type": "code",
   "execution_count": 57,
   "metadata": {},
   "outputs": [
    {
     "data": {
      "text/html": [
       "<div>\n",
       "<style scoped>\n",
       "    .dataframe tbody tr th:only-of-type {\n",
       "        vertical-align: middle;\n",
       "    }\n",
       "\n",
       "    .dataframe tbody tr th {\n",
       "        vertical-align: top;\n",
       "    }\n",
       "\n",
       "    .dataframe thead th {\n",
       "        text-align: right;\n",
       "    }\n",
       "</style>\n",
       "<table border=\"1\" class=\"dataframe\">\n",
       "  <thead>\n",
       "    <tr style=\"text-align: right;\">\n",
       "      <th></th>\n",
       "      <th></th>\n",
       "      <th></th>\n",
       "      <th>StartEventOrder</th>\n",
       "    </tr>\n",
       "    <tr>\n",
       "      <th>SubjectID</th>\n",
       "      <th>AssignmentID</th>\n",
       "      <th>ProblemID</th>\n",
       "      <th></th>\n",
       "    </tr>\n",
       "  </thead>\n",
       "  <tbody>\n",
       "    <tr>\n",
       "      <th rowspan=\"5\" valign=\"top\">036ad3e516c5bf3a4b3be35b137bcbb8</th>\n",
       "      <th rowspan=\"5\" valign=\"top\">439.0</th>\n",
       "      <th>1</th>\n",
       "      <td>120635</td>\n",
       "    </tr>\n",
       "    <tr>\n",
       "      <th>3</th>\n",
       "      <td>135624</td>\n",
       "    </tr>\n",
       "    <tr>\n",
       "      <th>5</th>\n",
       "      <td>66827</td>\n",
       "    </tr>\n",
       "    <tr>\n",
       "      <th>12</th>\n",
       "      <td>37923</td>\n",
       "    </tr>\n",
       "    <tr>\n",
       "      <th>13</th>\n",
       "      <td>30588</td>\n",
       "    </tr>\n",
       "    <tr>\n",
       "      <th>...</th>\n",
       "      <th>...</th>\n",
       "      <th>...</th>\n",
       "      <td>...</td>\n",
       "    </tr>\n",
       "    <tr>\n",
       "      <th rowspan=\"5\" valign=\"top\">ffb72475a81de0e95b910ffad039f5c2</th>\n",
       "      <th rowspan=\"5\" valign=\"top\">502.0</th>\n",
       "      <th>64</th>\n",
       "      <td>49816</td>\n",
       "    </tr>\n",
       "    <tr>\n",
       "      <th>70</th>\n",
       "      <td>113478</td>\n",
       "    </tr>\n",
       "    <tr>\n",
       "      <th>71</th>\n",
       "      <td>108282</td>\n",
       "    </tr>\n",
       "    <tr>\n",
       "      <th>112</th>\n",
       "      <td>110202</td>\n",
       "    </tr>\n",
       "    <tr>\n",
       "      <th>118</th>\n",
       "      <td>81273</td>\n",
       "    </tr>\n",
       "  </tbody>\n",
       "</table>\n",
       "<p>14828 rows × 1 columns</p>\n",
       "</div>"
      ],
      "text/plain": [
       "                                                         StartEventOrder\n",
       "SubjectID                        AssignmentID ProblemID                 \n",
       "036ad3e516c5bf3a4b3be35b137bcbb8 439.0        1                   120635\n",
       "                                              3                   135624\n",
       "                                              5                    66827\n",
       "                                              12                   37923\n",
       "                                              13                   30588\n",
       "...                                                                  ...\n",
       "ffb72475a81de0e95b910ffad039f5c2 502.0        64                   49816\n",
       "                                              70                  113478\n",
       "                                              71                  108282\n",
       "                                              112                 110202\n",
       "                                              118                  81273\n",
       "\n",
       "[14828 rows x 1 columns]"
      ]
     },
     "execution_count": 57,
     "metadata": {},
     "output_type": "execute_result"
    }
   ],
   "source": [
    "def get_start_end_order(rows):\n",
    "    return pd.Series({\n",
    "        'StartEventOrder': min(rows[PS2.Order])\n",
    "        # 'EndEventOrder': max(rows[PS2.Order])\n",
    "    })\n",
    "\n",
    "start_orders = main_table_filtered.groupby([PS2.SubjectID, PS2.AssignmentID, PS2.ProblemID]).apply(get_start_end_order)\n",
    "start_orders"
   ]
  },
  {
   "cell_type": "code",
   "execution_count": 58,
   "metadata": {
    "scrolled": false
   },
   "outputs": [
    {
     "name": "stdout",
     "output_type": "stream",
     "text": [
      "[439. 487. 492. 494. 502.]\n"
     ]
    },
    {
     "data": {
      "text/plain": [
       "<matplotlib.collections.PathCollection at 0x2637017b648>"
      ]
     },
     "execution_count": 58,
     "metadata": {},
     "output_type": "execute_result"
    },
    {
     "data": {
      "image/png": "[encoded data removed]",
      "text/plain": [
       "<Figure size 576x288 with 1 Axes>"
      ]
     },
     "metadata": {
      "needs_background": "light"
     },
     "output_type": "display_data"
    }
   ],
   "source": [
    "# Unfortunately, the last 3 problems aren't always easy to pick apart\n",
    "print(problem_stats[PS2.AssignmentID].unique())\n",
    "assignment1 = problem_stats[problem_stats[PS2.AssignmentID] == 439]\n",
    "y = range(0, 10)\n",
    "plt.scatter(assignment1['MedTime'], y, c='red')\n",
    "plt.scatter(assignment1['MedSuccess'], y, c='blue')"
   ]
  },
  {
   "cell_type": "code",
   "execution_count": 59,
   "metadata": {
    "scrolled": false
   },
   "outputs": [
    {
     "data": {
      "text/plain": [
       "AssignmentID\n",
       "439.0    [234, 235, 236]\n",
       "487.0      [25, 101, 28]\n",
       "492.0       [36, 38, 32]\n",
       "494.0      [44, 46, 106]\n",
       "502.0      [70, 71, 112]\n",
       "dtype: object"
      ]
     },
     "execution_count": 59,
     "metadata": {},
     "output_type": "execute_result"
    }
   ],
   "source": [
    "late_problems = problem_stats.groupby(PS2.AssignmentID).apply(lambda rows: list(rows[PS2.ProblemID][rows['MedTime'].argsort()][-3:]))\n",
    "late_problems"
   ]
  },
  {
   "cell_type": "code",
   "execution_count": 60,
   "metadata": {
    "scrolled": true
   },
   "outputs": [
    {
     "data": {
      "text/plain": [
       "[234, 235, 236, 25, 101, 28, 36, 38, 32, 44, 46, 106, 70, 71, 112]"
      ]
     },
     "execution_count": 60,
     "metadata": {},
     "output_type": "execute_result"
    }
   ],
   "source": [
    "late_problem_ids_old = [st for row in late_problems for st in row]\n",
    "late_problem_ids_old"
   ]
  },
  {
   "cell_type": "code",
   "execution_count": 61,
   "metadata": {
    "scrolled": true
   },
   "outputs": [
    {
     "data": {
      "text/html": [
       "<div>\n",
       "<style scoped>\n",
       "    .dataframe tbody tr th:only-of-type {\n",
       "        vertical-align: middle;\n",
       "    }\n",
       "\n",
       "    .dataframe tbody tr th {\n",
       "        vertical-align: top;\n",
       "    }\n",
       "\n",
       "    .dataframe thead th {\n",
       "        text-align: right;\n",
       "    }\n",
       "</style>\n",
       "<table border=\"1\" class=\"dataframe\">\n",
       "  <thead>\n",
       "    <tr style=\"text-align: right;\">\n",
       "      <th></th>\n",
       "      <th>Order</th>\n",
       "      <th>SubjectID</th>\n",
       "      <th>ToolInstances</th>\n",
       "      <th>ServerTimestamp</th>\n",
       "      <th>ServerTimezone</th>\n",
       "      <th>CourseID</th>\n",
       "      <th>CourseSectionID</th>\n",
       "      <th>AssignmentID</th>\n",
       "      <th>ProblemID</th>\n",
       "      <th>CodeStateID</th>\n",
       "      <th>...</th>\n",
       "      <th>EventType</th>\n",
       "      <th>Score</th>\n",
       "      <th>Compile.Result</th>\n",
       "      <th>CompileMessageType</th>\n",
       "      <th>CompileMessageData</th>\n",
       "      <th>EventID</th>\n",
       "      <th>ParentEventID</th>\n",
       "      <th>SourceLocation</th>\n",
       "      <th>TimeInt</th>\n",
       "      <th>IsLateProblemInAssignment</th>\n",
       "    </tr>\n",
       "  </thead>\n",
       "  <tbody>\n",
       "    <tr>\n",
       "      <th>120635</th>\n",
       "      <td>120635</td>\n",
       "      <td>036ad3e516c5bf3a4b3be35b137bcbb8</td>\n",
       "      <td>Java 8; CodeWorkout</td>\n",
       "      <td>2019-02-25T01:27:58</td>\n",
       "      <td>UTC</td>\n",
       "      <td>CS 1</td>\n",
       "      <td>1</td>\n",
       "      <td>439.0</td>\n",
       "      <td>1</td>\n",
       "      <td>936875daafdf59534e6d3ffc51aa4f550d527dcc</td>\n",
       "      <td>...</td>\n",
       "      <td>Run.Program</td>\n",
       "      <td>0.000000</td>\n",
       "      <td>NaN</td>\n",
       "      <td>NaN</td>\n",
       "      <td>NaN</td>\n",
       "      <td>1-70192</td>\n",
       "      <td>NaN</td>\n",
       "      <td>NaN</td>\n",
       "      <td>1551058078000000000</td>\n",
       "      <td>False</td>\n",
       "    </tr>\n",
       "    <tr>\n",
       "      <th>120638</th>\n",
       "      <td>120638</td>\n",
       "      <td>036ad3e516c5bf3a4b3be35b137bcbb8</td>\n",
       "      <td>Java 8; CodeWorkout</td>\n",
       "      <td>2019-02-25T01:28:27</td>\n",
       "      <td>UTC</td>\n",
       "      <td>CS 1</td>\n",
       "      <td>1</td>\n",
       "      <td>439.0</td>\n",
       "      <td>1</td>\n",
       "      <td>af14542df004a5ebc1b726f0adcdc769cd42b18e</td>\n",
       "      <td>...</td>\n",
       "      <td>Run.Program</td>\n",
       "      <td>0.000000</td>\n",
       "      <td>NaN</td>\n",
       "      <td>NaN</td>\n",
       "      <td>NaN</td>\n",
       "      <td>1-70195</td>\n",
       "      <td>NaN</td>\n",
       "      <td>NaN</td>\n",
       "      <td>1551058107000000000</td>\n",
       "      <td>False</td>\n",
       "    </tr>\n",
       "    <tr>\n",
       "      <th>120641</th>\n",
       "      <td>120641</td>\n",
       "      <td>036ad3e516c5bf3a4b3be35b137bcbb8</td>\n",
       "      <td>Java 8; CodeWorkout</td>\n",
       "      <td>2019-02-25T01:28:31</td>\n",
       "      <td>UTC</td>\n",
       "      <td>CS 1</td>\n",
       "      <td>1</td>\n",
       "      <td>439.0</td>\n",
       "      <td>1</td>\n",
       "      <td>386ea403fed8cca55f27dd511918fcb4353bfb3a</td>\n",
       "      <td>...</td>\n",
       "      <td>Run.Program</td>\n",
       "      <td>0.466667</td>\n",
       "      <td>NaN</td>\n",
       "      <td>NaN</td>\n",
       "      <td>NaN</td>\n",
       "      <td>1-70198</td>\n",
       "      <td>NaN</td>\n",
       "      <td>NaN</td>\n",
       "      <td>1551058111000000000</td>\n",
       "      <td>False</td>\n",
       "    </tr>\n",
       "    <tr>\n",
       "      <th>120645</th>\n",
       "      <td>120645</td>\n",
       "      <td>036ad3e516c5bf3a4b3be35b137bcbb8</td>\n",
       "      <td>Java 8; CodeWorkout</td>\n",
       "      <td>2019-02-25T01:29:06</td>\n",
       "      <td>UTC</td>\n",
       "      <td>CS 1</td>\n",
       "      <td>1</td>\n",
       "      <td>439.0</td>\n",
       "      <td>1</td>\n",
       "      <td>9269580e3704c32cd066eb466ef6d7d97cd426e1</td>\n",
       "      <td>...</td>\n",
       "      <td>Run.Program</td>\n",
       "      <td>0.333333</td>\n",
       "      <td>NaN</td>\n",
       "      <td>NaN</td>\n",
       "      <td>NaN</td>\n",
       "      <td>1-70202</td>\n",
       "      <td>NaN</td>\n",
       "      <td>NaN</td>\n",
       "      <td>1551058146000000000</td>\n",
       "      <td>False</td>\n",
       "    </tr>\n",
       "    <tr>\n",
       "      <th>120655</th>\n",
       "      <td>120655</td>\n",
       "      <td>036ad3e516c5bf3a4b3be35b137bcbb8</td>\n",
       "      <td>Java 8; CodeWorkout</td>\n",
       "      <td>2019-02-25T01:29:29</td>\n",
       "      <td>UTC</td>\n",
       "      <td>CS 1</td>\n",
       "      <td>1</td>\n",
       "      <td>439.0</td>\n",
       "      <td>1</td>\n",
       "      <td>e7793eddc2d7caee087c45aa9a886712193a0879</td>\n",
       "      <td>...</td>\n",
       "      <td>Run.Program</td>\n",
       "      <td>0.733333</td>\n",
       "      <td>NaN</td>\n",
       "      <td>NaN</td>\n",
       "      <td>NaN</td>\n",
       "      <td>1-70212</td>\n",
       "      <td>NaN</td>\n",
       "      <td>NaN</td>\n",
       "      <td>1551058169000000000</td>\n",
       "      <td>False</td>\n",
       "    </tr>\n",
       "    <tr>\n",
       "      <th>120661</th>\n",
       "      <td>120661</td>\n",
       "      <td>036ad3e516c5bf3a4b3be35b137bcbb8</td>\n",
       "      <td>Java 8; CodeWorkout</td>\n",
       "      <td>2019-02-25T01:30:11</td>\n",
       "      <td>UTC</td>\n",
       "      <td>CS 1</td>\n",
       "      <td>1</td>\n",
       "      <td>439.0</td>\n",
       "      <td>1</td>\n",
       "      <td>c394cc24e5739dce498d4fbe79e7d613bfd58a9e</td>\n",
       "      <td>...</td>\n",
       "      <td>Run.Program</td>\n",
       "      <td>0.000000</td>\n",
       "      <td>NaN</td>\n",
       "      <td>NaN</td>\n",
       "      <td>NaN</td>\n",
       "      <td>1-70218</td>\n",
       "      <td>NaN</td>\n",
       "      <td>NaN</td>\n",
       "      <td>1551058211000000000</td>\n",
       "      <td>False</td>\n",
       "    </tr>\n",
       "    <tr>\n",
       "      <th>120669</th>\n",
       "      <td>120669</td>\n",
       "      <td>036ad3e516c5bf3a4b3be35b137bcbb8</td>\n",
       "      <td>Java 8; CodeWorkout</td>\n",
       "      <td>2019-02-25T01:30:28</td>\n",
       "      <td>UTC</td>\n",
       "      <td>CS 1</td>\n",
       "      <td>1</td>\n",
       "      <td>439.0</td>\n",
       "      <td>1</td>\n",
       "      <td>7e2f9baefd114d950bf34c0601499ba5a56e79ac</td>\n",
       "      <td>...</td>\n",
       "      <td>Run.Program</td>\n",
       "      <td>0.000000</td>\n",
       "      <td>NaN</td>\n",
       "      <td>NaN</td>\n",
       "      <td>NaN</td>\n",
       "      <td>1-70226</td>\n",
       "      <td>NaN</td>\n",
       "      <td>NaN</td>\n",
       "      <td>1551058228000000000</td>\n",
       "      <td>False</td>\n",
       "    </tr>\n",
       "    <tr>\n",
       "      <th>120687</th>\n",
       "      <td>120687</td>\n",
       "      <td>036ad3e516c5bf3a4b3be35b137bcbb8</td>\n",
       "      <td>Java 8; CodeWorkout</td>\n",
       "      <td>2019-02-25T01:30:43</td>\n",
       "      <td>UTC</td>\n",
       "      <td>CS 1</td>\n",
       "      <td>1</td>\n",
       "      <td>439.0</td>\n",
       "      <td>1</td>\n",
       "      <td>e0550ffae869df0caa551c0f84b18472ef48b257</td>\n",
       "      <td>...</td>\n",
       "      <td>Run.Program</td>\n",
       "      <td>1.000000</td>\n",
       "      <td>NaN</td>\n",
       "      <td>NaN</td>\n",
       "      <td>NaN</td>\n",
       "      <td>1-70244</td>\n",
       "      <td>NaN</td>\n",
       "      <td>NaN</td>\n",
       "      <td>1551058243000000000</td>\n",
       "      <td>False</td>\n",
       "    </tr>\n",
       "    <tr>\n",
       "      <th>135624</th>\n",
       "      <td>135624</td>\n",
       "      <td>036ad3e516c5bf3a4b3be35b137bcbb8</td>\n",
       "      <td>Java 8; CodeWorkout</td>\n",
       "      <td>2019-02-25T01:36:04</td>\n",
       "      <td>0</td>\n",
       "      <td>CS 1</td>\n",
       "      <td>1</td>\n",
       "      <td>439.0</td>\n",
       "      <td>3</td>\n",
       "      <td>5044ac4abdd24172cb1da80ff3285e05679e2f9a</td>\n",
       "      <td>...</td>\n",
       "      <td>Run.Program</td>\n",
       "      <td>0.562500</td>\n",
       "      <td>NaN</td>\n",
       "      <td>NaN</td>\n",
       "      <td>NaN</td>\n",
       "      <td>3-69396</td>\n",
       "      <td>NaN</td>\n",
       "      <td>NaN</td>\n",
       "      <td>1551058564000000000</td>\n",
       "      <td>False</td>\n",
       "    </tr>\n",
       "    <tr>\n",
       "      <th>135626</th>\n",
       "      <td>135626</td>\n",
       "      <td>036ad3e516c5bf3a4b3be35b137bcbb8</td>\n",
       "      <td>Java 8; CodeWorkout</td>\n",
       "      <td>2019-02-25T01:36:55</td>\n",
       "      <td>0</td>\n",
       "      <td>CS 1</td>\n",
       "      <td>1</td>\n",
       "      <td>439.0</td>\n",
       "      <td>3</td>\n",
       "      <td>c9a763ed9b799ef1ed39f9a66a4393cad5ab2720</td>\n",
       "      <td>...</td>\n",
       "      <td>Run.Program</td>\n",
       "      <td>0.000000</td>\n",
       "      <td>NaN</td>\n",
       "      <td>NaN</td>\n",
       "      <td>NaN</td>\n",
       "      <td>3-69398</td>\n",
       "      <td>NaN</td>\n",
       "      <td>NaN</td>\n",
       "      <td>1551058615000000000</td>\n",
       "      <td>False</td>\n",
       "    </tr>\n",
       "    <tr>\n",
       "      <th>135629</th>\n",
       "      <td>135629</td>\n",
       "      <td>036ad3e516c5bf3a4b3be35b137bcbb8</td>\n",
       "      <td>Java 8; CodeWorkout</td>\n",
       "      <td>2019-02-25T01:37:10</td>\n",
       "      <td>0</td>\n",
       "      <td>CS 1</td>\n",
       "      <td>1</td>\n",
       "      <td>439.0</td>\n",
       "      <td>3</td>\n",
       "      <td>93951f8f51f665d89d26dd675aec311268672d9d</td>\n",
       "      <td>...</td>\n",
       "      <td>Run.Program</td>\n",
       "      <td>0.000000</td>\n",
       "      <td>NaN</td>\n",
       "      <td>NaN</td>\n",
       "      <td>NaN</td>\n",
       "      <td>3-69401</td>\n",
       "      <td>NaN</td>\n",
       "      <td>NaN</td>\n",
       "      <td>1551058630000000000</td>\n",
       "      <td>False</td>\n",
       "    </tr>\n",
       "    <tr>\n",
       "      <th>135632</th>\n",
       "      <td>135632</td>\n",
       "      <td>036ad3e516c5bf3a4b3be35b137bcbb8</td>\n",
       "      <td>Java 8; CodeWorkout</td>\n",
       "      <td>2019-02-25T01:37:13</td>\n",
       "      <td>0</td>\n",
       "      <td>CS 1</td>\n",
       "      <td>1</td>\n",
       "      <td>439.0</td>\n",
       "      <td>3</td>\n",
       "      <td>18ea9d00d17f5358c655f5b9786d4b80831cff1b</td>\n",
       "      <td>...</td>\n",
       "      <td>Run.Program</td>\n",
       "      <td>0.000000</td>\n",
       "      <td>NaN</td>\n",
       "      <td>NaN</td>\n",
       "      <td>NaN</td>\n",
       "      <td>3-69404</td>\n",
       "      <td>NaN</td>\n",
       "      <td>NaN</td>\n",
       "      <td>1551058633000000000</td>\n",
       "      <td>False</td>\n",
       "    </tr>\n",
       "    <tr>\n",
       "      <th>135640</th>\n",
       "      <td>135640</td>\n",
       "      <td>036ad3e516c5bf3a4b3be35b137bcbb8</td>\n",
       "      <td>Java 8; CodeWorkout</td>\n",
       "      <td>2019-02-25T01:37:45</td>\n",
       "      <td>0</td>\n",
       "      <td>CS 1</td>\n",
       "      <td>1</td>\n",
       "      <td>439.0</td>\n",
       "      <td>3</td>\n",
       "      <td>e88bc5d53bdb671d6351e5f3bf44ad09c8af9948</td>\n",
       "      <td>...</td>\n",
       "      <td>Run.Program</td>\n",
       "      <td>0.562500</td>\n",
       "      <td>NaN</td>\n",
       "      <td>NaN</td>\n",
       "      <td>NaN</td>\n",
       "      <td>3-69412</td>\n",
       "      <td>NaN</td>\n",
       "      <td>NaN</td>\n",
       "      <td>1551058665000000000</td>\n",
       "      <td>False</td>\n",
       "    </tr>\n",
       "    <tr>\n",
       "      <th>135650</th>\n",
       "      <td>135650</td>\n",
       "      <td>036ad3e516c5bf3a4b3be35b137bcbb8</td>\n",
       "      <td>Java 8; CodeWorkout</td>\n",
       "      <td>2019-02-25T01:38:40</td>\n",
       "      <td>0</td>\n",
       "      <td>CS 1</td>\n",
       "      <td>1</td>\n",
       "      <td>439.0</td>\n",
       "      <td>3</td>\n",
       "      <td>f4e661d802054113d1876706c7eb659137cddad4</td>\n",
       "      <td>...</td>\n",
       "      <td>Run.Program</td>\n",
       "      <td>1.000000</td>\n",
       "      <td>NaN</td>\n",
       "      <td>NaN</td>\n",
       "      <td>NaN</td>\n",
       "      <td>3-69422</td>\n",
       "      <td>NaN</td>\n",
       "      <td>NaN</td>\n",
       "      <td>1551058720000000000</td>\n",
       "      <td>False</td>\n",
       "    </tr>\n",
       "    <tr>\n",
       "      <th>66827</th>\n",
       "      <td>66827</td>\n",
       "      <td>036ad3e516c5bf3a4b3be35b137bcbb8</td>\n",
       "      <td>Java 8; CodeWorkout</td>\n",
       "      <td>2019-02-25T01:14:55</td>\n",
       "      <td>UTC</td>\n",
       "      <td>CS 1</td>\n",
       "      <td>1</td>\n",
       "      <td>439.0</td>\n",
       "      <td>5</td>\n",
       "      <td>562caced8ced39d977f1086b7c79ede9eeda20ab</td>\n",
       "      <td>...</td>\n",
       "      <td>Run.Program</td>\n",
       "      <td>0.875000</td>\n",
       "      <td>NaN</td>\n",
       "      <td>NaN</td>\n",
       "      <td>NaN</td>\n",
       "      <td>5-36842</td>\n",
       "      <td>NaN</td>\n",
       "      <td>NaN</td>\n",
       "      <td>1551057295000000000</td>\n",
       "      <td>False</td>\n",
       "    </tr>\n",
       "  </tbody>\n",
       "</table>\n",
       "<p>15 rows × 21 columns</p>\n",
       "</div>"
      ],
      "text/plain": [
       "         Order                         SubjectID        ToolInstances  \\\n",
       "120635  120635  036ad3e516c5bf3a4b3be35b137bcbb8  Java 8; CodeWorkout   \n",
       "120638  120638  036ad3e516c5bf3a4b3be35b137bcbb8  Java 8; CodeWorkout   \n",
       "120641  120641  036ad3e516c5bf3a4b3be35b137bcbb8  Java 8; CodeWorkout   \n",
       "120645  120645  036ad3e516c5bf3a4b3be35b137bcbb8  Java 8; CodeWorkout   \n",
       "120655  120655  036ad3e516c5bf3a4b3be35b137bcbb8  Java 8; CodeWorkout   \n",
       "120661  120661  036ad3e516c5bf3a4b3be35b137bcbb8  Java 8; CodeWorkout   \n",
       "120669  120669  036ad3e516c5bf3a4b3be35b137bcbb8  Java 8; CodeWorkout   \n",
       "120687  120687  036ad3e516c5bf3a4b3be35b137bcbb8  Java 8; CodeWorkout   \n",
       "135624  135624  036ad3e516c5bf3a4b3be35b137bcbb8  Java 8; CodeWorkout   \n",
       "135626  135626  036ad3e516c5bf3a4b3be35b137bcbb8  Java 8; CodeWorkout   \n",
       "135629  135629  036ad3e516c5bf3a4b3be35b137bcbb8  Java 8; CodeWorkout   \n",
       "135632  135632  036ad3e516c5bf3a4b3be35b137bcbb8  Java 8; CodeWorkout   \n",
       "135640  135640  036ad3e516c5bf3a4b3be35b137bcbb8  Java 8; CodeWorkout   \n",
       "135650  135650  036ad3e516c5bf3a4b3be35b137bcbb8  Java 8; CodeWorkout   \n",
       "66827    66827  036ad3e516c5bf3a4b3be35b137bcbb8  Java 8; CodeWorkout   \n",
       "\n",
       "            ServerTimestamp ServerTimezone CourseID  CourseSectionID  \\\n",
       "120635  2019-02-25T01:27:58            UTC     CS 1                1   \n",
       "120638  2019-02-25T01:28:27            UTC     CS 1                1   \n",
       "120641  2019-02-25T01:28:31            UTC     CS 1                1   \n",
       "120645  2019-02-25T01:29:06            UTC     CS 1                1   \n",
       "120655  2019-02-25T01:29:29            UTC     CS 1                1   \n",
       "120661  2019-02-25T01:30:11            UTC     CS 1                1   \n",
       "120669  2019-02-25T01:30:28            UTC     CS 1                1   \n",
       "120687  2019-02-25T01:30:43            UTC     CS 1                1   \n",
       "135624  2019-02-25T01:36:04              0     CS 1                1   \n",
       "135626  2019-02-25T01:36:55              0     CS 1                1   \n",
       "135629  2019-02-25T01:37:10              0     CS 1                1   \n",
       "135632  2019-02-25T01:37:13              0     CS 1                1   \n",
       "135640  2019-02-25T01:37:45              0     CS 1                1   \n",
       "135650  2019-02-25T01:38:40              0     CS 1                1   \n",
       "66827   2019-02-25T01:14:55            UTC     CS 1                1   \n",
       "\n",
       "        AssignmentID  ProblemID                               CodeStateID  \\\n",
       "120635         439.0          1  936875daafdf59534e6d3ffc51aa4f550d527dcc   \n",
       "120638         439.0          1  af14542df004a5ebc1b726f0adcdc769cd42b18e   \n",
       "120641         439.0          1  386ea403fed8cca55f27dd511918fcb4353bfb3a   \n",
       "120645         439.0          1  9269580e3704c32cd066eb466ef6d7d97cd426e1   \n",
       "120655         439.0          1  e7793eddc2d7caee087c45aa9a886712193a0879   \n",
       "120661         439.0          1  c394cc24e5739dce498d4fbe79e7d613bfd58a9e   \n",
       "120669         439.0          1  7e2f9baefd114d950bf34c0601499ba5a56e79ac   \n",
       "120687         439.0          1  e0550ffae869df0caa551c0f84b18472ef48b257   \n",
       "135624         439.0          3  5044ac4abdd24172cb1da80ff3285e05679e2f9a   \n",
       "135626         439.0          3  c9a763ed9b799ef1ed39f9a66a4393cad5ab2720   \n",
       "135629         439.0          3  93951f8f51f665d89d26dd675aec311268672d9d   \n",
       "135632         439.0          3  18ea9d00d17f5358c655f5b9786d4b80831cff1b   \n",
       "135640         439.0          3  e88bc5d53bdb671d6351e5f3bf44ad09c8af9948   \n",
       "135650         439.0          3  f4e661d802054113d1876706c7eb659137cddad4   \n",
       "66827          439.0          5  562caced8ced39d977f1086b7c79ede9eeda20ab   \n",
       "\n",
       "        ...    EventType     Score  Compile.Result CompileMessageType  \\\n",
       "120635  ...  Run.Program  0.000000             NaN                NaN   \n",
       "120638  ...  Run.Program  0.000000             NaN                NaN   \n",
       "120641  ...  Run.Program  0.466667             NaN                NaN   \n",
       "120645  ...  Run.Program  0.333333             NaN                NaN   \n",
       "120655  ...  Run.Program  0.733333             NaN                NaN   \n",
       "120661  ...  Run.Program  0.000000             NaN                NaN   \n",
       "120669  ...  Run.Program  0.000000             NaN                NaN   \n",
       "120687  ...  Run.Program  1.000000             NaN                NaN   \n",
       "135624  ...  Run.Program  0.562500             NaN                NaN   \n",
       "135626  ...  Run.Program  0.000000             NaN                NaN   \n",
       "135629  ...  Run.Program  0.000000             NaN                NaN   \n",
       "135632  ...  Run.Program  0.000000             NaN                NaN   \n",
       "135640  ...  Run.Program  0.562500             NaN                NaN   \n",
       "135650  ...  Run.Program  1.000000             NaN                NaN   \n",
       "66827   ...  Run.Program  0.875000             NaN                NaN   \n",
       "\n",
       "       CompileMessageData  EventID ParentEventID SourceLocation  \\\n",
       "120635                NaN  1-70192           NaN            NaN   \n",
       "120638                NaN  1-70195           NaN            NaN   \n",
       "120641                NaN  1-70198           NaN            NaN   \n",
       "120645                NaN  1-70202           NaN            NaN   \n",
       "120655                NaN  1-70212           NaN            NaN   \n",
       "120661                NaN  1-70218           NaN            NaN   \n",
       "120669                NaN  1-70226           NaN            NaN   \n",
       "120687                NaN  1-70244           NaN            NaN   \n",
       "135624                NaN  3-69396           NaN            NaN   \n",
       "135626                NaN  3-69398           NaN            NaN   \n",
       "135629                NaN  3-69401           NaN            NaN   \n",
       "135632                NaN  3-69404           NaN            NaN   \n",
       "135640                NaN  3-69412           NaN            NaN   \n",
       "135650                NaN  3-69422           NaN            NaN   \n",
       "66827                 NaN  5-36842           NaN            NaN   \n",
       "\n",
       "                    TimeInt  IsLateProblemInAssignment  \n",
       "120635  1551058078000000000                      False  \n",
       "120638  1551058107000000000                      False  \n",
       "120641  1551058111000000000                      False  \n",
       "120645  1551058146000000000                      False  \n",
       "120655  1551058169000000000                      False  \n",
       "120661  1551058211000000000                      False  \n",
       "120669  1551058228000000000                      False  \n",
       "120687  1551058243000000000                      False  \n",
       "135624  1551058564000000000                      False  \n",
       "135626  1551058615000000000                      False  \n",
       "135629  1551058630000000000                      False  \n",
       "135632  1551058633000000000                      False  \n",
       "135640  1551058665000000000                      False  \n",
       "135650  1551058720000000000                      False  \n",
       "66827   1551057295000000000                      False  \n",
       "\n",
       "[15 rows x 21 columns]"
      ]
     },
     "execution_count": 61,
     "metadata": {},
     "output_type": "execute_result"
    }
   ],
   "source": [
    "runs_time = runs.copy()\n",
    "runs_time['IsLateProblemInAssignment'] = runs_time[PS2.ProblemID].isin(late_problem_ids_old)\n",
    "runs_time.head(15)"
   ]
  },
  {
   "cell_type": "code",
   "execution_count": 62,
   "metadata": {
    "scrolled": true
   },
   "outputs": [
    {
     "data": {
      "text/plain": [
       "AssignmentID  SubjectID                       \n",
       "439.0         036ad3e516c5bf3a4b3be35b137bcbb8    1551056564000000000\n",
       "              04c32d4d95425f73b3a1d6502aed4d48    1550958319000000000\n",
       "              0503bf609757acf2e75aa8cbc0d8323b    1551067824000000000\n",
       "              06d801cb636235b298c40029ad9921e7    1551058104000000000\n",
       "              07ae4cca3f90a49347ccb5c1a82ff46f    1551055620000000000\n",
       "                                                         ...         \n",
       "502.0         f892447540d0e840049183faa3109b1b    1556916367000000000\n",
       "              fa28c6cdf8dd6f41a657c3d7caa5c709    1556680214000000000\n",
       "              fda6baab618b39821b678bd52ff26428    1557101932000000000\n",
       "              feae21bb32b7b4aa690fab151b60b598    1556755423000000000\n",
       "              ffb72475a81de0e95b910ffad039f5c2    1557099701000000000\n",
       "Name: TimeInt, Length: 1514, dtype: int64"
      ]
     },
     "execution_count": 62,
     "metadata": {},
     "output_type": "execute_result"
    }
   ],
   "source": [
    "first_late_attempts = runs_time[runs_time['IsLateProblemInAssignment']].groupby([PS2.AssignmentID, PS2.SubjectID])['TimeInt'].min()\n",
    "first_late_attempts"
   ]
  },
  {
   "cell_type": "code",
   "execution_count": 63,
   "metadata": {},
   "outputs": [
    {
     "data": {
      "text/plain": [
       "0.007046516320290552"
      ]
     },
     "execution_count": 63,
     "metadata": {},
     "output_type": "execute_result"
    }
   ],
   "source": [
    "runs_late = runs_time.merge(first_late_attempts.to_frame('FirstLateAttempt'), on=[PS2.AssignmentID, PS2.SubjectID], how='left')\n",
    "np.mean(runs_late['FirstLateAttempt'].isna())\n",
    "# ~2% of student-assignments did not have a late attempt"
   ]
  },
  {
   "cell_type": "code",
   "execution_count": 64,
   "metadata": {},
   "outputs": [],
   "source": [
    "runs_late['IsLateAttempt'] = runs_late['TimeInt'] >= runs_late['FirstLateAttempt']"
   ]
  },
  {
   "cell_type": "code",
   "execution_count": 65,
   "metadata": {
    "scrolled": true
   },
   "outputs": [
    {
     "data": {
      "text/plain": [
       "0"
      ]
     },
     "execution_count": 65,
     "metadata": {},
     "output_type": "execute_result"
    }
   ],
   "source": [
    "np.sum(~runs_late['IsLateAttempt'] & runs_late['IsLateProblemInAssignment'])"
   ]
  },
  {
   "cell_type": "code",
   "execution_count": 66,
   "metadata": {},
   "outputs": [
    {
     "data": {
      "text/plain": [
       "0.5820590770906121"
      ]
     },
     "execution_count": 66,
     "metadata": {},
     "output_type": "execute_result"
    }
   ],
   "source": [
    "# 30% of attempts at early problems occurred after the first attempt at a late problem\n",
    "np.sum(runs_late['IsLateAttempt'] & ~runs_late['IsLateProblemInAssignment']) / np.sum(~runs_late['IsLateProblemInAssignment'])"
   ]
  },
  {
   "cell_type": "code",
   "execution_count": 67,
   "metadata": {},
   "outputs": [
    {
     "data": {
      "text/plain": [
       "(742, 21)"
      ]
     },
     "execution_count": 67,
     "metadata": {},
     "output_type": "execute_result"
    }
   ],
   "source": [
    "np.random.seed(1234)\n",
    "subjects_sample = np.random.choice(runs_time[PS2.SubjectID].unique(), 20)\n",
    "assignment_sample = runs_time[(runs_time[PS2.AssignmentID] == 439) & runs_time[PS2.SubjectID].isin(subjects_sample)]\n",
    "assignment_sample.shape"
   ]
  },
  {
   "cell_type": "code",
   "execution_count": 68,
   "metadata": {
    "scrolled": false
   },
   "outputs": [
    {
     "data": {
      "text/plain": [
       "(-2, 2)"
      ]
     },
     "execution_count": 68,
     "metadata": {},
     "output_type": "execute_result"
    },
    {
     "data": {
      "image/png": "[encoded data removed]",
      "text/plain": [
       "<Figure size 576x288 with 1 Axes>"
      ]
     },
     "metadata": {
      "needs_background": "light"
     },
     "output_type": "display_data"
    }
   ],
   "source": [
    "all_subject_ids = assignment_sample[PS2.SubjectID]\n",
    "distinct_subject_ids = all_subject_ids.unique()\n",
    "subject_indices = [sorted(distinct_subject_ids).index(x) for x in all_subject_ids]\n",
    "colors = [viridis(float(i)) for i in assignment_sample['IsLateProblemInAssignment']]\n",
    "subject_times_norm = assignment_sample.groupby('SubjectID')['TimeInt'].transform(lambda x: (x - x.mean()) / x.std())\n",
    "widths = list(assignment_sample[PS2.Score].apply(lambda x: 0.2 if x < 1 else 3))\n",
    "plt.scatter(x=subject_times_norm, y=subject_indices, color=colors, linewidths=widths, edgecolors=None)\n",
    "plt.xlim([-2, 2])"
   ]
  },
  {
   "cell_type": "code",
   "execution_count": 69,
   "metadata": {
    "scrolled": true
   },
   "outputs": [
    {
     "data": {
      "text/plain": [
       "SubjectID                         AssignmentID  ProblemID\n",
       "036ad3e516c5bf3a4b3be35b137bcbb8  439.0         1            True\n",
       "                                                3            True\n",
       "                                                5            True\n",
       "                                                12           True\n",
       "                                                13           True\n",
       "                                                             ... \n",
       "ffb72475a81de0e95b910ffad039f5c2  502.0         64           True\n",
       "                                                70           True\n",
       "                                                71           True\n",
       "                                                112          True\n",
       "                                                118          True\n",
       "Length: 14828, dtype: bool"
      ]
     },
     "execution_count": 69,
     "metadata": {},
     "output_type": "execute_result"
    }
   ],
   "source": [
    "is_sorted = lambda a: np.all(a[:-1] <= a[1:])\n",
    "\n",
    "def is_consistent(rows):\n",
    "    orders = rows[PS2.Order]\n",
    "    times = rows['TimeInt']\n",
    "    return is_sorted(times.values)\n",
    "\n",
    "consistent = runs.groupby([PS2.SubjectID, PS2.AssignmentID, PS2.ProblemID]).apply(is_consistent)\n",
    "consistent"
   ]
  },
  {
   "cell_type": "code",
   "execution_count": 70,
   "metadata": {
    "scrolled": true
   },
   "outputs": [
    {
     "data": {
      "text/html": [
       "<div>\n",
       "<style scoped>\n",
       "    .dataframe tbody tr th:only-of-type {\n",
       "        vertical-align: middle;\n",
       "    }\n",
       "\n",
       "    .dataframe tbody tr th {\n",
       "        vertical-align: top;\n",
       "    }\n",
       "\n",
       "    .dataframe thead th {\n",
       "        text-align: right;\n",
       "    }\n",
       "</style>\n",
       "<table border=\"1\" class=\"dataframe\">\n",
       "  <thead>\n",
       "    <tr style=\"text-align: right;\">\n",
       "      <th></th>\n",
       "      <th>Order</th>\n",
       "      <th>SubjectID</th>\n",
       "      <th>ToolInstances</th>\n",
       "      <th>ServerTimestamp</th>\n",
       "      <th>ServerTimezone</th>\n",
       "      <th>CourseID</th>\n",
       "      <th>CourseSectionID</th>\n",
       "      <th>AssignmentID</th>\n",
       "      <th>ProblemID</th>\n",
       "      <th>CodeStateID</th>\n",
       "      <th>IsEventOrderingConsistent</th>\n",
       "      <th>EventType</th>\n",
       "      <th>Score</th>\n",
       "      <th>Compile.Result</th>\n",
       "      <th>CompileMessageType</th>\n",
       "      <th>CompileMessageData</th>\n",
       "      <th>EventID</th>\n",
       "      <th>ParentEventID</th>\n",
       "      <th>SourceLocation</th>\n",
       "      <th>TimeInt</th>\n",
       "    </tr>\n",
       "  </thead>\n",
       "  <tbody>\n",
       "    <tr>\n",
       "      <th>124457</th>\n",
       "      <td>124457</td>\n",
       "      <td>71ffa17407d66e134442eebb32d330ec</td>\n",
       "      <td>Java 8; CodeWorkout</td>\n",
       "      <td>2019-03-04T16:38:14</td>\n",
       "      <td>0</td>\n",
       "      <td>CS 1</td>\n",
       "      <td>2</td>\n",
       "      <td>487.0</td>\n",
       "      <td>102</td>\n",
       "      <td>42e1f3bb1091f9eec2eb577ab96bae4957968995</td>\n",
       "      <td>True</td>\n",
       "      <td>Run.Program</td>\n",
       "      <td>0.307692</td>\n",
       "      <td>NaN</td>\n",
       "      <td>NaN</td>\n",
       "      <td>NaN</td>\n",
       "      <td>102-77705</td>\n",
       "      <td>NaN</td>\n",
       "      <td>NaN</td>\n",
       "      <td>1551717494000000000</td>\n",
       "    </tr>\n",
       "    <tr>\n",
       "      <th>124486</th>\n",
       "      <td>124486</td>\n",
       "      <td>71ffa17407d66e134442eebb32d330ec</td>\n",
       "      <td>Java 8; CodeWorkout</td>\n",
       "      <td>2019-03-04T16:41:05</td>\n",
       "      <td>0</td>\n",
       "      <td>CS 1</td>\n",
       "      <td>2</td>\n",
       "      <td>487.0</td>\n",
       "      <td>102</td>\n",
       "      <td>169c7b05ae34784131e2d28d4405ebc555b18809</td>\n",
       "      <td>True</td>\n",
       "      <td>Run.Program</td>\n",
       "      <td>0.307692</td>\n",
       "      <td>NaN</td>\n",
       "      <td>NaN</td>\n",
       "      <td>NaN</td>\n",
       "      <td>102-77734</td>\n",
       "      <td>NaN</td>\n",
       "      <td>NaN</td>\n",
       "      <td>1551717665000000000</td>\n",
       "    </tr>\n",
       "    <tr>\n",
       "      <th>124488</th>\n",
       "      <td>124488</td>\n",
       "      <td>71ffa17407d66e134442eebb32d330ec</td>\n",
       "      <td>Java 8; CodeWorkout</td>\n",
       "      <td>2019-03-04T16:41:40</td>\n",
       "      <td>0</td>\n",
       "      <td>CS 1</td>\n",
       "      <td>2</td>\n",
       "      <td>487.0</td>\n",
       "      <td>102</td>\n",
       "      <td>16d28c968835cc078571422195034b7f4eb0e672</td>\n",
       "      <td>True</td>\n",
       "      <td>Run.Program</td>\n",
       "      <td>0.000000</td>\n",
       "      <td>NaN</td>\n",
       "      <td>NaN</td>\n",
       "      <td>NaN</td>\n",
       "      <td>102-77736</td>\n",
       "      <td>NaN</td>\n",
       "      <td>NaN</td>\n",
       "      <td>1551717700000000000</td>\n",
       "    </tr>\n",
       "    <tr>\n",
       "      <th>124490</th>\n",
       "      <td>124490</td>\n",
       "      <td>71ffa17407d66e134442eebb32d330ec</td>\n",
       "      <td>Java 8; CodeWorkout</td>\n",
       "      <td>2019-03-04T16:42:05</td>\n",
       "      <td>0</td>\n",
       "      <td>CS 1</td>\n",
       "      <td>2</td>\n",
       "      <td>487.0</td>\n",
       "      <td>102</td>\n",
       "      <td>6d2a1a03feb289d71573ff99c5b5d6f82a4e4c51</td>\n",
       "      <td>True</td>\n",
       "      <td>Run.Program</td>\n",
       "      <td>0.461538</td>\n",
       "      <td>NaN</td>\n",
       "      <td>NaN</td>\n",
       "      <td>NaN</td>\n",
       "      <td>102-77738</td>\n",
       "      <td>NaN</td>\n",
       "      <td>NaN</td>\n",
       "      <td>1551717725000000000</td>\n",
       "    </tr>\n",
       "    <tr>\n",
       "      <th>124492</th>\n",
       "      <td>124492</td>\n",
       "      <td>71ffa17407d66e134442eebb32d330ec</td>\n",
       "      <td>Java 8; CodeWorkout</td>\n",
       "      <td>2019-03-04T16:42:31</td>\n",
       "      <td>0</td>\n",
       "      <td>CS 1</td>\n",
       "      <td>2</td>\n",
       "      <td>487.0</td>\n",
       "      <td>102</td>\n",
       "      <td>58a1ff5e49eef11f50693100868942e82f901a7a</td>\n",
       "      <td>True</td>\n",
       "      <td>Run.Program</td>\n",
       "      <td>0.000000</td>\n",
       "      <td>NaN</td>\n",
       "      <td>NaN</td>\n",
       "      <td>NaN</td>\n",
       "      <td>102-77740</td>\n",
       "      <td>NaN</td>\n",
       "      <td>NaN</td>\n",
       "      <td>1551717751000000000</td>\n",
       "    </tr>\n",
       "    <tr>\n",
       "      <th>124495</th>\n",
       "      <td>124495</td>\n",
       "      <td>71ffa17407d66e134442eebb32d330ec</td>\n",
       "      <td>Java 8; CodeWorkout</td>\n",
       "      <td>2019-03-04T16:42:38</td>\n",
       "      <td>0</td>\n",
       "      <td>CS 1</td>\n",
       "      <td>2</td>\n",
       "      <td>487.0</td>\n",
       "      <td>102</td>\n",
       "      <td>df0c582539e719456d0affac2f532cd757397b74</td>\n",
       "      <td>True</td>\n",
       "      <td>Run.Program</td>\n",
       "      <td>0.000000</td>\n",
       "      <td>NaN</td>\n",
       "      <td>NaN</td>\n",
       "      <td>NaN</td>\n",
       "      <td>102-77743</td>\n",
       "      <td>NaN</td>\n",
       "      <td>NaN</td>\n",
       "      <td>1551717758000000000</td>\n",
       "    </tr>\n",
       "    <tr>\n",
       "      <th>124517</th>\n",
       "      <td>124517</td>\n",
       "      <td>71ffa17407d66e134442eebb32d330ec</td>\n",
       "      <td>Java 8; CodeWorkout</td>\n",
       "      <td>2019-03-04T16:45:34</td>\n",
       "      <td>0</td>\n",
       "      <td>CS 1</td>\n",
       "      <td>2</td>\n",
       "      <td>487.0</td>\n",
       "      <td>102</td>\n",
       "      <td>d4d60d8a83db04f7860a8a5e253cc5a688aff00a</td>\n",
       "      <td>True</td>\n",
       "      <td>Run.Program</td>\n",
       "      <td>0.000000</td>\n",
       "      <td>NaN</td>\n",
       "      <td>NaN</td>\n",
       "      <td>NaN</td>\n",
       "      <td>102-77765</td>\n",
       "      <td>NaN</td>\n",
       "      <td>NaN</td>\n",
       "      <td>1551717934000000000</td>\n",
       "    </tr>\n",
       "    <tr>\n",
       "      <th>124521</th>\n",
       "      <td>124521</td>\n",
       "      <td>71ffa17407d66e134442eebb32d330ec</td>\n",
       "      <td>Java 8; CodeWorkout</td>\n",
       "      <td>2019-03-04T16:45:52</td>\n",
       "      <td>0</td>\n",
       "      <td>CS 1</td>\n",
       "      <td>2</td>\n",
       "      <td>487.0</td>\n",
       "      <td>102</td>\n",
       "      <td>e14ab004b5288fdd5c76f285894dd3c1388f2500</td>\n",
       "      <td>True</td>\n",
       "      <td>Run.Program</td>\n",
       "      <td>0.461538</td>\n",
       "      <td>NaN</td>\n",
       "      <td>NaN</td>\n",
       "      <td>NaN</td>\n",
       "      <td>102-77769</td>\n",
       "      <td>NaN</td>\n",
       "      <td>NaN</td>\n",
       "      <td>1551717952000000000</td>\n",
       "    </tr>\n",
       "    <tr>\n",
       "      <th>124523</th>\n",
       "      <td>124523</td>\n",
       "      <td>71ffa17407d66e134442eebb32d330ec</td>\n",
       "      <td>Java 8; CodeWorkout</td>\n",
       "      <td>2019-03-04T16:45:51</td>\n",
       "      <td>0</td>\n",
       "      <td>CS 1</td>\n",
       "      <td>2</td>\n",
       "      <td>487.0</td>\n",
       "      <td>102</td>\n",
       "      <td>1d35d54dff4b63c48bb630cd45fceadc787a7e14</td>\n",
       "      <td>True</td>\n",
       "      <td>Run.Program</td>\n",
       "      <td>0.461538</td>\n",
       "      <td>NaN</td>\n",
       "      <td>NaN</td>\n",
       "      <td>NaN</td>\n",
       "      <td>102-77771</td>\n",
       "      <td>NaN</td>\n",
       "      <td>NaN</td>\n",
       "      <td>1551717951000000000</td>\n",
       "    </tr>\n",
       "    <tr>\n",
       "      <th>124525</th>\n",
       "      <td>124525</td>\n",
       "      <td>71ffa17407d66e134442eebb32d330ec</td>\n",
       "      <td>Java 8; CodeWorkout</td>\n",
       "      <td>2019-03-04T16:48:26</td>\n",
       "      <td>0</td>\n",
       "      <td>CS 1</td>\n",
       "      <td>2</td>\n",
       "      <td>487.0</td>\n",
       "      <td>102</td>\n",
       "      <td>fcff0609e46a63926def21d845edf14dc22bc259</td>\n",
       "      <td>True</td>\n",
       "      <td>Run.Program</td>\n",
       "      <td>0.000000</td>\n",
       "      <td>NaN</td>\n",
       "      <td>NaN</td>\n",
       "      <td>NaN</td>\n",
       "      <td>102-77773</td>\n",
       "      <td>NaN</td>\n",
       "      <td>NaN</td>\n",
       "      <td>1551718106000000000</td>\n",
       "    </tr>\n",
       "    <tr>\n",
       "      <th>124528</th>\n",
       "      <td>124528</td>\n",
       "      <td>71ffa17407d66e134442eebb32d330ec</td>\n",
       "      <td>Java 8; CodeWorkout</td>\n",
       "      <td>2019-03-04T16:48:39</td>\n",
       "      <td>0</td>\n",
       "      <td>CS 1</td>\n",
       "      <td>2</td>\n",
       "      <td>487.0</td>\n",
       "      <td>102</td>\n",
       "      <td>441fcd5b458ffbe54ca39c69401de429f6277533</td>\n",
       "      <td>True</td>\n",
       "      <td>Run.Program</td>\n",
       "      <td>0.538462</td>\n",
       "      <td>NaN</td>\n",
       "      <td>NaN</td>\n",
       "      <td>NaN</td>\n",
       "      <td>102-77776</td>\n",
       "      <td>NaN</td>\n",
       "      <td>NaN</td>\n",
       "      <td>1551718119000000000</td>\n",
       "    </tr>\n",
       "    <tr>\n",
       "      <th>124530</th>\n",
       "      <td>124530</td>\n",
       "      <td>71ffa17407d66e134442eebb32d330ec</td>\n",
       "      <td>Java 8; CodeWorkout</td>\n",
       "      <td>2019-03-04T16:50:06</td>\n",
       "      <td>0</td>\n",
       "      <td>CS 1</td>\n",
       "      <td>2</td>\n",
       "      <td>487.0</td>\n",
       "      <td>102</td>\n",
       "      <td>74a3d657363b90bc7458319dd46f7c6b3e19b5a4</td>\n",
       "      <td>True</td>\n",
       "      <td>Run.Program</td>\n",
       "      <td>0.692308</td>\n",
       "      <td>NaN</td>\n",
       "      <td>NaN</td>\n",
       "      <td>NaN</td>\n",
       "      <td>102-77778</td>\n",
       "      <td>NaN</td>\n",
       "      <td>NaN</td>\n",
       "      <td>1551718206000000000</td>\n",
       "    </tr>\n",
       "    <tr>\n",
       "      <th>124532</th>\n",
       "      <td>124532</td>\n",
       "      <td>71ffa17407d66e134442eebb32d330ec</td>\n",
       "      <td>Java 8; CodeWorkout</td>\n",
       "      <td>2019-03-04T16:50:36</td>\n",
       "      <td>0</td>\n",
       "      <td>CS 1</td>\n",
       "      <td>2</td>\n",
       "      <td>487.0</td>\n",
       "      <td>102</td>\n",
       "      <td>f1c781cbe5383de4162320071c7370e011707048</td>\n",
       "      <td>True</td>\n",
       "      <td>Run.Program</td>\n",
       "      <td>0.461538</td>\n",
       "      <td>NaN</td>\n",
       "      <td>NaN</td>\n",
       "      <td>NaN</td>\n",
       "      <td>102-77780</td>\n",
       "      <td>NaN</td>\n",
       "      <td>NaN</td>\n",
       "      <td>1551718236000000000</td>\n",
       "    </tr>\n",
       "    <tr>\n",
       "      <th>124534</th>\n",
       "      <td>124534</td>\n",
       "      <td>71ffa17407d66e134442eebb32d330ec</td>\n",
       "      <td>Java 8; CodeWorkout</td>\n",
       "      <td>2019-03-04T16:52:53</td>\n",
       "      <td>0</td>\n",
       "      <td>CS 1</td>\n",
       "      <td>2</td>\n",
       "      <td>487.0</td>\n",
       "      <td>102</td>\n",
       "      <td>45e59f5d8da86baab6fbe4c0eac8099db029cb23</td>\n",
       "      <td>True</td>\n",
       "      <td>Run.Program</td>\n",
       "      <td>1.000000</td>\n",
       "      <td>NaN</td>\n",
       "      <td>NaN</td>\n",
       "      <td>NaN</td>\n",
       "      <td>102-77782</td>\n",
       "      <td>NaN</td>\n",
       "      <td>NaN</td>\n",
       "      <td>1551718373000000000</td>\n",
       "    </tr>\n",
       "  </tbody>\n",
       "</table>\n",
       "</div>"
      ],
      "text/plain": [
       "         Order                         SubjectID        ToolInstances  \\\n",
       "124457  124457  71ffa17407d66e134442eebb32d330ec  Java 8; CodeWorkout   \n",
       "124486  124486  71ffa17407d66e134442eebb32d330ec  Java 8; CodeWorkout   \n",
       "124488  124488  71ffa17407d66e134442eebb32d330ec  Java 8; CodeWorkout   \n",
       "124490  124490  71ffa17407d66e134442eebb32d330ec  Java 8; CodeWorkout   \n",
       "124492  124492  71ffa17407d66e134442eebb32d330ec  Java 8; CodeWorkout   \n",
       "124495  124495  71ffa17407d66e134442eebb32d330ec  Java 8; CodeWorkout   \n",
       "124517  124517  71ffa17407d66e134442eebb32d330ec  Java 8; CodeWorkout   \n",
       "124521  124521  71ffa17407d66e134442eebb32d330ec  Java 8; CodeWorkout   \n",
       "124523  124523  71ffa17407d66e134442eebb32d330ec  Java 8; CodeWorkout   \n",
       "124525  124525  71ffa17407d66e134442eebb32d330ec  Java 8; CodeWorkout   \n",
       "124528  124528  71ffa17407d66e134442eebb32d330ec  Java 8; CodeWorkout   \n",
       "124530  124530  71ffa17407d66e134442eebb32d330ec  Java 8; CodeWorkout   \n",
       "124532  124532  71ffa17407d66e134442eebb32d330ec  Java 8; CodeWorkout   \n",
       "124534  124534  71ffa17407d66e134442eebb32d330ec  Java 8; CodeWorkout   \n",
       "\n",
       "            ServerTimestamp ServerTimezone CourseID  CourseSectionID  \\\n",
       "124457  2019-03-04T16:38:14              0     CS 1                2   \n",
       "124486  2019-03-04T16:41:05              0     CS 1                2   \n",
       "124488  2019-03-04T16:41:40              0     CS 1                2   \n",
       "124490  2019-03-04T16:42:05              0     CS 1                2   \n",
       "124492  2019-03-04T16:42:31              0     CS 1                2   \n",
       "124495  2019-03-04T16:42:38              0     CS 1                2   \n",
       "124517  2019-03-04T16:45:34              0     CS 1                2   \n",
       "124521  2019-03-04T16:45:52              0     CS 1                2   \n",
       "124523  2019-03-04T16:45:51              0     CS 1                2   \n",
       "124525  2019-03-04T16:48:26              0     CS 1                2   \n",
       "124528  2019-03-04T16:48:39              0     CS 1                2   \n",
       "124530  2019-03-04T16:50:06              0     CS 1                2   \n",
       "124532  2019-03-04T16:50:36              0     CS 1                2   \n",
       "124534  2019-03-04T16:52:53              0     CS 1                2   \n",
       "\n",
       "        AssignmentID  ProblemID                               CodeStateID  \\\n",
       "124457         487.0        102  42e1f3bb1091f9eec2eb577ab96bae4957968995   \n",
       "124486         487.0        102  169c7b05ae34784131e2d28d4405ebc555b18809   \n",
       "124488         487.0        102  16d28c968835cc078571422195034b7f4eb0e672   \n",
       "124490         487.0        102  6d2a1a03feb289d71573ff99c5b5d6f82a4e4c51   \n",
       "124492         487.0        102  58a1ff5e49eef11f50693100868942e82f901a7a   \n",
       "124495         487.0        102  df0c582539e719456d0affac2f532cd757397b74   \n",
       "124517         487.0        102  d4d60d8a83db04f7860a8a5e253cc5a688aff00a   \n",
       "124521         487.0        102  e14ab004b5288fdd5c76f285894dd3c1388f2500   \n",
       "124523         487.0        102  1d35d54dff4b63c48bb630cd45fceadc787a7e14   \n",
       "124525         487.0        102  fcff0609e46a63926def21d845edf14dc22bc259   \n",
       "124528         487.0        102  441fcd5b458ffbe54ca39c69401de429f6277533   \n",
       "124530         487.0        102  74a3d657363b90bc7458319dd46f7c6b3e19b5a4   \n",
       "124532         487.0        102  f1c781cbe5383de4162320071c7370e011707048   \n",
       "124534         487.0        102  45e59f5d8da86baab6fbe4c0eac8099db029cb23   \n",
       "\n",
       "        IsEventOrderingConsistent    EventType     Score Compile.Result  \\\n",
       "124457                       True  Run.Program  0.307692            NaN   \n",
       "124486                       True  Run.Program  0.307692            NaN   \n",
       "124488                       True  Run.Program  0.000000            NaN   \n",
       "124490                       True  Run.Program  0.461538            NaN   \n",
       "124492                       True  Run.Program  0.000000            NaN   \n",
       "124495                       True  Run.Program  0.000000            NaN   \n",
       "124517                       True  Run.Program  0.000000            NaN   \n",
       "124521                       True  Run.Program  0.461538            NaN   \n",
       "124523                       True  Run.Program  0.461538            NaN   \n",
       "124525                       True  Run.Program  0.000000            NaN   \n",
       "124528                       True  Run.Program  0.538462            NaN   \n",
       "124530                       True  Run.Program  0.692308            NaN   \n",
       "124532                       True  Run.Program  0.461538            NaN   \n",
       "124534                       True  Run.Program  1.000000            NaN   \n",
       "\n",
       "       CompileMessageType CompileMessageData    EventID ParentEventID  \\\n",
       "124457                NaN                NaN  102-77705           NaN   \n",
       "124486                NaN                NaN  102-77734           NaN   \n",
       "124488                NaN                NaN  102-77736           NaN   \n",
       "124490                NaN                NaN  102-77738           NaN   \n",
       "124492                NaN                NaN  102-77740           NaN   \n",
       "124495                NaN                NaN  102-77743           NaN   \n",
       "124517                NaN                NaN  102-77765           NaN   \n",
       "124521                NaN                NaN  102-77769           NaN   \n",
       "124523                NaN                NaN  102-77771           NaN   \n",
       "124525                NaN                NaN  102-77773           NaN   \n",
       "124528                NaN                NaN  102-77776           NaN   \n",
       "124530                NaN                NaN  102-77778           NaN   \n",
       "124532                NaN                NaN  102-77780           NaN   \n",
       "124534                NaN                NaN  102-77782           NaN   \n",
       "\n",
       "       SourceLocation              TimeInt  \n",
       "124457            NaN  1551717494000000000  \n",
       "124486            NaN  1551717665000000000  \n",
       "124488            NaN  1551717700000000000  \n",
       "124490            NaN  1551717725000000000  \n",
       "124492            NaN  1551717751000000000  \n",
       "124495            NaN  1551717758000000000  \n",
       "124517            NaN  1551717934000000000  \n",
       "124521            NaN  1551717952000000000  \n",
       "124523            NaN  1551717951000000000  \n",
       "124525            NaN  1551718106000000000  \n",
       "124528            NaN  1551718119000000000  \n",
       "124530            NaN  1551718206000000000  \n",
       "124532            NaN  1551718236000000000  \n",
       "124534            NaN  1551718373000000000  "
      ]
     },
     "execution_count": 70,
     "metadata": {},
     "output_type": "execute_result"
    }
   ],
   "source": [
    "runs[(runs[PS2.ProblemID]==102) & (runs[PS2.SubjectID]=='71ffa17407d66e134442eebb32d330ec')]"
   ]
  },
  {
   "cell_type": "code",
   "execution_count": 71,
   "metadata": {
    "scrolled": true
   },
   "outputs": [
    {
     "data": {
      "text/plain": [
       "SubjectID                         AssignmentID  ProblemID\n",
       "71ffa17407d66e134442eebb32d330ec  487.0         102          False\n",
       "81a0c4689fb7ce553a0d5c2fd19b6efd  439.0         233          False\n",
       "a36d22467b9c3af222b5e231e3b23791  439.0         13           False\n",
       "dtype: bool"
      ]
     },
     "execution_count": 71,
     "metadata": {},
     "output_type": "execute_result"
    }
   ],
   "source": [
    "consistent[~consistent]"
   ]
  }
 ],
 "metadata": {
  "kernelspec": {
   "display_name": "Python 3",
   "language": "python",
   "name": "python3"
  },
  "language_info": {
   "codemirror_mode": {
    "name": "ipython",
    "version": 3
   },
   "file_extension": ".py",
   "mimetype": "text/x-python",
   "name": "python",
   "nbconvert_exporter": "python",
   "pygments_lexer": "ipython3",
   "version": "3.7.6"
  }
 },
 "nbformat": 4,
 "nbformat_minor": 4
}
