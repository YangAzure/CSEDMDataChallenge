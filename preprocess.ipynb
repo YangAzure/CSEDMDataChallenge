{
 "cells": [
  {
   "cell_type": "code",
   "execution_count": 1,
   "metadata": {},
   "outputs": [],
   "source": [
    "import pandas as pd\n",
    "import numpy as np\n",
    "from ProgSnap2 import ProgSnap2Dataset\n",
    "from ProgSnap2 import PS2\n",
    "import matplotlib.pyplot as plt\n",
    "from sklearn.model_selection import train_test_split\n",
    "import numpy as np\n",
    "import os\n",
    "from os import path"
   ]
  },
  {
   "cell_type": "code",
   "execution_count": 2,
   "metadata": {},
   "outputs": [],
   "source": [
    "semester = 'S19'\n",
    "PATH = \"data/CodeWorkout/\" + semester"
   ]
  },
  {
   "cell_type": "code",
   "execution_count": 3,
   "metadata": {},
   "outputs": [],
   "source": [
    "data = ProgSnap2Dataset(PATH)"
   ]
  },
  {
   "cell_type": "code",
   "execution_count": 4,
   "metadata": {},
   "outputs": [],
   "source": [
    "main_table = data.get_main_table()\n",
    "student_table = data.load_link_table('Subject')"
   ]
  },
  {
   "cell_type": "code",
   "execution_count": 39,
   "metadata": {},
   "outputs": [
    {
     "data": {
      "text/html": [
       "<div>\n",
       "<style scoped>\n",
       "    .dataframe tbody tr th:only-of-type {\n",
       "        vertical-align: middle;\n",
       "    }\n",
       "\n",
       "    .dataframe tbody tr th {\n",
       "        vertical-align: top;\n",
       "    }\n",
       "\n",
       "    .dataframe thead th {\n",
       "        text-align: right;\n",
       "    }\n",
       "</style>\n",
       "<table border=\"1\" class=\"dataframe\">\n",
       "  <thead>\n",
       "    <tr style=\"text-align: right;\">\n",
       "      <th></th>\n",
       "      <th>Order</th>\n",
       "      <th>SubjectID</th>\n",
       "      <th>ToolInstances</th>\n",
       "      <th>ServerTimestamp</th>\n",
       "      <th>ServerTimezone</th>\n",
       "      <th>CourseID</th>\n",
       "      <th>CourseSectionID</th>\n",
       "      <th>AssignmentID</th>\n",
       "      <th>ProblemID</th>\n",
       "      <th>Attempt</th>\n",
       "      <th>CodeStateID</th>\n",
       "      <th>IsEventOrderingConsistent</th>\n",
       "      <th>EventType</th>\n",
       "      <th>Score</th>\n",
       "      <th>Compile.Result</th>\n",
       "      <th>CompileMessageType</th>\n",
       "      <th>CompileMessageData</th>\n",
       "      <th>EventID</th>\n",
       "      <th>ParentEventID</th>\n",
       "      <th>SourceLocation</th>\n",
       "    </tr>\n",
       "  </thead>\n",
       "  <tbody>\n",
       "    <tr>\n",
       "      <th>3994</th>\n",
       "      <td>3994</td>\n",
       "      <td>00c54f9462673d4c09d2a88121860841</td>\n",
       "      <td>Java 8; CodeWorkout</td>\n",
       "      <td>2019-03-25T00:22:27</td>\n",
       "      <td>0</td>\n",
       "      <td>CS 1</td>\n",
       "      <td>1</td>\n",
       "      <td>492.0</td>\n",
       "      <td>32</td>\n",
       "      <td>1</td>\n",
       "      <td>026039890a9a87b488e8a023da480144c3f6cedf</td>\n",
       "      <td>True</td>\n",
       "      <td>Run.Program</td>\n",
       "      <td>1.0</td>\n",
       "      <td>NaN</td>\n",
       "      <td>NaN</td>\n",
       "      <td>NaN</td>\n",
       "      <td>32-88791</td>\n",
       "      <td>NaN</td>\n",
       "      <td>NaN</td>\n",
       "    </tr>\n",
       "    <tr>\n",
       "      <th>3995</th>\n",
       "      <td>3995</td>\n",
       "      <td>00c54f9462673d4c09d2a88121860841</td>\n",
       "      <td>Java 8; CodeWorkout</td>\n",
       "      <td>2019-03-25T00:22:27</td>\n",
       "      <td>0</td>\n",
       "      <td>CS 1</td>\n",
       "      <td>1</td>\n",
       "      <td>492.0</td>\n",
       "      <td>32</td>\n",
       "      <td>1</td>\n",
       "      <td>026039890a9a87b488e8a023da480144c3f6cedf</td>\n",
       "      <td>True</td>\n",
       "      <td>Compile</td>\n",
       "      <td>NaN</td>\n",
       "      <td>Success</td>\n",
       "      <td>NaN</td>\n",
       "      <td>NaN</td>\n",
       "      <td>32-88792</td>\n",
       "      <td>32-88791</td>\n",
       "      <td>NaN</td>\n",
       "    </tr>\n",
       "    <tr>\n",
       "      <th>10535</th>\n",
       "      <td>10535</td>\n",
       "      <td>00c54f9462673d4c09d2a88121860841</td>\n",
       "      <td>Java 8; CodeWorkout</td>\n",
       "      <td>2019-02-24T05:04:26</td>\n",
       "      <td>UTC</td>\n",
       "      <td>CS 1</td>\n",
       "      <td>1</td>\n",
       "      <td>439.0</td>\n",
       "      <td>234</td>\n",
       "      <td>1</td>\n",
       "      <td>a41126484e7a6ed1d768310250502f62c3fbc599</td>\n",
       "      <td>True</td>\n",
       "      <td>Run.Program</td>\n",
       "      <td>1.0</td>\n",
       "      <td>NaN</td>\n",
       "      <td>NaN</td>\n",
       "      <td>NaN</td>\n",
       "      <td>234-22182</td>\n",
       "      <td>NaN</td>\n",
       "      <td>NaN</td>\n",
       "    </tr>\n",
       "    <tr>\n",
       "      <th>10536</th>\n",
       "      <td>10536</td>\n",
       "      <td>00c54f9462673d4c09d2a88121860841</td>\n",
       "      <td>Java 8; CodeWorkout</td>\n",
       "      <td>2019-02-24T05:04:26</td>\n",
       "      <td>UTC</td>\n",
       "      <td>CS 1</td>\n",
       "      <td>1</td>\n",
       "      <td>439.0</td>\n",
       "      <td>234</td>\n",
       "      <td>1</td>\n",
       "      <td>a41126484e7a6ed1d768310250502f62c3fbc599</td>\n",
       "      <td>True</td>\n",
       "      <td>Compile</td>\n",
       "      <td>NaN</td>\n",
       "      <td>Success</td>\n",
       "      <td>NaN</td>\n",
       "      <td>NaN</td>\n",
       "      <td>234-22183</td>\n",
       "      <td>234-22182</td>\n",
       "      <td>NaN</td>\n",
       "    </tr>\n",
       "    <tr>\n",
       "      <th>27026</th>\n",
       "      <td>27026</td>\n",
       "      <td>00c54f9462673d4c09d2a88121860841</td>\n",
       "      <td>Java 8; CodeWorkout</td>\n",
       "      <td>2019-02-24T04:27:49</td>\n",
       "      <td>UTC</td>\n",
       "      <td>CS 1</td>\n",
       "      <td>1</td>\n",
       "      <td>439.0</td>\n",
       "      <td>13</td>\n",
       "      <td>1</td>\n",
       "      <td>6a78c051d22981f5f07c3dd1b56dab3757d26e2c</td>\n",
       "      <td>True</td>\n",
       "      <td>Run.Program</td>\n",
       "      <td>0.0</td>\n",
       "      <td>NaN</td>\n",
       "      <td>NaN</td>\n",
       "      <td>NaN</td>\n",
       "      <td>13-54894</td>\n",
       "      <td>NaN</td>\n",
       "      <td>NaN</td>\n",
       "    </tr>\n",
       "  </tbody>\n",
       "</table>\n",
       "</div>"
      ],
      "text/plain": [
       "       Order                         SubjectID        ToolInstances  \\\n",
       "3994    3994  00c54f9462673d4c09d2a88121860841  Java 8; CodeWorkout   \n",
       "3995    3995  00c54f9462673d4c09d2a88121860841  Java 8; CodeWorkout   \n",
       "10535  10535  00c54f9462673d4c09d2a88121860841  Java 8; CodeWorkout   \n",
       "10536  10536  00c54f9462673d4c09d2a88121860841  Java 8; CodeWorkout   \n",
       "27026  27026  00c54f9462673d4c09d2a88121860841  Java 8; CodeWorkout   \n",
       "\n",
       "           ServerTimestamp ServerTimezone CourseID  CourseSectionID  \\\n",
       "3994   2019-03-25T00:22:27              0     CS 1                1   \n",
       "3995   2019-03-25T00:22:27              0     CS 1                1   \n",
       "10535  2019-02-24T05:04:26            UTC     CS 1                1   \n",
       "10536  2019-02-24T05:04:26            UTC     CS 1                1   \n",
       "27026  2019-02-24T04:27:49            UTC     CS 1                1   \n",
       "\n",
       "       AssignmentID  ProblemID  Attempt  \\\n",
       "3994          492.0         32        1   \n",
       "3995          492.0         32        1   \n",
       "10535         439.0        234        1   \n",
       "10536         439.0        234        1   \n",
       "27026         439.0         13        1   \n",
       "\n",
       "                                    CodeStateID  IsEventOrderingConsistent  \\\n",
       "3994   026039890a9a87b488e8a023da480144c3f6cedf                       True   \n",
       "3995   026039890a9a87b488e8a023da480144c3f6cedf                       True   \n",
       "10535  a41126484e7a6ed1d768310250502f62c3fbc599                       True   \n",
       "10536  a41126484e7a6ed1d768310250502f62c3fbc599                       True   \n",
       "27026  6a78c051d22981f5f07c3dd1b56dab3757d26e2c                       True   \n",
       "\n",
       "         EventType  Score Compile.Result CompileMessageType  \\\n",
       "3994   Run.Program    1.0            NaN                NaN   \n",
       "3995       Compile    NaN        Success                NaN   \n",
       "10535  Run.Program    1.0            NaN                NaN   \n",
       "10536      Compile    NaN        Success                NaN   \n",
       "27026  Run.Program    0.0            NaN                NaN   \n",
       "\n",
       "      CompileMessageData    EventID ParentEventID SourceLocation  \n",
       "3994                 NaN   32-88791           NaN            NaN  \n",
       "3995                 NaN   32-88792      32-88791            NaN  \n",
       "10535                NaN  234-22182           NaN            NaN  \n",
       "10536                NaN  234-22183     234-22182            NaN  \n",
       "27026                NaN   13-54894           NaN            NaN  "
      ]
     },
     "execution_count": 39,
     "metadata": {},
     "output_type": "execute_result"
    }
   ],
   "source": [
    "main_table.head()"
   ]
  },
  {
   "cell_type": "code",
   "execution_count": 5,
   "metadata": {
    "scrolled": false
   },
   "outputs": [
    {
     "name": "stdout",
     "output_type": "stream",
     "text": [
      "381\n"
     ]
    },
    {
     "data": {
      "text/plain": [
       "348"
      ]
     },
     "execution_count": 5,
     "metadata": {},
     "output_type": "execute_result"
    }
   ],
   "source": [
    "# Get the SubjectIDs where the final grade is non-0\n",
    "# A 0 grade indicates the student did not take the final\n",
    "print(len(student_table.index))\n",
    "subject_ids = set(student_table[student_table['X-Grade'] != 0][PS2.SubjectID].unique())\n",
    "subject_ids = subject_ids.intersection(set(student_table['SubjectID'].unique()))\n",
    "len(subject_ids)"
   ]
  },
  {
   "cell_type": "markdown",
   "metadata": {},
   "source": [
    "We want to confirm that our selected students have a good and well-distributed number of attempts at all the problems in the dataset."
   ]
  },
  {
   "cell_type": "code",
   "execution_count": 6,
   "metadata": {},
   "outputs": [
    {
     "data": {
      "text/plain": [
       "count    346.000000\n",
       "mean      42.855491\n",
       "std       10.331712\n",
       "min        1.000000\n",
       "25%       40.000000\n",
       "50%       48.500000\n",
       "75%       50.000000\n",
       "max       50.000000\n",
       "dtype: float64"
      ]
     },
     "execution_count": 6,
     "metadata": {},
     "output_type": "execute_result"
    }
   ],
   "source": [
    "# First we check how many problems each student attempted\n",
    "main_table_filtered = main_table[main_table[PS2.SubjectID].isin(subject_ids)]\n",
    "problems_per_student = main_table_filtered.groupby(by=['SubjectID']).apply(lambda rows: len(rows[PS2.ProblemID].unique()))\n",
    "# 75% of problems were attempted by at least 40 studens, so that's good\n",
    "problems_per_student.describe()"
   ]
  },
  {
   "cell_type": "code",
   "execution_count": 7,
   "metadata": {
    "scrolled": true
   },
   "outputs": [
    {
     "data": {
      "text/plain": [
       "3"
      ]
     },
     "execution_count": 7,
     "metadata": {},
     "output_type": "execute_result"
    }
   ],
   "source": [
    "# Only 3 attempted fewer than 10 problems\n",
    "sum(problems_per_student < 10)"
   ]
  },
  {
   "cell_type": "code",
   "execution_count": 8,
   "metadata": {
    "scrolled": true
   },
   "outputs": [
    {
     "data": {
      "text/plain": [
       "count     50.000000\n",
       "mean     296.560000\n",
       "std       14.642906\n",
       "min      267.000000\n",
       "25%      285.000000\n",
       "50%      295.500000\n",
       "75%      309.750000\n",
       "max      324.000000\n",
       "dtype: float64"
      ]
     },
     "execution_count": 8,
     "metadata": {},
     "output_type": "execute_result"
    }
   ],
   "source": [
    "# Next we see how many students attempted each problem\n",
    "students_per_problem = main_table_filtered.groupby(by=['AssignmentID', 'ProblemID']).apply(lambda rows: len(rows[PS2.SubjectID].unique()))\n",
    "students_per_problem.describe()"
   ]
  },
  {
   "cell_type": "code",
   "execution_count": 9,
   "metadata": {
    "scrolled": true
   },
   "outputs": [
    {
     "data": {
      "text/plain": [
       "<BarContainer object of 50 artists>"
      ]
     },
     "execution_count": 9,
     "metadata": {},
     "output_type": "execute_result"
    },
    {
     "data": {
      "image/png": "[encoded data removed]",
      "text/plain": [
       "<Figure size 432x288 with 1 Axes>"
      ]
     },
     "metadata": {
      "needs_background": "light"
     },
     "output_type": "display_data"
    }
   ],
   "source": [
    "# Next we plot the number of attemptes on each problem (x) / assignment (color)\n",
    "from matplotlib.cm import viridis\n",
    "\n",
    "assignment_ids = list(students_per_problem.keys().map(lambda x: x[0]))\n",
    "assignment_ids = [sorted(assignment_ids).index(x) for x in assignment_ids]\n",
    "colors = [viridis((float(i)-min(assignment_ids))/(max(assignment_ids)-min(assignment_ids))) for i in assignment_ids]\n",
    "\n",
    "# There's a slight drop-off by assignment, but overall they're well-attempted\n",
    "plt.bar(range(1,51), students_per_problem, color=colors)"
   ]
  },
  {
   "cell_type": "code",
   "execution_count": 10,
   "metadata": {},
   "outputs": [
    {
     "data": {
      "text/plain": [
       "1.0"
      ]
     },
     "execution_count": 10,
     "metadata": {},
     "output_type": "execute_result"
    }
   ],
   "source": [
    "main_table_filtered[PS2.Score][0]"
   ]
  },
  {
   "cell_type": "code",
   "execution_count": 11,
   "metadata": {
    "scrolled": true
   },
   "outputs": [
    {
     "data": {
      "text/plain": [
       "count    14828.000000\n",
       "mean         4.196318\n",
       "std          5.879822\n",
       "min          1.000000\n",
       "25%          1.000000\n",
       "50%          2.000000\n",
       "75%          5.000000\n",
       "max         93.000000\n",
       "dtype: float64"
      ]
     },
     "execution_count": 11,
     "metadata": {},
     "output_type": "execute_result"
    }
   ],
   "source": [
    "runs = main_table_filtered[main_table_filtered[PS2.EventType] == 'Run.Program']\n",
    "\n",
    "def get_attempts(rows):\n",
    "    scores = rows[PS2.Score]\n",
    "    # If they scored 1, we return the first time they did so\n",
    "    if (scores.max() == 1):\n",
    "        # Argmax returns the first index of the highest score\n",
    "        # Since the array is 0-indexed, we return +1\n",
    "        return rows[PS2.Score].argmax() + 1\n",
    "    return len(rows.index)\n",
    "    \n",
    "\n",
    "scores = runs.groupby([PS2.SubjectID, PS2.AssignmentID, PS2.ProblemID]).apply(get_attempts)\n",
    "scores.describe()"
   ]
  },
  {
   "cell_type": "code",
   "execution_count": 12,
   "metadata": {
    "scrolled": true
   },
   "outputs": [
    {
     "data": {
      "text/plain": [
       "count    14828.000000\n",
       "mean         4.345090\n",
       "std          6.076818\n",
       "min          1.000000\n",
       "25%          1.000000\n",
       "50%          2.000000\n",
       "75%          5.000000\n",
       "max         93.000000\n",
       "dtype: float64"
      ]
     },
     "execution_count": 12,
     "metadata": {},
     "output_type": "execute_result"
    }
   ],
   "source": [
    "# Confirm that this is different than just the count of runs\n",
    "runs.groupby([PS2.SubjectID, PS2.AssignmentID, PS2.ProblemID]).apply(lambda x: len(x.index)).describe()"
   ]
  },
  {
   "cell_type": "code",
   "execution_count": 13,
   "metadata": {
    "scrolled": false
   },
   "outputs": [
    {
     "data": {
      "text/html": [
       "<div>\n",
       "<style scoped>\n",
       "    .dataframe tbody tr th:only-of-type {\n",
       "        vertical-align: middle;\n",
       "    }\n",
       "\n",
       "    .dataframe tbody tr th {\n",
       "        vertical-align: top;\n",
       "    }\n",
       "\n",
       "    .dataframe thead th {\n",
       "        text-align: right;\n",
       "    }\n",
       "</style>\n",
       "<table border=\"1\" class=\"dataframe\">\n",
       "  <thead>\n",
       "    <tr style=\"text-align: right;\">\n",
       "      <th></th>\n",
       "      <th>SubjectID</th>\n",
       "      <th>AssignmentID</th>\n",
       "      <th>ProblemID</th>\n",
       "      <th>Attempts</th>\n",
       "    </tr>\n",
       "  </thead>\n",
       "  <tbody>\n",
       "    <tr>\n",
       "      <th>0</th>\n",
       "      <td>036ad3e516c5bf3a4b3be35b137bcbb8</td>\n",
       "      <td>439.0</td>\n",
       "      <td>1</td>\n",
       "      <td>8</td>\n",
       "    </tr>\n",
       "    <tr>\n",
       "      <th>1</th>\n",
       "      <td>036ad3e516c5bf3a4b3be35b137bcbb8</td>\n",
       "      <td>439.0</td>\n",
       "      <td>3</td>\n",
       "      <td>6</td>\n",
       "    </tr>\n",
       "    <tr>\n",
       "      <th>2</th>\n",
       "      <td>036ad3e516c5bf3a4b3be35b137bcbb8</td>\n",
       "      <td>439.0</td>\n",
       "      <td>5</td>\n",
       "      <td>7</td>\n",
       "    </tr>\n",
       "    <tr>\n",
       "      <th>3</th>\n",
       "      <td>036ad3e516c5bf3a4b3be35b137bcbb8</td>\n",
       "      <td>439.0</td>\n",
       "      <td>12</td>\n",
       "      <td>2</td>\n",
       "    </tr>\n",
       "    <tr>\n",
       "      <th>4</th>\n",
       "      <td>036ad3e516c5bf3a4b3be35b137bcbb8</td>\n",
       "      <td>439.0</td>\n",
       "      <td>13</td>\n",
       "      <td>17</td>\n",
       "    </tr>\n",
       "  </tbody>\n",
       "</table>\n",
       "</div>"
      ],
      "text/plain": [
       "                          SubjectID  AssignmentID  ProblemID  Attempts\n",
       "0  036ad3e516c5bf3a4b3be35b137bcbb8         439.0          1         8\n",
       "1  036ad3e516c5bf3a4b3be35b137bcbb8         439.0          3         6\n",
       "2  036ad3e516c5bf3a4b3be35b137bcbb8         439.0          5         7\n",
       "3  036ad3e516c5bf3a4b3be35b137bcbb8         439.0         12         2\n",
       "4  036ad3e516c5bf3a4b3be35b137bcbb8         439.0         13        17"
      ]
     },
     "execution_count": 13,
     "metadata": {},
     "output_type": "execute_result"
    }
   ],
   "source": [
    "student_attempts = scores.to_frame('Attempts').reset_index()\n",
    "student_attempts.head()"
   ]
  },
  {
   "cell_type": "code",
   "execution_count": 14,
   "metadata": {},
   "outputs": [],
   "source": [
    "correct_eventually = runs.groupby([PS2.SubjectID, PS2.AssignmentID, PS2.ProblemID])[PS2.Score].apply(lambda x: max(x) == 1)"
   ]
  },
  {
   "cell_type": "code",
   "execution_count": 15,
   "metadata": {},
   "outputs": [
    {
     "data": {
      "text/html": [
       "<div>\n",
       "<style scoped>\n",
       "    .dataframe tbody tr th:only-of-type {\n",
       "        vertical-align: middle;\n",
       "    }\n",
       "\n",
       "    .dataframe tbody tr th {\n",
       "        vertical-align: top;\n",
       "    }\n",
       "\n",
       "    .dataframe thead th {\n",
       "        text-align: right;\n",
       "    }\n",
       "</style>\n",
       "<table border=\"1\" class=\"dataframe\">\n",
       "  <thead>\n",
       "    <tr style=\"text-align: right;\">\n",
       "      <th></th>\n",
       "      <th></th>\n",
       "      <th></th>\n",
       "      <th>StartEventOrder</th>\n",
       "    </tr>\n",
       "    <tr>\n",
       "      <th>SubjectID</th>\n",
       "      <th>AssignmentID</th>\n",
       "      <th>ProblemID</th>\n",
       "      <th></th>\n",
       "    </tr>\n",
       "  </thead>\n",
       "  <tbody>\n",
       "    <tr>\n",
       "      <th rowspan=\"5\" valign=\"top\">036ad3e516c5bf3a4b3be35b137bcbb8</th>\n",
       "      <th rowspan=\"5\" valign=\"top\">439.0</th>\n",
       "      <th>1</th>\n",
       "      <td>120635</td>\n",
       "    </tr>\n",
       "    <tr>\n",
       "      <th>3</th>\n",
       "      <td>135624</td>\n",
       "    </tr>\n",
       "    <tr>\n",
       "      <th>5</th>\n",
       "      <td>66827</td>\n",
       "    </tr>\n",
       "    <tr>\n",
       "      <th>12</th>\n",
       "      <td>37923</td>\n",
       "    </tr>\n",
       "    <tr>\n",
       "      <th>13</th>\n",
       "      <td>30588</td>\n",
       "    </tr>\n",
       "    <tr>\n",
       "      <th>...</th>\n",
       "      <th>...</th>\n",
       "      <th>...</th>\n",
       "      <td>...</td>\n",
       "    </tr>\n",
       "    <tr>\n",
       "      <th rowspan=\"5\" valign=\"top\">ffb72475a81de0e95b910ffad039f5c2</th>\n",
       "      <th rowspan=\"5\" valign=\"top\">502.0</th>\n",
       "      <th>64</th>\n",
       "      <td>49816</td>\n",
       "    </tr>\n",
       "    <tr>\n",
       "      <th>70</th>\n",
       "      <td>113478</td>\n",
       "    </tr>\n",
       "    <tr>\n",
       "      <th>71</th>\n",
       "      <td>108282</td>\n",
       "    </tr>\n",
       "    <tr>\n",
       "      <th>112</th>\n",
       "      <td>110202</td>\n",
       "    </tr>\n",
       "    <tr>\n",
       "      <th>118</th>\n",
       "      <td>81273</td>\n",
       "    </tr>\n",
       "  </tbody>\n",
       "</table>\n",
       "<p>14828 rows × 1 columns</p>\n",
       "</div>"
      ],
      "text/plain": [
       "                                                         StartEventOrder\n",
       "SubjectID                        AssignmentID ProblemID                 \n",
       "036ad3e516c5bf3a4b3be35b137bcbb8 439.0        1                   120635\n",
       "                                              3                   135624\n",
       "                                              5                    66827\n",
       "                                              12                   37923\n",
       "                                              13                   30588\n",
       "...                                                                  ...\n",
       "ffb72475a81de0e95b910ffad039f5c2 502.0        64                   49816\n",
       "                                              70                  113478\n",
       "                                              71                  108282\n",
       "                                              112                 110202\n",
       "                                              118                  81273\n",
       "\n",
       "[14828 rows x 1 columns]"
      ]
     },
     "execution_count": 15,
     "metadata": {},
     "output_type": "execute_result"
    }
   ],
   "source": [
    "def get_start_end_order(rows):\n",
    "    return pd.Series({\n",
    "        'StartEventOrder': min(rows[PS2.Order])\n",
    "        # 'EndEventOrder': max(rows[PS2.Order])\n",
    "    })\n",
    "\n",
    "start_orders = main_table_filtered.groupby([PS2.SubjectID, PS2.AssignmentID, PS2.ProblemID]).apply(get_start_end_order)\n",
    "start_orders"
   ]
  },
  {
   "cell_type": "code",
   "execution_count": 16,
   "metadata": {
    "scrolled": true
   },
   "outputs": [
    {
     "data": {
      "text/html": [
       "<div>\n",
       "<style scoped>\n",
       "    .dataframe tbody tr th:only-of-type {\n",
       "        vertical-align: middle;\n",
       "    }\n",
       "\n",
       "    .dataframe tbody tr th {\n",
       "        vertical-align: top;\n",
       "    }\n",
       "\n",
       "    .dataframe thead th {\n",
       "        text-align: right;\n",
       "    }\n",
       "</style>\n",
       "<table border=\"1\" class=\"dataframe\">\n",
       "  <thead>\n",
       "    <tr style=\"text-align: right;\">\n",
       "      <th></th>\n",
       "      <th>SubjectID</th>\n",
       "      <th>AssignmentID</th>\n",
       "      <th>ProblemID</th>\n",
       "      <th>Attempts</th>\n",
       "      <th>CorrectEventually</th>\n",
       "      <th>StartEventOrder</th>\n",
       "    </tr>\n",
       "  </thead>\n",
       "  <tbody>\n",
       "    <tr>\n",
       "      <th>0</th>\n",
       "      <td>036ad3e516c5bf3a4b3be35b137bcbb8</td>\n",
       "      <td>439.0</td>\n",
       "      <td>1</td>\n",
       "      <td>8</td>\n",
       "      <td>True</td>\n",
       "      <td>120635</td>\n",
       "    </tr>\n",
       "    <tr>\n",
       "      <th>1</th>\n",
       "      <td>036ad3e516c5bf3a4b3be35b137bcbb8</td>\n",
       "      <td>439.0</td>\n",
       "      <td>3</td>\n",
       "      <td>6</td>\n",
       "      <td>True</td>\n",
       "      <td>135624</td>\n",
       "    </tr>\n",
       "    <tr>\n",
       "      <th>2</th>\n",
       "      <td>036ad3e516c5bf3a4b3be35b137bcbb8</td>\n",
       "      <td>439.0</td>\n",
       "      <td>5</td>\n",
       "      <td>7</td>\n",
       "      <td>True</td>\n",
       "      <td>66827</td>\n",
       "    </tr>\n",
       "    <tr>\n",
       "      <th>3</th>\n",
       "      <td>036ad3e516c5bf3a4b3be35b137bcbb8</td>\n",
       "      <td>439.0</td>\n",
       "      <td>12</td>\n",
       "      <td>2</td>\n",
       "      <td>True</td>\n",
       "      <td>37923</td>\n",
       "    </tr>\n",
       "    <tr>\n",
       "      <th>4</th>\n",
       "      <td>036ad3e516c5bf3a4b3be35b137bcbb8</td>\n",
       "      <td>439.0</td>\n",
       "      <td>13</td>\n",
       "      <td>17</td>\n",
       "      <td>True</td>\n",
       "      <td>30588</td>\n",
       "    </tr>\n",
       "    <tr>\n",
       "      <th>...</th>\n",
       "      <td>...</td>\n",
       "      <td>...</td>\n",
       "      <td>...</td>\n",
       "      <td>...</td>\n",
       "      <td>...</td>\n",
       "      <td>...</td>\n",
       "    </tr>\n",
       "    <tr>\n",
       "      <th>14823</th>\n",
       "      <td>ffb72475a81de0e95b910ffad039f5c2</td>\n",
       "      <td>502.0</td>\n",
       "      <td>64</td>\n",
       "      <td>2</td>\n",
       "      <td>True</td>\n",
       "      <td>49816</td>\n",
       "    </tr>\n",
       "    <tr>\n",
       "      <th>14824</th>\n",
       "      <td>ffb72475a81de0e95b910ffad039f5c2</td>\n",
       "      <td>502.0</td>\n",
       "      <td>70</td>\n",
       "      <td>2</td>\n",
       "      <td>True</td>\n",
       "      <td>113478</td>\n",
       "    </tr>\n",
       "    <tr>\n",
       "      <th>14825</th>\n",
       "      <td>ffb72475a81de0e95b910ffad039f5c2</td>\n",
       "      <td>502.0</td>\n",
       "      <td>71</td>\n",
       "      <td>1</td>\n",
       "      <td>True</td>\n",
       "      <td>108282</td>\n",
       "    </tr>\n",
       "    <tr>\n",
       "      <th>14826</th>\n",
       "      <td>ffb72475a81de0e95b910ffad039f5c2</td>\n",
       "      <td>502.0</td>\n",
       "      <td>112</td>\n",
       "      <td>1</td>\n",
       "      <td>True</td>\n",
       "      <td>110202</td>\n",
       "    </tr>\n",
       "    <tr>\n",
       "      <th>14827</th>\n",
       "      <td>ffb72475a81de0e95b910ffad039f5c2</td>\n",
       "      <td>502.0</td>\n",
       "      <td>118</td>\n",
       "      <td>1</td>\n",
       "      <td>True</td>\n",
       "      <td>81273</td>\n",
       "    </tr>\n",
       "  </tbody>\n",
       "</table>\n",
       "<p>14828 rows × 6 columns</p>\n",
       "</div>"
      ],
      "text/plain": [
       "                              SubjectID  AssignmentID  ProblemID  Attempts  \\\n",
       "0      036ad3e516c5bf3a4b3be35b137bcbb8         439.0          1         8   \n",
       "1      036ad3e516c5bf3a4b3be35b137bcbb8         439.0          3         6   \n",
       "2      036ad3e516c5bf3a4b3be35b137bcbb8         439.0          5         7   \n",
       "3      036ad3e516c5bf3a4b3be35b137bcbb8         439.0         12         2   \n",
       "4      036ad3e516c5bf3a4b3be35b137bcbb8         439.0         13        17   \n",
       "...                                 ...           ...        ...       ...   \n",
       "14823  ffb72475a81de0e95b910ffad039f5c2         502.0         64         2   \n",
       "14824  ffb72475a81de0e95b910ffad039f5c2         502.0         70         2   \n",
       "14825  ffb72475a81de0e95b910ffad039f5c2         502.0         71         1   \n",
       "14826  ffb72475a81de0e95b910ffad039f5c2         502.0        112         1   \n",
       "14827  ffb72475a81de0e95b910ffad039f5c2         502.0        118         1   \n",
       "\n",
       "       CorrectEventually  StartEventOrder  \n",
       "0                   True           120635  \n",
       "1                   True           135624  \n",
       "2                   True            66827  \n",
       "3                   True            37923  \n",
       "4                   True            30588  \n",
       "...                  ...              ...  \n",
       "14823               True            49816  \n",
       "14824               True           113478  \n",
       "14825               True           108282  \n",
       "14826               True           110202  \n",
       "14827               True            81273  \n",
       "\n",
       "[14828 rows x 6 columns]"
      ]
     },
     "execution_count": 16,
     "metadata": {},
     "output_type": "execute_result"
    }
   ],
   "source": [
    "student_scores = student_attempts.merge(correct_eventually.to_frame('CorrectEventually'), on=[PS2.SubjectID, PS2.AssignmentID, PS2.ProblemID])\n",
    "student_scores = student_scores.merge(start_orders, on=[PS2.SubjectID, PS2.AssignmentID, PS2.ProblemID])\n",
    "student_scores"
   ]
  },
  {
   "cell_type": "code",
   "execution_count": 17,
   "metadata": {
    "scrolled": true
   },
   "outputs": [
    {
     "data": {
      "text/plain": [
       "True     13790\n",
       "False     1038\n",
       "Name: CorrectEventually, dtype: int64"
      ]
     },
     "execution_count": 17,
     "metadata": {},
     "output_type": "execute_result"
    }
   ],
   "source": [
    "student_scores.CorrectEventually.value_counts()"
   ]
  },
  {
   "cell_type": "code",
   "execution_count": 18,
   "metadata": {
    "scrolled": true
   },
   "outputs": [
    {
     "data": {
      "text/plain": [
       "ProblemID\n",
       "1      2.0\n",
       "3      4.0\n",
       "5      4.0\n",
       "12     2.0\n",
       "13    11.0\n",
       "dtype: float64"
      ]
     },
     "execution_count": 18,
     "metadata": {},
     "output_type": "execute_result"
    }
   ],
   "source": [
    "problem_attempt_75th = student_scores.groupby(PS2.ProblemID).apply(lambda x: x.Attempts.quantile(0.75))\n",
    "problem_attempt_75th.head()"
   ]
  },
  {
   "cell_type": "code",
   "execution_count": 19,
   "metadata": {
    "scrolled": true
   },
   "outputs": [
    {
     "data": {
      "image/png": "[encoded data removed]",
      "text/plain": [
       "<Figure size 1080x720 with 50 Axes>"
      ]
     },
     "metadata": {
      "needs_background": "light"
     },
     "output_type": "display_data"
    }
   ],
   "source": [
    "import matplotlib\n",
    "matplotlib.rcParams['figure.figsize'] = [15, 10]\n",
    "\n",
    "problem_ids = list(student_scores.ProblemID.unique())\n",
    "fig, axs = plt.subplots(5, 10)\n",
    "for i in range(5):\n",
    "    for j in range(10):\n",
    "        problem_id = problem_ids[i * 10 + j]\n",
    "        attempts = student_scores[student_scores[PS2.ProblemID] == problem_id].Attempts\n",
    "        p75 = problem_attempt_75th[problem_id] + 1\n",
    "        axs[i, j].hist(attempts)\n",
    "        axs[i, j].vlines(p75, 0, 50)"
   ]
  },
  {
   "cell_type": "code",
   "execution_count": 20,
   "metadata": {},
   "outputs": [
    {
     "data": {
      "text/plain": [
       "True     10931\n",
       "False     3897\n",
       "Name: Label, dtype: int64"
      ]
     },
     "execution_count": 20,
     "metadata": {},
     "output_type": "execute_result"
    }
   ],
   "source": [
    "cutoffs = student_scores['ProblemID'].apply(lambda x: problem_attempt_75th[x])\n",
    "# TODO: Add ever correct!!\n",
    "student_scores['Label'] = np.logical_and(student_scores['Attempts'] <= cutoffs, student_scores['CorrectEventually'])\n",
    "student_scores['Label'].value_counts()"
   ]
  },
  {
   "cell_type": "code",
   "execution_count": 21,
   "metadata": {
    "scrolled": false
   },
   "outputs": [
    {
     "data": {
      "text/plain": [
       "(array([ 3.,  2.,  8., 13., 24., 38., 56., 46., 65., 91.]),\n",
       " array([0. , 0.1, 0.2, 0.3, 0.4, 0.5, 0.6, 0.7, 0.8, 0.9, 1. ]),\n",
       " <a list of 10 Patch objects>)"
      ]
     },
     "execution_count": 21,
     "metadata": {},
     "output_type": "execute_result"
    },
    {
     "data": {
      "image/png": "[encoded data removed]",
      "text/plain": [
       "<Figure size 576x288 with 1 Axes>"
      ]
     },
     "metadata": {
      "needs_background": "light"
     },
     "output_type": "display_data"
    }
   ],
   "source": [
    "matplotlib.rcParams['figure.figsize'] = [8, 4]\n",
    "\n",
    "# The percentage of struggling problems per student is well-distributed\n",
    "plt.hist(student_scores.groupby(PS2.SubjectID)['Label'].mean())"
   ]
  },
  {
   "cell_type": "code",
   "execution_count": 58,
   "metadata": {},
   "outputs": [],
   "source": [
    "runs_time = runs.copy()\n",
    "problem_orders = runs.groupby([PS2.AssignmentID, PS2.ProblemID])[PS2.Order].median()\n",
    "runs_time['TimeInt'] = pd.to_datetime(runs_time[PS2.ServerTimestamp]).apply(lambda x: x.value)\n",
    "problem_times = runs.groupby([PS2.AssignmentID, PS2.ProblemID])['TimeInt'].median()\n",
    "problem_times = (problem_times - min(problem_times)) / 10**9"
   ]
  },
  {
   "cell_type": "code",
   "execution_count": 61,
   "metadata": {},
   "outputs": [
    {
     "data": {
      "text/html": [
       "<div>\n",
       "<style scoped>\n",
       "    .dataframe tbody tr th:only-of-type {\n",
       "        vertical-align: middle;\n",
       "    }\n",
       "\n",
       "    .dataframe tbody tr th {\n",
       "        vertical-align: top;\n",
       "    }\n",
       "\n",
       "    .dataframe thead th {\n",
       "        text-align: right;\n",
       "    }\n",
       "</style>\n",
       "<table border=\"1\" class=\"dataframe\">\n",
       "  <thead>\n",
       "    <tr style=\"text-align: right;\">\n",
       "      <th></th>\n",
       "      <th>AssignmentID</th>\n",
       "      <th>ProblemID</th>\n",
       "      <th>MedTime</th>\n",
       "      <th>MedOrder</th>\n",
       "    </tr>\n",
       "  </thead>\n",
       "  <tbody>\n",
       "    <tr>\n",
       "      <th>0</th>\n",
       "      <td>439.0</td>\n",
       "      <td>1</td>\n",
       "      <td>10500.0</td>\n",
       "      <td>120061.0</td>\n",
       "    </tr>\n",
       "    <tr>\n",
       "      <th>1</th>\n",
       "      <td>439.0</td>\n",
       "      <td>3</td>\n",
       "      <td>8683.0</td>\n",
       "      <td>134968.0</td>\n",
       "    </tr>\n",
       "    <tr>\n",
       "      <th>2</th>\n",
       "      <td>439.0</td>\n",
       "      <td>5</td>\n",
       "      <td>5753.0</td>\n",
       "      <td>66162.0</td>\n",
       "    </tr>\n",
       "    <tr>\n",
       "      <th>3</th>\n",
       "      <td>439.0</td>\n",
       "      <td>12</td>\n",
       "      <td>3844.5</td>\n",
       "      <td>37506.0</td>\n",
       "    </tr>\n",
       "    <tr>\n",
       "      <th>4</th>\n",
       "      <td>439.0</td>\n",
       "      <td>13</td>\n",
       "      <td>0.0</td>\n",
       "      <td>29338.0</td>\n",
       "    </tr>\n",
       "  </tbody>\n",
       "</table>\n",
       "</div>"
      ],
      "text/plain": [
       "   AssignmentID  ProblemID  MedTime  MedOrder\n",
       "0         439.0          1  10500.0  120061.0\n",
       "1         439.0          3   8683.0  134968.0\n",
       "2         439.0          5   5753.0   66162.0\n",
       "3         439.0         12   3844.5   37506.0\n",
       "4         439.0         13      0.0   29338.0"
      ]
     },
     "execution_count": 61,
     "metadata": {},
     "output_type": "execute_result"
    }
   ],
   "source": [
    "problem_stats = problem_times.to_frame('MedTime').join(problem_orders.to_frame('MedOrder')).reset_index()\n",
    "problem_stats.head()"
   ]
  },
  {
   "cell_type": "code",
   "execution_count": 74,
   "metadata": {
    "scrolled": true
   },
   "outputs": [
    {
     "data": {
      "text/plain": [
       "<matplotlib.collections.PathCollection at 0x2abe9398088>"
      ]
     },
     "execution_count": 74,
     "metadata": {},
     "output_type": "execute_result"
    },
    {
     "data": {
      "image/png": "[encoded data removed]",
      "text/plain": [
       "<Figure size 576x288 with 1 Axes>"
      ]
     },
     "metadata": {
      "needs_background": "light"
     },
     "output_type": "display_data"
    }
   ],
   "source": [
    "plt.scatter(problem_stats['MedTime'], np.random.uniform(size=50))"
   ]
  },
  {
   "cell_type": "code",
   "execution_count": 76,
   "metadata": {
    "scrolled": true
   },
   "outputs": [
    {
     "name": "stdout",
     "output_type": "stream",
     "text": [
      "[439. 487. 492. 494. 502.]\n"
     ]
    },
    {
     "data": {
      "text/plain": [
       "<matplotlib.collections.PathCollection at 0x2abe94620c8>"
      ]
     },
     "execution_count": 76,
     "metadata": {},
     "output_type": "execute_result"
    },
    {
     "data": {
      "image/png": "[encoded data removed]",
      "text/plain": [
       "<Figure size 576x288 with 1 Axes>"
      ]
     },
     "metadata": {
      "needs_background": "light"
     },
     "output_type": "display_data"
    }
   ],
   "source": [
    "# Unfortunately, the last 3 problems aren't always easy to pick apart\n",
    "print(problem_stats[PS2.AssignmentID].unique())\n",
    "assignment1 = problem_stats[problem_stats[PS2.AssignmentID] == 494]\n",
    "plt.scatter(assignment1['MedTime'], np.random.uniform(size=10))"
   ]
  },
  {
   "cell_type": "code",
   "execution_count": 85,
   "metadata": {},
   "outputs": [
    {
     "data": {
      "text/plain": [
       "AssignmentID\n",
       "439.0        [236, 3, 1]\n",
       "487.0       [28, 21, 22]\n",
       "492.0       [32, 31, 34]\n",
       "494.0    [106, 108, 107]\n",
       "502.0     [112, 118, 57]\n",
       "dtype: object"
      ]
     },
     "execution_count": 85,
     "metadata": {},
     "output_type": "execute_result"
    }
   ],
   "source": [
    "last_problems = problem_stats.groupby(PS2.AssignmentID).apply(lambda rows: list(rows[PS2.ProblemID][rows['MedTime'].argsort()][-3:]))\n",
    "last_problems"
   ]
  },
  {
   "cell_type": "code",
   "execution_count": 89,
   "metadata": {},
   "outputs": [
    {
     "data": {
      "text/plain": [
       "[236, 3, 1, 28, 21, 22, 32, 31, 34, 106, 108, 107, 112, 118, 57]"
      ]
     },
     "execution_count": 89,
     "metadata": {},
     "output_type": "execute_result"
    }
   ],
   "source": [
    "test_problem_ids = [st for row in last_problems for st in row]\n",
    "test_problem_ids"
   ]
  },
  {
   "cell_type": "code",
   "execution_count": 92,
   "metadata": {
    "scrolled": true
   },
   "outputs": [
    {
     "data": {
      "text/html": [
       "<div>\n",
       "<style scoped>\n",
       "    .dataframe tbody tr th:only-of-type {\n",
       "        vertical-align: middle;\n",
       "    }\n",
       "\n",
       "    .dataframe tbody tr th {\n",
       "        vertical-align: top;\n",
       "    }\n",
       "\n",
       "    .dataframe thead th {\n",
       "        text-align: right;\n",
       "    }\n",
       "</style>\n",
       "<table border=\"1\" class=\"dataframe\">\n",
       "  <thead>\n",
       "    <tr style=\"text-align: right;\">\n",
       "      <th></th>\n",
       "      <th>SubjectID</th>\n",
       "      <th>AssignmentID</th>\n",
       "      <th>ProblemID</th>\n",
       "      <th>Attempts</th>\n",
       "      <th>CorrectEventually</th>\n",
       "      <th>StartEventOrder</th>\n",
       "      <th>Label</th>\n",
       "      <th>IsLateProblem</th>\n",
       "    </tr>\n",
       "  </thead>\n",
       "  <tbody>\n",
       "    <tr>\n",
       "      <th>2</th>\n",
       "      <td>036ad3e516c5bf3a4b3be35b137bcbb8</td>\n",
       "      <td>439.0</td>\n",
       "      <td>5</td>\n",
       "      <td>7</td>\n",
       "      <td>True</td>\n",
       "      <td>66827</td>\n",
       "      <td>False</td>\n",
       "      <td>False</td>\n",
       "    </tr>\n",
       "    <tr>\n",
       "      <th>3</th>\n",
       "      <td>036ad3e516c5bf3a4b3be35b137bcbb8</td>\n",
       "      <td>439.0</td>\n",
       "      <td>12</td>\n",
       "      <td>2</td>\n",
       "      <td>True</td>\n",
       "      <td>37923</td>\n",
       "      <td>True</td>\n",
       "      <td>False</td>\n",
       "    </tr>\n",
       "    <tr>\n",
       "      <th>4</th>\n",
       "      <td>036ad3e516c5bf3a4b3be35b137bcbb8</td>\n",
       "      <td>439.0</td>\n",
       "      <td>13</td>\n",
       "      <td>17</td>\n",
       "      <td>True</td>\n",
       "      <td>30588</td>\n",
       "      <td>False</td>\n",
       "      <td>False</td>\n",
       "    </tr>\n",
       "    <tr>\n",
       "      <th>5</th>\n",
       "      <td>036ad3e516c5bf3a4b3be35b137bcbb8</td>\n",
       "      <td>439.0</td>\n",
       "      <td>232</td>\n",
       "      <td>9</td>\n",
       "      <td>True</td>\n",
       "      <td>43989</td>\n",
       "      <td>False</td>\n",
       "      <td>False</td>\n",
       "    </tr>\n",
       "    <tr>\n",
       "      <th>6</th>\n",
       "      <td>036ad3e516c5bf3a4b3be35b137bcbb8</td>\n",
       "      <td>439.0</td>\n",
       "      <td>233</td>\n",
       "      <td>1</td>\n",
       "      <td>True</td>\n",
       "      <td>61318</td>\n",
       "      <td>True</td>\n",
       "      <td>False</td>\n",
       "    </tr>\n",
       "    <tr>\n",
       "      <th>7</th>\n",
       "      <td>036ad3e516c5bf3a4b3be35b137bcbb8</td>\n",
       "      <td>439.0</td>\n",
       "      <td>234</td>\n",
       "      <td>3</td>\n",
       "      <td>True</td>\n",
       "      <td>11846</td>\n",
       "      <td>True</td>\n",
       "      <td>False</td>\n",
       "    </tr>\n",
       "    <tr>\n",
       "      <th>8</th>\n",
       "      <td>036ad3e516c5bf3a4b3be35b137bcbb8</td>\n",
       "      <td>439.0</td>\n",
       "      <td>235</td>\n",
       "      <td>1</td>\n",
       "      <td>True</td>\n",
       "      <td>70196</td>\n",
       "      <td>True</td>\n",
       "      <td>False</td>\n",
       "    </tr>\n",
       "    <tr>\n",
       "      <th>0</th>\n",
       "      <td>036ad3e516c5bf3a4b3be35b137bcbb8</td>\n",
       "      <td>439.0</td>\n",
       "      <td>1</td>\n",
       "      <td>8</td>\n",
       "      <td>True</td>\n",
       "      <td>120635</td>\n",
       "      <td>False</td>\n",
       "      <td>True</td>\n",
       "    </tr>\n",
       "    <tr>\n",
       "      <th>1</th>\n",
       "      <td>036ad3e516c5bf3a4b3be35b137bcbb8</td>\n",
       "      <td>439.0</td>\n",
       "      <td>3</td>\n",
       "      <td>6</td>\n",
       "      <td>True</td>\n",
       "      <td>135624</td>\n",
       "      <td>False</td>\n",
       "      <td>True</td>\n",
       "    </tr>\n",
       "    <tr>\n",
       "      <th>9</th>\n",
       "      <td>036ad3e516c5bf3a4b3be35b137bcbb8</td>\n",
       "      <td>439.0</td>\n",
       "      <td>236</td>\n",
       "      <td>3</td>\n",
       "      <td>True</td>\n",
       "      <td>78397</td>\n",
       "      <td>True</td>\n",
       "      <td>True</td>\n",
       "    </tr>\n",
       "    <tr>\n",
       "      <th>10</th>\n",
       "      <td>036ad3e516c5bf3a4b3be35b137bcbb8</td>\n",
       "      <td>487.0</td>\n",
       "      <td>17</td>\n",
       "      <td>3</td>\n",
       "      <td>True</td>\n",
       "      <td>197514</td>\n",
       "      <td>False</td>\n",
       "      <td>False</td>\n",
       "    </tr>\n",
       "    <tr>\n",
       "      <th>11</th>\n",
       "      <td>036ad3e516c5bf3a4b3be35b137bcbb8</td>\n",
       "      <td>487.0</td>\n",
       "      <td>20</td>\n",
       "      <td>25</td>\n",
       "      <td>True</td>\n",
       "      <td>199319</td>\n",
       "      <td>False</td>\n",
       "      <td>False</td>\n",
       "    </tr>\n",
       "    <tr>\n",
       "      <th>14</th>\n",
       "      <td>036ad3e516c5bf3a4b3be35b137bcbb8</td>\n",
       "      <td>487.0</td>\n",
       "      <td>24</td>\n",
       "      <td>23</td>\n",
       "      <td>True</td>\n",
       "      <td>136862</td>\n",
       "      <td>False</td>\n",
       "      <td>False</td>\n",
       "    </tr>\n",
       "    <tr>\n",
       "      <th>15</th>\n",
       "      <td>036ad3e516c5bf3a4b3be35b137bcbb8</td>\n",
       "      <td>487.0</td>\n",
       "      <td>25</td>\n",
       "      <td>4</td>\n",
       "      <td>True</td>\n",
       "      <td>71473</td>\n",
       "      <td>True</td>\n",
       "      <td>False</td>\n",
       "    </tr>\n",
       "    <tr>\n",
       "      <th>17</th>\n",
       "      <td>036ad3e516c5bf3a4b3be35b137bcbb8</td>\n",
       "      <td>487.0</td>\n",
       "      <td>100</td>\n",
       "      <td>22</td>\n",
       "      <td>True</td>\n",
       "      <td>143433</td>\n",
       "      <td>False</td>\n",
       "      <td>False</td>\n",
       "    </tr>\n",
       "  </tbody>\n",
       "</table>\n",
       "</div>"
      ],
      "text/plain": [
       "                           SubjectID  AssignmentID  ProblemID  Attempts  \\\n",
       "2   036ad3e516c5bf3a4b3be35b137bcbb8         439.0          5         7   \n",
       "3   036ad3e516c5bf3a4b3be35b137bcbb8         439.0         12         2   \n",
       "4   036ad3e516c5bf3a4b3be35b137bcbb8         439.0         13        17   \n",
       "5   036ad3e516c5bf3a4b3be35b137bcbb8         439.0        232         9   \n",
       "6   036ad3e516c5bf3a4b3be35b137bcbb8         439.0        233         1   \n",
       "7   036ad3e516c5bf3a4b3be35b137bcbb8         439.0        234         3   \n",
       "8   036ad3e516c5bf3a4b3be35b137bcbb8         439.0        235         1   \n",
       "0   036ad3e516c5bf3a4b3be35b137bcbb8         439.0          1         8   \n",
       "1   036ad3e516c5bf3a4b3be35b137bcbb8         439.0          3         6   \n",
       "9   036ad3e516c5bf3a4b3be35b137bcbb8         439.0        236         3   \n",
       "10  036ad3e516c5bf3a4b3be35b137bcbb8         487.0         17         3   \n",
       "11  036ad3e516c5bf3a4b3be35b137bcbb8         487.0         20        25   \n",
       "14  036ad3e516c5bf3a4b3be35b137bcbb8         487.0         24        23   \n",
       "15  036ad3e516c5bf3a4b3be35b137bcbb8         487.0         25         4   \n",
       "17  036ad3e516c5bf3a4b3be35b137bcbb8         487.0        100        22   \n",
       "\n",
       "    CorrectEventually  StartEventOrder  Label  IsLateProblem  \n",
       "2                True            66827  False          False  \n",
       "3                True            37923   True          False  \n",
       "4                True            30588  False          False  \n",
       "5                True            43989  False          False  \n",
       "6                True            61318   True          False  \n",
       "7                True            11846   True          False  \n",
       "8                True            70196   True          False  \n",
       "0                True           120635  False           True  \n",
       "1                True           135624  False           True  \n",
       "9                True            78397   True           True  \n",
       "10               True           197514  False          False  \n",
       "11               True           199319  False          False  \n",
       "14               True           136862  False          False  \n",
       "15               True            71473   True          False  \n",
       "17               True           143433  False          False  "
      ]
     },
     "execution_count": 92,
     "metadata": {},
     "output_type": "execute_result"
    }
   ],
   "source": [
    "student_scores['IsLateProblem'] = student_scores[PS2.ProblemID].apply(lambda problem_id: problem_id in test_problem_ids)\n",
    "student_scores.sort_values([PS2.SubjectID, PS2.AssignmentID, 'IsLateProblem', PS2.ProblemID], inplace=True)\n",
    "student_scores.head(15)"
   ]
  },
  {
   "cell_type": "code",
   "execution_count": 95,
   "metadata": {
    "scrolled": false
   },
   "outputs": [
    {
     "data": {
      "text/plain": [
       "<matplotlib.collections.PathCollection at 0x2abebfdb588>"
      ]
     },
     "execution_count": 95,
     "metadata": {},
     "output_type": "execute_result"
    },
    {
     "data": {
      "image/png": "[encoded data removed]",
      "text/plain": [
       "<Figure size 576x288 with 1 Axes>"
      ]
     },
     "metadata": {
      "needs_background": "light"
     },
     "output_type": "display_data"
    }
   ],
   "source": [
    "# Next we plot the number of attemptes on each problem (x) / assignment (color)\n",
    "from matplotlib.cm import viridis\n",
    "\n",
    "problem_ids = list(students_per_problem.keys().map(lambda x: x[1]))\n",
    "colors = [viridis(0.5 if i in test_problem_ids else 1) for i in problem_ids]\n",
    "\n",
    "# The late problems are the ones most to the right)\n",
    "plt.scatter(problem_stats['MedTime'], np.random.uniform(size=50), color=colors)"
   ]
  },
  {
   "cell_type": "code",
   "execution_count": 96,
   "metadata": {},
   "outputs": [],
   "source": [
    "train_ids, test_ids = train_test_split(list(subject_ids), test_size=0.25, random_state=1234)"
   ]
  },
  {
   "cell_type": "code",
   "execution_count": 97,
   "metadata": {},
   "outputs": [],
   "source": [
    "student_scores_train = student_scores[student_scores[PS2.SubjectID].isin(train_ids)]\n",
    "student_scores_test = student_scores[student_scores[PS2.SubjectID].isin(test_ids)]"
   ]
  },
  {
   "cell_type": "code",
   "execution_count": 98,
   "metadata": {},
   "outputs": [],
   "source": [
    "early_train = student_scores_train[student_scores_train['IsLateProblem'] == False].drop(['IsLateProblem'], axis=1)\n",
    "early_test = student_scores_test[student_scores_test['IsLateProblem'] == False].drop(['IsLateProblem'], axis=1)\n",
    "late_train = student_scores_train[student_scores_train['IsLateProblem']].drop(['IsLateProblem', 'Attempts', 'CorrectEventually'], axis=1)\n",
    "late_test = student_scores_test[student_scores_test['IsLateProblem']].drop(['IsLateProblem', 'Attempts', 'CorrectEventually'], axis=1)"
   ]
  },
  {
   "cell_type": "code",
   "execution_count": 99,
   "metadata": {
    "scrolled": true
   },
   "outputs": [
    {
     "data": {
      "text/html": [
       "<div>\n",
       "<style scoped>\n",
       "    .dataframe tbody tr th:only-of-type {\n",
       "        vertical-align: middle;\n",
       "    }\n",
       "\n",
       "    .dataframe tbody tr th {\n",
       "        vertical-align: top;\n",
       "    }\n",
       "\n",
       "    .dataframe thead th {\n",
       "        text-align: right;\n",
       "    }\n",
       "</style>\n",
       "<table border=\"1\" class=\"dataframe\">\n",
       "  <thead>\n",
       "    <tr style=\"text-align: right;\">\n",
       "      <th></th>\n",
       "      <th>SubjectID</th>\n",
       "      <th>AssignmentID</th>\n",
       "      <th>ProblemID</th>\n",
       "      <th>Attempts</th>\n",
       "      <th>CorrectEventually</th>\n",
       "      <th>StartEventOrder</th>\n",
       "      <th>Label</th>\n",
       "    </tr>\n",
       "  </thead>\n",
       "  <tbody>\n",
       "    <tr>\n",
       "      <th>2</th>\n",
       "      <td>036ad3e516c5bf3a4b3be35b137bcbb8</td>\n",
       "      <td>439.0</td>\n",
       "      <td>5</td>\n",
       "      <td>7</td>\n",
       "      <td>True</td>\n",
       "      <td>66827</td>\n",
       "      <td>False</td>\n",
       "    </tr>\n",
       "    <tr>\n",
       "      <th>3</th>\n",
       "      <td>036ad3e516c5bf3a4b3be35b137bcbb8</td>\n",
       "      <td>439.0</td>\n",
       "      <td>12</td>\n",
       "      <td>2</td>\n",
       "      <td>True</td>\n",
       "      <td>37923</td>\n",
       "      <td>True</td>\n",
       "    </tr>\n",
       "    <tr>\n",
       "      <th>4</th>\n",
       "      <td>036ad3e516c5bf3a4b3be35b137bcbb8</td>\n",
       "      <td>439.0</td>\n",
       "      <td>13</td>\n",
       "      <td>17</td>\n",
       "      <td>True</td>\n",
       "      <td>30588</td>\n",
       "      <td>False</td>\n",
       "    </tr>\n",
       "    <tr>\n",
       "      <th>5</th>\n",
       "      <td>036ad3e516c5bf3a4b3be35b137bcbb8</td>\n",
       "      <td>439.0</td>\n",
       "      <td>232</td>\n",
       "      <td>9</td>\n",
       "      <td>True</td>\n",
       "      <td>43989</td>\n",
       "      <td>False</td>\n",
       "    </tr>\n",
       "    <tr>\n",
       "      <th>6</th>\n",
       "      <td>036ad3e516c5bf3a4b3be35b137bcbb8</td>\n",
       "      <td>439.0</td>\n",
       "      <td>233</td>\n",
       "      <td>1</td>\n",
       "      <td>True</td>\n",
       "      <td>61318</td>\n",
       "      <td>True</td>\n",
       "    </tr>\n",
       "  </tbody>\n",
       "</table>\n",
       "</div>"
      ],
      "text/plain": [
       "                          SubjectID  AssignmentID  ProblemID  Attempts  \\\n",
       "2  036ad3e516c5bf3a4b3be35b137bcbb8         439.0          5         7   \n",
       "3  036ad3e516c5bf3a4b3be35b137bcbb8         439.0         12         2   \n",
       "4  036ad3e516c5bf3a4b3be35b137bcbb8         439.0         13        17   \n",
       "5  036ad3e516c5bf3a4b3be35b137bcbb8         439.0        232         9   \n",
       "6  036ad3e516c5bf3a4b3be35b137bcbb8         439.0        233         1   \n",
       "\n",
       "   CorrectEventually  StartEventOrder  Label  \n",
       "2               True            66827  False  \n",
       "3               True            37923   True  \n",
       "4               True            30588  False  \n",
       "5               True            43989  False  \n",
       "6               True            61318   True  "
      ]
     },
     "execution_count": 99,
     "metadata": {},
     "output_type": "execute_result"
    }
   ],
   "source": [
    "early_train.head()"
   ]
  },
  {
   "cell_type": "code",
   "execution_count": 100,
   "metadata": {
    "scrolled": true
   },
   "outputs": [
    {
     "data": {
      "text/html": [
       "<div>\n",
       "<style scoped>\n",
       "    .dataframe tbody tr th:only-of-type {\n",
       "        vertical-align: middle;\n",
       "    }\n",
       "\n",
       "    .dataframe tbody tr th {\n",
       "        vertical-align: top;\n",
       "    }\n",
       "\n",
       "    .dataframe thead th {\n",
       "        text-align: right;\n",
       "    }\n",
       "</style>\n",
       "<table border=\"1\" class=\"dataframe\">\n",
       "  <thead>\n",
       "    <tr style=\"text-align: right;\">\n",
       "      <th></th>\n",
       "      <th>SubjectID</th>\n",
       "      <th>AssignmentID</th>\n",
       "      <th>ProblemID</th>\n",
       "      <th>Attempts</th>\n",
       "      <th>CorrectEventually</th>\n",
       "      <th>StartEventOrder</th>\n",
       "      <th>Label</th>\n",
       "    </tr>\n",
       "  </thead>\n",
       "  <tbody>\n",
       "    <tr>\n",
       "      <th>52</th>\n",
       "      <td>04c32d4d95425f73b3a1d6502aed4d48</td>\n",
       "      <td>439.0</td>\n",
       "      <td>5</td>\n",
       "      <td>3</td>\n",
       "      <td>True</td>\n",
       "      <td>65403</td>\n",
       "      <td>True</td>\n",
       "    </tr>\n",
       "    <tr>\n",
       "      <th>53</th>\n",
       "      <td>04c32d4d95425f73b3a1d6502aed4d48</td>\n",
       "      <td>439.0</td>\n",
       "      <td>12</td>\n",
       "      <td>1</td>\n",
       "      <td>True</td>\n",
       "      <td>37104</td>\n",
       "      <td>True</td>\n",
       "    </tr>\n",
       "    <tr>\n",
       "      <th>54</th>\n",
       "      <td>04c32d4d95425f73b3a1d6502aed4d48</td>\n",
       "      <td>439.0</td>\n",
       "      <td>13</td>\n",
       "      <td>2</td>\n",
       "      <td>True</td>\n",
       "      <td>25657</td>\n",
       "      <td>True</td>\n",
       "    </tr>\n",
       "    <tr>\n",
       "      <th>55</th>\n",
       "      <td>04c32d4d95425f73b3a1d6502aed4d48</td>\n",
       "      <td>439.0</td>\n",
       "      <td>232</td>\n",
       "      <td>11</td>\n",
       "      <td>True</td>\n",
       "      <td>40510</td>\n",
       "      <td>False</td>\n",
       "    </tr>\n",
       "    <tr>\n",
       "      <th>56</th>\n",
       "      <td>04c32d4d95425f73b3a1d6502aed4d48</td>\n",
       "      <td>439.0</td>\n",
       "      <td>233</td>\n",
       "      <td>7</td>\n",
       "      <td>True</td>\n",
       "      <td>59732</td>\n",
       "      <td>False</td>\n",
       "    </tr>\n",
       "  </tbody>\n",
       "</table>\n",
       "</div>"
      ],
      "text/plain": [
       "                           SubjectID  AssignmentID  ProblemID  Attempts  \\\n",
       "52  04c32d4d95425f73b3a1d6502aed4d48         439.0          5         3   \n",
       "53  04c32d4d95425f73b3a1d6502aed4d48         439.0         12         1   \n",
       "54  04c32d4d95425f73b3a1d6502aed4d48         439.0         13         2   \n",
       "55  04c32d4d95425f73b3a1d6502aed4d48         439.0        232        11   \n",
       "56  04c32d4d95425f73b3a1d6502aed4d48         439.0        233         7   \n",
       "\n",
       "    CorrectEventually  StartEventOrder  Label  \n",
       "52               True            65403   True  \n",
       "53               True            37104   True  \n",
       "54               True            25657   True  \n",
       "55               True            40510  False  \n",
       "56               True            59732  False  "
      ]
     },
     "execution_count": 100,
     "metadata": {},
     "output_type": "execute_result"
    }
   ],
   "source": [
    "# TODO: scrub output for release\n",
    "early_test.head()"
   ]
  },
  {
   "cell_type": "code",
   "execution_count": 101,
   "metadata": {
    "scrolled": true
   },
   "outputs": [
    {
     "data": {
      "text/html": [
       "<div>\n",
       "<style scoped>\n",
       "    .dataframe tbody tr th:only-of-type {\n",
       "        vertical-align: middle;\n",
       "    }\n",
       "\n",
       "    .dataframe tbody tr th {\n",
       "        vertical-align: top;\n",
       "    }\n",
       "\n",
       "    .dataframe thead th {\n",
       "        text-align: right;\n",
       "    }\n",
       "</style>\n",
       "<table border=\"1\" class=\"dataframe\">\n",
       "  <thead>\n",
       "    <tr style=\"text-align: right;\">\n",
       "      <th></th>\n",
       "      <th>SubjectID</th>\n",
       "      <th>AssignmentID</th>\n",
       "      <th>ProblemID</th>\n",
       "      <th>StartEventOrder</th>\n",
       "      <th>Label</th>\n",
       "    </tr>\n",
       "  </thead>\n",
       "  <tbody>\n",
       "    <tr>\n",
       "      <th>0</th>\n",
       "      <td>036ad3e516c5bf3a4b3be35b137bcbb8</td>\n",
       "      <td>439.0</td>\n",
       "      <td>1</td>\n",
       "      <td>120635</td>\n",
       "      <td>False</td>\n",
       "    </tr>\n",
       "    <tr>\n",
       "      <th>1</th>\n",
       "      <td>036ad3e516c5bf3a4b3be35b137bcbb8</td>\n",
       "      <td>439.0</td>\n",
       "      <td>3</td>\n",
       "      <td>135624</td>\n",
       "      <td>False</td>\n",
       "    </tr>\n",
       "    <tr>\n",
       "      <th>9</th>\n",
       "      <td>036ad3e516c5bf3a4b3be35b137bcbb8</td>\n",
       "      <td>439.0</td>\n",
       "      <td>236</td>\n",
       "      <td>78397</td>\n",
       "      <td>True</td>\n",
       "    </tr>\n",
       "    <tr>\n",
       "      <th>12</th>\n",
       "      <td>036ad3e516c5bf3a4b3be35b137bcbb8</td>\n",
       "      <td>487.0</td>\n",
       "      <td>21</td>\n",
       "      <td>105003</td>\n",
       "      <td>False</td>\n",
       "    </tr>\n",
       "    <tr>\n",
       "      <th>13</th>\n",
       "      <td>036ad3e516c5bf3a4b3be35b137bcbb8</td>\n",
       "      <td>487.0</td>\n",
       "      <td>22</td>\n",
       "      <td>178437</td>\n",
       "      <td>False</td>\n",
       "    </tr>\n",
       "  </tbody>\n",
       "</table>\n",
       "</div>"
      ],
      "text/plain": [
       "                           SubjectID  AssignmentID  ProblemID  \\\n",
       "0   036ad3e516c5bf3a4b3be35b137bcbb8         439.0          1   \n",
       "1   036ad3e516c5bf3a4b3be35b137bcbb8         439.0          3   \n",
       "9   036ad3e516c5bf3a4b3be35b137bcbb8         439.0        236   \n",
       "12  036ad3e516c5bf3a4b3be35b137bcbb8         487.0         21   \n",
       "13  036ad3e516c5bf3a4b3be35b137bcbb8         487.0         22   \n",
       "\n",
       "    StartEventOrder  Label  \n",
       "0            120635  False  \n",
       "1            135624  False  \n",
       "9             78397   True  \n",
       "12           105003  False  \n",
       "13           178437  False  "
      ]
     },
     "execution_count": 101,
     "metadata": {},
     "output_type": "execute_result"
    }
   ],
   "source": [
    "late_train.head()"
   ]
  },
  {
   "cell_type": "code",
   "execution_count": 103,
   "metadata": {
    "scrolled": false
   },
   "outputs": [
    {
     "data": {
      "text/html": [
       "<div>\n",
       "<style scoped>\n",
       "    .dataframe tbody tr th:only-of-type {\n",
       "        vertical-align: middle;\n",
       "    }\n",
       "\n",
       "    .dataframe tbody tr th {\n",
       "        vertical-align: top;\n",
       "    }\n",
       "\n",
       "    .dataframe thead th {\n",
       "        text-align: right;\n",
       "    }\n",
       "</style>\n",
       "<table border=\"1\" class=\"dataframe\">\n",
       "  <thead>\n",
       "    <tr style=\"text-align: right;\">\n",
       "      <th></th>\n",
       "      <th>SubjectID</th>\n",
       "      <th>AssignmentID</th>\n",
       "      <th>ProblemID</th>\n",
       "      <th>StartEventOrder</th>\n",
       "      <th>Label</th>\n",
       "    </tr>\n",
       "  </thead>\n",
       "  <tbody>\n",
       "    <tr>\n",
       "      <th>50</th>\n",
       "      <td>04c32d4d95425f73b3a1d6502aed4d48</td>\n",
       "      <td>439.0</td>\n",
       "      <td>1</td>\n",
       "      <td>119441</td>\n",
       "      <td>True</td>\n",
       "    </tr>\n",
       "    <tr>\n",
       "      <th>51</th>\n",
       "      <td>04c32d4d95425f73b3a1d6502aed4d48</td>\n",
       "      <td>439.0</td>\n",
       "      <td>3</td>\n",
       "      <td>134115</td>\n",
       "      <td>True</td>\n",
       "    </tr>\n",
       "    <tr>\n",
       "      <th>59</th>\n",
       "      <td>04c32d4d95425f73b3a1d6502aed4d48</td>\n",
       "      <td>439.0</td>\n",
       "      <td>236</td>\n",
       "      <td>76732</td>\n",
       "      <td>True</td>\n",
       "    </tr>\n",
       "    <tr>\n",
       "      <th>62</th>\n",
       "      <td>04c32d4d95425f73b3a1d6502aed4d48</td>\n",
       "      <td>487.0</td>\n",
       "      <td>21</td>\n",
       "      <td>105770</td>\n",
       "      <td>True</td>\n",
       "    </tr>\n",
       "    <tr>\n",
       "      <th>63</th>\n",
       "      <td>04c32d4d95425f73b3a1d6502aed4d48</td>\n",
       "      <td>487.0</td>\n",
       "      <td>22</td>\n",
       "      <td>179686</td>\n",
       "      <td>False</td>\n",
       "    </tr>\n",
       "  </tbody>\n",
       "</table>\n",
       "</div>"
      ],
      "text/plain": [
       "                           SubjectID  AssignmentID  ProblemID  \\\n",
       "50  04c32d4d95425f73b3a1d6502aed4d48         439.0          1   \n",
       "51  04c32d4d95425f73b3a1d6502aed4d48         439.0          3   \n",
       "59  04c32d4d95425f73b3a1d6502aed4d48         439.0        236   \n",
       "62  04c32d4d95425f73b3a1d6502aed4d48         487.0         21   \n",
       "63  04c32d4d95425f73b3a1d6502aed4d48         487.0         22   \n",
       "\n",
       "    StartEventOrder  Label  \n",
       "50           119441   True  \n",
       "51           134115   True  \n",
       "59            76732   True  \n",
       "62           105770   True  \n",
       "63           179686  False  "
      ]
     },
     "execution_count": 103,
     "metadata": {},
     "output_type": "execute_result"
    }
   ],
   "source": [
    "late_test.head()"
   ]
  },
  {
   "cell_type": "code",
   "execution_count": 104,
   "metadata": {},
   "outputs": [],
   "source": [
    "base_path = os.path.join('data', 'Release', semester)\n",
    "os.makedirs(os.path.join(base_path, 'Train'), exist_ok=True)\n",
    "os.makedirs(os.path.join(base_path, 'Test'), exist_ok=True)"
   ]
  },
  {
   "cell_type": "code",
   "execution_count": 105,
   "metadata": {},
   "outputs": [],
   "source": [
    "early_train.to_csv(os.path.join(base_path, 'Train', 'early.csv'), index=False)\n",
    "late_train.to_csv(os.path.join(base_path, 'Train', 'late.csv'), index=False)\n",
    "early_test.to_csv(os.path.join(base_path, 'Test', 'early.csv'), index=False)\n",
    "late_test.drop('Label', axis=1).to_csv(os.path.join(base_path, 'Test', 'late.csv'), index=False)"
   ]
  },
  {
   "cell_type": "code",
   "execution_count": 106,
   "metadata": {},
   "outputs": [],
   "source": [
    "data.save_subset(os.path.join(base_path, 'Train', 'Data'), lambda df: df[df[PS2.SubjectID].isin(train_ids)])"
   ]
  },
  {
   "cell_type": "code",
   "execution_count": 108,
   "metadata": {},
   "outputs": [],
   "source": [
    "data.save_subset(os.path.join(base_path, 'Test', 'Data'), lambda df: df[df[PS2.SubjectID].isin(test_ids) & ~df[PS2.ProblemID].isin(test_problem_ids)], False)"
   ]
  }
 ],
 "metadata": {
  "kernelspec": {
   "display_name": "Python 3",
   "language": "python",
   "name": "python3"
  },
  "language_info": {
   "codemirror_mode": {
    "name": "ipython",
    "version": 3
   },
   "file_extension": ".py",
   "mimetype": "text/x-python",
   "name": "python",
   "nbconvert_exporter": "python",
   "pygments_lexer": "ipython3",
   "version": "3.7.6"
  }
 },
 "nbformat": 4,
 "nbformat_minor": 4
}
