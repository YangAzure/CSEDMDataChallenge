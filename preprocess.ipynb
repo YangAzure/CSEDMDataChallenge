{
 "cells": [
  {
   "cell_type": "code",
   "execution_count": 1,
   "metadata": {},
   "outputs": [],
   "source": [
    "import pandas as pd\n",
    "import numpy as np\n",
    "from ProgSnap2 import ProgSnap2Dataset\n",
    "from ProgSnap2 import PS2\n",
    "import matplotlib.pyplot as plt\n",
    "from sklearn.model_selection import train_test_split\n",
    "import numpy as np"
   ]
  },
  {
   "cell_type": "code",
   "execution_count": 2,
   "metadata": {},
   "outputs": [],
   "source": [
    "PATH = \"data/CodeWorkout/S19\"\n",
    "data = ProgSnap2Dataset(PATH)"
   ]
  },
  {
   "cell_type": "code",
   "execution_count": 3,
   "metadata": {},
   "outputs": [],
   "source": [
    "main_table = data.get_main_table()\n",
    "student_table = data.load_link_table('Subject')"
   ]
  },
  {
   "cell_type": "code",
   "execution_count": 4,
   "metadata": {
    "scrolled": false
   },
   "outputs": [
    {
     "name": "stdout",
     "output_type": "stream",
     "text": [
      "381\n"
     ]
    },
    {
     "data": {
      "text/plain": [
       "348"
      ]
     },
     "execution_count": 4,
     "metadata": {},
     "output_type": "execute_result"
    }
   ],
   "source": [
    "# Get the SubjectIDs where the final grade is non-0\n",
    "# A 0 grade indicates the student did not take the final\n",
    "print(len(student_table.index))\n",
    "subject_ids = set(student_table[student_table['X-Grade'] != 0][PS2.SubjectID].unique())\n",
    "subject_ids = subject_ids.intersection(set(student_table['SubjectID'].unique()))\n",
    "len(subject_ids)"
   ]
  },
  {
   "cell_type": "markdown",
   "metadata": {},
   "source": [
    "We want to confirm that our selected students have a good and well-distributed number of attempts at all the problems in the dataset."
   ]
  },
  {
   "cell_type": "code",
   "execution_count": 5,
   "metadata": {},
   "outputs": [
    {
     "data": {
      "text/plain": [
       "count    346.000000\n",
       "mean      42.855491\n",
       "std       10.331712\n",
       "min        1.000000\n",
       "25%       40.000000\n",
       "50%       48.500000\n",
       "75%       50.000000\n",
       "max       50.000000\n",
       "dtype: float64"
      ]
     },
     "execution_count": 5,
     "metadata": {},
     "output_type": "execute_result"
    }
   ],
   "source": [
    "# First we check how many problems each student attempted\n",
    "main_table_filtered = main_table[main_table[PS2.SubjectID].isin(subject_ids)]\n",
    "problems_per_student = main_table_filtered.groupby(by=['SubjectID']).apply(lambda rows: len(rows[PS2.ProblemID].unique()))\n",
    "# 75% of problems were attempted by at least 40 studens, so that's good\n",
    "problems_per_student.describe()"
   ]
  },
  {
   "cell_type": "code",
   "execution_count": 6,
   "metadata": {
    "scrolled": true
   },
   "outputs": [
    {
     "data": {
      "text/plain": [
       "3"
      ]
     },
     "execution_count": 6,
     "metadata": {},
     "output_type": "execute_result"
    }
   ],
   "source": [
    "# Only 3 attempted fewer than 10 problems\n",
    "sum(problems_per_student < 10)"
   ]
  },
  {
   "cell_type": "code",
   "execution_count": 7,
   "metadata": {
    "scrolled": true
   },
   "outputs": [
    {
     "data": {
      "text/plain": [
       "count     50.000000\n",
       "mean     296.560000\n",
       "std       14.642906\n",
       "min      267.000000\n",
       "25%      285.000000\n",
       "50%      295.500000\n",
       "75%      309.750000\n",
       "max      324.000000\n",
       "dtype: float64"
      ]
     },
     "execution_count": 7,
     "metadata": {},
     "output_type": "execute_result"
    }
   ],
   "source": [
    "# Next we see how many students attempted each problem\n",
    "students_per_problem = main_table_filtered.groupby(by=['AssignmentID', 'ProblemID']).apply(lambda rows: len(rows[PS2.SubjectID].unique()))\n",
    "students_per_problem.describe()"
   ]
  },
  {
   "cell_type": "code",
   "execution_count": 8,
   "metadata": {
    "scrolled": true
   },
   "outputs": [
    {
     "data": {
      "text/plain": [
       "<BarContainer object of 50 artists>"
      ]
     },
     "execution_count": 8,
     "metadata": {},
     "output_type": "execute_result"
    },
    {
     "data": {
      "image/png": "[encoded data removed]",
      "text/plain": [
       "<Figure size 432x288 with 1 Axes>"
      ]
     },
     "metadata": {
      "needs_background": "light"
     },
     "output_type": "display_data"
    }
   ],
   "source": [
    "# Next we plot the number of attemptes on each problem (x) / assignment (color)\n",
    "from matplotlib.cm import viridis\n",
    "\n",
    "assignment_ids = list(students_per_problem.keys().map(lambda x: x[0]))\n",
    "assignment_ids = [sorted(assignment_ids).index(x) for x in assignment_ids]\n",
    "colors = [viridis((float(i)-min(assignment_ids))/(max(assignment_ids)-min(assignment_ids))) for i in assignment_ids]\n",
    "\n",
    "# There's a slight drop-off by assignment, but overall they're well-attempted\n",
    "plt.bar(range(1,51), students_per_problem, color=colors)"
   ]
  },
  {
   "cell_type": "code",
   "execution_count": 9,
   "metadata": {},
   "outputs": [
    {
     "data": {
      "text/plain": [
       "1.0"
      ]
     },
     "execution_count": 9,
     "metadata": {},
     "output_type": "execute_result"
    }
   ],
   "source": [
    "main_table_filtered[PS2.Score][0]"
   ]
  },
  {
   "cell_type": "code",
   "execution_count": 10,
   "metadata": {
    "scrolled": true
   },
   "outputs": [
    {
     "data": {
      "text/plain": [
       "count    14828.000000\n",
       "mean         4.196318\n",
       "std          5.879822\n",
       "min          1.000000\n",
       "25%          1.000000\n",
       "50%          2.000000\n",
       "75%          5.000000\n",
       "max         93.000000\n",
       "dtype: float64"
      ]
     },
     "execution_count": 10,
     "metadata": {},
     "output_type": "execute_result"
    }
   ],
   "source": [
    "runs = main_table_filtered[main_table_filtered[PS2.EventType] == 'Run.Program']\n",
    "\n",
    "def get_attempts(rows):\n",
    "    scores = rows[PS2.Score]\n",
    "    # If they scored 1, we return the first time they did so\n",
    "    if (scores.max() == 1):\n",
    "        # Argmax returns the first index of the highest score\n",
    "        # Since the array is 0-indexed, we return +1\n",
    "        return rows[PS2.Score].argmax() + 1\n",
    "    return len(rows.index)\n",
    "    \n",
    "\n",
    "scores = runs.groupby([PS2.SubjectID, PS2.AssignmentID, PS2.ProblemID]).apply(get_attempts)\n",
    "scores.describe()"
   ]
  },
  {
   "cell_type": "code",
   "execution_count": 11,
   "metadata": {
    "scrolled": true
   },
   "outputs": [
    {
     "data": {
      "text/plain": [
       "count    14828.000000\n",
       "mean         4.345090\n",
       "std          6.076818\n",
       "min          1.000000\n",
       "25%          1.000000\n",
       "50%          2.000000\n",
       "75%          5.000000\n",
       "max         93.000000\n",
       "dtype: float64"
      ]
     },
     "execution_count": 11,
     "metadata": {},
     "output_type": "execute_result"
    }
   ],
   "source": [
    "# Confirm that this is different than just the count of runs\n",
    "runs.groupby([PS2.SubjectID, PS2.AssignmentID, PS2.ProblemID]).apply(lambda x: len(x.index)).describe()"
   ]
  },
  {
   "cell_type": "code",
   "execution_count": 12,
   "metadata": {
    "scrolled": true
   },
   "outputs": [
    {
     "data": {
      "text/html": [
       "<div>\n",
       "<style scoped>\n",
       "    .dataframe tbody tr th:only-of-type {\n",
       "        vertical-align: middle;\n",
       "    }\n",
       "\n",
       "    .dataframe tbody tr th {\n",
       "        vertical-align: top;\n",
       "    }\n",
       "\n",
       "    .dataframe thead th {\n",
       "        text-align: right;\n",
       "    }\n",
       "</style>\n",
       "<table border=\"1\" class=\"dataframe\">\n",
       "  <thead>\n",
       "    <tr style=\"text-align: right;\">\n",
       "      <th></th>\n",
       "      <th>SubjectID</th>\n",
       "      <th>AssignmentID</th>\n",
       "      <th>ProblemID</th>\n",
       "      <th>Attempts</th>\n",
       "    </tr>\n",
       "  </thead>\n",
       "  <tbody>\n",
       "    <tr>\n",
       "      <th>0</th>\n",
       "      <td>036ad3e516c5bf3a4b3be35b137bcbb8</td>\n",
       "      <td>439.0</td>\n",
       "      <td>1</td>\n",
       "      <td>8</td>\n",
       "    </tr>\n",
       "    <tr>\n",
       "      <th>1</th>\n",
       "      <td>036ad3e516c5bf3a4b3be35b137bcbb8</td>\n",
       "      <td>439.0</td>\n",
       "      <td>3</td>\n",
       "      <td>6</td>\n",
       "    </tr>\n",
       "    <tr>\n",
       "      <th>2</th>\n",
       "      <td>036ad3e516c5bf3a4b3be35b137bcbb8</td>\n",
       "      <td>439.0</td>\n",
       "      <td>5</td>\n",
       "      <td>7</td>\n",
       "    </tr>\n",
       "    <tr>\n",
       "      <th>3</th>\n",
       "      <td>036ad3e516c5bf3a4b3be35b137bcbb8</td>\n",
       "      <td>439.0</td>\n",
       "      <td>12</td>\n",
       "      <td>2</td>\n",
       "    </tr>\n",
       "    <tr>\n",
       "      <th>4</th>\n",
       "      <td>036ad3e516c5bf3a4b3be35b137bcbb8</td>\n",
       "      <td>439.0</td>\n",
       "      <td>13</td>\n",
       "      <td>17</td>\n",
       "    </tr>\n",
       "  </tbody>\n",
       "</table>\n",
       "</div>"
      ],
      "text/plain": [
       "                          SubjectID  AssignmentID  ProblemID  Attempts\n",
       "0  036ad3e516c5bf3a4b3be35b137bcbb8         439.0          1         8\n",
       "1  036ad3e516c5bf3a4b3be35b137bcbb8         439.0          3         6\n",
       "2  036ad3e516c5bf3a4b3be35b137bcbb8         439.0          5         7\n",
       "3  036ad3e516c5bf3a4b3be35b137bcbb8         439.0         12         2\n",
       "4  036ad3e516c5bf3a4b3be35b137bcbb8         439.0         13        17"
      ]
     },
     "execution_count": 12,
     "metadata": {},
     "output_type": "execute_result"
    }
   ],
   "source": [
    "student_scores = scores.to_frame('Attempts').reset_index()\n",
    "student_scores.head()"
   ]
  },
  {
   "cell_type": "code",
   "execution_count": 13,
   "metadata": {},
   "outputs": [
    {
     "data": {
      "text/plain": [
       "ProblemID\n",
       "1      2.0\n",
       "3      4.0\n",
       "5      4.0\n",
       "12     2.0\n",
       "13    11.0\n",
       "dtype: float64"
      ]
     },
     "execution_count": 13,
     "metadata": {},
     "output_type": "execute_result"
    }
   ],
   "source": [
    "problem_attempt_75th = student_scores.groupby(PS2.ProblemID).apply(lambda x: x.Attempts.quantile(0.75))\n",
    "problem_attempt_75th.head()"
   ]
  },
  {
   "cell_type": "code",
   "execution_count": 16,
   "metadata": {},
   "outputs": [
    {
     "data": {
      "image/png": "[encoded data removed]",
      "text/plain": [
       "<Figure size 1080x720 with 50 Axes>"
      ]
     },
     "metadata": {
      "needs_background": "light"
     },
     "output_type": "display_data"
    }
   ],
   "source": [
    "import matplotlib\n",
    "matplotlib.rcParams['figure.figsize'] = [15, 10]\n",
    "\n",
    "problem_ids = list(student_scores.ProblemID.unique())\n",
    "fig, axs = plt.subplots(5, 10)\n",
    "for i in range(5):\n",
    "    for j in range(10):\n",
    "        problem_id = problem_ids[i * 10 + j]\n",
    "        attempts = student_scores[student_scores[PS2.ProblemID] == problem_id].Attempts\n",
    "        p75 = problem_attempt_75th[problem_id] + 1\n",
    "        axs[i, j].hist(attempts)\n",
    "        axs[i, j].vlines(p75, 0, 50)"
   ]
  },
  {
   "cell_type": "code",
   "execution_count": 20,
   "metadata": {},
   "outputs": [
    {
     "data": {
      "text/plain": [
       "True     11531\n",
       "False     3297\n",
       "Name: Label, dtype: int64"
      ]
     },
     "execution_count": 20,
     "metadata": {},
     "output_type": "execute_result"
    }
   ],
   "source": [
    "cutoffs = student_scores['ProblemID'].apply(lambda x: problem_attempt_75th[x])\n",
    "student_scores['Label'] = student_scores['Attempts'] <= cutoffs\n",
    "student_scores['Label'].value_counts()"
   ]
  },
  {
   "cell_type": "code",
   "execution_count": 53,
   "metadata": {
    "scrolled": true
   },
   "outputs": [
    {
     "data": {
      "text/plain": [
       "(array([  1.,   1.,   0.,   4.,  18.,  34.,  54.,  51.,  76., 107.]),\n",
       " array([0. , 0.1, 0.2, 0.3, 0.4, 0.5, 0.6, 0.7, 0.8, 0.9, 1. ]),\n",
       " <a list of 10 Patch objects>)"
      ]
     },
     "execution_count": 53,
     "metadata": {},
     "output_type": "execute_result"
    },
    {
     "data": {
      "image/png": "[encoded data removed]",
      "text/plain": [
       "<Figure size 576x288 with 1 Axes>"
      ]
     },
     "metadata": {
      "needs_background": "light"
     },
     "output_type": "display_data"
    }
   ],
   "source": [
    "matplotlib.rcParams['figure.figsize'] = [8, 4]\n",
    "\n",
    "# The percentage of struggling problems per student is well-distributed\n",
    "plt.hist(student_scores.groupby(PS2.SubjectID)['Label'].mean())"
   ]
  },
  {
   "cell_type": "code",
   "execution_count": 42,
   "metadata": {},
   "outputs": [
    {
     "data": {
      "text/plain": [
       "[234, 235, 236, 100, 101, 102, 39, 40, 128, 106, 107, 108, 71, 112, 118]"
      ]
     },
     "execution_count": 42,
     "metadata": {},
     "output_type": "execute_result"
    }
   ],
   "source": [
    "problem_ids = student_scores[PS2.ProblemID].unique()\n",
    "assignment_ids = student_scores[PS2.AssignmentID].unique()\n",
    "\n",
    "test_problem_ids = np.array([student_scores[student_scores[PS2.AssignmentID] == assignmentID][PS2.ProblemID].unique()[-3:] for assignmentID in assignment_ids]).flatten()\n",
    "test_problem_ids = list(test_problem_ids)\n",
    "test_problem_ids"
   ]
  },
  {
   "cell_type": "code",
   "execution_count": 43,
   "metadata": {
    "scrolled": true
   },
   "outputs": [
    {
     "data": {
      "text/html": [
       "<div>\n",
       "<style scoped>\n",
       "    .dataframe tbody tr th:only-of-type {\n",
       "        vertical-align: middle;\n",
       "    }\n",
       "\n",
       "    .dataframe tbody tr th {\n",
       "        vertical-align: top;\n",
       "    }\n",
       "\n",
       "    .dataframe thead th {\n",
       "        text-align: right;\n",
       "    }\n",
       "</style>\n",
       "<table border=\"1\" class=\"dataframe\">\n",
       "  <thead>\n",
       "    <tr style=\"text-align: right;\">\n",
       "      <th></th>\n",
       "      <th>SubjectID</th>\n",
       "      <th>AssignmentID</th>\n",
       "      <th>ProblemID</th>\n",
       "      <th>Attempts</th>\n",
       "      <th>Label</th>\n",
       "      <th>IsTestProblem</th>\n",
       "    </tr>\n",
       "  </thead>\n",
       "  <tbody>\n",
       "    <tr>\n",
       "      <th>0</th>\n",
       "      <td>036ad3e516c5bf3a4b3be35b137bcbb8</td>\n",
       "      <td>439.0</td>\n",
       "      <td>1</td>\n",
       "      <td>8</td>\n",
       "      <td>False</td>\n",
       "      <td>False</td>\n",
       "    </tr>\n",
       "    <tr>\n",
       "      <th>1</th>\n",
       "      <td>036ad3e516c5bf3a4b3be35b137bcbb8</td>\n",
       "      <td>439.0</td>\n",
       "      <td>3</td>\n",
       "      <td>6</td>\n",
       "      <td>False</td>\n",
       "      <td>False</td>\n",
       "    </tr>\n",
       "    <tr>\n",
       "      <th>2</th>\n",
       "      <td>036ad3e516c5bf3a4b3be35b137bcbb8</td>\n",
       "      <td>439.0</td>\n",
       "      <td>5</td>\n",
       "      <td>7</td>\n",
       "      <td>False</td>\n",
       "      <td>False</td>\n",
       "    </tr>\n",
       "    <tr>\n",
       "      <th>3</th>\n",
       "      <td>036ad3e516c5bf3a4b3be35b137bcbb8</td>\n",
       "      <td>439.0</td>\n",
       "      <td>12</td>\n",
       "      <td>2</td>\n",
       "      <td>True</td>\n",
       "      <td>False</td>\n",
       "    </tr>\n",
       "    <tr>\n",
       "      <th>4</th>\n",
       "      <td>036ad3e516c5bf3a4b3be35b137bcbb8</td>\n",
       "      <td>439.0</td>\n",
       "      <td>13</td>\n",
       "      <td>17</td>\n",
       "      <td>False</td>\n",
       "      <td>False</td>\n",
       "    </tr>\n",
       "    <tr>\n",
       "      <th>5</th>\n",
       "      <td>036ad3e516c5bf3a4b3be35b137bcbb8</td>\n",
       "      <td>439.0</td>\n",
       "      <td>232</td>\n",
       "      <td>9</td>\n",
       "      <td>False</td>\n",
       "      <td>False</td>\n",
       "    </tr>\n",
       "    <tr>\n",
       "      <th>6</th>\n",
       "      <td>036ad3e516c5bf3a4b3be35b137bcbb8</td>\n",
       "      <td>439.0</td>\n",
       "      <td>233</td>\n",
       "      <td>1</td>\n",
       "      <td>True</td>\n",
       "      <td>False</td>\n",
       "    </tr>\n",
       "    <tr>\n",
       "      <th>7</th>\n",
       "      <td>036ad3e516c5bf3a4b3be35b137bcbb8</td>\n",
       "      <td>439.0</td>\n",
       "      <td>234</td>\n",
       "      <td>3</td>\n",
       "      <td>True</td>\n",
       "      <td>True</td>\n",
       "    </tr>\n",
       "    <tr>\n",
       "      <th>8</th>\n",
       "      <td>036ad3e516c5bf3a4b3be35b137bcbb8</td>\n",
       "      <td>439.0</td>\n",
       "      <td>235</td>\n",
       "      <td>1</td>\n",
       "      <td>True</td>\n",
       "      <td>True</td>\n",
       "    </tr>\n",
       "    <tr>\n",
       "      <th>9</th>\n",
       "      <td>036ad3e516c5bf3a4b3be35b137bcbb8</td>\n",
       "      <td>439.0</td>\n",
       "      <td>236</td>\n",
       "      <td>3</td>\n",
       "      <td>True</td>\n",
       "      <td>True</td>\n",
       "    </tr>\n",
       "    <tr>\n",
       "      <th>10</th>\n",
       "      <td>036ad3e516c5bf3a4b3be35b137bcbb8</td>\n",
       "      <td>487.0</td>\n",
       "      <td>17</td>\n",
       "      <td>3</td>\n",
       "      <td>False</td>\n",
       "      <td>False</td>\n",
       "    </tr>\n",
       "    <tr>\n",
       "      <th>11</th>\n",
       "      <td>036ad3e516c5bf3a4b3be35b137bcbb8</td>\n",
       "      <td>487.0</td>\n",
       "      <td>20</td>\n",
       "      <td>25</td>\n",
       "      <td>False</td>\n",
       "      <td>False</td>\n",
       "    </tr>\n",
       "    <tr>\n",
       "      <th>12</th>\n",
       "      <td>036ad3e516c5bf3a4b3be35b137bcbb8</td>\n",
       "      <td>487.0</td>\n",
       "      <td>21</td>\n",
       "      <td>3</td>\n",
       "      <td>False</td>\n",
       "      <td>False</td>\n",
       "    </tr>\n",
       "    <tr>\n",
       "      <th>13</th>\n",
       "      <td>036ad3e516c5bf3a4b3be35b137bcbb8</td>\n",
       "      <td>487.0</td>\n",
       "      <td>22</td>\n",
       "      <td>8</td>\n",
       "      <td>False</td>\n",
       "      <td>False</td>\n",
       "    </tr>\n",
       "    <tr>\n",
       "      <th>14</th>\n",
       "      <td>036ad3e516c5bf3a4b3be35b137bcbb8</td>\n",
       "      <td>487.0</td>\n",
       "      <td>24</td>\n",
       "      <td>23</td>\n",
       "      <td>False</td>\n",
       "      <td>False</td>\n",
       "    </tr>\n",
       "  </tbody>\n",
       "</table>\n",
       "</div>"
      ],
      "text/plain": [
       "                           SubjectID  AssignmentID  ProblemID  Attempts  \\\n",
       "0   036ad3e516c5bf3a4b3be35b137bcbb8         439.0          1         8   \n",
       "1   036ad3e516c5bf3a4b3be35b137bcbb8         439.0          3         6   \n",
       "2   036ad3e516c5bf3a4b3be35b137bcbb8         439.0          5         7   \n",
       "3   036ad3e516c5bf3a4b3be35b137bcbb8         439.0         12         2   \n",
       "4   036ad3e516c5bf3a4b3be35b137bcbb8         439.0         13        17   \n",
       "5   036ad3e516c5bf3a4b3be35b137bcbb8         439.0        232         9   \n",
       "6   036ad3e516c5bf3a4b3be35b137bcbb8         439.0        233         1   \n",
       "7   036ad3e516c5bf3a4b3be35b137bcbb8         439.0        234         3   \n",
       "8   036ad3e516c5bf3a4b3be35b137bcbb8         439.0        235         1   \n",
       "9   036ad3e516c5bf3a4b3be35b137bcbb8         439.0        236         3   \n",
       "10  036ad3e516c5bf3a4b3be35b137bcbb8         487.0         17         3   \n",
       "11  036ad3e516c5bf3a4b3be35b137bcbb8         487.0         20        25   \n",
       "12  036ad3e516c5bf3a4b3be35b137bcbb8         487.0         21         3   \n",
       "13  036ad3e516c5bf3a4b3be35b137bcbb8         487.0         22         8   \n",
       "14  036ad3e516c5bf3a4b3be35b137bcbb8         487.0         24        23   \n",
       "\n",
       "    Label  IsTestProblem  \n",
       "0   False          False  \n",
       "1   False          False  \n",
       "2   False          False  \n",
       "3    True          False  \n",
       "4   False          False  \n",
       "5   False          False  \n",
       "6    True          False  \n",
       "7    True           True  \n",
       "8    True           True  \n",
       "9    True           True  \n",
       "10  False          False  \n",
       "11  False          False  \n",
       "12  False          False  \n",
       "13  False          False  \n",
       "14  False          False  "
      ]
     },
     "execution_count": 43,
     "metadata": {},
     "output_type": "execute_result"
    }
   ],
   "source": [
    "student_scores['IsTestProblem'] = student_scores[PS2.ProblemID].apply(lambda problem_id: problem_id in test_problem_ids)\n",
    "student_scores.head(15)"
   ]
  },
  {
   "cell_type": "code",
   "execution_count": 54,
   "metadata": {
    "scrolled": true
   },
   "outputs": [
    {
     "data": {
      "text/plain": [
       "<BarContainer object of 50 artists>"
      ]
     },
     "execution_count": 54,
     "metadata": {},
     "output_type": "execute_result"
    },
    {
     "data": {
      "image/png": "[encoded data removed]",
      "text/plain": [
       "<Figure size 576x288 with 1 Axes>"
      ]
     },
     "metadata": {
      "needs_background": "light"
     },
     "output_type": "display_data"
    }
   ],
   "source": [
    "# Next we plot the number of attemptes on each problem (x) / assignment (color)\n",
    "from matplotlib.cm import viridis\n",
    "\n",
    "problem_ids = list(students_per_problem.keys().map(lambda x: x[1]))\n",
    "colors = [viridis(0.5 if i in test_problem_ids else 1) for i in problem_ids]\n",
    "\n",
    "# There's a slight drop-off by assignment, but overall they're well-attempted\n",
    "plt.bar(range(1,51), students_per_problem, color=colors)"
   ]
  },
  {
   "cell_type": "code",
   "execution_count": 26,
   "metadata": {},
   "outputs": [],
   "source": [
    "train_ids, test_ids = train_test_split(list(subject_ids), test_size=0.25, random_state=1234)"
   ]
  },
  {
   "cell_type": "code",
   "execution_count": 28,
   "metadata": {},
   "outputs": [],
   "source": [
    "student_scores_train = student_scores[student_scores[PS2.SubjectID].isin(train_ids)]\n",
    "student_scores_test = student_scores[student_scores[PS2.SubjectID].isin(test_ids)]"
   ]
  },
  {
   "cell_type": "code",
   "execution_count": null,
   "metadata": {},
   "outputs": [],
   "source": []
  }
 ],
 "metadata": {
  "kernelspec": {
   "display_name": "Python 3",
   "language": "python",
   "name": "python3"
  },
  "language_info": {
   "codemirror_mode": {
    "name": "ipython",
    "version": 3
   },
   "file_extension": ".py",
   "mimetype": "text/x-python",
   "name": "python",
   "nbconvert_exporter": "python",
   "pygments_lexer": "ipython3",
   "version": "3.7.6"
  }
 },
 "nbformat": 4,
 "nbformat_minor": 4
}
