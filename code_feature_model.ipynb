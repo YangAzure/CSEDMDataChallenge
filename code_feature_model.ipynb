{
 "cells": [
  {
   "cell_type": "code",
   "execution_count": 1,
   "metadata": {},
   "outputs": [],
   "source": [
    "import pandas as pd\n",
    "import numpy as np\n",
    "from ProgSnap2 import ProgSnap2Dataset\n",
    "from ProgSnap2 import PS2\n",
    "import matplotlib.pyplot as plt\n",
    "from sklearn.preprocessing import OneHotEncoder\n",
    "import numpy as np\n",
    "import os\n",
    "from os import path"
   ]
  },
  {
   "cell_type": "code",
   "execution_count": 2,
   "metadata": {},
   "outputs": [
    {
     "data": {
      "text/plain": [
       "'Phase2'"
      ]
     },
     "execution_count": 2,
     "metadata": {},
     "output_type": "execute_result"
    }
   ],
   "source": [
    "train_semester = 'F19'\n",
    "test_semester = 'F19'\n",
    "BASE_PATH = os.path.join('data', 'Release', train_semester)\n",
    "TRAIN_PATH = os.path.join(BASE_PATH, 'Train')\n",
    "TEST_PATH = os.path.join('data', 'Release', test_semester, 'Test')\n",
    "\n",
    "if test_semester == 'F19':\n",
    "    phase = 'Phase1' if train_semester == 'S19' else 'Phase2'\n",
    "else:\n",
    "    phase = 'Practice' if train_semester == 'F19' else 'Backwards'\n",
    "phase"
   ]
  },
  {
   "cell_type": "code",
   "execution_count": 3,
   "metadata": {},
   "outputs": [],
   "source": [
    "train_ps2 = ProgSnap2Dataset(os.path.join(TRAIN_PATH, 'Data')) "
   ]
  },
  {
   "cell_type": "code",
   "execution_count": 4,
   "metadata": {},
   "outputs": [
    {
     "data": {
      "text/html": [
       "<div>\n",
       "<style scoped>\n",
       "    .dataframe tbody tr th:only-of-type {\n",
       "        vertical-align: middle;\n",
       "    }\n",
       "\n",
       "    .dataframe tbody tr th {\n",
       "        vertical-align: top;\n",
       "    }\n",
       "\n",
       "    .dataframe thead th {\n",
       "        text-align: right;\n",
       "    }\n",
       "</style>\n",
       "<table border=\"1\" class=\"dataframe\">\n",
       "  <thead>\n",
       "    <tr style=\"text-align: right;\">\n",
       "      <th></th>\n",
       "      <th>SubjectID</th>\n",
       "      <th>AssignmentID</th>\n",
       "      <th>ProblemID</th>\n",
       "      <th>Attempts</th>\n",
       "      <th>CorrectEventually</th>\n",
       "      <th>Label</th>\n",
       "    </tr>\n",
       "  </thead>\n",
       "  <tbody>\n",
       "    <tr>\n",
       "      <th>0</th>\n",
       "      <td>014604ba54339d4b1266cf78e125053a5ac11dd861ef3c...</td>\n",
       "      <td>439</td>\n",
       "      <td>1</td>\n",
       "      <td>1</td>\n",
       "      <td>True</td>\n",
       "      <td>True</td>\n",
       "    </tr>\n",
       "    <tr>\n",
       "      <th>1</th>\n",
       "      <td>014604ba54339d4b1266cf78e125053a5ac11dd861ef3c...</td>\n",
       "      <td>439</td>\n",
       "      <td>3</td>\n",
       "      <td>1</td>\n",
       "      <td>True</td>\n",
       "      <td>True</td>\n",
       "    </tr>\n",
       "    <tr>\n",
       "      <th>2</th>\n",
       "      <td>014604ba54339d4b1266cf78e125053a5ac11dd861ef3c...</td>\n",
       "      <td>439</td>\n",
       "      <td>5</td>\n",
       "      <td>1</td>\n",
       "      <td>True</td>\n",
       "      <td>True</td>\n",
       "    </tr>\n",
       "    <tr>\n",
       "      <th>3</th>\n",
       "      <td>014604ba54339d4b1266cf78e125053a5ac11dd861ef3c...</td>\n",
       "      <td>439</td>\n",
       "      <td>12</td>\n",
       "      <td>1</td>\n",
       "      <td>True</td>\n",
       "      <td>True</td>\n",
       "    </tr>\n",
       "    <tr>\n",
       "      <th>4</th>\n",
       "      <td>014604ba54339d4b1266cf78e125053a5ac11dd861ef3c...</td>\n",
       "      <td>439</td>\n",
       "      <td>13</td>\n",
       "      <td>1</td>\n",
       "      <td>True</td>\n",
       "      <td>True</td>\n",
       "    </tr>\n",
       "  </tbody>\n",
       "</table>\n",
       "</div>"
      ],
      "text/plain": [
       "                                           SubjectID  AssignmentID  ProblemID  \\\n",
       "0  014604ba54339d4b1266cf78e125053a5ac11dd861ef3c...           439          1   \n",
       "1  014604ba54339d4b1266cf78e125053a5ac11dd861ef3c...           439          3   \n",
       "2  014604ba54339d4b1266cf78e125053a5ac11dd861ef3c...           439          5   \n",
       "3  014604ba54339d4b1266cf78e125053a5ac11dd861ef3c...           439         12   \n",
       "4  014604ba54339d4b1266cf78e125053a5ac11dd861ef3c...           439         13   \n",
       "\n",
       "   Attempts  CorrectEventually  Label  \n",
       "0         1               True   True  \n",
       "1         1               True   True  \n",
       "2         1               True   True  \n",
       "3         1               True   True  \n",
       "4         1               True   True  "
      ]
     },
     "execution_count": 4,
     "metadata": {},
     "output_type": "execute_result"
    }
   ],
   "source": [
    "# The early dataset will help us to feature extraction,\n",
    "# but we're not actually predicting anything here\n",
    "# Note: we could still use this for model training if desired.\n",
    "early_train = pd.read_csv(os.path.join(TRAIN_PATH, 'early.csv'))\n",
    "early_train.head()"
   ]
  },
  {
   "cell_type": "code",
   "execution_count": 5,
   "metadata": {},
   "outputs": [
    {
     "data": {
      "text/html": [
       "<div>\n",
       "<style scoped>\n",
       "    .dataframe tbody tr th:only-of-type {\n",
       "        vertical-align: middle;\n",
       "    }\n",
       "\n",
       "    .dataframe tbody tr th {\n",
       "        vertical-align: top;\n",
       "    }\n",
       "\n",
       "    .dataframe thead th {\n",
       "        text-align: right;\n",
       "    }\n",
       "</style>\n",
       "<table border=\"1\" class=\"dataframe\">\n",
       "  <thead>\n",
       "    <tr style=\"text-align: right;\">\n",
       "      <th></th>\n",
       "      <th>SubjectID</th>\n",
       "      <th>AssignmentID</th>\n",
       "      <th>ProblemID</th>\n",
       "      <th>Label</th>\n",
       "    </tr>\n",
       "  </thead>\n",
       "  <tbody>\n",
       "    <tr>\n",
       "      <th>0</th>\n",
       "      <td>014604ba54339d4b1266cf78e125053a5ac11dd861ef3c...</td>\n",
       "      <td>494</td>\n",
       "      <td>41</td>\n",
       "      <td>True</td>\n",
       "    </tr>\n",
       "    <tr>\n",
       "      <th>1</th>\n",
       "      <td>014604ba54339d4b1266cf78e125053a5ac11dd861ef3c...</td>\n",
       "      <td>494</td>\n",
       "      <td>43</td>\n",
       "      <td>True</td>\n",
       "    </tr>\n",
       "    <tr>\n",
       "      <th>2</th>\n",
       "      <td>014604ba54339d4b1266cf78e125053a5ac11dd861ef3c...</td>\n",
       "      <td>494</td>\n",
       "      <td>44</td>\n",
       "      <td>True</td>\n",
       "    </tr>\n",
       "    <tr>\n",
       "      <th>3</th>\n",
       "      <td>014604ba54339d4b1266cf78e125053a5ac11dd861ef3c...</td>\n",
       "      <td>494</td>\n",
       "      <td>46</td>\n",
       "      <td>True</td>\n",
       "    </tr>\n",
       "    <tr>\n",
       "      <th>4</th>\n",
       "      <td>014604ba54339d4b1266cf78e125053a5ac11dd861ef3c...</td>\n",
       "      <td>494</td>\n",
       "      <td>49</td>\n",
       "      <td>True</td>\n",
       "    </tr>\n",
       "  </tbody>\n",
       "</table>\n",
       "</div>"
      ],
      "text/plain": [
       "                                           SubjectID  AssignmentID  ProblemID  \\\n",
       "0  014604ba54339d4b1266cf78e125053a5ac11dd861ef3c...           494         41   \n",
       "1  014604ba54339d4b1266cf78e125053a5ac11dd861ef3c...           494         43   \n",
       "2  014604ba54339d4b1266cf78e125053a5ac11dd861ef3c...           494         44   \n",
       "3  014604ba54339d4b1266cf78e125053a5ac11dd861ef3c...           494         46   \n",
       "4  014604ba54339d4b1266cf78e125053a5ac11dd861ef3c...           494         49   \n",
       "\n",
       "   Label  \n",
       "0   True  \n",
       "1   True  \n",
       "2   True  \n",
       "3   True  \n",
       "4   True  "
      ]
     },
     "execution_count": 5,
     "metadata": {},
     "output_type": "execute_result"
    }
   ],
   "source": [
    "# The late dataset contains the problems that we're actually predicting for.\n",
    "# The training portion of it includes labels.\n",
    "late_train = pd.read_csv(os.path.join(TRAIN_PATH, 'late.csv'))\n",
    "late_train.head()"
   ]
  },
  {
   "cell_type": "code",
   "execution_count": 6,
   "metadata": {},
   "outputs": [],
   "source": [
    "X_train_base = late_train.copy().drop('Label', axis=1)\n",
    "y_train = late_train['Label'].values"
   ]
  },
  {
   "cell_type": "code",
   "execution_count": 7,
   "metadata": {},
   "outputs": [],
   "source": [
    "problem_encoder = OneHotEncoder().fit(X_train_base[PS2.ProblemID].values.reshape(-1, 1))"
   ]
  },
  {
   "cell_type": "code",
   "execution_count": 8,
   "metadata": {
    "scrolled": true
   },
   "outputs": [
    {
     "data": {
      "text/plain": [
       "array([[1., 0., 0., ..., 0., 0., 0.],\n",
       "       [0., 1., 0., ..., 0., 0., 0.],\n",
       "       [0., 0., 1., ..., 0., 0., 0.],\n",
       "       ...,\n",
       "       [0., 0., 0., ..., 0., 0., 0.],\n",
       "       [0., 0., 0., ..., 0., 1., 0.],\n",
       "       [0., 0., 0., ..., 0., 0., 1.]])"
      ]
     },
     "execution_count": 8,
     "metadata": {},
     "output_type": "execute_result"
    }
   ],
   "source": [
    "problem_encoder.transform(X_train_base[PS2.ProblemID].values.reshape(-1, 1)).toarray()"
   ]
  },
  {
   "cell_type": "code",
   "execution_count": 9,
   "metadata": {},
   "outputs": [],
   "source": [
    "def get_code_table(ps2_dataset):\n",
    "    events_table = ps2_dataset.get_main_table()\n",
    "    code_states = ps2_dataset.get_code_states_table()\n",
    "    runs = events_table.merge(code_states, on=PS2.CodeStateID)\n",
    "    runs = runs[runs[PS2.EventType] == 'Run.Program']\n",
    "    runs = runs[[PS2.Order, PS2.SubjectID, PS2.ProblemID, 'Code']]\n",
    "    return runs"
   ]
  },
  {
   "cell_type": "code",
   "execution_count": 10,
   "metadata": {
    "scrolled": true
   },
   "outputs": [
    {
     "data": {
      "text/html": [
       "<div>\n",
       "<style scoped>\n",
       "    .dataframe tbody tr th:only-of-type {\n",
       "        vertical-align: middle;\n",
       "    }\n",
       "\n",
       "    .dataframe tbody tr th {\n",
       "        vertical-align: top;\n",
       "    }\n",
       "\n",
       "    .dataframe thead th {\n",
       "        text-align: right;\n",
       "    }\n",
       "</style>\n",
       "<table border=\"1\" class=\"dataframe\">\n",
       "  <thead>\n",
       "    <tr style=\"text-align: right;\">\n",
       "      <th></th>\n",
       "      <th>Order</th>\n",
       "      <th>SubjectID</th>\n",
       "      <th>ProblemID</th>\n",
       "      <th>Code</th>\n",
       "    </tr>\n",
       "  </thead>\n",
       "  <tbody>\n",
       "    <tr>\n",
       "      <th>0</th>\n",
       "      <td>179362</td>\n",
       "      <td>014604ba54339d4b1266cf78e125053a5ac11dd861ef3c...</td>\n",
       "      <td>1</td>\n",
       "      <td>public int sortaSum(int a, int b)\\r\\n{\\r\\n    ...</td>\n",
       "    </tr>\n",
       "    <tr>\n",
       "      <th>2</th>\n",
       "      <td>179364</td>\n",
       "      <td>014604ba54339d4b1266cf78e125053a5ac11dd861ef3c...</td>\n",
       "      <td>3</td>\n",
       "      <td>public boolean in1To10(int n, boolean outsideM...</td>\n",
       "    </tr>\n",
       "    <tr>\n",
       "      <th>4</th>\n",
       "      <td>179358</td>\n",
       "      <td>014604ba54339d4b1266cf78e125053a5ac11dd861ef3c...</td>\n",
       "      <td>5</td>\n",
       "      <td>public boolean answerCell(boolean isMorning, b...</td>\n",
       "    </tr>\n",
       "    <tr>\n",
       "      <th>6</th>\n",
       "      <td>179366</td>\n",
       "      <td>014604ba54339d4b1266cf78e125053a5ac11dd861ef3c...</td>\n",
       "      <td>12</td>\n",
       "      <td>public boolean squirrelPlay(int temp, boolean ...</td>\n",
       "    </tr>\n",
       "    <tr>\n",
       "      <th>8</th>\n",
       "      <td>179331</td>\n",
       "      <td>014604ba54339d4b1266cf78e125053a5ac11dd861ef3c...</td>\n",
       "      <td>13</td>\n",
       "      <td>public int caughtSpeeding(int speed, boolean i...</td>\n",
       "    </tr>\n",
       "    <tr>\n",
       "      <th>...</th>\n",
       "      <td>...</td>\n",
       "      <td>...</td>\n",
       "      <td>...</td>\n",
       "      <td>...</td>\n",
       "    </tr>\n",
       "    <tr>\n",
       "      <th>262387</th>\n",
       "      <td>458819</td>\n",
       "      <td>ffc3b91c3744d275e99f49e105f016732d694a76314d8c...</td>\n",
       "      <td>71</td>\n",
       "      <td>public boolean canBalance(int[] nums)\\r\\n{\\r\\n...</td>\n",
       "    </tr>\n",
       "    <tr>\n",
       "      <th>262389</th>\n",
       "      <td>458821</td>\n",
       "      <td>ffc3b91c3744d275e99f49e105f016732d694a76314d8c...</td>\n",
       "      <td>112</td>\n",
       "      <td>public int[] seriesUp(int n)\\r\\n{\\r\\n    int[]...</td>\n",
       "    </tr>\n",
       "    <tr>\n",
       "      <th>262392</th>\n",
       "      <td>458824</td>\n",
       "      <td>ffc3b91c3744d275e99f49e105f016732d694a76314d8c...</td>\n",
       "      <td>112</td>\n",
       "      <td>public int[] seriesUp(int n)\\r\\n{\\r\\n    int[]...</td>\n",
       "    </tr>\n",
       "    <tr>\n",
       "      <th>262394</th>\n",
       "      <td>458826</td>\n",
       "      <td>ffc3b91c3744d275e99f49e105f016732d694a76314d8c...</td>\n",
       "      <td>118</td>\n",
       "      <td>public int[] shiftLeft(int[] nums)\\r\\n{\\r\\n   ...</td>\n",
       "    </tr>\n",
       "    <tr>\n",
       "      <th>262396</th>\n",
       "      <td>458828</td>\n",
       "      <td>ffc3b91c3744d275e99f49e105f016732d694a76314d8c...</td>\n",
       "      <td>118</td>\n",
       "      <td>public int[] shiftLeft(int[] nums)\\r\\n{\\r\\n   ...</td>\n",
       "    </tr>\n",
       "  </tbody>\n",
       "</table>\n",
       "<p>91751 rows × 4 columns</p>\n",
       "</div>"
      ],
      "text/plain": [
       "         Order                                          SubjectID  ProblemID  \\\n",
       "0       179362  014604ba54339d4b1266cf78e125053a5ac11dd861ef3c...          1   \n",
       "2       179364  014604ba54339d4b1266cf78e125053a5ac11dd861ef3c...          3   \n",
       "4       179358  014604ba54339d4b1266cf78e125053a5ac11dd861ef3c...          5   \n",
       "6       179366  014604ba54339d4b1266cf78e125053a5ac11dd861ef3c...         12   \n",
       "8       179331  014604ba54339d4b1266cf78e125053a5ac11dd861ef3c...         13   \n",
       "...        ...                                                ...        ...   \n",
       "262387  458819  ffc3b91c3744d275e99f49e105f016732d694a76314d8c...         71   \n",
       "262389  458821  ffc3b91c3744d275e99f49e105f016732d694a76314d8c...        112   \n",
       "262392  458824  ffc3b91c3744d275e99f49e105f016732d694a76314d8c...        112   \n",
       "262394  458826  ffc3b91c3744d275e99f49e105f016732d694a76314d8c...        118   \n",
       "262396  458828  ffc3b91c3744d275e99f49e105f016732d694a76314d8c...        118   \n",
       "\n",
       "                                                     Code  \n",
       "0       public int sortaSum(int a, int b)\\r\\n{\\r\\n    ...  \n",
       "2       public boolean in1To10(int n, boolean outsideM...  \n",
       "4       public boolean answerCell(boolean isMorning, b...  \n",
       "6       public boolean squirrelPlay(int temp, boolean ...  \n",
       "8       public int caughtSpeeding(int speed, boolean i...  \n",
       "...                                                   ...  \n",
       "262387  public boolean canBalance(int[] nums)\\r\\n{\\r\\n...  \n",
       "262389  public int[] seriesUp(int n)\\r\\n{\\r\\n    int[]...  \n",
       "262392  public int[] seriesUp(int n)\\r\\n{\\r\\n    int[]...  \n",
       "262394  public int[] shiftLeft(int[] nums)\\r\\n{\\r\\n   ...  \n",
       "262396  public int[] shiftLeft(int[] nums)\\r\\n{\\r\\n   ...  \n",
       "\n",
       "[91751 rows x 4 columns]"
      ]
     },
     "execution_count": 10,
     "metadata": {},
     "output_type": "execute_result"
    }
   ],
   "source": [
    "code_table_train = get_code_table(train_ps2)\n",
    "code_table_train"
   ]
  },
  {
   "cell_type": "code",
   "execution_count": 28,
   "metadata": {},
   "outputs": [],
   "source": [
    "# Some empty strings got imported as \"NaN\", so we turn them bcak\n",
    "code_table_train['Code'][code_table_train['Code'].apply(lambda x: not isinstance(x, str))] = \"\""
   ]
  },
  {
   "cell_type": "code",
   "execution_count": 31,
   "metadata": {},
   "outputs": [
    {
     "data": {
      "text/plain": [
       "{'public': 18,\n",
       " 'int': 13,\n",
       " 'sum': 26,\n",
       " 'if': 12,\n",
       " '10': 0,\n",
       " 'return': 20,\n",
       " 'boolean': 3,\n",
       " 'false': 9,\n",
       " 'true': 28,\n",
       " 'else': 7,\n",
       " 'temp': 27,\n",
       " 'speed': 22,\n",
       " 'result': 19,\n",
       " 'string': 24,\n",
       " 'day': 6,\n",
       " '21': 1,\n",
       " 'str': 23,\n",
       " 'length': 14,\n",
       " 'for': 10,\n",
       " 'substring': 25,\n",
       " 'num': 16,\n",
       " 'small': 21,\n",
       " 'big': 2,\n",
       " 'goal': 11,\n",
       " 'count': 5,\n",
       " 'word': 29,\n",
       " 'charat': 4,\n",
       " 'nums': 17,\n",
       " 'new': 15,\n",
       " 'end': 8}"
      ]
     },
     "execution_count": 31,
     "metadata": {},
     "output_type": "execute_result"
    }
   ],
   "source": [
    "# We want to find a consistent, common vocabulary across all problems\n",
    "# so we first build our vocabulary for all code submissions\n",
    "\n",
    "from sklearn.feature_extraction.text import TfidfVectorizer\n",
    "\n",
    "# Note this approach is _very_ naive, since it's using NLP assumptions\n",
    "# about tokenizing, among other things, but it is good enough for a demonstration.\n",
    "code_vectorizer = TfidfVectorizer(max_features=30)\n",
    "code_vectorizer.fit(code_table_train['Code'])\n",
    "top_vocab = code_vectorizer.vocabulary_\n",
    "top_vocab"
   ]
  },
  {
   "cell_type": "code",
   "execution_count": 32,
   "metadata": {},
   "outputs": [
    {
     "data": {
      "text/plain": [
       "50"
      ]
     },
     "execution_count": 32,
     "metadata": {},
     "output_type": "execute_result"
    }
   ],
   "source": [
    "# We want to create a separate encoder for each problem, since the\n",
    "# \"document frequency\" part of TF-IDF should be calibrated separately\n",
    "# for each problem.\n",
    "code_problem_encoders = {}\n",
    "def create_encoder(rows):\n",
    "    code = rows['Code']\n",
    "    problem_id = rows[PS2.ProblemID].iloc[0]\n",
    "    code_vectorizer = TfidfVectorizer(vocabulary=top_vocab)\n",
    "    code_vectorizer.fit(code)\n",
    "    code_problem_encoders[problem_id] = code_vectorizer\n",
    "    \n",
    "code_table_train.groupby(PS2.ProblemID).apply(create_encoder)\n",
    "len(code_problem_encoders)"
   ]
  },
  {
   "cell_type": "code",
   "execution_count": 33,
   "metadata": {},
   "outputs": [
    {
     "name": "stdout",
     "output_type": "stream",
     "text": [
      "public int sortaSum(int a, int b)\r\n",
      "{\r\n",
      "    int sum = a + b;\r\n",
      "    \r\n",
      "    if(sum >= 10 && sum <= 19)\r\n",
      "    {\r\n",
      "    \tsum = 20;\r\n",
      "    }\r\n",
      "    return sum;\r\n",
      "}\r\n",
      "\n",
      "  (0, 26)\t0.9072949015748782\n",
      "  (0, 20)\t0.09412483157613231\n",
      "  (0, 18)\t0.09351428997340218\n",
      "  (0, 13)\t0.3740571598936087\n",
      "  (0, 12)\t0.09463667899506115\n",
      "  (0, 0)\t0.10166953992656809\n"
     ]
    }
   ],
   "source": [
    "test_code = code_table_train['Code'].iloc[0]\n",
    "print(test_code)\n",
    "print(code_problem_encoders[1].transform([test_code]))"
   ]
  },
  {
   "cell_type": "code",
   "execution_count": 34,
   "metadata": {},
   "outputs": [],
   "source": [
    "def extract_instance_features(instance, early_df):\n",
    "    instance = instance.copy()\n",
    "    subject_id = instance[PS2.SubjectID]\n",
    "    early_problems = early_df[early_df[PS2.SubjectID] == subject_id]\n",
    "    # Extract very naive features about the student\n",
    "    # (without respect to the problem bring predicted)\n",
    "    # Number of early problems attempted\n",
    "    instance['ProblemsAttempted'] = early_problems.shape[0]\n",
    "    # Percentage of early problems gotten correct eventually\n",
    "    instance['PercCorrectEventually'] = np.mean(early_problems['CorrectEventually'])\n",
    "    # Median attempts made on early problems\n",
    "    instance['MedAttempts'] = np.median(early_problems['Attempts'])\n",
    "    # Max attempts made on early problems\n",
    "    instance['MaxAttempts'] = np.max(early_problems['Attempts'])\n",
    "    # Percentage of problems gotten correct on the first try\n",
    "    instance['PercCorrectFirstTry'] = np.mean(early_problems['Attempts'] == 1)\n",
    "    \n",
    "    instance = instance.drop('SubjectID')\n",
    "    return instance"
   ]
  },
  {
   "cell_type": "code",
   "execution_count": 35,
   "metadata": {
    "scrolled": false
   },
   "outputs": [
    {
     "data": {
      "text/plain": [
       "AssignmentID                  494\n",
       "ProblemID                      41\n",
       "ProblemsAttempted              30\n",
       "PercCorrectEventually    0.966667\n",
       "MedAttempts                     3\n",
       "MaxAttempts                    22\n",
       "PercCorrectFirstTry      0.333333\n",
       "Name: 0, dtype: object"
      ]
     },
     "execution_count": 35,
     "metadata": {},
     "output_type": "execute_result"
    }
   ],
   "source": [
    "extract_instance_features(X_train_base.iloc[0], early_train)"
   ]
  },
  {
   "cell_type": "code",
   "execution_count": 36,
   "metadata": {},
   "outputs": [],
   "source": [
    "def extract_instance_code_features(instance, early_df, code_table):\n",
    "    subject_id = instance[PS2.SubjectID]\n",
    "    problem_id = instance[PS2.ProblemID]\n",
    "    \n",
    "    # Get all attempts for this problem by this subject\n",
    "    attempts = code_table[(code_table[PS2.SubjectID] == subject_id) & \\\n",
    "                          (code_table[PS2.ProblemID] == problem_id)]\n",
    "    # Get the code of the last attempt (we could use others but don't here)\n",
    "    encoder = code_problem_encoders[problem_id]\n",
    "    # If for some reason there were no attempts, return 0s\n",
    "    if (attempts.shape[0] == 0):\n",
    "        return encoder.transform([\"\"])\n",
    "    last_attempt = attempts.sort_values('Order')['Code'].iloc[-1]\n",
    "    code_features = encoder.transform([last_attempt])\n",
    "    \n",
    "    return code_features"
   ]
  },
  {
   "cell_type": "code",
   "execution_count": 37,
   "metadata": {
    "scrolled": true
   },
   "outputs": [
    {
     "name": "stdout",
     "output_type": "stream",
     "text": [
      "  (0, 20)\t0.17595827070180745\n",
      "  (0, 18)\t0.16616474043625665\n",
      "  (0, 17)\t0.49849422130876997\n",
      "  (0, 14)\t0.4135076002874962\n",
      "  (0, 13)\t0.6646589617450266\n",
      "  (0, 10)\t0.28314555692371923\n"
     ]
    }
   ],
   "source": [
    "print(extract_instance_code_features(X_train_base.iloc[0], early_train, code_table_train))"
   ]
  },
  {
   "cell_type": "code",
   "execution_count": 38,
   "metadata": {},
   "outputs": [
    {
     "data": {
      "text/plain": [
       "<5x30 sparse matrix of type '<class 'numpy.float64'>'\n",
       "\twith 41 stored elements in Compressed Sparse Row format>"
      ]
     },
     "execution_count": 38,
     "metadata": {},
     "output_type": "execute_result"
    }
   ],
   "source": [
    "# Test how to stack code features across instances\n",
    "from scipy.sparse import vstack\n",
    "import functools\n",
    "\n",
    "code_features = X_train_base.iloc[:5].apply(\\\n",
    "    lambda instance: extract_instance_code_features(\\\n",
    "        instance, early_train, code_table_train), axis=1)\n",
    "\n",
    "vstack(code_features)"
   ]
  },
  {
   "cell_type": "code",
   "execution_count": 39,
   "metadata": {},
   "outputs": [],
   "source": [
    "def extract_features(X, early_df, code_table, scaler, is_train):\n",
    "    # First extract performance features for each row\n",
    "    features = X.apply(lambda instance: extract_instance_features(instance, early_df), axis=1)\n",
    "    # Then get code features\n",
    "    code_features = X.apply(lambda instance: extract_instance_code_features(\\\n",
    "            instance, early_df, code_table), axis=1)\n",
    "    code_features = vstack(code_features).toarray()\n",
    "    \n",
    "    # Then one-hot encode the problem_id and append it\n",
    "    problem_ids = problem_encoder.transform(features[PS2.ProblemID].values.reshape(-1, 1)).toarray()\n",
    "    # Then get rid of nominal features\n",
    "    features.drop([PS2.AssignmentID, PS2.ProblemID], axis=1, inplace=True)\n",
    "    # Then scale the continuous features, fitting the scaler if this is training\n",
    "    if is_train:\n",
    "        scaler.fit(features)\n",
    "    features = scaler.transform(features)\n",
    "    \n",
    "    # Return continuous and one-hot features together\n",
    "    return np.concatenate([features, code_features, problem_ids], axis=1)"
   ]
  },
  {
   "cell_type": "code",
   "execution_count": 40,
   "metadata": {
    "scrolled": false
   },
   "outputs": [],
   "source": [
    "from sklearn.preprocessing import StandardScaler\n",
    "scaler = StandardScaler()\n",
    "X_train = extract_features(X_train_base, early_train, code_table_train, scaler, True)"
   ]
  },
  {
   "cell_type": "code",
   "execution_count": 41,
   "metadata": {
    "scrolled": true
   },
   "outputs": [
    {
     "name": "stdout",
     "output_type": "stream",
     "text": [
      "(7021, 55)\n"
     ]
    },
    {
     "data": {
      "text/plain": [
       "array([[ 0.30900524,  0.2642418 , -0.16269023, -0.28113591,  0.08630277,\n",
       "         0.        ,  0.        ,  0.        ,  0.        ,  0.        ,\n",
       "         0.        ,  0.        ,  0.        ,  0.        ,  0.        ,\n",
       "         0.28314556,  0.        ,  0.        ,  0.66465896,  0.4135076 ,\n",
       "         0.        ,  0.        ,  0.49849422,  0.16616474,  0.        ,\n",
       "         0.17595827,  0.        ,  0.        ,  0.        ,  0.        ,\n",
       "         0.        ,  0.        ,  0.        ,  0.        ,  0.        ,\n",
       "         1.        ,  0.        ,  0.        ,  0.        ,  0.        ,\n",
       "         0.        ,  0.        ,  0.        ,  0.        ,  0.        ,\n",
       "         0.        ,  0.        ,  0.        ,  0.        ,  0.        ,\n",
       "         0.        ,  0.        ,  0.        ,  0.        ,  0.        ],\n",
       "       [ 0.30900524,  0.2642418 , -0.16269023, -0.28113591,  0.08630277,\n",
       "         0.        ,  0.        ,  0.        ,  0.        ,  0.        ,\n",
       "         0.        ,  0.        ,  0.1401053 ,  0.        ,  0.        ,\n",
       "         0.20040545,  0.        ,  0.11011182,  0.55957697,  0.3175863 ,\n",
       "         0.26432924,  0.        ,  0.6528398 ,  0.09326283,  0.        ,\n",
       "         0.09658362,  0.        ,  0.        ,  0.        ,  0.        ,\n",
       "         0.        ,  0.        ,  0.        ,  0.        ,  0.        ,\n",
       "         0.        ,  1.        ,  0.        ,  0.        ,  0.        ,\n",
       "         0.        ,  0.        ,  0.        ,  0.        ,  0.        ,\n",
       "         0.        ,  0.        ,  0.        ,  0.        ,  0.        ,\n",
       "         0.        ,  0.        ,  0.        ,  0.        ,  0.        ]])"
      ]
     },
     "execution_count": 41,
     "metadata": {},
     "output_type": "execute_result"
    }
   ],
   "source": [
    "print(X_train.shape)\n",
    "X_train[:2,]"
   ]
  },
  {
   "cell_type": "markdown",
   "metadata": {},
   "source": [
    "## Evaluate the Training Performance of the Model"
   ]
  },
  {
   "cell_type": "code",
   "execution_count": 42,
   "metadata": {
    "scrolled": true
   },
   "outputs": [],
   "source": [
    "from sklearn.linear_model import LogisticRegressionCV\n",
    "from sklearn.neural_network import MLPClassifier\n",
    "from sklearn.ensemble import RandomForestClassifier\n",
    "\n",
    "# We set an alpha value; otherwise the model overfits with 100% accuracy\n",
    "# If we were being rigorous, we would set this using hyperparameter tuning\n",
    "model = RandomForestClassifier(ccp_alpha=0.001)\n",
    "model.fit(X_train, y_train)\n",
    "train_predictions = model.predict(X_train)"
   ]
  },
  {
   "cell_type": "code",
   "execution_count": 43,
   "metadata": {
    "scrolled": true
   },
   "outputs": [
    {
     "name": "stdout",
     "output_type": "stream",
     "text": [
      "              precision    recall  f1-score   support\n",
      "\n",
      "       False       0.21      0.88      0.35       428\n",
      "        True       0.99      0.79      0.88      6593\n",
      "\n",
      "    accuracy                           0.80      7021\n",
      "   macro avg       0.60      0.84      0.61      7021\n",
      "weighted avg       0.94      0.80      0.85      7021\n",
      "\n",
      "AUC: 0.8368564932220666\n",
      "Macro F1: 0.6124852252787021\n"
     ]
    }
   ],
   "source": [
    "from sklearn.metrics import classification_report\n",
    "from sklearn.metrics import roc_auc_score\n",
    "from sklearn.metrics import f1_score\n",
    "\n",
    "print(classification_report(train_predictions, y_train))\n",
    "print('AUC: ' + str(roc_auc_score(train_predictions, y_train)))\n",
    "print('Macro F1: ' + str(f1_score(train_predictions, y_train, average='macro')))"
   ]
  },
  {
   "cell_type": "code",
   "execution_count": 44,
   "metadata": {
    "scrolled": true
   },
   "outputs": [
    {
     "data": {
      "text/plain": [
       "<sklearn.metrics._plot.roc_curve.RocCurveDisplay at 0x1b8beb53788>"
      ]
     },
     "execution_count": 44,
     "metadata": {},
     "output_type": "execute_result"
    },
    {
     "data": {
      "image/png": "[encoded data removed]",
      "text/plain": [
       "<Figure size 432x288 with 1 Axes>"
      ]
     },
     "metadata": {
      "needs_background": "light"
     },
     "output_type": "display_data"
    }
   ],
   "source": [
    "from sklearn.metrics import plot_roc_curve\n",
    "\n",
    "plot_roc_curve(model, X_train, y_train)"
   ]
  },
  {
   "cell_type": "code",
   "execution_count": 45,
   "metadata": {
    "scrolled": false
   },
   "outputs": [
    {
     "name": "stdout",
     "output_type": "stream",
     "text": [
      "[27 34  6 30  9 28 11 16 38 40  7 41 42 54 48 36 46 43 50 26 39 53 49 45\n",
      " 21 51 35 44 37 47 24 10 13 29 32  5 31  0 52 14  8 12 20 33 22 15 19 17\n",
      " 18  1 25 23  3  4  2]\n"
     ]
    },
    {
     "data": {
      "text/plain": [
       "array([7.22688894e-03, 4.86271870e-02, 1.99485997e-01, 1.14919933e-01,\n",
       "       1.90158648e-01, 5.70404001e-03, 0.00000000e+00, 2.86530519e-04,\n",
       "       1.25323577e-02, 0.00000000e+00, 4.19680098e-03, 0.00000000e+00,\n",
       "       1.46904829e-02, 4.30402806e-03, 1.13513821e-02, 2.98856246e-02,\n",
       "       0.00000000e+00, 3.35023244e-02, 3.50122200e-02, 3.04149114e-02,\n",
       "       1.48973143e-02, 1.37328945e-03, 2.06501321e-02, 9.77856068e-02,\n",
       "       3.19831877e-03, 5.72143829e-02, 9.10466032e-04, 0.00000000e+00,\n",
       "       0.00000000e+00, 4.68521631e-03, 0.00000000e+00, 6.27189897e-03,\n",
       "       5.18839115e-03, 1.82563349e-02, 0.00000000e+00, 1.82476584e-03,\n",
       "       6.69479121e-04, 2.09261315e-03, 5.96540517e-05, 9.71091512e-04,\n",
       "       2.35466768e-04, 3.26698762e-04, 4.08008539e-04, 7.60089872e-04,\n",
       "       1.83430726e-03, 1.23237955e-03, 7.05141602e-04, 2.12507711e-03,\n",
       "       6.56505691e-04, 1.12969188e-03, 8.65422223e-04, 1.61075540e-03,\n",
       "       8.17291753e-03, 9.84127818e-04, 6.05098265e-04])"
      ]
     },
     "execution_count": 45,
     "metadata": {},
     "output_type": "execute_result"
    }
   ],
   "source": [
    "# Look at which features were important\n",
    "print(np.argsort(model.feature_importances_))\n",
    "model.feature_importances_"
   ]
  },
  {
   "cell_type": "code",
   "execution_count": 46,
   "metadata": {},
   "outputs": [
    {
     "data": {
      "text/plain": [
       "Index(['AssignmentID', 'ProblemID', 'ProblemsAttempted',\n",
       "       'PercCorrectEventually', 'MedAttempts', 'MaxAttempts',\n",
       "       'PercCorrectFirstTry'],\n",
       "      dtype='object')"
      ]
     },
     "execution_count": 46,
     "metadata": {},
     "output_type": "execute_result"
    }
   ],
   "source": [
    "# The first 7 featurs are from attempts.\n",
    "# The top-4 most important are from these.\n",
    "extract_instance_features(X_train_base.iloc[0], early_train).index"
   ]
  },
  {
   "cell_type": "code",
   "execution_count": 47,
   "metadata": {},
   "outputs": [
    {
     "data": {
      "text/plain": [
       "['10',\n",
       " '21',\n",
       " 'big',\n",
       " 'boolean',\n",
       " 'charat',\n",
       " 'count',\n",
       " 'day',\n",
       " 'else',\n",
       " 'end',\n",
       " 'false',\n",
       " 'for',\n",
       " 'goal',\n",
       " 'if',\n",
       " 'int',\n",
       " 'length',\n",
       " 'new',\n",
       " 'num',\n",
       " 'nums',\n",
       " 'public',\n",
       " 'result',\n",
       " 'return',\n",
       " 'small',\n",
       " 'speed',\n",
       " 'str',\n",
       " 'string',\n",
       " 'substring',\n",
       " 'sum',\n",
       " 'temp',\n",
       " 'true',\n",
       " 'word']"
      ]
     },
     "execution_count": 47,
     "metadata": {},
     "output_type": "execute_result"
    }
   ],
   "source": [
    "# The next 30 features come from the vocbulary, and the next 20 are the test problem ID\n",
    "sorted(top_vocab)"
   ]
  },
  {
   "cell_type": "code",
   "execution_count": 48,
   "metadata": {},
   "outputs": [
    {
     "name": "stdout",
     "output_type": "stream",
     "text": [
      "nums\n",
      "result\n",
      "if\n",
      "int\n",
      "goal\n"
     ]
    }
   ],
   "source": [
    "# The 5th highest importance feature is #24\n",
    "# The variable name num\n",
    "print(sorted(top_vocab)[24 - 7])\n",
    "# public, perhaps used if declaring a helper method\n",
    "print(sorted(top_vocab)[26 - 7])\n",
    "# The variable name goal\n",
    "print(sorted(top_vocab)[19 - 7])\n",
    "# if\n",
    "print(sorted(top_vocab)[20 - 7])\n",
    "# for\n",
    "print(sorted(top_vocab)[18 - 7])"
   ]
  },
  {
   "cell_type": "markdown",
   "metadata": {},
   "source": [
    "## Evaluate the CV Performance of the Model"
   ]
  },
  {
   "cell_type": "code",
   "execution_count": 49,
   "metadata": {
    "scrolled": false
   },
   "outputs": [
    {
     "name": "stdout",
     "output_type": "stream",
     "text": [
      "Accuracy: 0.7735372246048403\n",
      "AUC: 0.7735538398246471\n",
      "Macro F1: 0.563770135456836\n"
     ]
    }
   ],
   "source": [
    "from sklearn.model_selection import cross_validate\n",
    "\n",
    "model = RandomForestClassifier(ccp_alpha=0.001)\n",
    "cv_results = cross_validate(model, X_train, y_train, cv=5, scoring=['accuracy', 'f1_macro', 'roc_auc'])\n",
    "print(f'Accuracy: {np.mean(cv_results[\"test_accuracy\"])}')\n",
    "print(f'AUC: {np.mean(cv_results[\"test_roc_auc\"])}')\n",
    "print(f'Macro F1: {np.mean(cv_results[\"test_f1_macro\"])}')"
   ]
  },
  {
   "cell_type": "markdown",
   "metadata": {},
   "source": [
    "## Predict on the test data"
   ]
  },
  {
   "cell_type": "code",
   "execution_count": 50,
   "metadata": {
    "scrolled": true
   },
   "outputs": [],
   "source": [
    "early_test = pd.read_csv(os.path.join(TEST_PATH, 'early.csv'))\n",
    "late_test = pd.read_csv(os.path.join(TEST_PATH, 'late.csv'))\n",
    "\n",
    "test_ps2 = ProgSnap2Dataset(os.path.join(TEST_PATH, 'Data'))\n",
    "code_table_test = get_code_table(test_ps2)\n",
    "\n",
    "X_test = extract_features(late_test, early_test, code_table_test, scaler, False)"
   ]
  },
  {
   "cell_type": "code",
   "execution_count": 51,
   "metadata": {},
   "outputs": [
    {
     "data": {
      "text/plain": [
       "(2365, 55)"
      ]
     },
     "execution_count": 51,
     "metadata": {},
     "output_type": "execute_result"
    }
   ],
   "source": [
    "X_test.shape"
   ]
  },
  {
   "cell_type": "code",
   "execution_count": 52,
   "metadata": {},
   "outputs": [],
   "source": [
    "model = RandomForestClassifier(ccp_alpha=0.001)\n",
    "model.fit(X_train, y_train)\n",
    "predictions = model.predict_proba(X_test)[:,1]"
   ]
  },
  {
   "cell_type": "code",
   "execution_count": 53,
   "metadata": {},
   "outputs": [
    {
     "data": {
      "text/plain": [
       "array([0.54529698, 0.54245999, 0.54867398, ..., 0.45454812, 0.45454812,\n",
       "       0.45839717])"
      ]
     },
     "execution_count": 53,
     "metadata": {},
     "output_type": "execute_result"
    }
   ],
   "source": [
    "predictions"
   ]
  },
  {
   "cell_type": "code",
   "execution_count": 54,
   "metadata": {
    "scrolled": true
   },
   "outputs": [
    {
     "data": {
      "text/html": [
       "<div>\n",
       "<style scoped>\n",
       "    .dataframe tbody tr th:only-of-type {\n",
       "        vertical-align: middle;\n",
       "    }\n",
       "\n",
       "    .dataframe tbody tr th {\n",
       "        vertical-align: top;\n",
       "    }\n",
       "\n",
       "    .dataframe thead th {\n",
       "        text-align: right;\n",
       "    }\n",
       "</style>\n",
       "<table border=\"1\" class=\"dataframe\">\n",
       "  <thead>\n",
       "    <tr style=\"text-align: right;\">\n",
       "      <th></th>\n",
       "      <th>SubjectID</th>\n",
       "      <th>AssignmentID</th>\n",
       "      <th>ProblemID</th>\n",
       "      <th>Label</th>\n",
       "    </tr>\n",
       "  </thead>\n",
       "  <tbody>\n",
       "    <tr>\n",
       "      <th>0</th>\n",
       "      <td>00358c94503a8d9e6869efc6e5cdb0e1c8e9eb39b1fd46...</td>\n",
       "      <td>494</td>\n",
       "      <td>41</td>\n",
       "      <td>0.545297</td>\n",
       "    </tr>\n",
       "    <tr>\n",
       "      <th>1</th>\n",
       "      <td>00358c94503a8d9e6869efc6e5cdb0e1c8e9eb39b1fd46...</td>\n",
       "      <td>494</td>\n",
       "      <td>43</td>\n",
       "      <td>0.542460</td>\n",
       "    </tr>\n",
       "    <tr>\n",
       "      <th>2</th>\n",
       "      <td>00358c94503a8d9e6869efc6e5cdb0e1c8e9eb39b1fd46...</td>\n",
       "      <td>494</td>\n",
       "      <td>44</td>\n",
       "      <td>0.548674</td>\n",
       "    </tr>\n",
       "    <tr>\n",
       "      <th>3</th>\n",
       "      <td>00358c94503a8d9e6869efc6e5cdb0e1c8e9eb39b1fd46...</td>\n",
       "      <td>494</td>\n",
       "      <td>46</td>\n",
       "      <td>0.542460</td>\n",
       "    </tr>\n",
       "    <tr>\n",
       "      <th>4</th>\n",
       "      <td>00358c94503a8d9e6869efc6e5cdb0e1c8e9eb39b1fd46...</td>\n",
       "      <td>494</td>\n",
       "      <td>49</td>\n",
       "      <td>0.551349</td>\n",
       "    </tr>\n",
       "    <tr>\n",
       "      <th>...</th>\n",
       "      <td>...</td>\n",
       "      <td>...</td>\n",
       "      <td>...</td>\n",
       "      <td>...</td>\n",
       "    </tr>\n",
       "    <tr>\n",
       "      <th>2360</th>\n",
       "      <td>fa7805c1d46ef49851de43750a665a993eef750b560159...</td>\n",
       "      <td>502</td>\n",
       "      <td>64</td>\n",
       "      <td>0.455301</td>\n",
       "    </tr>\n",
       "    <tr>\n",
       "      <th>2361</th>\n",
       "      <td>fa7805c1d46ef49851de43750a665a993eef750b560159...</td>\n",
       "      <td>502</td>\n",
       "      <td>70</td>\n",
       "      <td>0.479763</td>\n",
       "    </tr>\n",
       "    <tr>\n",
       "      <th>2362</th>\n",
       "      <td>fa7805c1d46ef49851de43750a665a993eef750b560159...</td>\n",
       "      <td>502</td>\n",
       "      <td>71</td>\n",
       "      <td>0.454548</td>\n",
       "    </tr>\n",
       "    <tr>\n",
       "      <th>2363</th>\n",
       "      <td>fa7805c1d46ef49851de43750a665a993eef750b560159...</td>\n",
       "      <td>502</td>\n",
       "      <td>112</td>\n",
       "      <td>0.454548</td>\n",
       "    </tr>\n",
       "    <tr>\n",
       "      <th>2364</th>\n",
       "      <td>fa7805c1d46ef49851de43750a665a993eef750b560159...</td>\n",
       "      <td>502</td>\n",
       "      <td>118</td>\n",
       "      <td>0.458397</td>\n",
       "    </tr>\n",
       "  </tbody>\n",
       "</table>\n",
       "<p>2365 rows × 4 columns</p>\n",
       "</div>"
      ],
      "text/plain": [
       "                                              SubjectID  AssignmentID  \\\n",
       "0     00358c94503a8d9e6869efc6e5cdb0e1c8e9eb39b1fd46...           494   \n",
       "1     00358c94503a8d9e6869efc6e5cdb0e1c8e9eb39b1fd46...           494   \n",
       "2     00358c94503a8d9e6869efc6e5cdb0e1c8e9eb39b1fd46...           494   \n",
       "3     00358c94503a8d9e6869efc6e5cdb0e1c8e9eb39b1fd46...           494   \n",
       "4     00358c94503a8d9e6869efc6e5cdb0e1c8e9eb39b1fd46...           494   \n",
       "...                                                 ...           ...   \n",
       "2360  fa7805c1d46ef49851de43750a665a993eef750b560159...           502   \n",
       "2361  fa7805c1d46ef49851de43750a665a993eef750b560159...           502   \n",
       "2362  fa7805c1d46ef49851de43750a665a993eef750b560159...           502   \n",
       "2363  fa7805c1d46ef49851de43750a665a993eef750b560159...           502   \n",
       "2364  fa7805c1d46ef49851de43750a665a993eef750b560159...           502   \n",
       "\n",
       "      ProblemID     Label  \n",
       "0            41  0.545297  \n",
       "1            43  0.542460  \n",
       "2            44  0.548674  \n",
       "3            46  0.542460  \n",
       "4            49  0.551349  \n",
       "...         ...       ...  \n",
       "2360         64  0.455301  \n",
       "2361         70  0.479763  \n",
       "2362         71  0.454548  \n",
       "2363        112  0.454548  \n",
       "2364        118  0.458397  \n",
       "\n",
       "[2365 rows x 4 columns]"
      ]
     },
     "execution_count": 54,
     "metadata": {},
     "output_type": "execute_result"
    }
   ],
   "source": [
    "predictions_df = late_test.copy()\n",
    "predictions_df['Label'] = predictions\n",
    "predictions_df"
   ]
  },
  {
   "cell_type": "code",
   "execution_count": 55,
   "metadata": {},
   "outputs": [],
   "source": [
    "# We don't have the test labels - you have to submit to evaluate it"
   ]
  },
  {
   "cell_type": "code",
   "execution_count": 56,
   "metadata": {},
   "outputs": [],
   "source": [
    "# We use res/predictions.csv, since that's where the scoring rogram expects it\n",
    "# but you can change this directory\n",
    "path = os.path.join('data', 'Prediction', phase, 'code_RF_task1', 'res')\n",
    "os.makedirs(path, exist_ok=True)\n",
    "predictions_df.to_csv(os.path.join(path, 'predictions.csv'), index=False)"
   ]
  }
 ],
 "metadata": {
  "kernelspec": {
   "display_name": "Python 3",
   "language": "python",
   "name": "python3"
  },
  "language_info": {
   "codemirror_mode": {
    "name": "ipython",
    "version": 3
   },
   "file_extension": ".py",
   "mimetype": "text/x-python",
   "name": "python",
   "nbconvert_exporter": "python",
   "pygments_lexer": "ipython3",
   "version": "3.7.6"
  }
 },
 "nbformat": 4,
 "nbformat_minor": 4
}
