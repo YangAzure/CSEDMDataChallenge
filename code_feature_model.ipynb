{
 "cells": [
  {
   "cell_type": "code",
   "execution_count": 1,
   "metadata": {},
   "outputs": [],
   "source": [
    "import pandas as pd\n",
    "import numpy as np\n",
    "from ProgSnap2 import ProgSnap2Dataset\n",
    "from ProgSnap2 import PS2\n",
    "import matplotlib.pyplot as plt\n",
    "from sklearn.preprocessing import OneHotEncoder\n",
    "import numpy as np\n",
    "import os\n",
    "from os import path"
   ]
  },
  {
   "cell_type": "code",
   "execution_count": 2,
   "metadata": {},
   "outputs": [
    {
     "data": {
      "text/plain": [
       "'Phase1'"
      ]
     },
     "execution_count": 2,
     "metadata": {},
     "output_type": "execute_result"
    }
   ],
   "source": [
    "train_semester = 'S19'\n",
    "test_semester = 'F19'\n",
    "BASE_PATH = os.path.join('data', 'Release', train_semester)\n",
    "TRAIN_PATH = os.path.join(BASE_PATH, 'Train')\n",
    "TEST_PATH = os.path.join('data', 'Release', test_semester, 'Test')\n",
    "\n",
    "if test_semester == 'F19':\n",
    "    phase = 'Phase1' if train_semester == 'S19' else 'Phase2'\n",
    "else:\n",
    "    phase = 'Practice' if train_semester == 'F19' else 'Backwards'\n",
    "phase"
   ]
  },
  {
   "cell_type": "code",
   "execution_count": 3,
   "metadata": {},
   "outputs": [],
   "source": [
    "train_ps2 = ProgSnap2Dataset(os.path.join(TRAIN_PATH, 'Data')) "
   ]
  },
  {
   "cell_type": "code",
   "execution_count": 4,
   "metadata": {},
   "outputs": [
    {
     "data": {
      "text/html": [
       "<div>\n",
       "<style scoped>\n",
       "    .dataframe tbody tr th:only-of-type {\n",
       "        vertical-align: middle;\n",
       "    }\n",
       "\n",
       "    .dataframe tbody tr th {\n",
       "        vertical-align: top;\n",
       "    }\n",
       "\n",
       "    .dataframe thead th {\n",
       "        text-align: right;\n",
       "    }\n",
       "</style>\n",
       "<table border=\"1\" class=\"dataframe\">\n",
       "  <thead>\n",
       "    <tr style=\"text-align: right;\">\n",
       "      <th></th>\n",
       "      <th>SubjectID</th>\n",
       "      <th>AssignmentID</th>\n",
       "      <th>ProblemID</th>\n",
       "      <th>Attempts</th>\n",
       "      <th>CorrectEventually</th>\n",
       "      <th>Label</th>\n",
       "    </tr>\n",
       "  </thead>\n",
       "  <tbody>\n",
       "    <tr>\n",
       "      <th>0</th>\n",
       "      <td>04c32d4d95425f73b3a1d6502aed4d48</td>\n",
       "      <td>439.0</td>\n",
       "      <td>1</td>\n",
       "      <td>1</td>\n",
       "      <td>True</td>\n",
       "      <td>True</td>\n",
       "    </tr>\n",
       "    <tr>\n",
       "      <th>1</th>\n",
       "      <td>04c32d4d95425f73b3a1d6502aed4d48</td>\n",
       "      <td>439.0</td>\n",
       "      <td>3</td>\n",
       "      <td>2</td>\n",
       "      <td>True</td>\n",
       "      <td>True</td>\n",
       "    </tr>\n",
       "    <tr>\n",
       "      <th>2</th>\n",
       "      <td>04c32d4d95425f73b3a1d6502aed4d48</td>\n",
       "      <td>439.0</td>\n",
       "      <td>5</td>\n",
       "      <td>3</td>\n",
       "      <td>True</td>\n",
       "      <td>True</td>\n",
       "    </tr>\n",
       "    <tr>\n",
       "      <th>3</th>\n",
       "      <td>04c32d4d95425f73b3a1d6502aed4d48</td>\n",
       "      <td>439.0</td>\n",
       "      <td>12</td>\n",
       "      <td>1</td>\n",
       "      <td>True</td>\n",
       "      <td>True</td>\n",
       "    </tr>\n",
       "    <tr>\n",
       "      <th>4</th>\n",
       "      <td>04c32d4d95425f73b3a1d6502aed4d48</td>\n",
       "      <td>439.0</td>\n",
       "      <td>13</td>\n",
       "      <td>2</td>\n",
       "      <td>True</td>\n",
       "      <td>True</td>\n",
       "    </tr>\n",
       "  </tbody>\n",
       "</table>\n",
       "</div>"
      ],
      "text/plain": [
       "                          SubjectID  AssignmentID  ProblemID  Attempts  \\\n",
       "0  04c32d4d95425f73b3a1d6502aed4d48         439.0          1         1   \n",
       "1  04c32d4d95425f73b3a1d6502aed4d48         439.0          3         2   \n",
       "2  04c32d4d95425f73b3a1d6502aed4d48         439.0          5         3   \n",
       "3  04c32d4d95425f73b3a1d6502aed4d48         439.0         12         1   \n",
       "4  04c32d4d95425f73b3a1d6502aed4d48         439.0         13         2   \n",
       "\n",
       "   CorrectEventually  Label  \n",
       "0               True   True  \n",
       "1               True   True  \n",
       "2               True   True  \n",
       "3               True   True  \n",
       "4               True   True  "
      ]
     },
     "execution_count": 4,
     "metadata": {},
     "output_type": "execute_result"
    }
   ],
   "source": [
    "# The early dataset will help us to feature extraction,\n",
    "# but we're not actually predicting anything here\n",
    "# Note: we could still use this for model training if desired.\n",
    "early_train = pd.read_csv(os.path.join(TRAIN_PATH, 'early.csv'))\n",
    "early_train.head()"
   ]
  },
  {
   "cell_type": "code",
   "execution_count": 5,
   "metadata": {},
   "outputs": [
    {
     "data": {
      "text/html": [
       "<div>\n",
       "<style scoped>\n",
       "    .dataframe tbody tr th:only-of-type {\n",
       "        vertical-align: middle;\n",
       "    }\n",
       "\n",
       "    .dataframe tbody tr th {\n",
       "        vertical-align: top;\n",
       "    }\n",
       "\n",
       "    .dataframe thead th {\n",
       "        text-align: right;\n",
       "    }\n",
       "</style>\n",
       "<table border=\"1\" class=\"dataframe\">\n",
       "  <thead>\n",
       "    <tr style=\"text-align: right;\">\n",
       "      <th></th>\n",
       "      <th>SubjectID</th>\n",
       "      <th>AssignmentID</th>\n",
       "      <th>ProblemID</th>\n",
       "      <th>Label</th>\n",
       "    </tr>\n",
       "  </thead>\n",
       "  <tbody>\n",
       "    <tr>\n",
       "      <th>0</th>\n",
       "      <td>04c32d4d95425f73b3a1d6502aed4d48</td>\n",
       "      <td>494.0</td>\n",
       "      <td>41</td>\n",
       "      <td>False</td>\n",
       "    </tr>\n",
       "    <tr>\n",
       "      <th>1</th>\n",
       "      <td>04c32d4d95425f73b3a1d6502aed4d48</td>\n",
       "      <td>494.0</td>\n",
       "      <td>43</td>\n",
       "      <td>True</td>\n",
       "    </tr>\n",
       "    <tr>\n",
       "      <th>2</th>\n",
       "      <td>04c32d4d95425f73b3a1d6502aed4d48</td>\n",
       "      <td>494.0</td>\n",
       "      <td>44</td>\n",
       "      <td>True</td>\n",
       "    </tr>\n",
       "    <tr>\n",
       "      <th>3</th>\n",
       "      <td>04c32d4d95425f73b3a1d6502aed4d48</td>\n",
       "      <td>494.0</td>\n",
       "      <td>46</td>\n",
       "      <td>True</td>\n",
       "    </tr>\n",
       "    <tr>\n",
       "      <th>4</th>\n",
       "      <td>04c32d4d95425f73b3a1d6502aed4d48</td>\n",
       "      <td>494.0</td>\n",
       "      <td>49</td>\n",
       "      <td>True</td>\n",
       "    </tr>\n",
       "  </tbody>\n",
       "</table>\n",
       "</div>"
      ],
      "text/plain": [
       "                          SubjectID  AssignmentID  ProblemID  Label\n",
       "0  04c32d4d95425f73b3a1d6502aed4d48         494.0         41  False\n",
       "1  04c32d4d95425f73b3a1d6502aed4d48         494.0         43   True\n",
       "2  04c32d4d95425f73b3a1d6502aed4d48         494.0         44   True\n",
       "3  04c32d4d95425f73b3a1d6502aed4d48         494.0         46   True\n",
       "4  04c32d4d95425f73b3a1d6502aed4d48         494.0         49   True"
      ]
     },
     "execution_count": 5,
     "metadata": {},
     "output_type": "execute_result"
    }
   ],
   "source": [
    "# The late dataset contains the problems that we're actually predicting for.\n",
    "# The training portion of it includes labels.\n",
    "late_train = pd.read_csv(os.path.join(TRAIN_PATH, 'late.csv'))\n",
    "late_train.head()"
   ]
  },
  {
   "cell_type": "code",
   "execution_count": 6,
   "metadata": {},
   "outputs": [],
   "source": [
    "X_train_base = late_train.copy().drop('Label', axis=1)\n",
    "y_train = late_train['Label'].values"
   ]
  },
  {
   "cell_type": "code",
   "execution_count": 7,
   "metadata": {},
   "outputs": [],
   "source": [
    "problem_encoder = OneHotEncoder().fit(X_train_base[PS2.ProblemID].values.reshape(-1, 1))"
   ]
  },
  {
   "cell_type": "code",
   "execution_count": 8,
   "metadata": {
    "scrolled": true
   },
   "outputs": [
    {
     "data": {
      "text/plain": [
       "array([[1., 0., 0., ..., 0., 0., 0.],\n",
       "       [0., 1., 0., ..., 0., 0., 0.],\n",
       "       [0., 0., 1., ..., 0., 0., 0.],\n",
       "       ...,\n",
       "       [0., 0., 0., ..., 0., 0., 0.],\n",
       "       [0., 0., 0., ..., 0., 1., 0.],\n",
       "       [0., 0., 0., ..., 0., 0., 1.]])"
      ]
     },
     "execution_count": 8,
     "metadata": {},
     "output_type": "execute_result"
    }
   ],
   "source": [
    "problem_encoder.transform(X_train_base[PS2.ProblemID].values.reshape(-1, 1)).toarray()"
   ]
  },
  {
   "cell_type": "code",
   "execution_count": 9,
   "metadata": {},
   "outputs": [],
   "source": [
    "def get_code_table(ps2_dataset):\n",
    "    events_table = ps2_dataset.get_main_table()\n",
    "    code_states = ps2_dataset.get_code_states_table()\n",
    "    runs = events_table.merge(code_states, on=PS2.CodeStateID)\n",
    "    runs = runs[runs[PS2.EventType] == 'Run.Program']\n",
    "    runs = runs[[PS2.Order, PS2.SubjectID, PS2.ProblemID, 'Code']]\n",
    "    return runs"
   ]
  },
  {
   "cell_type": "code",
   "execution_count": 10,
   "metadata": {
    "scrolled": true
   },
   "outputs": [
    {
     "data": {
      "text/html": [
       "<div>\n",
       "<style scoped>\n",
       "    .dataframe tbody tr th:only-of-type {\n",
       "        vertical-align: middle;\n",
       "    }\n",
       "\n",
       "    .dataframe tbody tr th {\n",
       "        vertical-align: top;\n",
       "    }\n",
       "\n",
       "    .dataframe thead th {\n",
       "        text-align: right;\n",
       "    }\n",
       "</style>\n",
       "<table border=\"1\" class=\"dataframe\">\n",
       "  <thead>\n",
       "    <tr style=\"text-align: right;\">\n",
       "      <th></th>\n",
       "      <th>Order</th>\n",
       "      <th>SubjectID</th>\n",
       "      <th>ProblemID</th>\n",
       "      <th>Code</th>\n",
       "    </tr>\n",
       "  </thead>\n",
       "  <tbody>\n",
       "    <tr>\n",
       "      <th>0</th>\n",
       "      <td>119441</td>\n",
       "      <td>04c32d4d95425f73b3a1d6502aed4d48</td>\n",
       "      <td>1</td>\n",
       "      <td>public int sortaSum(int a, int b)\\r\\n{\\r\\n    ...</td>\n",
       "    </tr>\n",
       "    <tr>\n",
       "      <th>2</th>\n",
       "      <td>134115</td>\n",
       "      <td>04c32d4d95425f73b3a1d6502aed4d48</td>\n",
       "      <td>3</td>\n",
       "      <td>public boolean in1To10(int n, boolean outsideM...</td>\n",
       "    </tr>\n",
       "    <tr>\n",
       "      <th>4</th>\n",
       "      <td>134117</td>\n",
       "      <td>04c32d4d95425f73b3a1d6502aed4d48</td>\n",
       "      <td>3</td>\n",
       "      <td>public boolean in1To10(int n, boolean outsideM...</td>\n",
       "    </tr>\n",
       "    <tr>\n",
       "      <th>6</th>\n",
       "      <td>65403</td>\n",
       "      <td>04c32d4d95425f73b3a1d6502aed4d48</td>\n",
       "      <td>5</td>\n",
       "      <td>public boolean answerCell(boolean isMorning, b...</td>\n",
       "    </tr>\n",
       "    <tr>\n",
       "      <th>10</th>\n",
       "      <td>65407</td>\n",
       "      <td>04c32d4d95425f73b3a1d6502aed4d48</td>\n",
       "      <td>5</td>\n",
       "      <td>public boolean answerCell(boolean isMorning, b...</td>\n",
       "    </tr>\n",
       "    <tr>\n",
       "      <th>...</th>\n",
       "      <td>...</td>\n",
       "      <td>...</td>\n",
       "      <td>...</td>\n",
       "      <td>...</td>\n",
       "    </tr>\n",
       "    <tr>\n",
       "      <th>134497</th>\n",
       "      <td>113478</td>\n",
       "      <td>ffb72475a81de0e95b910ffad039f5c2</td>\n",
       "      <td>70</td>\n",
       "      <td>public boolean twoTwo(int[] nums)\\r\\n{\\r\\n    ...</td>\n",
       "    </tr>\n",
       "    <tr>\n",
       "      <th>134500</th>\n",
       "      <td>113483</td>\n",
       "      <td>ffb72475a81de0e95b910ffad039f5c2</td>\n",
       "      <td>70</td>\n",
       "      <td>public boolean twoTwo(int[] nums)\\r\\n{\\r\\n    ...</td>\n",
       "    </tr>\n",
       "    <tr>\n",
       "      <th>134502</th>\n",
       "      <td>108282</td>\n",
       "      <td>ffb72475a81de0e95b910ffad039f5c2</td>\n",
       "      <td>71</td>\n",
       "      <td>public boolean canBalance(int[] nums)\\r\\n{\\r\\n...</td>\n",
       "    </tr>\n",
       "    <tr>\n",
       "      <th>134504</th>\n",
       "      <td>110202</td>\n",
       "      <td>ffb72475a81de0e95b910ffad039f5c2</td>\n",
       "      <td>112</td>\n",
       "      <td>public int[] seriesUp(int n)\\r\\n{\\r\\n    int[]...</td>\n",
       "    </tr>\n",
       "    <tr>\n",
       "      <th>134506</th>\n",
       "      <td>81273</td>\n",
       "      <td>ffb72475a81de0e95b910ffad039f5c2</td>\n",
       "      <td>118</td>\n",
       "      <td>public int[] shiftLeft(int[] nums)\\r\\n{\\r\\n   ...</td>\n",
       "    </tr>\n",
       "  </tbody>\n",
       "</table>\n",
       "<p>46825 rows × 4 columns</p>\n",
       "</div>"
      ],
      "text/plain": [
       "         Order                         SubjectID  ProblemID  \\\n",
       "0       119441  04c32d4d95425f73b3a1d6502aed4d48          1   \n",
       "2       134115  04c32d4d95425f73b3a1d6502aed4d48          3   \n",
       "4       134117  04c32d4d95425f73b3a1d6502aed4d48          3   \n",
       "6        65403  04c32d4d95425f73b3a1d6502aed4d48          5   \n",
       "10       65407  04c32d4d95425f73b3a1d6502aed4d48          5   \n",
       "...        ...                               ...        ...   \n",
       "134497  113478  ffb72475a81de0e95b910ffad039f5c2         70   \n",
       "134500  113483  ffb72475a81de0e95b910ffad039f5c2         70   \n",
       "134502  108282  ffb72475a81de0e95b910ffad039f5c2         71   \n",
       "134504  110202  ffb72475a81de0e95b910ffad039f5c2        112   \n",
       "134506   81273  ffb72475a81de0e95b910ffad039f5c2        118   \n",
       "\n",
       "                                                     Code  \n",
       "0       public int sortaSum(int a, int b)\\r\\n{\\r\\n    ...  \n",
       "2       public boolean in1To10(int n, boolean outsideM...  \n",
       "4       public boolean in1To10(int n, boolean outsideM...  \n",
       "6       public boolean answerCell(boolean isMorning, b...  \n",
       "10      public boolean answerCell(boolean isMorning, b...  \n",
       "...                                                   ...  \n",
       "134497  public boolean twoTwo(int[] nums)\\r\\n{\\r\\n    ...  \n",
       "134500  public boolean twoTwo(int[] nums)\\r\\n{\\r\\n    ...  \n",
       "134502  public boolean canBalance(int[] nums)\\r\\n{\\r\\n...  \n",
       "134504  public int[] seriesUp(int n)\\r\\n{\\r\\n    int[]...  \n",
       "134506  public int[] shiftLeft(int[] nums)\\r\\n{\\r\\n   ...  \n",
       "\n",
       "[46825 rows x 4 columns]"
      ]
     },
     "execution_count": 10,
     "metadata": {},
     "output_type": "execute_result"
    }
   ],
   "source": [
    "code_table_train = get_code_table(train_ps2)\n",
    "code_table_train"
   ]
  },
  {
   "cell_type": "code",
   "execution_count": 11,
   "metadata": {},
   "outputs": [],
   "source": [
    "# Some empty strings got imported as \"NaN\", so we turn them bcak\n",
    "code_table_train['Code'][code_table_train['Code'].apply(lambda x: not isinstance(x, str))] = \"\""
   ]
  },
  {
   "cell_type": "code",
   "execution_count": 12,
   "metadata": {},
   "outputs": [
    {
     "data": {
      "text/plain": [
       "{'public': 19,\n",
       " 'int': 14,\n",
       " 'if': 13,\n",
       " '10': 0,\n",
       " 'return': 21,\n",
       " 'else': 7,\n",
       " 'boolean': 3,\n",
       " 'true': 28,\n",
       " 'false': 10,\n",
       " 'speed': 23,\n",
       " 'string': 25,\n",
       " 'day': 6,\n",
       " '21': 1,\n",
       " 'str': 24,\n",
       " 'substring': 26,\n",
       " 'length': 15,\n",
       " 'num': 17,\n",
       " 'small': 22,\n",
       " 'big': 2,\n",
       " 'goal': 12,\n",
       " 'for': 11,\n",
       " 'end': 8,\n",
       " 'equals': 9,\n",
       " 'word': 29,\n",
       " 'new': 16,\n",
       " 'count': 5,\n",
       " 'charat': 4,\n",
       " 'nums': 18,\n",
       " 'sum': 27,\n",
       " 'result': 20}"
      ]
     },
     "execution_count": 12,
     "metadata": {},
     "output_type": "execute_result"
    }
   ],
   "source": [
    "# We want to find a consistent, common vocabulary across all problems\n",
    "# so we first build our vocabulary for all code submissions\n",
    "\n",
    "from sklearn.feature_extraction.text import TfidfVectorizer\n",
    "\n",
    "# Note this approach is _very_ naive, since it's using NLP assumptions\n",
    "# about tokenizing, among other things, but it is good enough for a demonstration.\n",
    "code_vectorizer = TfidfVectorizer(max_features=30)\n",
    "code_vectorizer.fit(code_table_train['Code'])\n",
    "top_vocab = code_vectorizer.vocabulary_\n",
    "top_vocab"
   ]
  },
  {
   "cell_type": "code",
   "execution_count": 13,
   "metadata": {},
   "outputs": [
    {
     "data": {
      "text/plain": [
       "50"
      ]
     },
     "execution_count": 13,
     "metadata": {},
     "output_type": "execute_result"
    }
   ],
   "source": [
    "# We want to create a separate encoder for each problem, since the\n",
    "# \"document frequency\" part of TF-IDF should be calibrated separately\n",
    "# for each problem.\n",
    "code_problem_encoders = {}\n",
    "def create_encoder(rows):\n",
    "    code = rows['Code']\n",
    "    problem_id = rows[PS2.ProblemID].iloc[0]\n",
    "    code_vectorizer = TfidfVectorizer(vocabulary=top_vocab)\n",
    "    code_vectorizer.fit(code)\n",
    "    code_problem_encoders[problem_id] = code_vectorizer\n",
    "    \n",
    "code_table_train.groupby(PS2.ProblemID).apply(create_encoder)\n",
    "len(code_problem_encoders)"
   ]
  },
  {
   "cell_type": "code",
   "execution_count": 14,
   "metadata": {},
   "outputs": [
    {
     "name": "stdout",
     "output_type": "stream",
     "text": [
      "public int sortaSum(int a, int b)\r\n",
      "{\r\n",
      "    if (a + b >= 10)\r\n",
      "    {\r\n",
      "        if (a + b <= 19)\r\n",
      "        {\r\n",
      "            return 20;\r\n",
      "        }\r\n",
      "        return a + b;\r\n",
      "    }\r\n",
      "    else\r\n",
      "    {\r\n",
      "        return a + b;\r\n",
      "    }\r\n",
      "}\r\n",
      "\n",
      "  (0, 21)\t0.5929619322827931\n",
      "  (0, 19)\t0.19320378937452193\n",
      "  (0, 14)\t0.5796113681235658\n",
      "  (0, 13)\t0.39681148818701084\n",
      "  (0, 7)\t0.2744965584355051\n",
      "  (0, 0)\t0.20569731847202877\n"
     ]
    }
   ],
   "source": [
    "test_code = code_table_train['Code'].iloc[0]\n",
    "print(test_code)\n",
    "print(code_problem_encoders[1].transform([test_code]))"
   ]
  },
  {
   "cell_type": "code",
   "execution_count": 15,
   "metadata": {},
   "outputs": [],
   "source": [
    "def extract_instance_features(instance, early_df):\n",
    "    instance = instance.copy()\n",
    "    subject_id = instance[PS2.SubjectID]\n",
    "    early_problems = early_df[early_df[PS2.SubjectID] == subject_id]\n",
    "    # Extract very naive features about the student\n",
    "    # (without respect to the problem bring predicted)\n",
    "    # Number of early problems attempted\n",
    "    instance['ProblemsAttempted'] = early_problems.shape[0]\n",
    "    # Percentage of early problems gotten correct eventually\n",
    "    instance['PercCorrectEventually'] = np.mean(early_problems['CorrectEventually'])\n",
    "    # Median attempts made on early problems\n",
    "    instance['MedAttempts'] = np.median(early_problems['Attempts'])\n",
    "    # Max attempts made on early problems\n",
    "    instance['MaxAttempts'] = np.max(early_problems['Attempts'])\n",
    "    # Percentage of problems gotten correct on the first try\n",
    "    instance['PercCorrectFirstTry'] = np.mean(early_problems['Attempts'] == 1)\n",
    "    \n",
    "    instance = instance.drop('SubjectID')\n",
    "    return instance"
   ]
  },
  {
   "cell_type": "code",
   "execution_count": 16,
   "metadata": {
    "scrolled": false
   },
   "outputs": [
    {
     "data": {
      "text/plain": [
       "AssignmentID                  494\n",
       "ProblemID                      41\n",
       "ProblemsAttempted              30\n",
       "PercCorrectEventually           1\n",
       "MedAttempts                   6.5\n",
       "MaxAttempts                    45\n",
       "PercCorrectFirstTry      0.166667\n",
       "Name: 0, dtype: object"
      ]
     },
     "execution_count": 16,
     "metadata": {},
     "output_type": "execute_result"
    }
   ],
   "source": [
    "extract_instance_features(X_train_base.iloc[0], early_train)"
   ]
  },
  {
   "cell_type": "code",
   "execution_count": 17,
   "metadata": {},
   "outputs": [],
   "source": [
    "def extract_instance_code_features(instance, early_df, code_table):\n",
    "    subject_id = instance[PS2.SubjectID]\n",
    "    problem_id = instance[PS2.ProblemID]\n",
    "    \n",
    "    # Get all attempts for this problem by this subject\n",
    "    attempts = code_table[(code_table[PS2.SubjectID] == subject_id) & \\\n",
    "                          (code_table[PS2.ProblemID] == problem_id)]\n",
    "    # Get the code of the last attempt (we could use others but don't here)\n",
    "    encoder = code_problem_encoders[problem_id]\n",
    "    # If for some reason there were no attempts, return 0s\n",
    "    if (attempts.shape[0] == 0):\n",
    "        return encoder.transform([\"\"])\n",
    "    last_attempt = attempts.sort_values('Order')['Code'].iloc[-1]\n",
    "    code_features = encoder.transform([last_attempt])\n",
    "    \n",
    "    return code_features"
   ]
  },
  {
   "cell_type": "code",
   "execution_count": 18,
   "metadata": {
    "scrolled": true
   },
   "outputs": [
    {
     "name": "stdout",
     "output_type": "stream",
     "text": [
      "  (0, 21)\t0.22116095645566827\n",
      "  (0, 19)\t0.2128142305637896\n",
      "  (0, 18)\t0.8512569222551584\n",
      "  (0, 14)\t0.4256284611275792\n"
     ]
    }
   ],
   "source": [
    "print(extract_instance_code_features(X_train_base.iloc[0], early_train, code_table_train))"
   ]
  },
  {
   "cell_type": "code",
   "execution_count": 19,
   "metadata": {},
   "outputs": [
    {
     "data": {
      "text/plain": [
       "<5x30 sparse matrix of type '<class 'numpy.float64'>'\n",
       "\twith 37 stored elements in Compressed Sparse Row format>"
      ]
     },
     "execution_count": 19,
     "metadata": {},
     "output_type": "execute_result"
    }
   ],
   "source": [
    "# Test how to stack code features across instances\n",
    "from scipy.sparse import vstack\n",
    "import functools\n",
    "\n",
    "code_features = X_train_base.iloc[:5].apply(\\\n",
    "    lambda instance: extract_instance_code_features(\\\n",
    "        instance, early_train, code_table_train), axis=1)\n",
    "\n",
    "vstack(code_features)"
   ]
  },
  {
   "cell_type": "code",
   "execution_count": 20,
   "metadata": {},
   "outputs": [],
   "source": [
    "def extract_features(X, early_df, code_table, scaler, is_train):\n",
    "    # First extract performance features for each row\n",
    "    features = X.apply(lambda instance: extract_instance_features(instance, early_df), axis=1)\n",
    "    # Then get code features\n",
    "    code_features = X.apply(lambda instance: extract_instance_code_features(\\\n",
    "            instance, early_df, code_table), axis=1)\n",
    "    code_features = vstack(code_features).toarray()\n",
    "    \n",
    "    # Then one-hot encode the problem_id and append it\n",
    "    problem_ids = problem_encoder.transform(features[PS2.ProblemID].values.reshape(-1, 1)).toarray()\n",
    "    # Then get rid of nominal features\n",
    "    features.drop([PS2.AssignmentID, PS2.ProblemID], axis=1, inplace=True)\n",
    "    # Then scale the continuous features, fitting the scaler if this is training\n",
    "    if is_train:\n",
    "        scaler.fit(features)\n",
    "    features = scaler.transform(features)\n",
    "    \n",
    "    # Return continuous and one-hot features together\n",
    "    return np.concatenate([features, code_features, problem_ids], axis=1)"
   ]
  },
  {
   "cell_type": "code",
   "execution_count": 21,
   "metadata": {
    "scrolled": false
   },
   "outputs": [],
   "source": [
    "from sklearn.preprocessing import StandardScaler\n",
    "scaler = StandardScaler()\n",
    "X_train = extract_features(X_train_base, early_train, code_table_train, scaler, True)"
   ]
  },
  {
   "cell_type": "code",
   "execution_count": 22,
   "metadata": {
    "scrolled": true
   },
   "outputs": [
    {
     "name": "stdout",
     "output_type": "stream",
     "text": [
      "(4201, 55)\n"
     ]
    },
    {
     "data": {
      "text/plain": [
       "array([[ 0.51751812,  0.58371895,  1.76922077,  1.70602676, -0.89569333,\n",
       "         0.        ,  0.        ,  0.        ,  0.        ,  0.        ,\n",
       "         0.        ,  0.        ,  0.        ,  0.        ,  0.        ,\n",
       "         0.        ,  0.        ,  0.        ,  0.        ,  0.42562846,\n",
       "         0.        ,  0.        ,  0.        ,  0.85125692,  0.21281423,\n",
       "         0.        ,  0.22116096,  0.        ,  0.        ,  0.        ,\n",
       "         0.        ,  0.        ,  0.        ,  0.        ,  0.        ,\n",
       "         1.        ,  0.        ,  0.        ,  0.        ,  0.        ,\n",
       "         0.        ,  0.        ,  0.        ,  0.        ,  0.        ,\n",
       "         0.        ,  0.        ,  0.        ,  0.        ,  0.        ,\n",
       "         0.        ,  0.        ,  0.        ,  0.        ,  0.        ],\n",
       "       [ 0.51751812,  0.58371895,  1.76922077,  1.70602676, -0.89569333,\n",
       "         0.        ,  0.        ,  0.        ,  0.        ,  0.        ,\n",
       "         0.        ,  0.        ,  0.26622699,  0.        ,  0.        ,\n",
       "         0.        ,  0.        ,  0.        ,  0.22181069,  0.57514592,\n",
       "         0.21929281,  0.38891882,  0.        ,  0.57514592,  0.09585765,\n",
       "         0.        ,  0.09900339,  0.        ,  0.        ,  0.        ,\n",
       "         0.        ,  0.        ,  0.        ,  0.        ,  0.        ,\n",
       "         0.        ,  1.        ,  0.        ,  0.        ,  0.        ,\n",
       "         0.        ,  0.        ,  0.        ,  0.        ,  0.        ,\n",
       "         0.        ,  0.        ,  0.        ,  0.        ,  0.        ,\n",
       "         0.        ,  0.        ,  0.        ,  0.        ,  0.        ]])"
      ]
     },
     "execution_count": 22,
     "metadata": {},
     "output_type": "execute_result"
    }
   ],
   "source": [
    "print(X_train.shape)\n",
    "X_train[:2,]"
   ]
  },
  {
   "cell_type": "markdown",
   "metadata": {},
   "source": [
    "## Evaluate the Training Performance of the Model"
   ]
  },
  {
   "cell_type": "code",
   "execution_count": 23,
   "metadata": {
    "scrolled": true
   },
   "outputs": [],
   "source": [
    "from sklearn.linear_model import LogisticRegressionCV\n",
    "from sklearn.neural_network import MLPClassifier\n",
    "from sklearn.ensemble import RandomForestClassifier\n",
    "\n",
    "# We set an alpha value; otherwise the model overfits with 100% accuracy\n",
    "# If we were being rigorous, we would set this using hyperparameter tuning\n",
    "model = RandomForestClassifier(ccp_alpha=0.001)\n",
    "model.fit(X_train, y_train)\n",
    "train_predictions = model.predict(X_train)"
   ]
  },
  {
   "cell_type": "code",
   "execution_count": 24,
   "metadata": {
    "scrolled": true
   },
   "outputs": [
    {
     "name": "stdout",
     "output_type": "stream",
     "text": [
      "              precision    recall  f1-score   support\n",
      "\n",
      "       False       0.40      0.89      0.55       488\n",
      "        True       0.98      0.83      0.90      3713\n",
      "\n",
      "    accuracy                           0.83      4201\n",
      "   macro avg       0.69      0.86      0.73      4201\n",
      "weighted avg       0.92      0.83      0.86      4201\n",
      "\n",
      "AUC: 0.8594603365225415\n",
      "Macro F1: 0.7261091800505926\n"
     ]
    }
   ],
   "source": [
    "from sklearn.metrics import classification_report\n",
    "from sklearn.metrics import roc_auc_score\n",
    "from sklearn.metrics import f1_score\n",
    "\n",
    "print(classification_report(train_predictions, y_train))\n",
    "print('AUC: ' + str(roc_auc_score(train_predictions, y_train)))\n",
    "print('Macro F1: ' + str(f1_score(train_predictions, y_train, average='macro')))"
   ]
  },
  {
   "cell_type": "code",
   "execution_count": 25,
   "metadata": {
    "scrolled": true
   },
   "outputs": [
    {
     "data": {
      "text/plain": [
       "<sklearn.metrics._plot.roc_curve.RocCurveDisplay at 0x1b1897cb6c8>"
      ]
     },
     "execution_count": 25,
     "metadata": {},
     "output_type": "execute_result"
    },
    {
     "data": {
      "image/png": "[encoded data removed]",
      "text/plain": [
       "<Figure size 432x288 with 1 Axes>"
      ]
     },
     "metadata": {
      "needs_background": "light"
     },
     "output_type": "display_data"
    }
   ],
   "source": [
    "from sklearn.metrics import plot_roc_curve\n",
    "\n",
    "plot_roc_curve(model, X_train, y_train)"
   ]
  },
  {
   "cell_type": "code",
   "execution_count": 26,
   "metadata": {
    "scrolled": false
   },
   "outputs": [
    {
     "name": "stdout",
     "output_type": "stream",
     "text": [
      "[ 6 17  9 28 11 31 34  7 29 42 48 45 39 41 53 38 27 14 36 40 46 54 43 49\n",
      " 50 22 35 52 30 44 51 25 47 13 10 37  5 32 15 33  8 21 12  0 23 16 18 19\n",
      " 26 20  3 24  1  2  4]\n"
     ]
    },
    {
     "data": {
      "text/plain": [
       "array([2.27452388e-02, 1.26339632e-01, 1.43070805e-01, 8.04346305e-02,\n",
       "       1.61453894e-01, 7.14297828e-03, 0.00000000e+00, 3.50209229e-05,\n",
       "       1.62533246e-02, 0.00000000e+00, 5.60574319e-03, 0.00000000e+00,\n",
       "       2.08958561e-02, 4.06843076e-03, 1.18901210e-03, 1.18756640e-02,\n",
       "       3.30729412e-02, 0.00000000e+00, 3.30875175e-02, 4.06352458e-02,\n",
       "       4.57384490e-02, 2.02048888e-02, 2.50386736e-03, 2.60496695e-02,\n",
       "       8.07311217e-02, 3.75800611e-03, 4.49010079e-02, 1.14484523e-03,\n",
       "       0.00000000e+00, 5.27344510e-04, 2.84091552e-03, 0.00000000e+00,\n",
       "       8.70384788e-03, 1.55748085e-02, 0.00000000e+00, 2.62453184e-03,\n",
       "       1.22866304e-03, 6.81356715e-03, 9.41735687e-04, 7.80726613e-04,\n",
       "       1.43899213e-03, 7.80744677e-04, 5.56115937e-04, 1.76004995e-03,\n",
       "       3.21304501e-03, 7.23409213e-04, 1.43943197e-03, 3.84170007e-03,\n",
       "       7.01061712e-04, 1.77755755e-03, 2.16471239e-03, 3.52591345e-03,\n",
       "       2.70982905e-03, 8.10506623e-04, 1.58299896e-03])"
      ]
     },
     "execution_count": 26,
     "metadata": {},
     "output_type": "execute_result"
    }
   ],
   "source": [
    "# Look at which features were important\n",
    "print(np.argsort(model.feature_importances_))\n",
    "model.feature_importances_"
   ]
  },
  {
   "cell_type": "code",
   "execution_count": 27,
   "metadata": {},
   "outputs": [
    {
     "data": {
      "text/plain": [
       "Index(['AssignmentID', 'ProblemID', 'ProblemsAttempted',\n",
       "       'PercCorrectEventually', 'MedAttempts', 'MaxAttempts',\n",
       "       'PercCorrectFirstTry'],\n",
       "      dtype='object')"
      ]
     },
     "execution_count": 27,
     "metadata": {},
     "output_type": "execute_result"
    }
   ],
   "source": [
    "# The first 7 featurs are from attempts.\n",
    "# The top-4 most important are from these.\n",
    "extract_instance_features(X_train_base.iloc[0], early_train).index"
   ]
  },
  {
   "cell_type": "code",
   "execution_count": 28,
   "metadata": {},
   "outputs": [
    {
     "data": {
      "text/plain": [
       "['10',\n",
       " '21',\n",
       " 'big',\n",
       " 'boolean',\n",
       " 'charat',\n",
       " 'count',\n",
       " 'day',\n",
       " 'else',\n",
       " 'end',\n",
       " 'equals',\n",
       " 'false',\n",
       " 'for',\n",
       " 'goal',\n",
       " 'if',\n",
       " 'int',\n",
       " 'length',\n",
       " 'new',\n",
       " 'num',\n",
       " 'nums',\n",
       " 'public',\n",
       " 'result',\n",
       " 'return',\n",
       " 'small',\n",
       " 'speed',\n",
       " 'str',\n",
       " 'string',\n",
       " 'substring',\n",
       " 'sum',\n",
       " 'true',\n",
       " 'word']"
      ]
     },
     "execution_count": 28,
     "metadata": {},
     "output_type": "execute_result"
    }
   ],
   "source": [
    "# The next 30 features come from the vocbulary, and the next 20 are the test problem ID\n",
    "sorted(top_vocab)"
   ]
  },
  {
   "cell_type": "code",
   "execution_count": 29,
   "metadata": {},
   "outputs": [
    {
     "name": "stdout",
     "output_type": "stream",
     "text": [
      "num\n",
      "public\n",
      "goal\n",
      "if\n",
      "for\n"
     ]
    }
   ],
   "source": [
    "# The 5th highest importance feature is #24\n",
    "# The variable name num\n",
    "print(sorted(top_vocab)[24 - 7])\n",
    "# public, perhaps used if declaring a helper method\n",
    "print(sorted(top_vocab)[26 - 7])\n",
    "# The variable name goal\n",
    "print(sorted(top_vocab)[19 - 7])\n",
    "# if\n",
    "print(sorted(top_vocab)[20 - 7])\n",
    "# for\n",
    "print(sorted(top_vocab)[18 - 7])"
   ]
  },
  {
   "cell_type": "markdown",
   "metadata": {},
   "source": [
    "## Evaluate the CV Performance of the Model"
   ]
  },
  {
   "cell_type": "code",
   "execution_count": 30,
   "metadata": {
    "scrolled": false
   },
   "outputs": [
    {
     "name": "stdout",
     "output_type": "stream",
     "text": [
      "Accuracy: 0.7655279995470246\n",
      "AUC: 0.7763003254345441\n",
      "Macro F1: 0.6069877464423336\n"
     ]
    }
   ],
   "source": [
    "from sklearn.model_selection import cross_validate\n",
    "\n",
    "model = RandomForestClassifier(ccp_alpha=0.001)\n",
    "cv_results = cross_validate(model, X_train, y_train, cv=5, scoring=['accuracy', 'f1_macro', 'roc_auc'])\n",
    "print(f'Accuracy: {np.mean(cv_results[\"test_accuracy\"])}')\n",
    "print(f'AUC: {np.mean(cv_results[\"test_roc_auc\"])}')\n",
    "print(f'Macro F1: {np.mean(cv_results[\"test_f1_macro\"])}')"
   ]
  },
  {
   "cell_type": "markdown",
   "metadata": {},
   "source": [
    "## Predict on the test data"
   ]
  },
  {
   "cell_type": "code",
   "execution_count": 31,
   "metadata": {
    "scrolled": true
   },
   "outputs": [],
   "source": [
    "early_test = pd.read_csv(os.path.join(TEST_PATH, 'early.csv'))\n",
    "late_test = pd.read_csv(os.path.join(TEST_PATH, 'late.csv'))\n",
    "\n",
    "test_ps2 = ProgSnap2Dataset(os.path.join(TEST_PATH, 'Data'))\n",
    "code_table_test = get_code_table(test_ps2)\n",
    "\n",
    "X_test = extract_features(late_test, early_test, code_table_test, scaler, False)"
   ]
  },
  {
   "cell_type": "code",
   "execution_count": 32,
   "metadata": {},
   "outputs": [
    {
     "data": {
      "text/plain": [
       "(2365, 55)"
      ]
     },
     "execution_count": 32,
     "metadata": {},
     "output_type": "execute_result"
    }
   ],
   "source": [
    "X_test.shape"
   ]
  },
  {
   "cell_type": "code",
   "execution_count": 33,
   "metadata": {},
   "outputs": [],
   "source": [
    "model = RandomForestClassifier(ccp_alpha=0.001)\n",
    "model.fit(X_train, y_train)\n",
    "predictions = model.predict_proba(X_test)[:,1]"
   ]
  },
  {
   "cell_type": "code",
   "execution_count": 34,
   "metadata": {},
   "outputs": [
    {
     "data": {
      "text/plain": [
       "array([0.5685999 , 0.56731575, 0.57733766, ..., 0.56555255, 0.54475783,\n",
       "       0.55409728])"
      ]
     },
     "execution_count": 34,
     "metadata": {},
     "output_type": "execute_result"
    }
   ],
   "source": [
    "predictions"
   ]
  },
  {
   "cell_type": "code",
   "execution_count": 35,
   "metadata": {
    "scrolled": true
   },
   "outputs": [
    {
     "data": {
      "text/html": [
       "<div>\n",
       "<style scoped>\n",
       "    .dataframe tbody tr th:only-of-type {\n",
       "        vertical-align: middle;\n",
       "    }\n",
       "\n",
       "    .dataframe tbody tr th {\n",
       "        vertical-align: top;\n",
       "    }\n",
       "\n",
       "    .dataframe thead th {\n",
       "        text-align: right;\n",
       "    }\n",
       "</style>\n",
       "<table border=\"1\" class=\"dataframe\">\n",
       "  <thead>\n",
       "    <tr style=\"text-align: right;\">\n",
       "      <th></th>\n",
       "      <th>SubjectID</th>\n",
       "      <th>AssignmentID</th>\n",
       "      <th>ProblemID</th>\n",
       "      <th>Label</th>\n",
       "    </tr>\n",
       "  </thead>\n",
       "  <tbody>\n",
       "    <tr>\n",
       "      <th>0</th>\n",
       "      <td>00358c94503a8d9e6869efc6e5cdb0e1c8e9eb39b1fd46...</td>\n",
       "      <td>494</td>\n",
       "      <td>41</td>\n",
       "      <td>0.568600</td>\n",
       "    </tr>\n",
       "    <tr>\n",
       "      <th>1</th>\n",
       "      <td>00358c94503a8d9e6869efc6e5cdb0e1c8e9eb39b1fd46...</td>\n",
       "      <td>494</td>\n",
       "      <td>43</td>\n",
       "      <td>0.567316</td>\n",
       "    </tr>\n",
       "    <tr>\n",
       "      <th>2</th>\n",
       "      <td>00358c94503a8d9e6869efc6e5cdb0e1c8e9eb39b1fd46...</td>\n",
       "      <td>494</td>\n",
       "      <td>44</td>\n",
       "      <td>0.577338</td>\n",
       "    </tr>\n",
       "    <tr>\n",
       "      <th>3</th>\n",
       "      <td>00358c94503a8d9e6869efc6e5cdb0e1c8e9eb39b1fd46...</td>\n",
       "      <td>494</td>\n",
       "      <td>46</td>\n",
       "      <td>0.566946</td>\n",
       "    </tr>\n",
       "    <tr>\n",
       "      <th>4</th>\n",
       "      <td>00358c94503a8d9e6869efc6e5cdb0e1c8e9eb39b1fd46...</td>\n",
       "      <td>494</td>\n",
       "      <td>49</td>\n",
       "      <td>0.559975</td>\n",
       "    </tr>\n",
       "    <tr>\n",
       "      <th>...</th>\n",
       "      <td>...</td>\n",
       "      <td>...</td>\n",
       "      <td>...</td>\n",
       "      <td>...</td>\n",
       "    </tr>\n",
       "    <tr>\n",
       "      <th>2360</th>\n",
       "      <td>fa7805c1d46ef49851de43750a665a993eef750b560159...</td>\n",
       "      <td>502</td>\n",
       "      <td>64</td>\n",
       "      <td>0.576655</td>\n",
       "    </tr>\n",
       "    <tr>\n",
       "      <th>2361</th>\n",
       "      <td>fa7805c1d46ef49851de43750a665a993eef750b560159...</td>\n",
       "      <td>502</td>\n",
       "      <td>70</td>\n",
       "      <td>0.527736</td>\n",
       "    </tr>\n",
       "    <tr>\n",
       "      <th>2362</th>\n",
       "      <td>fa7805c1d46ef49851de43750a665a993eef750b560159...</td>\n",
       "      <td>502</td>\n",
       "      <td>71</td>\n",
       "      <td>0.565553</td>\n",
       "    </tr>\n",
       "    <tr>\n",
       "      <th>2363</th>\n",
       "      <td>fa7805c1d46ef49851de43750a665a993eef750b560159...</td>\n",
       "      <td>502</td>\n",
       "      <td>112</td>\n",
       "      <td>0.544758</td>\n",
       "    </tr>\n",
       "    <tr>\n",
       "      <th>2364</th>\n",
       "      <td>fa7805c1d46ef49851de43750a665a993eef750b560159...</td>\n",
       "      <td>502</td>\n",
       "      <td>118</td>\n",
       "      <td>0.554097</td>\n",
       "    </tr>\n",
       "  </tbody>\n",
       "</table>\n",
       "<p>2365 rows × 4 columns</p>\n",
       "</div>"
      ],
      "text/plain": [
       "                                              SubjectID  AssignmentID  \\\n",
       "0     00358c94503a8d9e6869efc6e5cdb0e1c8e9eb39b1fd46...           494   \n",
       "1     00358c94503a8d9e6869efc6e5cdb0e1c8e9eb39b1fd46...           494   \n",
       "2     00358c94503a8d9e6869efc6e5cdb0e1c8e9eb39b1fd46...           494   \n",
       "3     00358c94503a8d9e6869efc6e5cdb0e1c8e9eb39b1fd46...           494   \n",
       "4     00358c94503a8d9e6869efc6e5cdb0e1c8e9eb39b1fd46...           494   \n",
       "...                                                 ...           ...   \n",
       "2360  fa7805c1d46ef49851de43750a665a993eef750b560159...           502   \n",
       "2361  fa7805c1d46ef49851de43750a665a993eef750b560159...           502   \n",
       "2362  fa7805c1d46ef49851de43750a665a993eef750b560159...           502   \n",
       "2363  fa7805c1d46ef49851de43750a665a993eef750b560159...           502   \n",
       "2364  fa7805c1d46ef49851de43750a665a993eef750b560159...           502   \n",
       "\n",
       "      ProblemID     Label  \n",
       "0            41  0.568600  \n",
       "1            43  0.567316  \n",
       "2            44  0.577338  \n",
       "3            46  0.566946  \n",
       "4            49  0.559975  \n",
       "...         ...       ...  \n",
       "2360         64  0.576655  \n",
       "2361         70  0.527736  \n",
       "2362         71  0.565553  \n",
       "2363        112  0.544758  \n",
       "2364        118  0.554097  \n",
       "\n",
       "[2365 rows x 4 columns]"
      ]
     },
     "execution_count": 35,
     "metadata": {},
     "output_type": "execute_result"
    }
   ],
   "source": [
    "predictions_df = late_test.copy()\n",
    "predictions_df['Label'] = predictions\n",
    "predictions_df"
   ]
  },
  {
   "cell_type": "code",
   "execution_count": 36,
   "metadata": {},
   "outputs": [],
   "source": [
    "# We don't have the test labels - you have to submit to evaluate it"
   ]
  },
  {
   "cell_type": "code",
   "execution_count": 37,
   "metadata": {},
   "outputs": [],
   "source": [
    "# We use res/predictions.csv, since that's where the scoring rogram expects it\n",
    "# but you can change this directory\n",
    "path = os.path.join('data', 'Prediction', phase, 'code_RF_task1', 'res')\n",
    "os.makedirs(path, exist_ok=True)\n",
    "predictions_df.to_csv(os.path.join(path, 'predictions.csv'), index=False)"
   ]
  }
 ],
 "metadata": {
  "kernelspec": {
   "display_name": "Python 3",
   "language": "python",
   "name": "python3"
  },
  "language_info": {
   "codemirror_mode": {
    "name": "ipython",
    "version": 3
   },
   "file_extension": ".py",
   "mimetype": "text/x-python",
   "name": "python",
   "nbconvert_exporter": "python",
   "pygments_lexer": "ipython3",
   "version": "3.7.6"
  }
 },
 "nbformat": 4,
 "nbformat_minor": 4
}
