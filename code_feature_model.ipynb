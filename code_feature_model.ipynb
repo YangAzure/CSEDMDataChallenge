{
 "cells": [
  {
   "cell_type": "code",
   "execution_count": 2,
   "metadata": {},
   "outputs": [],
   "source": [
    "import pandas as pd\n",
    "import numpy as np\n",
    "from ProgSnap2 import ProgSnap2Dataset\n",
    "from ProgSnap2 import PS2\n",
    "import matplotlib.pyplot as plt\n",
    "from sklearn.preprocessing import OneHotEncoder\n",
    "import numpy as np\n",
    "import os\n",
    "from os import path"
   ]
  },
  {
   "cell_type": "code",
   "execution_count": 3,
   "metadata": {},
   "outputs": [],
   "source": [
    "semester = 'S19'\n",
    "BASE_PATH = os.path.join('data', 'Release', semester)\n",
    "TRAIN_PATH = os.path.join(BASE_PATH, 'Train')\n",
    "TEST_PATH = os.path.join(BASE_PATH, 'Test')"
   ]
  },
  {
   "cell_type": "code",
   "execution_count": 4,
   "metadata": {},
   "outputs": [],
   "source": [
    "train_ps2 = ProgSnap2Dataset(os.path.join(TRAIN_PATH, 'Data')) "
   ]
  },
  {
   "cell_type": "code",
   "execution_count": 5,
   "metadata": {},
   "outputs": [
    {
     "data": {
      "text/html": [
       "<div>\n",
       "<style scoped>\n",
       "    .dataframe tbody tr th:only-of-type {\n",
       "        vertical-align: middle;\n",
       "    }\n",
       "\n",
       "    .dataframe tbody tr th {\n",
       "        vertical-align: top;\n",
       "    }\n",
       "\n",
       "    .dataframe thead th {\n",
       "        text-align: right;\n",
       "    }\n",
       "</style>\n",
       "<table border=\"1\" class=\"dataframe\">\n",
       "  <thead>\n",
       "    <tr style=\"text-align: right;\">\n",
       "      <th></th>\n",
       "      <th>SubjectID</th>\n",
       "      <th>AssignmentID</th>\n",
       "      <th>ProblemID</th>\n",
       "      <th>Attempts</th>\n",
       "      <th>CorrectEventually</th>\n",
       "      <th>Label</th>\n",
       "    </tr>\n",
       "  </thead>\n",
       "  <tbody>\n",
       "    <tr>\n",
       "      <th>0</th>\n",
       "      <td>036ad3e516c5bf3a4b3be35b137bcbb8</td>\n",
       "      <td>439.0</td>\n",
       "      <td>1</td>\n",
       "      <td>8</td>\n",
       "      <td>True</td>\n",
       "      <td>False</td>\n",
       "    </tr>\n",
       "    <tr>\n",
       "      <th>1</th>\n",
       "      <td>036ad3e516c5bf3a4b3be35b137bcbb8</td>\n",
       "      <td>439.0</td>\n",
       "      <td>3</td>\n",
       "      <td>6</td>\n",
       "      <td>True</td>\n",
       "      <td>False</td>\n",
       "    </tr>\n",
       "    <tr>\n",
       "      <th>2</th>\n",
       "      <td>036ad3e516c5bf3a4b3be35b137bcbb8</td>\n",
       "      <td>439.0</td>\n",
       "      <td>5</td>\n",
       "      <td>7</td>\n",
       "      <td>True</td>\n",
       "      <td>False</td>\n",
       "    </tr>\n",
       "    <tr>\n",
       "      <th>3</th>\n",
       "      <td>036ad3e516c5bf3a4b3be35b137bcbb8</td>\n",
       "      <td>439.0</td>\n",
       "      <td>12</td>\n",
       "      <td>2</td>\n",
       "      <td>True</td>\n",
       "      <td>True</td>\n",
       "    </tr>\n",
       "    <tr>\n",
       "      <th>4</th>\n",
       "      <td>036ad3e516c5bf3a4b3be35b137bcbb8</td>\n",
       "      <td>439.0</td>\n",
       "      <td>13</td>\n",
       "      <td>17</td>\n",
       "      <td>True</td>\n",
       "      <td>False</td>\n",
       "    </tr>\n",
       "  </tbody>\n",
       "</table>\n",
       "</div>"
      ],
      "text/plain": [
       "                          SubjectID  AssignmentID  ProblemID  Attempts  \\\n",
       "0  036ad3e516c5bf3a4b3be35b137bcbb8         439.0          1         8   \n",
       "1  036ad3e516c5bf3a4b3be35b137bcbb8         439.0          3         6   \n",
       "2  036ad3e516c5bf3a4b3be35b137bcbb8         439.0          5         7   \n",
       "3  036ad3e516c5bf3a4b3be35b137bcbb8         439.0         12         2   \n",
       "4  036ad3e516c5bf3a4b3be35b137bcbb8         439.0         13        17   \n",
       "\n",
       "   CorrectEventually  Label  \n",
       "0               True  False  \n",
       "1               True  False  \n",
       "2               True  False  \n",
       "3               True   True  \n",
       "4               True  False  "
      ]
     },
     "execution_count": 5,
     "metadata": {},
     "output_type": "execute_result"
    }
   ],
   "source": [
    "# The early dataset will help us to feature extraction,\n",
    "# but we're not actually predicting anything here\n",
    "# Note: we could still use this for model training if desired.\n",
    "early_train = pd.read_csv(os.path.join(TRAIN_PATH, 'early.csv'))\n",
    "early_train.head()"
   ]
  },
  {
   "cell_type": "code",
   "execution_count": 6,
   "metadata": {},
   "outputs": [
    {
     "data": {
      "text/html": [
       "<div>\n",
       "<style scoped>\n",
       "    .dataframe tbody tr th:only-of-type {\n",
       "        vertical-align: middle;\n",
       "    }\n",
       "\n",
       "    .dataframe tbody tr th {\n",
       "        vertical-align: top;\n",
       "    }\n",
       "\n",
       "    .dataframe thead th {\n",
       "        text-align: right;\n",
       "    }\n",
       "</style>\n",
       "<table border=\"1\" class=\"dataframe\">\n",
       "  <thead>\n",
       "    <tr style=\"text-align: right;\">\n",
       "      <th></th>\n",
       "      <th>SubjectID</th>\n",
       "      <th>AssignmentID</th>\n",
       "      <th>ProblemID</th>\n",
       "      <th>Label</th>\n",
       "    </tr>\n",
       "  </thead>\n",
       "  <tbody>\n",
       "    <tr>\n",
       "      <th>0</th>\n",
       "      <td>036ad3e516c5bf3a4b3be35b137bcbb8</td>\n",
       "      <td>494.0</td>\n",
       "      <td>41</td>\n",
       "      <td>True</td>\n",
       "    </tr>\n",
       "    <tr>\n",
       "      <th>1</th>\n",
       "      <td>036ad3e516c5bf3a4b3be35b137bcbb8</td>\n",
       "      <td>494.0</td>\n",
       "      <td>43</td>\n",
       "      <td>False</td>\n",
       "    </tr>\n",
       "    <tr>\n",
       "      <th>2</th>\n",
       "      <td>036ad3e516c5bf3a4b3be35b137bcbb8</td>\n",
       "      <td>494.0</td>\n",
       "      <td>44</td>\n",
       "      <td>False</td>\n",
       "    </tr>\n",
       "    <tr>\n",
       "      <th>3</th>\n",
       "      <td>036ad3e516c5bf3a4b3be35b137bcbb8</td>\n",
       "      <td>494.0</td>\n",
       "      <td>46</td>\n",
       "      <td>False</td>\n",
       "    </tr>\n",
       "    <tr>\n",
       "      <th>4</th>\n",
       "      <td>036ad3e516c5bf3a4b3be35b137bcbb8</td>\n",
       "      <td>494.0</td>\n",
       "      <td>49</td>\n",
       "      <td>False</td>\n",
       "    </tr>\n",
       "  </tbody>\n",
       "</table>\n",
       "</div>"
      ],
      "text/plain": [
       "                          SubjectID  AssignmentID  ProblemID  Label\n",
       "0  036ad3e516c5bf3a4b3be35b137bcbb8         494.0         41   True\n",
       "1  036ad3e516c5bf3a4b3be35b137bcbb8         494.0         43  False\n",
       "2  036ad3e516c5bf3a4b3be35b137bcbb8         494.0         44  False\n",
       "3  036ad3e516c5bf3a4b3be35b137bcbb8         494.0         46  False\n",
       "4  036ad3e516c5bf3a4b3be35b137bcbb8         494.0         49  False"
      ]
     },
     "execution_count": 6,
     "metadata": {},
     "output_type": "execute_result"
    }
   ],
   "source": [
    "# The late dataset contains the problems that we're actually predicting for.\n",
    "# The training portion of it includes labels.\n",
    "late_train = pd.read_csv(os.path.join(TRAIN_PATH, 'late.csv'))\n",
    "late_train.head()"
   ]
  },
  {
   "cell_type": "code",
   "execution_count": 7,
   "metadata": {},
   "outputs": [],
   "source": [
    "X_train_base = late_train.copy().drop('Label', axis=1)\n",
    "y_train = late_train['Label'].values"
   ]
  },
  {
   "cell_type": "code",
   "execution_count": 8,
   "metadata": {},
   "outputs": [],
   "source": [
    "problem_encoder = OneHotEncoder().fit(X_train_base[PS2.ProblemID].values.reshape(-1, 1))"
   ]
  },
  {
   "cell_type": "code",
   "execution_count": 9,
   "metadata": {
    "scrolled": true
   },
   "outputs": [
    {
     "data": {
      "text/plain": [
       "array([[1., 0., 0., ..., 0., 0., 0.],\n",
       "       [0., 1., 0., ..., 0., 0., 0.],\n",
       "       [0., 0., 1., ..., 0., 0., 0.],\n",
       "       ...,\n",
       "       [0., 0., 0., ..., 0., 0., 0.],\n",
       "       [0., 0., 0., ..., 0., 1., 0.],\n",
       "       [0., 0., 0., ..., 0., 0., 1.]])"
      ]
     },
     "execution_count": 9,
     "metadata": {},
     "output_type": "execute_result"
    }
   ],
   "source": [
    "problem_encoder.transform(X_train_base[PS2.ProblemID].values.reshape(-1, 1)).toarray()"
   ]
  },
  {
   "cell_type": "code",
   "execution_count": 19,
   "metadata": {},
   "outputs": [],
   "source": [
    "def get_code_table(ps2_dataset):\n",
    "    events_table_train = ps2_dataset.get_main_table()\n",
    "    code_states_train = ps2_dataset.get_code_states_table()\n",
    "    runs = events_table_train.merge(code_states, on=PS2.CodeStateID)\n",
    "    runs = runs[runs[PS2.EventType] == 'Run.Program']\n",
    "    runs = runs[[PS2.Order, PS2.SubjectID, PS2.ProblemID, 'Code']]\n",
    "    return runs"
   ]
  },
  {
   "cell_type": "code",
   "execution_count": 23,
   "metadata": {
    "scrolled": true
   },
   "outputs": [
    {
     "data": {
      "text/html": [
       "<div>\n",
       "<style scoped>\n",
       "    .dataframe tbody tr th:only-of-type {\n",
       "        vertical-align: middle;\n",
       "    }\n",
       "\n",
       "    .dataframe tbody tr th {\n",
       "        vertical-align: top;\n",
       "    }\n",
       "\n",
       "    .dataframe thead th {\n",
       "        text-align: right;\n",
       "    }\n",
       "</style>\n",
       "<table border=\"1\" class=\"dataframe\">\n",
       "  <thead>\n",
       "    <tr style=\"text-align: right;\">\n",
       "      <th></th>\n",
       "      <th>Order</th>\n",
       "      <th>SubjectID</th>\n",
       "      <th>ProblemID</th>\n",
       "      <th>Code</th>\n",
       "    </tr>\n",
       "  </thead>\n",
       "  <tbody>\n",
       "    <tr>\n",
       "      <th>0</th>\n",
       "      <td>1559</td>\n",
       "      <td>036ad3e516c5bf3a4b3be35b137bcbb8</td>\n",
       "      <td>32</td>\n",
       "      <td>public String plusOut(String str, String word)...</td>\n",
       "    </tr>\n",
       "    <tr>\n",
       "      <th>2</th>\n",
       "      <td>2088</td>\n",
       "      <td>036ad3e516c5bf3a4b3be35b137bcbb8</td>\n",
       "      <td>32</td>\n",
       "      <td>public String plusOut(String str, String word)...</td>\n",
       "    </tr>\n",
       "    <tr>\n",
       "      <th>4</th>\n",
       "      <td>6379</td>\n",
       "      <td>036ad3e516c5bf3a4b3be35b137bcbb8</td>\n",
       "      <td>106</td>\n",
       "      <td>public boolean sameEnds(int[] nums, int n)\\r\\n...</td>\n",
       "    </tr>\n",
       "    <tr>\n",
       "      <th>6</th>\n",
       "      <td>6600</td>\n",
       "      <td>036ad3e516c5bf3a4b3be35b137bcbb8</td>\n",
       "      <td>106</td>\n",
       "      <td>public boolean sameEnds(int[] nums, int n)\\r\\n...</td>\n",
       "    </tr>\n",
       "    <tr>\n",
       "      <th>10</th>\n",
       "      <td>6604</td>\n",
       "      <td>036ad3e516c5bf3a4b3be35b137bcbb8</td>\n",
       "      <td>106</td>\n",
       "      <td>public boolean sameEnds(int[] nums, int n)\\r\\n...</td>\n",
       "    </tr>\n",
       "    <tr>\n",
       "      <th>...</th>\n",
       "      <td>...</td>\n",
       "      <td>...</td>\n",
       "      <td>...</td>\n",
       "      <td>...</td>\n",
       "    </tr>\n",
       "    <tr>\n",
       "      <th>138055</th>\n",
       "      <td>185416</td>\n",
       "      <td>ffb72475a81de0e95b910ffad039f5c2</td>\n",
       "      <td>34</td>\n",
       "      <td>public String zipZap(String str)\\r\\n{\\r\\n    i...</td>\n",
       "    </tr>\n",
       "    <tr>\n",
       "      <th>138057</th>\n",
       "      <td>186363</td>\n",
       "      <td>ffb72475a81de0e95b910ffad039f5c2</td>\n",
       "      <td>46</td>\n",
       "      <td>public boolean isEverywhere(int[] nums, int va...</td>\n",
       "    </tr>\n",
       "    <tr>\n",
       "      <th>138060</th>\n",
       "      <td>186366</td>\n",
       "      <td>ffb72475a81de0e95b910ffad039f5c2</td>\n",
       "      <td>46</td>\n",
       "      <td>public boolean isEverywhere(int[] nums, int va...</td>\n",
       "    </tr>\n",
       "    <tr>\n",
       "      <th>138062</th>\n",
       "      <td>192990</td>\n",
       "      <td>ffb72475a81de0e95b910ffad039f5c2</td>\n",
       "      <td>33</td>\n",
       "      <td>public String mixString(String a, String b)\\r\\...</td>\n",
       "    </tr>\n",
       "    <tr>\n",
       "      <th>138064</th>\n",
       "      <td>196863</td>\n",
       "      <td>ffb72475a81de0e95b910ffad039f5c2</td>\n",
       "      <td>39</td>\n",
       "      <td>public boolean xyBalance(String str)\\r\\n{\\r\\n ...</td>\n",
       "    </tr>\n",
       "  </tbody>\n",
       "</table>\n",
       "<p>47677 rows × 4 columns</p>\n",
       "</div>"
      ],
      "text/plain": [
       "         Order                         SubjectID  ProblemID  \\\n",
       "0         1559  036ad3e516c5bf3a4b3be35b137bcbb8         32   \n",
       "2         2088  036ad3e516c5bf3a4b3be35b137bcbb8         32   \n",
       "4         6379  036ad3e516c5bf3a4b3be35b137bcbb8        106   \n",
       "6         6600  036ad3e516c5bf3a4b3be35b137bcbb8        106   \n",
       "10        6604  036ad3e516c5bf3a4b3be35b137bcbb8        106   \n",
       "...        ...                               ...        ...   \n",
       "138055  185416  ffb72475a81de0e95b910ffad039f5c2         34   \n",
       "138057  186363  ffb72475a81de0e95b910ffad039f5c2         46   \n",
       "138060  186366  ffb72475a81de0e95b910ffad039f5c2         46   \n",
       "138062  192990  ffb72475a81de0e95b910ffad039f5c2         33   \n",
       "138064  196863  ffb72475a81de0e95b910ffad039f5c2         39   \n",
       "\n",
       "                                                     Code  \n",
       "0       public String plusOut(String str, String word)...  \n",
       "2       public String plusOut(String str, String word)...  \n",
       "4       public boolean sameEnds(int[] nums, int n)\\r\\n...  \n",
       "6       public boolean sameEnds(int[] nums, int n)\\r\\n...  \n",
       "10      public boolean sameEnds(int[] nums, int n)\\r\\n...  \n",
       "...                                                   ...  \n",
       "138055  public String zipZap(String str)\\r\\n{\\r\\n    i...  \n",
       "138057  public boolean isEverywhere(int[] nums, int va...  \n",
       "138060  public boolean isEverywhere(int[] nums, int va...  \n",
       "138062  public String mixString(String a, String b)\\r\\...  \n",
       "138064  public boolean xyBalance(String str)\\r\\n{\\r\\n ...  \n",
       "\n",
       "[47677 rows x 4 columns]"
      ]
     },
     "execution_count": 23,
     "metadata": {},
     "output_type": "execute_result"
    }
   ],
   "source": [
    "code_table_train = get_code_table(train_ps2)\n",
    "code_table_train"
   ]
  },
  {
   "cell_type": "code",
   "execution_count": 29,
   "metadata": {},
   "outputs": [
    {
     "data": {
      "text/plain": [
       "{'public': 19,\n",
       " 'string': 25,\n",
       " 'str': 24,\n",
       " 'word': 29,\n",
       " 'return': 21,\n",
       " 'int': 14,\n",
       " 'length': 15,\n",
       " 'new': 16,\n",
       " 'for': 11,\n",
       " 'boolean': 3,\n",
       " 'nums': 18,\n",
       " 'true': 28,\n",
       " 'result': 20,\n",
       " 'false': 10,\n",
       " 'if': 13,\n",
       " 'else': 7,\n",
       " 'sum': 27,\n",
       " 'speed': 23,\n",
       " 'day': 6,\n",
       " '10': 0,\n",
       " 'end': 8,\n",
       " 'num': 17,\n",
       " 'charat': 4,\n",
       " 'equals': 9,\n",
       " 'substring': 26,\n",
       " '21': 1,\n",
       " 'small': 22,\n",
       " 'big': 2,\n",
       " 'goal': 12,\n",
       " 'count': 5}"
      ]
     },
     "execution_count": 29,
     "metadata": {},
     "output_type": "execute_result"
    }
   ],
   "source": [
    "# We want to find a consistent, common vocabulary across all problems\n",
    "# so we first build our vocabulary for all code submissions\n",
    "\n",
    "from sklearn.feature_extraction.text import TfidfVectorizer\n",
    "\n",
    "# Note this approach is _very_ naive, since it's using NLP assumptions\n",
    "# about tokenizing, among other things, but it is good enough for a demonstration.\n",
    "code_vectorizer = TfidfVectorizer(max_features=30)\n",
    "code_vectorizer.fit(code_table_train['Code'])\n",
    "top_vocab = code_vectorizer.vocabulary_\n",
    "top_vocab"
   ]
  },
  {
   "cell_type": "code",
   "execution_count": 31,
   "metadata": {},
   "outputs": [
    {
     "data": {
      "text/plain": [
       "50"
      ]
     },
     "execution_count": 31,
     "metadata": {},
     "output_type": "execute_result"
    }
   ],
   "source": [
    "# We want to create a separate encoder for each problem, since the\n",
    "# \"document frequency\" part of TF-IDF should be calibrated separately\n",
    "# for each problem.\n",
    "code_problem_encoders = {}\n",
    "def create_encoder(rows):\n",
    "    code = rows['Code']\n",
    "    problem_id = rows[PS2.ProblemID].iloc[0]\n",
    "    code_vectorizer = TfidfVectorizer(vocabulary=top_vocab)\n",
    "    code_vectorizer.fit(code)\n",
    "    code_problem_encoders[problem_id] = code_vectorizer\n",
    "    \n",
    "code_table.groupby(PS2.ProblemID).apply(create_encoder)\n",
    "len(code_problem_encoders)"
   ]
  },
  {
   "cell_type": "code",
   "execution_count": 34,
   "metadata": {},
   "outputs": [
    {
     "name": "stdout",
     "output_type": "stream",
     "text": [
      "public String plusOut(String str, String word)\r\n",
      "{\r\n",
      "    return(str);\r\n",
      "}\r\n",
      "\n",
      "  (0, 29)\t0.29442029013891846\n",
      "  (0, 25)\t0.7505150298469808\n",
      "  (0, 24)\t0.5888405802778369\n",
      "  (0, 21)\t0.04109052463467589\n",
      "  (0, 19)\t0.04027682375272036\n"
     ]
    }
   ],
   "source": [
    "test_code = code_table['Code'].iloc[0]\n",
    "print(test_code)\n",
    "print(code_problem_encoders[1].transform([test_code]))"
   ]
  },
  {
   "cell_type": "code",
   "execution_count": 39,
   "metadata": {},
   "outputs": [],
   "source": [
    "def extract_instance_features(instance, early_df):\n",
    "    instance = instance.copy()\n",
    "    subject_id = instance[PS2.SubjectID]\n",
    "    early_problems = early_df[early_df[PS2.SubjectID] == subject_id]\n",
    "    # Extract very naive features about the student\n",
    "    # (without respect to the problem bring predicted)\n",
    "    # Number of early problems attempted\n",
    "    instance['ProblemsAttempted'] = early_problems.shape[0]\n",
    "    # Percentage of early problems gotten correct eventually\n",
    "    instance['PercCorrectEventually'] = np.mean(early_problems['CorrectEventually'])\n",
    "    # Median attempts made on early problems\n",
    "    instance['MedAttempts'] = np.median(early_problems['Attempts'])\n",
    "    # Max attempts made on early problems\n",
    "    instance['MaxAttempts'] = np.max(early_problems['Attempts'])\n",
    "    # Percentage of problems gotten correct on the first try\n",
    "    instance['PercCorrectFirstTry'] = np.mean(early_problems['Attempts'] == 1)\n",
    "    \n",
    "    instance = instance.drop('SubjectID')\n",
    "    return instance"
   ]
  },
  {
   "cell_type": "code",
   "execution_count": 40,
   "metadata": {
    "scrolled": false
   },
   "outputs": [
    {
     "data": {
      "text/plain": [
       "AssignmentID                  494\n",
       "ProblemID                      41\n",
       "ProblemsAttempted              30\n",
       "PercCorrectEventually           1\n",
       "MedAttempts                   7.5\n",
       "MaxAttempts                    30\n",
       "PercCorrectFirstTry      0.133333\n",
       "Name: 0, dtype: object"
      ]
     },
     "execution_count": 40,
     "metadata": {},
     "output_type": "execute_result"
    }
   ],
   "source": [
    "extract_instance_features(X_train_base.iloc[0], early_train)"
   ]
  },
  {
   "cell_type": "code",
   "execution_count": 90,
   "metadata": {},
   "outputs": [],
   "source": [
    "def extract_instance_code_features(instance, early_df, code_table):\n",
    "    subject_id = instance[PS2.SubjectID]\n",
    "    problem_id = instance[PS2.ProblemID]\n",
    "    \n",
    "    # Get all attempts for this problem by this subject\n",
    "    attempts = code_table[(code_table[PS2.SubjectID] == subject_id) & \\\n",
    "                          (code_table[PS2.ProblemID] == problem_id)]\n",
    "    # Get the code of the last attempt (we could use others but don't here)\n",
    "    encoder = code_problem_encoders[problem_id]\n",
    "    # If for some reason there were no attempts, return 0s\n",
    "    if (attempts.shape[0] == 0):\n",
    "        return encoder.transform([\"\"])\n",
    "    last_attempt = attempts.sort_values('Order')['Code'].iloc[-1]\n",
    "    code_features = encoder.transform([last_attempt])\n",
    "    \n",
    "    return code_features"
   ]
  },
  {
   "cell_type": "code",
   "execution_count": 47,
   "metadata": {
    "scrolled": true
   },
   "outputs": [
    {
     "name": "stdout",
     "output_type": "stream",
     "text": [
      "  (0, 21)\t0.22458582015525402\n",
      "  (0, 19)\t0.2126433644554043\n",
      "  (0, 18)\t0.8505734578216172\n",
      "  (0, 14)\t0.4252867289108086\n"
     ]
    }
   ],
   "source": [
    "print(extract_instance_code_features(X_train_base.iloc[0], early_train, code_table_train))"
   ]
  },
  {
   "cell_type": "code",
   "execution_count": 63,
   "metadata": {},
   "outputs": [
    {
     "data": {
      "text/plain": [
       "<5x30 sparse matrix of type '<class 'numpy.float64'>'\n",
       "\twith 37 stored elements in Compressed Sparse Row format>"
      ]
     },
     "execution_count": 63,
     "metadata": {},
     "output_type": "execute_result"
    }
   ],
   "source": [
    "# Test how to stack code features across instances\n",
    "from scipy.sparse import vstack\n",
    "import functools\n",
    "\n",
    "code_features = X_train_base.iloc[:5].apply(\\\n",
    "    lambda instance: extract_instance_code_features(\\\n",
    "        instance, early_train, code_table_train), axis=1)\n",
    "\n",
    "vstack(code_features)"
   ]
  },
  {
   "cell_type": "code",
   "execution_count": 67,
   "metadata": {},
   "outputs": [],
   "source": [
    "def extract_features(X, early_df, code_table, scaler, is_train):\n",
    "    # First extract performance features for each row\n",
    "    features = X.apply(lambda instance: extract_instance_features(instance, early_df), axis=1)\n",
    "    # Then get code features\n",
    "    code_features = X.apply(lambda instance: extract_instance_code_features(\\\n",
    "            instance, early_df, code_table), axis=1)\n",
    "    code_features = vstack(code_features).toarray()\n",
    "    \n",
    "    # Then one-hot encode the problem_id and append it\n",
    "    problem_ids = problem_encoder.transform(features[PS2.ProblemID].values.reshape(-1, 1)).toarray()\n",
    "    # Then get rid of nominal features\n",
    "    features.drop([PS2.AssignmentID, PS2.ProblemID], axis=1, inplace=True)\n",
    "    # Then scale the continuous features, fitting the scaler if this is training\n",
    "    if is_train:\n",
    "        scaler.fit(features)\n",
    "    features = scaler.transform(features)\n",
    "    \n",
    "    # Return continuous and one-hot features together\n",
    "    return np.concatenate([features, code_features, problem_ids], axis=1)"
   ]
  },
  {
   "cell_type": "code",
   "execution_count": 68,
   "metadata": {
    "scrolled": false
   },
   "outputs": [],
   "source": [
    "from sklearn.preprocessing import StandardScaler\n",
    "scaler = StandardScaler()\n",
    "X_train = extract_features(X_train_base, early_train, code_table_train, scaler, True)"
   ]
  },
  {
   "cell_type": "code",
   "execution_count": 69,
   "metadata": {
    "scrolled": true
   },
   "outputs": [
    {
     "name": "stdout",
     "output_type": "stream",
     "text": [
      "(4315, 55)\n"
     ]
    },
    {
     "data": {
      "text/plain": [
       "array([[ 0.52818587,  0.55466436,  2.31871327,  0.61819333, -1.04038138,\n",
       "         0.        ,  0.        ,  0.        ,  0.        ,  0.        ,\n",
       "         0.        ,  0.        ,  0.        ,  0.        ,  0.        ,\n",
       "         0.        ,  0.        ,  0.        ,  0.        ,  0.42528673,\n",
       "         0.        ,  0.        ,  0.        ,  0.85057346,  0.21264336,\n",
       "         0.        ,  0.22458582,  0.        ,  0.        ,  0.        ,\n",
       "         0.        ,  0.        ,  0.        ,  0.        ,  0.        ,\n",
       "         1.        ,  0.        ,  0.        ,  0.        ,  0.        ,\n",
       "         0.        ,  0.        ,  0.        ,  0.        ,  0.        ,\n",
       "         0.        ,  0.        ,  0.        ,  0.        ,  0.        ,\n",
       "         0.        ,  0.        ,  0.        ,  0.        ,  0.        ],\n",
       "       [ 0.52818587,  0.55466436,  2.31871327,  0.61819333, -1.04038138,\n",
       "         0.        ,  0.        ,  0.        ,  0.        ,  0.        ,\n",
       "         0.        ,  0.        ,  0.205577  ,  0.        ,  0.        ,\n",
       "         0.        ,  0.        ,  0.        ,  0.17505963,  0.45352878,\n",
       "         0.17104941,  0.        ,  0.        ,  0.7558813 ,  0.15117626,\n",
       "         0.        ,  0.31294595,  0.        ,  0.        ,  0.        ,\n",
       "         0.        ,  0.        ,  0.        ,  0.        ,  0.        ,\n",
       "         0.        ,  1.        ,  0.        ,  0.        ,  0.        ,\n",
       "         0.        ,  0.        ,  0.        ,  0.        ,  0.        ,\n",
       "         0.        ,  0.        ,  0.        ,  0.        ,  0.        ,\n",
       "         0.        ,  0.        ,  0.        ,  0.        ,  0.        ]])"
      ]
     },
     "execution_count": 69,
     "metadata": {},
     "output_type": "execute_result"
    }
   ],
   "source": [
    "print(X_train.shape)\n",
    "X_train[:2,]"
   ]
  },
  {
   "cell_type": "markdown",
   "metadata": {},
   "source": [
    "## Evaluate the Training Performance of the Model"
   ]
  },
  {
   "cell_type": "code",
   "execution_count": 104,
   "metadata": {
    "scrolled": true
   },
   "outputs": [],
   "source": [
    "from sklearn.linear_model import LogisticRegressionCV\n",
    "from sklearn.neural_network import MLPClassifier\n",
    "from sklearn.ensemble import RandomForestClassifier\n",
    "\n",
    "# We set an alpha value; otherwise the model overfits with 100% accuracy\n",
    "# If we were being rigorous, we would set this using hyperparameter tuning\n",
    "model = RandomForestClassifier(ccp_alpha=0.001)\n",
    "model.fit(X_train, y_train)\n",
    "train_predictions = model.predict(X_train)"
   ]
  },
  {
   "cell_type": "code",
   "execution_count": 105,
   "metadata": {
    "scrolled": true
   },
   "outputs": [
    {
     "name": "stdout",
     "output_type": "stream",
     "text": [
      "              precision    recall  f1-score   support\n",
      "\n",
      "       False       0.40      0.89      0.55       480\n",
      "        True       0.98      0.83      0.90      3835\n",
      "\n",
      "    accuracy                           0.84      4315\n",
      "   macro avg       0.69      0.86      0.72      4315\n",
      "weighted avg       0.92      0.84      0.86      4315\n",
      "\n",
      "AUC: 0.8606964363320295\n",
      "Macro F1: 0.7243176054755953\n"
     ]
    }
   ],
   "source": [
    "from sklearn.metrics import classification_report\n",
    "from sklearn.metrics import roc_auc_score\n",
    "from sklearn.metrics import f1_score\n",
    "\n",
    "print(classification_report(train_predictions, y_train))\n",
    "print('AUC: ' + str(roc_auc_score(train_predictions, y_train)))\n",
    "print('Macro F1: ' + str(f1_score(train_predictions, y_train, average='macro')))"
   ]
  },
  {
   "cell_type": "code",
   "execution_count": 106,
   "metadata": {
    "scrolled": true
   },
   "outputs": [
    {
     "data": {
      "text/plain": [
       "<sklearn.metrics._plot.roc_curve.RocCurveDisplay at 0x19393eb5a48>"
      ]
     },
     "execution_count": 106,
     "metadata": {},
     "output_type": "execute_result"
    },
    {
     "data": {
      "image/png": "[encoded data removed]",
      "text/plain": [
       "<Figure size 432x288 with 1 Axes>"
      ]
     },
     "metadata": {
      "needs_background": "light"
     },
     "output_type": "display_data"
    }
   ],
   "source": [
    "from sklearn.metrics import plot_roc_curve\n",
    "\n",
    "plot_roc_curve(model, X_train, y_train)"
   ]
  },
  {
   "cell_type": "code",
   "execution_count": 115,
   "metadata": {
    "scrolled": false
   },
   "outputs": [
    {
     "name": "stdout",
     "output_type": "stream",
     "text": [
      "[17 31 34 11  9 28  6 27 29 45 39  7 14 38 42 41 35 46 54 50 40 22 36 48\n",
      " 53 49 47 51 43 52 30 25 13 44 10 37  5 32 15 33  8 12 21  0 23 16 18 20\n",
      " 19 26 24  3  1  2  4]\n"
     ]
    },
    {
     "data": {
      "text/plain": [
       "array([0.02804943, 0.09975118, 0.15922427, 0.08574403, 0.16591242,\n",
       "       0.00765536, 0.        , 0.00076347, 0.01539565, 0.        ,\n",
       "       0.00445676, 0.        , 0.0191439 , 0.00318795, 0.00079245,\n",
       "       0.01508764, 0.03297458, 0.        , 0.04005774, 0.04461603,\n",
       "       0.04209592, 0.020923  , 0.00145679, 0.03177239, 0.06677695,\n",
       "       0.00314652, 0.04669794, 0.00053969, 0.        , 0.00059853,\n",
       "       0.00284541, 0.        , 0.00841237, 0.01522802, 0.        ,\n",
       "       0.00125688, 0.00164859, 0.00450938, 0.0008224 , 0.00072026,\n",
       "       0.00141637, 0.00112203, 0.00097552, 0.00249434, 0.00379189,\n",
       "       0.00062865, 0.00130145, 0.00220938, 0.00172383, 0.0021547 ,\n",
       "       0.00137184, 0.00238885, 0.00277456, 0.00202586, 0.00135686])"
      ]
     },
     "execution_count": 115,
     "metadata": {},
     "output_type": "execute_result"
    }
   ],
   "source": [
    "# Look at which features were important\n",
    "print(np.argsort(model.feature_importances_))\n",
    "model.feature_importances_"
   ]
  },
  {
   "cell_type": "code",
   "execution_count": 112,
   "metadata": {},
   "outputs": [
    {
     "data": {
      "text/plain": [
       "Index(['AssignmentID', 'ProblemID', 'ProblemsAttempted',\n",
       "       'PercCorrectEventually', 'MedAttempts', 'MaxAttempts',\n",
       "       'PercCorrectFirstTry'],\n",
       "      dtype='object')"
      ]
     },
     "execution_count": 112,
     "metadata": {},
     "output_type": "execute_result"
    }
   ],
   "source": [
    "# The first 7 featurs are from attempts.\n",
    "# The top-4 most important are from these.\n",
    "extract_instance_features(X_train_base.iloc[0], early_train).index"
   ]
  },
  {
   "cell_type": "code",
   "execution_count": 114,
   "metadata": {},
   "outputs": [
    {
     "data": {
      "text/plain": [
       "['10',\n",
       " '21',\n",
       " 'big',\n",
       " 'boolean',\n",
       " 'charat',\n",
       " 'count',\n",
       " 'day',\n",
       " 'else',\n",
       " 'end',\n",
       " 'equals',\n",
       " 'false',\n",
       " 'for',\n",
       " 'goal',\n",
       " 'if',\n",
       " 'int',\n",
       " 'length',\n",
       " 'new',\n",
       " 'num',\n",
       " 'nums',\n",
       " 'public',\n",
       " 'result',\n",
       " 'return',\n",
       " 'small',\n",
       " 'speed',\n",
       " 'str',\n",
       " 'string',\n",
       " 'substring',\n",
       " 'sum',\n",
       " 'true',\n",
       " 'word']"
      ]
     },
     "execution_count": 114,
     "metadata": {},
     "output_type": "execute_result"
    }
   ],
   "source": [
    "# The next 30 features come from the vocbulary, and the next 20 are the test problem ID\n",
    "sorted(top_vocab)"
   ]
  },
  {
   "cell_type": "code",
   "execution_count": 119,
   "metadata": {},
   "outputs": [
    {
     "name": "stdout",
     "output_type": "stream",
     "text": [
      "num\n",
      "public\n",
      "goal\n",
      "if\n",
      "for\n"
     ]
    }
   ],
   "source": [
    "# The 5th highest importance feature is #24\n",
    "# The variable name num\n",
    "print(sorted(top_vocab)[24 - 7])\n",
    "# public, perhaps used if declaring a helper method\n",
    "print(sorted(top_vocab)[26 - 7])\n",
    "# The variable name goal\n",
    "print(sorted(top_vocab)[19 - 7])\n",
    "# if\n",
    "print(sorted(top_vocab)[20 - 7])\n",
    "# for\n",
    "print(sorted(top_vocab)[18 - 7])"
   ]
  },
  {
   "cell_type": "markdown",
   "metadata": {},
   "source": [
    "## Evaluate the CV Performance of the Model"
   ]
  },
  {
   "cell_type": "code",
   "execution_count": 102,
   "metadata": {
    "scrolled": false
   },
   "outputs": [
    {
     "name": "stdout",
     "output_type": "stream",
     "text": [
      "Accuracy: 0.7719582850521437\n",
      "AUC: 0.7723883252573891\n",
      "Macro F1: 0.6094627849458683\n"
     ]
    }
   ],
   "source": [
    "from sklearn.model_selection import cross_validate\n",
    "\n",
    "model = RandomForestClassifier(ccp_alpha=0.001)\n",
    "cv_results = cross_validate(model, X_train, y_train, cv=5, scoring=['accuracy', 'f1_macro', 'roc_auc'])\n",
    "print(f'Accuracy: {np.mean(cv_results[\"test_accuracy\"])}')\n",
    "print(f'AUC: {np.mean(cv_results[\"test_roc_auc\"])}')\n",
    "print(f'Macro F1: {np.mean(cv_results[\"test_f1_macro\"])}')"
   ]
  },
  {
   "cell_type": "markdown",
   "metadata": {},
   "source": [
    "## Predict on the test data"
   ]
  },
  {
   "cell_type": "code",
   "execution_count": 91,
   "metadata": {
    "scrolled": true
   },
   "outputs": [],
   "source": [
    "early_test = pd.read_csv(os.path.join(TEST_PATH, 'early.csv'))\n",
    "late_test = pd.read_csv(os.path.join(TEST_PATH, 'late.csv'))\n",
    "\n",
    "test_ps2 = ProgSnap2Dataset(os.path.join(TEST_PATH, 'Data'))\n",
    "code_table_test = get_code_table(test_ps2)\n",
    "\n",
    "X_test = extract_features(late_test, early_test, code_table_test, scaler, False)"
   ]
  },
  {
   "cell_type": "code",
   "execution_count": 92,
   "metadata": {},
   "outputs": [
    {
     "data": {
      "text/plain": [
       "(1397, 55)"
      ]
     },
     "execution_count": 92,
     "metadata": {},
     "output_type": "execute_result"
    }
   ],
   "source": [
    "X_test.shape"
   ]
  },
  {
   "cell_type": "code",
   "execution_count": 94,
   "metadata": {},
   "outputs": [],
   "source": [
    "model = RandomForestClassifier(ccp_alpha=0.001)\n",
    "model.fit(X_train, y_train)\n",
    "predictions = model.predict(X_test)"
   ]
  },
  {
   "cell_type": "code",
   "execution_count": 95,
   "metadata": {},
   "outputs": [
    {
     "data": {
      "text/plain": [
       "array([ True,  True,  True, ..., False, False, False])"
      ]
     },
     "execution_count": 95,
     "metadata": {},
     "output_type": "execute_result"
    }
   ],
   "source": [
    "predictions"
   ]
  },
  {
   "cell_type": "code",
   "execution_count": 96,
   "metadata": {
    "scrolled": true
   },
   "outputs": [
    {
     "data": {
      "text/html": [
       "<div>\n",
       "<style scoped>\n",
       "    .dataframe tbody tr th:only-of-type {\n",
       "        vertical-align: middle;\n",
       "    }\n",
       "\n",
       "    .dataframe tbody tr th {\n",
       "        vertical-align: top;\n",
       "    }\n",
       "\n",
       "    .dataframe thead th {\n",
       "        text-align: right;\n",
       "    }\n",
       "</style>\n",
       "<table border=\"1\" class=\"dataframe\">\n",
       "  <thead>\n",
       "    <tr style=\"text-align: right;\">\n",
       "      <th></th>\n",
       "      <th>SubjectID</th>\n",
       "      <th>AssignmentID</th>\n",
       "      <th>ProblemID</th>\n",
       "      <th>Label</th>\n",
       "    </tr>\n",
       "  </thead>\n",
       "  <tbody>\n",
       "    <tr>\n",
       "      <th>0</th>\n",
       "      <td>0503bf609757acf2e75aa8cbc0d8323b</td>\n",
       "      <td>494.0</td>\n",
       "      <td>41</td>\n",
       "      <td>True</td>\n",
       "    </tr>\n",
       "    <tr>\n",
       "      <th>1</th>\n",
       "      <td>0503bf609757acf2e75aa8cbc0d8323b</td>\n",
       "      <td>494.0</td>\n",
       "      <td>43</td>\n",
       "      <td>True</td>\n",
       "    </tr>\n",
       "    <tr>\n",
       "      <th>2</th>\n",
       "      <td>0503bf609757acf2e75aa8cbc0d8323b</td>\n",
       "      <td>494.0</td>\n",
       "      <td>44</td>\n",
       "      <td>True</td>\n",
       "    </tr>\n",
       "    <tr>\n",
       "      <th>3</th>\n",
       "      <td>0503bf609757acf2e75aa8cbc0d8323b</td>\n",
       "      <td>494.0</td>\n",
       "      <td>46</td>\n",
       "      <td>True</td>\n",
       "    </tr>\n",
       "    <tr>\n",
       "      <th>4</th>\n",
       "      <td>0503bf609757acf2e75aa8cbc0d8323b</td>\n",
       "      <td>494.0</td>\n",
       "      <td>49</td>\n",
       "      <td>True</td>\n",
       "    </tr>\n",
       "    <tr>\n",
       "      <th>...</th>\n",
       "      <td>...</td>\n",
       "      <td>...</td>\n",
       "      <td>...</td>\n",
       "      <td>...</td>\n",
       "    </tr>\n",
       "    <tr>\n",
       "      <th>1392</th>\n",
       "      <td>f78a3fbff320d57c670af3fcdafebc7e</td>\n",
       "      <td>502.0</td>\n",
       "      <td>64</td>\n",
       "      <td>False</td>\n",
       "    </tr>\n",
       "    <tr>\n",
       "      <th>1393</th>\n",
       "      <td>f78a3fbff320d57c670af3fcdafebc7e</td>\n",
       "      <td>502.0</td>\n",
       "      <td>70</td>\n",
       "      <td>False</td>\n",
       "    </tr>\n",
       "    <tr>\n",
       "      <th>1394</th>\n",
       "      <td>f78a3fbff320d57c670af3fcdafebc7e</td>\n",
       "      <td>502.0</td>\n",
       "      <td>71</td>\n",
       "      <td>False</td>\n",
       "    </tr>\n",
       "    <tr>\n",
       "      <th>1395</th>\n",
       "      <td>f78a3fbff320d57c670af3fcdafebc7e</td>\n",
       "      <td>502.0</td>\n",
       "      <td>112</td>\n",
       "      <td>False</td>\n",
       "    </tr>\n",
       "    <tr>\n",
       "      <th>1396</th>\n",
       "      <td>f78a3fbff320d57c670af3fcdafebc7e</td>\n",
       "      <td>502.0</td>\n",
       "      <td>118</td>\n",
       "      <td>False</td>\n",
       "    </tr>\n",
       "  </tbody>\n",
       "</table>\n",
       "<p>1397 rows × 4 columns</p>\n",
       "</div>"
      ],
      "text/plain": [
       "                             SubjectID  AssignmentID  ProblemID  Label\n",
       "0     0503bf609757acf2e75aa8cbc0d8323b         494.0         41   True\n",
       "1     0503bf609757acf2e75aa8cbc0d8323b         494.0         43   True\n",
       "2     0503bf609757acf2e75aa8cbc0d8323b         494.0         44   True\n",
       "3     0503bf609757acf2e75aa8cbc0d8323b         494.0         46   True\n",
       "4     0503bf609757acf2e75aa8cbc0d8323b         494.0         49   True\n",
       "...                                ...           ...        ...    ...\n",
       "1392  f78a3fbff320d57c670af3fcdafebc7e         502.0         64  False\n",
       "1393  f78a3fbff320d57c670af3fcdafebc7e         502.0         70  False\n",
       "1394  f78a3fbff320d57c670af3fcdafebc7e         502.0         71  False\n",
       "1395  f78a3fbff320d57c670af3fcdafebc7e         502.0        112  False\n",
       "1396  f78a3fbff320d57c670af3fcdafebc7e         502.0        118  False\n",
       "\n",
       "[1397 rows x 4 columns]"
      ]
     },
     "execution_count": 96,
     "metadata": {},
     "output_type": "execute_result"
    }
   ],
   "source": [
    "predictions_df = late_test.copy()\n",
    "predictions_df['Label'] = predictions\n",
    "predictions_df"
   ]
  },
  {
   "cell_type": "code",
   "execution_count": 80,
   "metadata": {},
   "outputs": [],
   "source": [
    "# We don't have the test labels - you have to submit to evaluate it"
   ]
  },
  {
   "cell_type": "code",
   "execution_count": 97,
   "metadata": {},
   "outputs": [],
   "source": [
    "path = os.path.join('data', 'Prediction')\n",
    "os.makedirs(path, exist_ok=True)\n",
    "predictions_df.to_csv(os.path.join(path, 'code_RF.csv'))"
   ]
  }
 ],
 "metadata": {
  "kernelspec": {
   "display_name": "Python 3",
   "language": "python",
   "name": "python3"
  },
  "language_info": {
   "codemirror_mode": {
    "name": "ipython",
    "version": 3
   },
   "file_extension": ".py",
   "mimetype": "text/x-python",
   "name": "python",
   "nbconvert_exporter": "python",
   "pygments_lexer": "ipython3",
   "version": "3.7.6"
  }
 },
 "nbformat": 4,
 "nbformat_minor": 4
}
