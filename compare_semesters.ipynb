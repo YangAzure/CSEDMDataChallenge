{
 "cells": [
  {
   "cell_type": "code",
   "execution_count": 1,
   "metadata": {},
   "outputs": [],
   "source": [
    "import pandas as pd\n",
    "import numpy as np\n",
    "from ProgSnap2 import ProgSnap2Dataset\n",
    "from ProgSnap2 import PS2\n",
    "import matplotlib.pyplot as plt\n",
    "from sklearn.model_selection import train_test_split\n",
    "import numpy as np\n",
    "import os\n",
    "from os import path"
   ]
  },
  {
   "cell_type": "code",
   "execution_count": 2,
   "metadata": {
    "scrolled": true
   },
   "outputs": [],
   "source": [
    "PATH = \"data/CodeWorkout/\"\n",
    "\n",
    "s19_ps2 = ProgSnap2Dataset(PATH + 'S19')\n",
    "f19_ps2 = ProgSnap2Dataset(PATH + 'F19')\n",
    "\n",
    "s19 = s19_ps2.get_main_table()\n",
    "f19 = f19_ps2.get_main_table()"
   ]
  },
  {
   "cell_type": "code",
   "execution_count": 3,
   "metadata": {},
   "outputs": [],
   "source": [
    "s19_problems = set(s19[PS2.ProblemID].unique())\n",
    "f19_problems = set(f19[PS2.ProblemID].unique())"
   ]
  },
  {
   "cell_type": "code",
   "execution_count": 8,
   "metadata": {},
   "outputs": [
    {
     "data": {
      "text/plain": [
       "array([439., 487., 492., 494., 502.])"
      ]
     },
     "execution_count": 8,
     "metadata": {},
     "output_type": "execute_result"
    }
   ],
   "source": [
    "np.sort(s19[PS2.AssignmentID].unique())"
   ]
  },
  {
   "cell_type": "code",
   "execution_count": 9,
   "metadata": {},
   "outputs": [
    {
     "data": {
      "text/plain": [
       "array([597, 600, 609, 615, 622, 631], dtype=int64)"
      ]
     },
     "execution_count": 9,
     "metadata": {},
     "output_type": "execute_result"
    }
   ],
   "source": [
    "np.sort(f19[PS2.AssignmentID].unique())"
   ]
  },
  {
   "cell_type": "code",
   "execution_count": 4,
   "metadata": {},
   "outputs": [
    {
     "data": {
      "text/plain": [
       "48"
      ]
     },
     "execution_count": 4,
     "metadata": {},
     "output_type": "execute_result"
    }
   ],
   "source": [
    "# 48 problems the same\n",
    "len(s19_problems.intersection(f19_problems))"
   ]
  },
  {
   "cell_type": "code",
   "execution_count": 26,
   "metadata": {},
   "outputs": [
    {
     "data": {
      "text/plain": [
       "{45, 48}"
      ]
     },
     "execution_count": 26,
     "metadata": {},
     "output_type": "execute_result"
    }
   ],
   "source": [
    "# Problems 45 and 48 were dropped (from assignment 5)\n",
    "dropped_problems = s19_problems.difference(f19_problems)\n",
    "dropped_problems"
   ]
  },
  {
   "cell_type": "code",
   "execution_count": 8,
   "metadata": {},
   "outputs": [
    {
     "data": {
      "text/plain": [
       "{30, 171, 241, 242, 243, 244, 245, 246, 254, 255, 736, 737}"
      ]
     },
     "execution_count": 8,
     "metadata": {},
     "output_type": "execute_result"
    }
   ],
   "source": [
    "# 12 problems were added\n",
    "added_problems = f19_problems.difference(s19_problems)\n",
    "added_problems"
   ]
  },
  {
   "cell_type": "code",
   "execution_count": 10,
   "metadata": {
    "scrolled": true
   },
   "outputs": [
    {
     "data": {
      "text/html": [
       "<div>\n",
       "<style scoped>\n",
       "    .dataframe tbody tr th:only-of-type {\n",
       "        vertical-align: middle;\n",
       "    }\n",
       "\n",
       "    .dataframe tbody tr th {\n",
       "        vertical-align: top;\n",
       "    }\n",
       "\n",
       "    .dataframe thead th {\n",
       "        text-align: right;\n",
       "    }\n",
       "</style>\n",
       "<table border=\"1\" class=\"dataframe\">\n",
       "  <thead>\n",
       "    <tr style=\"text-align: right;\">\n",
       "      <th></th>\n",
       "      <th>AssignmentID</th>\n",
       "      <th>ProblemID</th>\n",
       "    </tr>\n",
       "  </thead>\n",
       "  <tbody>\n",
       "    <tr>\n",
       "      <th>73845</th>\n",
       "      <td>622</td>\n",
       "      <td>241</td>\n",
       "    </tr>\n",
       "    <tr>\n",
       "      <th>73862</th>\n",
       "      <td>622</td>\n",
       "      <td>171</td>\n",
       "    </tr>\n",
       "    <tr>\n",
       "      <th>73880</th>\n",
       "      <td>622</td>\n",
       "      <td>30</td>\n",
       "    </tr>\n",
       "    <tr>\n",
       "      <th>73900</th>\n",
       "      <td>622</td>\n",
       "      <td>244</td>\n",
       "    </tr>\n",
       "    <tr>\n",
       "      <th>73904</th>\n",
       "      <td>622</td>\n",
       "      <td>245</td>\n",
       "    </tr>\n",
       "    <tr>\n",
       "      <th>73912</th>\n",
       "      <td>622</td>\n",
       "      <td>246</td>\n",
       "    </tr>\n",
       "    <tr>\n",
       "      <th>73922</th>\n",
       "      <td>622</td>\n",
       "      <td>254</td>\n",
       "    </tr>\n",
       "    <tr>\n",
       "      <th>73927</th>\n",
       "      <td>622</td>\n",
       "      <td>255</td>\n",
       "    </tr>\n",
       "    <tr>\n",
       "      <th>73973</th>\n",
       "      <td>622</td>\n",
       "      <td>242</td>\n",
       "    </tr>\n",
       "    <tr>\n",
       "      <th>74023</th>\n",
       "      <td>622</td>\n",
       "      <td>243</td>\n",
       "    </tr>\n",
       "    <tr>\n",
       "      <th>92628</th>\n",
       "      <td>631</td>\n",
       "      <td>736</td>\n",
       "    </tr>\n",
       "    <tr>\n",
       "      <th>92639</th>\n",
       "      <td>631</td>\n",
       "      <td>737</td>\n",
       "    </tr>\n",
       "  </tbody>\n",
       "</table>\n",
       "</div>"
      ],
      "text/plain": [
       "       AssignmentID  ProblemID\n",
       "73845           622        241\n",
       "73862           622        171\n",
       "73880           622         30\n",
       "73900           622        244\n",
       "73904           622        245\n",
       "73912           622        246\n",
       "73922           622        254\n",
       "73927           622        255\n",
       "73973           622        242\n",
       "74023           622        243\n",
       "92628           631        736\n",
       "92639           631        737"
      ]
     },
     "execution_count": 10,
     "metadata": {},
     "output_type": "execute_result"
    }
   ],
   "source": [
    "# 10 Were added to a new assignment and 2 replace the old problems in assignment 5\n",
    "f19[f19[PS2.ProblemID].isin(added_problems)][[PS2.AssignmentID, PS2.ProblemID]].drop_duplicates()"
   ]
  },
  {
   "cell_type": "code",
   "execution_count": 18,
   "metadata": {},
   "outputs": [],
   "source": [
    "def time_stats(df):\n",
    "    df = df.copy()\n",
    "    df['TimeInt'] = pd.to_datetime(df[PS2.ServerTimestamp]).apply(lambda x: x.value)\n",
    "    med_time = df.groupby([PS2.AssignmentID, PS2.ProblemID])['TimeInt'].apply(lambda x: np.median(x))\n",
    "    # df = df.merge(med_time.to_frame('MedTime'), on=[PS2.AssignmentID, PS2.ProblemID])\n",
    "    return med_time.reset_index().sort_values('TimeInt')\n",
    "\n",
    "s19_times = time_stats(s19)\n",
    "f19_times = time_stats(f19)"
   ]
  },
  {
   "cell_type": "code",
   "execution_count": 27,
   "metadata": {},
   "outputs": [
    {
     "data": {
      "text/plain": [
       "<matplotlib.collections.PathCollection at 0x2102ad0f8c8>"
      ]
     },
     "execution_count": 27,
     "metadata": {},
     "output_type": "execute_result"
    },
    {
     "data": {
      "image/png": "[encoded data removed]",
      "text/plain": [
       "<Figure size 432x288 with 1 Axes>"
      ]
     },
     "metadata": {
      "needs_background": "light"
     },
     "output_type": "display_data"
    }
   ],
   "source": [
    "y = range(0, len(s19_times.index))\n",
    "colors = s19_times[PS2.ProblemID].isin(dropped_problems).apply(lambda x: 'red' if x else 'blue')\n",
    "plt.scatter(s19_times['TimeInt'], y, color=colors)"
   ]
  },
  {
   "cell_type": "code",
   "execution_count": 29,
   "metadata": {},
   "outputs": [
    {
     "data": {
      "text/plain": [
       "<matplotlib.collections.PathCollection at 0x2102af98708>"
      ]
     },
     "execution_count": 29,
     "metadata": {},
     "output_type": "execute_result"
    },
    {
     "data": {
      "image/png": "[encoded data removed]",
      "text/plain": [
       "<Figure size 432x288 with 1 Axes>"
      ]
     },
     "metadata": {
      "needs_background": "light"
     },
     "output_type": "display_data"
    }
   ],
   "source": [
    "# The added assignment comes between 4 and 5 in spring\n",
    "# We could just skip this assignment for F19->S19 prediction...\n",
    "y = range(0, len(f19_times.index))\n",
    "colors = f19_times[PS2.ProblemID].isin(added_problems).apply(lambda x: 'red' if x else 'blue')\n",
    "plt.scatter(f19_times['TimeInt'], y, color=colors)"
   ]
  },
  {
   "cell_type": "markdown",
   "metadata": {},
   "source": [
    "S19 Problem 45 == F19 Problem 736\n",
    "\n",
    "S19 Problem 48 == f19 Problem 737"
   ]
  },
  {
   "cell_type": "code",
   "execution_count": 48,
   "metadata": {},
   "outputs": [],
   "source": [
    "def print_code_samples(df, ps2, problem_id, n_samples):\n",
    "    code_states = df[(df[PS2.ProblemID] == problem_id) & (df[PS2.EventType] == 'Run.Program') & (df[PS2.Score] == 1)].sample(n_samples)[PS2.CodeStateID]\n",
    "    solutions = code_states.apply(lambda cs_id: ps2.get_code_for_id(cs_id))\n",
    "    for sol in solutions:\n",
    "        print(sol)"
   ]
  },
  {
   "cell_type": "code",
   "execution_count": 44,
   "metadata": {},
   "outputs": [
    {
     "name": "stdout",
     "output_type": "stream",
     "text": [
      "public int sum67(int[] nums)\r\n",
      "{\r\n",
      "    int sum = 0;\r\n",
      "    int change = 0;\r\n",
      "    for(int i = 0; i < nums.length ; i++)\r\n",
      "    {\r\n",
      "        if(nums[i] == 6)\r\n",
      "        {\r\n",
      "            for(int c = i; c < nums.length ; c++)\r\n",
      "            {\r\n",
      "                if(nums[c] == 7)\r\n",
      "                {\r\n",
      "                    change = c + 1;\r\n",
      "                    break;\r\n",
      "                }\r\n",
      "            }\r\n",
      "        }\r\n",
      "        if(nums[i] == 6)\r\n",
      "            i = change;\r\n",
      "        if(i < nums.length)\r\n",
      "        {\r\n",
      "        \tsum = sum + nums[i];\r\n",
      "        }\r\n",
      "    }\r\n",
      "    return sum;\r\n",
      "}\r\n",
      "\n"
     ]
    }
   ],
   "source": [
    "print_code_samples(s19, s19_ps2, 45, 1)"
   ]
  },
  {
   "cell_type": "code",
   "execution_count": 45,
   "metadata": {
    "scrolled": true
   },
   "outputs": [
    {
     "name": "stdout",
     "output_type": "stream",
     "text": [
      "public int[] withoutTen(int[] nums)\r\n",
      "{\r\n",
      "    int[] newArray = new int[nums.length];\r\n",
      "    for(int val : newArray)\r\n",
      "        val = 0;\r\n",
      "    \r\n",
      "    int newIndex = 0;\r\n",
      "    for (int i = 0; i < nums.length; i++){\r\n",
      "    \tif(nums[i] != 10)\r\n",
      "            newArray[newIndex++] = nums[i]; \r\n",
      "    }\r\n",
      "    \r\n",
      "    return newArray;\r\n",
      "}\r\n",
      "\n"
     ]
    }
   ],
   "source": [
    "print_code_samples(s19, s19_ps2, 48, 1)"
   ]
  },
  {
   "cell_type": "code",
   "execution_count": 49,
   "metadata": {
    "scrolled": false
   },
   "outputs": [
    {
     "name": "stdout",
     "output_type": "stream",
     "text": [
      "public int sum67(int[] nums)\r\n",
      "{\r\n",
      "    boolean deadZone = false;\r\n",
      "    if (nums.length > 0)\r\n",
      "    {\r\n",
      "        int sum = 0;\r\n",
      "        for (int i = 0; i < nums.length; i++)\r\n",
      "        {\r\n",
      "            if (nums[i] == 6)\r\n",
      "            {\r\n",
      "                deadZone = true;\r\n",
      "            }\r\n",
      "            \r\n",
      "            if (deadZone == false)\r\n",
      "            {\r\n",
      "            \tsum += nums[i];\r\n",
      "            }\r\n",
      "            \r\n",
      "            if (nums[i] == 7)\r\n",
      "            {\r\n",
      "                deadZone = false;\r\n",
      "            }\r\n",
      "        }\r\n",
      "        return sum;\r\n",
      "    }\r\n",
      "    else\r\n",
      "    {\r\n",
      "        return 0;\r\n",
      "    }\r\n",
      "}\r\n",
      "\n"
     ]
    }
   ],
   "source": [
    "print_code_samples(f19, f19_ps2, 736, 1)"
   ]
  },
  {
   "cell_type": "code",
   "execution_count": 50,
   "metadata": {
    "scrolled": false
   },
   "outputs": [
    {
     "name": "stdout",
     "output_type": "stream",
     "text": [
      "public int[] withoutTen(int[] nums)\r\n",
      "{\r\n",
      "    int[] r = new int[nums.length];\r\n",
      "\tint j = 0;\r\n",
      "\tfor(int i = 0; i < nums.length; i++)\r\n",
      "\t{\r\n",
      "\t\tif(nums[i] != 10)\r\n",
      "\t\t{\r\n",
      "\t\t\tr[j] = nums[i];\r\n",
      "\t\t\tj++;\r\n",
      "\t\t}\r\n",
      "\t}\r\n",
      "\t\r\n",
      "\treturn r;\r\n",
      "}\r\n",
      "\n"
     ]
    }
   ],
   "source": [
    "print_code_samples(f19, f19_ps2, 737, 1)"
   ]
  }
 ],
 "metadata": {
  "kernelspec": {
   "display_name": "Python 3",
   "language": "python",
   "name": "python3"
  },
  "language_info": {
   "codemirror_mode": {
    "name": "ipython",
    "version": 3
   },
   "file_extension": ".py",
   "mimetype": "text/x-python",
   "name": "python",
   "nbconvert_exporter": "python",
   "pygments_lexer": "ipython3",
   "version": "3.7.6"
  }
 },
 "nbformat": 4,
 "nbformat_minor": 4
}
